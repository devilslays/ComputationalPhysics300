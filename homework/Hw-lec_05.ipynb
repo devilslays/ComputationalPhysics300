{
 "cells": [
  {
   "cell_type": "code",
   "execution_count": 132,
   "id": "8921c5ca",
   "metadata": {},
   "outputs": [
    {
     "name": "stdout",
     "output_type": "stream",
     "text": [
      "The area is  0.8862073477041812\n"
     ]
    }
   ],
   "source": [
    "#Trapezoidal rule\n",
    "import matplotlib.pyplot as plt\n",
    "import numpy as np\n",
    "import math\n",
    "#define the function to integrate\n",
    "def f(x):\n",
    "    return(math.exp(-x**2))\n",
    "#define variables to be used\n",
    "N = 1000\n",
    "a = 0\n",
    "b = 3\n",
    "#define equations to be used\n",
    "h = (b-a)/N\n",
    "area = (h*0.5)*(f(b)+f(a))\n",
    "for i in range (1,N):\n",
    "    area += h*f(a+i*h)\n",
    "\n",
    "print(\"The area is \",area)"
   ]
  },
  {
   "cell_type": "code",
   "execution_count": 135,
   "id": "c8b09f0f",
   "metadata": {},
   "outputs": [
    {
     "name": "stdout",
     "output_type": "stream",
     "text": [
      "The area is 0.8862074982038153\n"
     ]
    }
   ],
   "source": [
    "#rectangular rule\n",
    "import matplotlib.pyplot as plt\n",
    "import numpy as np\n",
    "import math\n",
    "\n",
    "def f(x):\n",
    "    return(math.exp(-x**2))\n",
    "#define variables to be used\n",
    "N = 10000000\n",
    "a = 0\n",
    "b = 3\n",
    "#define equations to be used\n",
    "h = (b-a)/N\n",
    "area = 0\n",
    "for i in range (1,N):\n",
    "    area += h*f(a+(i-1)*h)\n",
    "    \n",
    "print(\"The area is\",area)"
   ]
  },
  {
   "cell_type": "code",
   "execution_count": 12,
   "id": "4248ff36",
   "metadata": {},
   "outputs": [
    {
     "name": "stdout",
     "output_type": "stream",
     "text": [
      "0.8862073482595211\n"
     ]
    }
   ],
   "source": [
    "#Simpsons rule\n",
    "import matplotlib.pyplot as plt\n",
    "import numpy as np\n",
    "import math\n",
    "\n",
    "def f(x):\n",
    "    return(math.exp(-x**2))\n",
    "#define variables to be used\n",
    "N = 10000\n",
    "a = 0\n",
    "b = 3\n",
    "#define equations to be used\n",
    "h = (b-a)/N\n",
    "area = f(a)+f(b)\n",
    "total1 = 0\n",
    "total2 = 0\n",
    "for i in range (1,N,2):\n",
    "    total1 += f(a+i*h)\n",
    "total1 *= 4\n",
    "area += total1\n",
    "for i in range (2,N,2):\n",
    "    total2 += f(a+i*h)\n",
    "total2 *= 2\n",
    "area += total2\n",
    "print(1/3*h*area)"
   ]
  },
  {
   "cell_type": "code",
   "execution_count": null,
   "id": "f231e8e9",
   "metadata": {},
   "outputs": [],
   "source": []
  },
  {
   "cell_type": "code",
   "execution_count": null,
   "id": "cb80bcc3",
   "metadata": {},
   "outputs": [],
   "source": []
  }
 ],
 "metadata": {
  "kernelspec": {
   "display_name": "Python 3",
   "language": "python",
   "name": "python3"
  },
  "language_info": {
   "codemirror_mode": {
    "name": "ipython",
    "version": 3
   },
   "file_extension": ".py",
   "mimetype": "text/x-python",
   "name": "python",
   "nbconvert_exporter": "python",
   "pygments_lexer": "ipython3",
   "version": "3.9.5"
  }
 },
 "nbformat": 4,
 "nbformat_minor": 5
}
