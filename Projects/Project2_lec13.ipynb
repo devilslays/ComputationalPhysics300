{
 "cells": [
  {
   "cell_type": "markdown",
   "id": "3f96e7eb",
   "metadata": {},
   "source": [
    "# Project 2 On Random Number Generation"
   ]
  },
  {
   "cell_type": "markdown",
   "id": "1f010de3",
   "metadata": {},
   "source": [
    "## The introduction to the modern approach to generate the random numbers on computer"
   ]
  },
  {
   "cell_type": "markdown",
   "id": "fafd7983",
   "metadata": {},
   "source": [
    "For most generators, the seed specifies the starting point indirectly and isnt equal to the first value. i will demonstrate the effect of a seed"
   ]
  },
  {
   "cell_type": "code",
   "execution_count": 32,
   "id": "a116e09e",
   "metadata": {},
   "outputs": [
    {
     "data": {
      "text/plain": [
       "0.5714025946899135"
      ]
     },
     "execution_count": 32,
     "metadata": {},
     "output_type": "execute_result"
    }
   ],
   "source": [
    "from random import random, seed, randrange\n",
    "seed(10)\n",
    "random()"
   ]
  },
  {
   "cell_type": "code",
   "execution_count": 33,
   "id": "eff98f58",
   "metadata": {},
   "outputs": [
    {
     "data": {
      "text/plain": [
       "0.4288890546751146"
      ]
     },
     "execution_count": 33,
     "metadata": {},
     "output_type": "execute_result"
    }
   ],
   "source": [
    "random()"
   ]
  },
  {
   "cell_type": "code",
   "execution_count": 34,
   "id": "e4e8d3c0",
   "metadata": {},
   "outputs": [
    {
     "data": {
      "text/plain": [
       "0.23796462709189137"
      ]
     },
     "execution_count": 34,
     "metadata": {},
     "output_type": "execute_result"
    }
   ],
   "source": [
    "seed(3)\n",
    "random()"
   ]
  },
  {
   "cell_type": "markdown",
   "id": "66c1e973",
   "metadata": {},
   "source": [
    "The random number is different with different seeds and also different from when there is no seed. If you run cell 21 and 23, the random number will not change. But if you run cell 22 multiple times, the random number will be different each time. This is the effect of the seed."
   ]
  },
  {
   "cell_type": "markdown",
   "id": "2dd72104",
   "metadata": {},
   "source": [
    "The random function has no arguments and if it is repeated, you dont get the same number each time."
   ]
  },
  {
   "cell_type": "code",
   "execution_count": 35,
   "id": "6c873e2e",
   "metadata": {},
   "outputs": [
    {
     "name": "stdout",
     "output_type": "stream",
     "text": [
      "0.5442292252959519\n",
      "0.36995516654807925\n",
      "0.6039200385961945\n",
      "0.625720304108054\n"
     ]
    }
   ],
   "source": [
    "for i in range(4):\n",
    "    print(random())"
   ]
  },
  {
   "cell_type": "markdown",
   "id": "25fb1e3c",
   "metadata": {},
   "source": [
    "We can also use the randrange function, randrange(m,n,k), which takes in arguments to specify the range and the steps. the range is from from m to n-1 in steps of k."
   ]
  },
  {
   "cell_type": "code",
   "execution_count": 36,
   "id": "b3d7de86",
   "metadata": {},
   "outputs": [
    {
     "name": "stdout",
     "output_type": "stream",
     "text": [
      "26\n",
      "1\n",
      "66\n",
      "94\n"
     ]
    }
   ],
   "source": [
    "seed(15)\n",
    "for i in range(4):\n",
    "    print(randrange(100))"
   ]
  },
  {
   "cell_type": "code",
   "execution_count": 37,
   "id": "3f46ac50",
   "metadata": {},
   "outputs": [
    {
     "name": "stdout",
     "output_type": "stream",
     "text": [
      "73\n",
      "22\n",
      "8\n",
      "30\n"
     ]
    }
   ],
   "source": [
    "seed(62)\n",
    "for i in range(4):\n",
    "    print(randrange(100))"
   ]
  },
  {
   "cell_type": "markdown",
   "id": "07ad8562",
   "metadata": {},
   "source": [
    "# This section of the code will show an example of a program which utilizes random numbers and seeds"
   ]
  },
  {
   "cell_type": "markdown",
   "id": "8987cec4",
   "metadata": {},
   "source": [
    "## The idea behind random numbers will be used to create a program that creates a key from a seed and random numbers that can encrypt and decrypt a message input by the user"
   ]
  },
  {
   "cell_type": "code",
   "execution_count": 38,
   "id": "9a259a3c",
   "metadata": {},
   "outputs": [],
   "source": [
    "from random import random, seed, randrange\n",
    "import numpy as np\n",
    "import math"
   ]
  },
  {
   "cell_type": "code",
   "execution_count": 39,
   "id": "caaeefdb",
   "metadata": {},
   "outputs": [
    {
     "name": "stdout",
     "output_type": "stream",
     "text": [
      "enter a message to decrypt: Hello everyone, this is my presentation for the final project for PHYS 300. It has been a great time in this class! good luck on all your future endeavors!\n"
     ]
    }
   ],
   "source": [
    "#this section of the code takes in a user inputted message\n",
    "#and assigns values to each letter in the message\n",
    "message = input(\"enter a message to decrypt: \")\n",
    "values = []\n",
    "for letter in message:\n",
    "    letter_value = ord(letter) - 40\n",
    "    values.append(letter_value)\n",
    "#print(values)"
   ]
  },
  {
   "cell_type": "code",
   "execution_count": 40,
   "id": "77e4965c",
   "metadata": {},
   "outputs": [
    {
     "name": "stdout",
     "output_type": "stream",
     "text": [
      "the encrypted message is: 9V]]`\u0011VgVcj`_V\u001d",
      "\u0011eYZd\u0011Zd\u0011^j\u0011acVdV_eReZ`_\u0011W`c\u0011eYV\u0011WZ_R]\u0011ac`[VTe\u0011W`c\u0011A9JD\u0011$!!\u001f\u0011:e\u0011YRd\u0011SVV_\u0011R\u0011XcVRe\u0011eZ^V\u0011Z_\u0011eYZd\u0011T]Rdd\u0012\u0011X``U\u0011]fT\\\u0011`_\u0011R]]\u0011j`fc\u0011WfefcV\u0011V_UVRg`cd\u0012\n"
     ]
    }
   ],
   "source": [
    "#this section of the code assigns the numerical values of the\n",
    "#inputted message to a numpy array so that a random number\n",
    "#can be added to each individual number in order to change\n",
    "#the letters\n",
    "values_crypt = np.array(values)\n",
    "#not every seed is going to work. 6,7,9,10,11,12,16\n",
    "seed(6)\n",
    "b = values_crypt + randrange(27)\n",
    "char = ''\n",
    "for number in b:\n",
    "    char += chr(number)\n",
    "print(\"the encrypted message is:\", char)"
   ]
  },
  {
   "cell_type": "code",
   "execution_count": 47,
   "id": "70c4e2e0",
   "metadata": {},
   "outputs": [
    {
     "name": "stdout",
     "output_type": "stream",
     "text": [
      "0\n",
      "the decrypted message for seed 0 is Uryy|-rr|{r9-uv-v-z-}rr{nv|{-s|-ur-sv{ny-}|wrp-s|-]Uf`-@==;-V-un-orr{-n-trn-vzr-v{-uv-pyn.-t||q-ypx-|{-nyy-|-sr-r{qrn|.\n",
      "1\n",
      "the decrypted message for seed 1 is ]z5zzzA5}~5~55",
      "zzv~5{5}z5{~v5",
      "zx5{5e]nh5HEEC5^5}v5wzz5v5|zv5~z5~5}~5xv65|y5x55v55{z5zyzv6\n",
      "2\n",
      "the decrypted message for seed 2 is `}8}}}D888",
      "8}}y8~8}8~y8}{8~8h`qk8KHHF8a8y8z}}8y8}y8",
      "}888{y98|8{88y88~}8}|}y9\n",
      "3\n",
      "the decrypted message for seed 3 is Zw~~2www>2z{",
      "2{",
      "22w",
      "ws{2x2zw2x{s~2|wu2x2bZke2EBB@2[2zs",
      "2tww2s2yws2{w2{2z{",
      "2u~s",
      "",
      "32yv2~u}22s~~22xw2wvws",
      "3\n",
      "4\n",
      "the decrypted message for seed 4 is Zw~~2www>2z{",
      "2{",
      "22w",
      "ws{2x2zw2x{s~2|wu2x2bZke2EBB@2[2zs",
      "2tww2s2yws2{w2{2z{",
      "2u~s",
      "",
      "32yv2~u}22s~~22xw2wvws",
      "3\n",
      "5\n",
      "the decrypted message for seed 5 is Nkrru&k|kxutk2&znoy&oy&s&vxkyktzgzout&lux&znk&lotgr&vxupkiz&lux&VN_Y&9664&Oz&ngy&hkkt&g&mxkgz&zosk&ot&znoy&irgyy'&muuj&r{iq&ut&grr&u{x&l{z{xk&ktjkg|uxy'\n",
      "6\n",
      "the decrypted message for seed 6 is Hello everyone, this is my presentation for the final project for PHYS 300. It has been a great time in this class! good luck on all your future endeavors!\n",
      "7\n",
      "the decrypted message for seed 7 is Wt{{~/t",
      "t~}t;/wx/x/|/tt}px~}/u~/wt/ux}p{/~ytr/u~/_Whb/B??=/X/wp/qtt}/p/vtp/x|t/x}/wx/r{p0/v~~s/{rz/~}/p{{/~/ut/t}stp",
      "~0\n",
      "8\n",
      "the decrypted message for seed 8 is Zw~~2www>2z{",
      "2{",
      "22w",
      "ws{2x2zw2x{s~2|wu2x2bZke2EBB@2[2zs",
      "2tww2s2yws2{w2{2z{",
      "2u~s",
      "",
      "32yv2~u}22s~~22xw2wvws",
      "3\n",
      "9\n",
      "the decrypted message for seed 9 is Spwwz+pp}zyp7+st~+t~+x+{}p~pyltzy+qz}+sp+qtylw+{}zupn+qz}+[Sd^+>;;9+T+sl~+mppy+l+r}pl+txp+ty+st~+nwl~~,+rzzo+wnv+zy+lww+z}+q}p+pyoplz}~,\n",
      "10\n",
      "the decrypted message for seed 10 is Olssv'l}lyvul3'{opz'pz't'wylzlu{h{pvu'mvy'{ol'mpuhs'wyvqlj{'mvy'WO`Z':775'P{'ohz'illu'h'nylh{'{ptl'pu'{opz'jshzz('nvvk's|jr'vu'hss'v|y'm|{|yl'luklh}vyz(\n",
      "11\n",
      "the decrypted message for seed 11 is Spwwz+pp}zyp7+st~+t~+x+{}p~pyltzy+qz}+sp+qtylw+{}zupn+qz}+[Sd^+>;;9+T+sl~+mppy+l+r}pl+txp+ty+st~+nwl~~,+rzzo+wnv+zy+lww+z}+q}p+pyoplz}~,\n",
      "12\n",
      "the decrypted message for seed 12 is Rovvy*oo|yxo6*~rs}*s}*w*z|o}ox~k~syx*py|*~ro*psxkv*z|ytom~*py|*ZRc]*=::8*S~*rk}*loox*k*q|ok~*~swo*sx*~rs}*mvk}}+*qyyn*vmu*yx*kvv*y|*p~|o*oxnoky|}+\n",
      "13\n",
      "the decrypted message for seed 13 is Yv}}1vvv=1",
      "yz1z1~1vv",
      "r",
      "z1w1",
      "yv1wzr}1{vt",
      "1w1aYjd1DAA?1Z",
      "1yr1svv1r1xvr",
      "1",
      "z~v1z1",
      "yz1t}r21xu1}t|11r}}11w",
      "v1vuvr2\n",
      "14\n",
      "the decrypted message for seed 14 is ^{",
      "6{{",
      "{B6~666{{w",
      "6|",
      "6~{6|w6",
      "{y6|",
      "6f^oi6IFFD6_6~w6x{{6w6}{w6{66~6yw76}",
      "",
      "z6y6",
      "6w6",
      "6|{6{z{w",
      "7\n",
      "15\n",
      "the decrypted message for seed 15 is [x3xx",
      "x?3{|3|33",
      "xxt|3y",
      "3{x3y|t3",
      "}xv3y",
      "3c[lf3FCCA3\\3{t3uxx3t3z",
      "xt3|x3|3{|3vt43zw3v~33t3",
      "3y",
      "x3xwxt",
      "4\n",
      "16\n",
      "the decrypted message for seed 16 is Vszz}.ss}|s:.vw.w.{.~ss|ow}|.t}.vs.tw|oz.~}xsq.t}.^Vga.A>><.W.vo.pss|.o.uso.w{s.w|.vw.qzo/.u}}r.zqy.}|.ozz.}.ts.s|rso}/\n",
      "17\n",
      "the decrypted message for seed 17 is Qnuux)nn{xwn5)}qr|)r|)v)y{n|nw}j}rxw)ox{)}qn)orwju)y{xsnl})ox{)YQb\\)<997)R})qj|)knnw)j)p{nj})}rvn)rw)}qr|)luj||*)pxxm)u~lt)xw)juu)x~{)o~}~{n)nwmnjx{|*\n",
      "18\n",
      "the decrypted message for seed 18 is \\y4yyy@4|}4}44yyu}4z4|y4z}u4~yw4z4d\\mg4GDDB4]4|u4vyy4u4{yu4}y4}4|}4wu54{x4w44u44zy4yxyu5\n",
      "19\n",
      "the decrypted message for seed 19 is Lipps$iziv}sri0$xlmw$mw$q}$tviwirxexmsr$jsv$xli$jmrep$tvsnigx$jsv$TL]W$7442$Mx$lew$fiir$e$kviex$xmqi$mr$xlmw$gpeww%$kssh$pygo$sr$epp$}syv$jyxyvi$irhiezsvw%\n",
      "20\n",
      "the decrypted message for seed 20 is Jgnnq\"gxgt{qpg.\"vjku\"ku\"o{\"rtgugpvcvkqp\"hqt\"vjg\"hkpcn\"rtqlgev\"hqt\"RJ[U\"5220\"Kv\"jcu\"dggp\"c\"itgcv\"vkog\"kp\"vjku\"encuu#\"iqqf\"nwem\"qp\"cnn\"{qwt\"hwvwtg\"gpfgcxqtu#\n",
      "21\n",
      "the decrypted message for seed 21 is \\y4yyy@4|}4}44yyu}4z4|y4z}u4~yw4z4d\\mg4GDDB4]4|u4vyy4u4{yu4}y4}4|}4wu54{x4w44u44zy4yxyu5\n",
      "22\n",
      "the decrypted message for seed 22 is ]z5zzzA5}~5~55",
      "zzv~5{5}z5{~v5",
      "zx5{5e]nh5HEEC5^5}v5wzz5v5|zv5~z5~5}~5xv65|y5x55v55{z5zyzv6\n",
      "23\n",
      "the decrypted message for seed 23 is Ifmmp!fwfszpof-!uijt!jt!nz!qsftfoubujpo!gps!uif!gjobm!qspkfdu!gps!QIZT!411/!Ju!ibt!cffo!b!hsfbu!ujnf!jo!uijt!dmbtt\"!hppe!mvdl!po!bmm!zpvs!gvuvsf!foefbwpst\"\n",
      "24\n",
      "the decrypted message for seed 24 is Khoor#hyhu|rqh/#wklv#lv#p|#suhvhqwdwlrq#iru#wkh#ilqdo#surmhfw#iru#SK\\V#6331#Lw#kdv#ehhq#d#juhdw#wlph#lq#wklv#fodvv$#jrrg#oxfn#rq#doo#|rxu#ixwxuh#hqghdyruv$\n",
      "25\n",
      "the decrypted message for seed 25 is Uryy|-rr|{r9-uv-v-z-}rr{nv|{-s|-ur-sv{ny-}|wrp-s|-]Uf`-@==;-V-un-orr{-n-trn-vzr-v{-uv-pyn.-t||q-ypx-|{-nyy-|-sr-r{qrn|.\n",
      "26\n",
      "the decrypted message for seed 26 is Jgnnq\"gxgt{qpg.\"vjku\"ku\"o{\"rtgugpvcvkqp\"hqt\"vjg\"hkpcn\"rtqlgev\"hqt\"RJ[U\"5220\"Kv\"jcu\"dggp\"c\"itgcv\"vkog\"kp\"vjku\"encuu#\"iqqf\"nwem\"qp\"cnn\"{qwt\"hwvwtg\"gpfgcxqtu#\n",
      "27\n",
      "the decrypted message for seed 27 is Mjqqt%j{jw~tsj1%ymnx%nx%r~%uwjxjsyfynts%ktw%ymj%knsfq%uwtojhy%ktw%UM^X%8553%Ny%mfx%gjjs%f%lwjfy%ynrj%ns%ymnx%hqfxx&%ltti%qzhp%ts%fqq%~tzw%kzyzwj%jsijf{twx&\n",
      "28\n",
      "the decrypted message for seed 28 is ^{",
      "6{{",
      "{B6~666{{w",
      "6|",
      "6~{6|w6",
      "{y6|",
      "6f^oi6IFFD6_6~w6x{{6w6}{w6{66~6yw76}",
      "",
      "z6y6",
      "6w6",
      "6|{6{z{w",
      "7\n",
      "29\n",
      "the decrypted message for seed 29 is Pmttw(m~mzwvm4(|pq{(q{(u(xzm{mv|i|qwv(nwz(|pm(nqvit(xzwrmk|(nwz(XPa[(;886(Q|(pi{(jmmv(i(ozmi|(|qum(qv(|pq{(kti{{)(owwl(t}ks(wv(itt(w}z(n}|}zm(mvlmi~wz{)\n",
      "30\n",
      "the decrypted message for seed 30 is Pmttw(m~mzwvm4(|pq{(q{(u(xzm{mv|i|qwv(nwz(|pm(nqvit(xzwrmk|(nwz(XPa[(;886(Q|(pi{(jmmv(i(ozmi|(|qum(qv(|pq{(kti{{)(owwl(t}ks(wv(itt(w}z(n}|}zm(mvlmi~wz{)\n",
      "31\n",
      "the decrypted message for seed 31 is a~",
      "",
      "9~~~E9999~~z99~9z",
      "9~|99iarl9LIIG9b9z9{~~9z9~z9~999|",
      "z:9}9",
      "|99z",
      "",
      "99~9~}~z:\n",
      "32\n",
      "the decrypted message for seed 32 is _|7||",
      "|C7777||",
      "x",
      "7}7|7}",
      "x7|z7}7g_pj7JGGE7`7x7y||",
      "7x7~|x7|7",
      "77zx87~{7z7",
      "7x77}|7|",
      "{|x8\n",
      "33\n",
      "the decrypted message for seed 33 is Olssv'l}lyvul3'{opz'pz't'wylzlu{h{pvu'mvy'{ol'mpuhs'wyvqlj{'mvy'WO`Z':775'P{'ohz'illu'h'nylh{'{ptl'pu'{opz'jshzz('nvvk's|jr'vu'hss'v|y'm|{|yl'luklh}vyz(\n",
      "34\n",
      "the decrypted message for seed 34 is Qnuux)nn{xwn5)}qr|)r|)v)y{n|nw}j}rxw)ox{)}qn)orwju)y{xsnl})ox{)YQb\\)<997)R})qj|)knnw)j)p{nj})}rvn)rw)}qr|)luj||*)pxxm)u~lt)xw)juu)x~{)o~}~{n)nwmnjx{|*\n",
      "35\n",
      "the decrypted message for seed 35 is Pmttw(m~mzwvm4(|pq{(q{(u(xzm{mv|i|qwv(nwz(|pm(nqvit(xzwrmk|(nwz(XPa[(;886(Q|(pi{(jmmv(i(ozmi|(|qum(qv(|pq{(kti{{)(owwl(t}ks(wv(itt(w}z(n}|}zm(mvlmi~wz{)\n",
      "36\n",
      "the decrypted message for seed 36 is Wt{{~/t",
      "t~}t;/wx/x/|/tt}px~}/u~/wt/ux}p{/~ytr/u~/_Whb/B??=/X/wp/qtt}/p/vtp/x|t/x}/wx/r{p0/v~~s/{rz/~}/p{{/~/ut/t}stp",
      "~0\n",
      "37\n",
      "the decrypted message for seed 37 is Lipps$iziv}sri0$xlmw$mw$q}$tviwirxexmsr$jsv$xli$jmrep$tvsnigx$jsv$TL]W$7442$Mx$lew$fiir$e$kviex$xmqi$mr$xlmw$gpeww%$kssh$pygo$sr$epp$}syv$jyxyvi$irhiezsvw%\n",
      "38\n",
      "the decrypted message for seed 38 is Mjqqt%j{jw~tsj1%ymnx%nx%r~%uwjxjsyfynts%ktw%ymj%knsfq%uwtojhy%ktw%UM^X%8553%Ny%mfx%gjjs%f%lwjfy%ynrj%ns%ymnx%hqfxx&%ltti%qzhp%ts%fqq%~tzw%kzyzwj%jsijf{twx&\n",
      "39\n",
      "the decrypted message for seed 39 is [x3xx",
      "x?3{|3|33",
      "xxt|3y",
      "3{x3y|t3",
      "}xv3y",
      "3c[lf3FCCA3\\3{t3uxx3t3z",
      "xt3|x3|3{|3vt43zw3v~33t3",
      "3y",
      "x3xwxt",
      "4\n",
      "40\n",
      "the decrypted message for seed 40 is Spwwz+pp}zyp7+st~+t~+x+{}p~pyltzy+qz}+sp+qtylw+{}zupn+qz}+[Sd^+>;;9+T+sl~+mppy+l+r}pl+txp+ty+st~+nwl~~,+rzzo+wnv+zy+lww+z}+q}p+pyoplz}~,\n",
      "41\n",
      "the decrypted message for seed 41 is Uryy|-rr|{r9-uv-v-z-}rr{nv|{-s|-ur-sv{ny-}|wrp-s|-]Uf`-@==;-V-un-orr{-n-trn-vzr-v{-uv-pyn.-t||q-ypx-|{-nyy-|-sr-r{qrn|.\n",
      "42\n",
      "the decrypted message for seed 42 is Mjqqt%j{jw~tsj1%ymnx%nx%r~%uwjxjsyfynts%ktw%ymj%knsfq%uwtojhy%ktw%UM^X%8553%Ny%mfx%gjjs%f%lwjfy%ynrj%ns%ymnx%hqfxx&%ltti%qzhp%ts%fqq%~tzw%kzyzwj%jsijf{twx&\n",
      "43\n",
      "the decrypted message for seed 43 is `}8}}}D888",
      "8}}y8~8}8~y8}{8~8h`qk8KHHF8a8y8z}}8y8}y8",
      "}888{y98|8{88y88~}8}|}y9\n",
      "44\n",
      "the decrypted message for seed 44 is Tqxx{,qq~",
      "{zq8,tu,u,y",
      ",|~qqzmu{z,r{~,tq,ruzmx,|~{vqo,r{~,\\Te_,?<<:,U,tm,nqqz,m,s~qm,uyq,uz,tu,oxm-,s{{p,xow,{z,mxx,",
      "{~,r~q,qzpqm{~-\n",
      "45\n",
      "the decrypted message for seed 45 is Yv}}1vvv=1",
      "yz1z1~1vv",
      "r",
      "z1w1",
      "yv1wzr}1{vt",
      "1w1aYjd1DAA?1Z",
      "1yr1svv1r1xvr",
      "1",
      "z~v1z1",
      "yz1t}r21xu1}t|11r}}11w",
      "v1vuvr2\n",
      "46\n",
      "the decrypted message for seed 46 is _|7||",
      "|C7777||",
      "x",
      "7}7|7}",
      "x7|z7}7g_pj7JGGE7`7x7y||",
      "7x7~|x7|7",
      "77zx87~{7z7",
      "7x77}|7|",
      "{|x8\n",
      "47\n",
      "the decrypted message for seed 47 is Vszz}.ss}|s:.vw.w.{.~ss|ow}|.t}.vs.tw|oz.~}xsq.t}.^Vga.A>><.W.vo.pss|.o.uso.w{s.w|.vw.qzo/.u}}r.zqy.}|.ozz.}.ts.s|rso}/\n",
      "48\n",
      "the decrypted message for seed 48 is Pmttw(m~mzwvm4(|pq{(q{(u(xzm{mv|i|qwv(nwz(|pm(nqvit(xzwrmk|(nwz(XPa[(;886(Q|(pi{(jmmv(i(ozmi|(|qum(qv(|pq{(kti{{)(owwl(t}ks(wv(itt(w}z(n}|}zm(mvlmi~wz{)\n",
      "49\n",
      "the decrypted message for seed 49 is _|7||",
      "|C7777||",
      "x",
      "7}7|7}",
      "x7|z7}7g_pj7JGGE7`7x7y||",
      "7x7~|x7|7",
      "77zx87~{7z7",
      "7x77}|7|",
      "{|x8\n",
      "50\n",
      "the decrypted message for seed 50 is Rovvy*oo|yxo6*~rs}*s}*w*z|o}ox~k~syx*py|*~ro*psxkv*z|ytom~*py|*ZRc]*=::8*S~*rk}*loox*k*q|ok~*~swo*sx*~rs}*mvk}}+*qyyn*vmu*yx*kvv*y|*p~|o*oxnoky|}+\n",
      "51\n",
      "the decrypted message for seed 51 is Zw~~2www>2z{",
      "2{",
      "22w",
      "ws{2x2zw2x{s~2|wu2x2bZke2EBB@2[2zs",
      "2tww2s2yws2{w2{2z{",
      "2u~s",
      "",
      "32yv2~u}22s~~22xw2wvws",
      "3\n",
      "52\n",
      "the decrypted message for seed 52 is Yv}}1vvv=1",
      "yz1z1~1vv",
      "r",
      "z1w1",
      "yv1wzr}1{vt",
      "1w1aYjd1DAA?1Z",
      "1yr1svv1r1xvr",
      "1",
      "z~v1z1",
      "yz1t}r21xu1}t|11r}}11w",
      "v1vuvr2\n",
      "53\n",
      "the decrypted message for seed 53 is Nkrru&k|kxutk2&znoy&oy&s&vxkyktzgzout&lux&znk&lotgr&vxupkiz&lux&VN_Y&9664&Oz&ngy&hkkt&g&mxkgz&zosk&ot&znoy&irgyy'&muuj&r{iq&ut&grr&u{x&l{z{xk&ktjkg|uxy'\n",
      "54\n",
      "the decrypted message for seed 54 is ]z5zzzA5}~5~55",
      "zzv~5{5}z5{~v5",
      "zx5{5e]nh5HEEC5^5}v5wzz5v5|zv5~z5~5}~5xv65|y5x55v55{z5zyzv6\n",
      "55\n",
      "the decrypted message for seed 55 is _|7||",
      "|C7777||",
      "x",
      "7}7|7}",
      "x7|z7}7g_pj7JGGE7`7x7y||",
      "7x7~|x7|7",
      "77zx87~{7z7",
      "7x77}|7|",
      "{|x8\n",
      "56\n",
      "the decrypted message for seed 56 is Pmttw(m~mzwvm4(|pq{(q{(u(xzm{mv|i|qwv(nwz(|pm(nqvit(xzwrmk|(nwz(XPa[(;886(Q|(pi{(jmmv(i(ozmi|(|qum(qv(|pq{(kti{{)(owwl(t}ks(wv(itt(w}z(n}|}zm(mvlmi~wz{)\n",
      "57\n",
      "the decrypted message for seed 57 is `}8}}}D888",
      "8}}y8~8}8~y8}{8~8h`qk8KHHF8a8y8z}}8y8}y8",
      "}888{y98|8{88y88~}8}|}y9\n",
      "58\n",
      "the decrypted message for seed 58 is Olssv'l}lyvul3'{opz'pz't'wylzlu{h{pvu'mvy'{ol'mpuhs'wyvqlj{'mvy'WO`Z':775'P{'ohz'illu'h'nylh{'{ptl'pu'{opz'jshzz('nvvk's|jr'vu'hss'v|y'm|{|yl'luklh}vyz(\n",
      "59\n",
      "the decrypted message for seed 59 is Zw~~2www>2z{",
      "2{",
      "22w",
      "ws{2x2zw2x{s~2|wu2x2bZke2EBB@2[2zs",
      "2tww2s2yws2{w2{2z{",
      "2u~s",
      "",
      "32yv2~u}22s~~22xw2wvws",
      "3\n",
      "60\n",
      "the decrypted message for seed 60 is Xu||0uu~u<0xy0y0}0uu~qy~0v0xu0vy~q|0zus0v0`Xic0C@@>0Y0xq0ruu~0q0wuq0y}u0y~0xy0s|q10wt0|",
      "s{0~0q||0",
      "0v",
      "",
      "u0u~tuq1\n",
      "61\n",
      "the decrypted message for seed 61 is Rovvy*oo|yxo6*~rs}*s}*w*z|o}ox~k~syx*py|*~ro*psxkv*z|ytom~*py|*ZRc]*=::8*S~*rk}*loox*k*q|ok~*~swo*sx*~rs}*mvk}}+*qyyn*vmu*yx*kvv*y|*p~|o*oxnoky|}+\n",
      "62\n",
      "the decrypted message for seed 62 is Olssv'l}lyvul3'{opz'pz't'wylzlu{h{pvu'mvy'{ol'mpuhs'wyvqlj{'mvy'WO`Z':775'P{'ohz'illu'h'nylh{'{ptl'pu'{opz'jshzz('nvvk's|jr'vu'hss'v|y'm|{|yl'luklh}vyz(\n",
      "63\n",
      "the decrypted message for seed 63 is Spwwz+pp}zyp7+st~+t~+x+{}p~pyltzy+qz}+sp+qtylw+{}zupn+qz}+[Sd^+>;;9+T+sl~+mppy+l+r}pl+txp+ty+st~+nwl~~,+rzzo+wnv+zy+lww+z}+q}p+pyoplz}~,\n",
      "64\n",
      "the decrypted message for seed 64 is Rovvy*oo|yxo6*~rs}*s}*w*z|o}ox~k~syx*py|*~ro*psxkv*z|ytom~*py|*ZRc]*=::8*S~*rk}*loox*k*q|ok~*~swo*sx*~rs}*mvk}}+*qyyn*vmu*yx*kvv*y|*p~|o*oxnoky|}+\n",
      "65\n",
      "the decrypted message for seed 65 is Tqxx{,qq~",
      "{zq8,tu,u,y",
      ",|~qqzmu{z,r{~,tq,ruzmx,|~{vqo,r{~,\\Te_,?<<:,U,tm,nqqz,m,s~qm,uyq,uz,tu,oxm-,s{{p,xow,{z,mxx,",
      "{~,r~q,qzpqm{~-\n",
      "66\n",
      "the decrypted message for seed 66 is _|7||",
      "|C7777||",
      "x",
      "7}7|7}",
      "x7|z7}7g_pj7JGGE7`7x7y||",
      "7x7~|x7|7",
      "77zx87~{7z7",
      "7x77}|7|",
      "{|x8\n",
      "67\n",
      "the decrypted message for seed 67 is _|7||",
      "|C7777||",
      "x",
      "7}7|7}",
      "x7|z7}7g_pj7JGGE7`7x7y||",
      "7x7~|x7|7",
      "77zx87~{7z7",
      "7x77}|7|",
      "{|x8\n",
      "68\n",
      "the decrypted message for seed 68 is Jgnnq\"gxgt{qpg.\"vjku\"ku\"o{\"rtgugpvcvkqp\"hqt\"vjg\"hkpcn\"rtqlgev\"hqt\"RJ[U\"5220\"Kv\"jcu\"dggp\"c\"itgcv\"vkog\"kp\"vjku\"encuu#\"iqqf\"nwem\"qp\"cnn\"{qwt\"hwvwtg\"gpfgcxqtu#\n",
      "69\n",
      "the decrypted message for seed 69 is Lipps$iziv}sri0$xlmw$mw$q}$tviwirxexmsr$jsv$xli$jmrep$tvsnigx$jsv$TL]W$7442$Mx$lew$fiir$e$kviex$xmqi$mr$xlmw$gpeww%$kssh$pygo$sr$epp$}syv$jyxyvi$irhiezsvw%\n",
      "70\n",
      "the decrypted message for seed 70 is ^{",
      "6{{",
      "{B6~666{{w",
      "6|",
      "6~{6|w6",
      "{y6|",
      "6f^oi6IFFD6_6~w6x{{6w6}{w6{66~6yw76}",
      "",
      "z6y6",
      "6w6",
      "6|{6{z{w",
      "7\n",
      "71\n",
      "the decrypted message for seed 71 is Wt{{~/t",
      "t~}t;/wx/x/|/tt}px~}/u~/wt/ux}p{/~ytr/u~/_Whb/B??=/X/wp/qtt}/p/vtp/x|t/x}/wx/r{p0/v~~s/{rz/~}/p{{/~/ut/t}stp",
      "~0\n",
      "72\n",
      "the decrypted message for seed 72 is _|7||",
      "|C7777||",
      "x",
      "7}7|7}",
      "x7|z7}7g_pj7JGGE7`7x7y||",
      "7x7~|x7|7",
      "77zx87~{7z7",
      "7x77}|7|",
      "{|x8\n",
      "73\n",
      "the decrypted message for seed 73 is Yv}}1vvv=1",
      "yz1z1~1vv",
      "r",
      "z1w1",
      "yv1wzr}1{vt",
      "1w1aYjd1DAA?1Z",
      "1yr1svv1r1xvr",
      "1",
      "z~v1z1",
      "yz1t}r21xu1}t|11r}}11w",
      "v1vuvr2\n",
      "74\n",
      "the decrypted message for seed 74 is Nkrru&k|kxutk2&znoy&oy&s&vxkyktzgzout&lux&znk&lotgr&vxupkiz&lux&VN_Y&9664&Oz&ngy&hkkt&g&mxkgz&zosk&ot&znoy&irgyy'&muuj&r{iq&ut&grr&u{x&l{z{xk&ktjkg|uxy'\n",
      "75\n",
      "the decrypted message for seed 75 is Spwwz+pp}zyp7+st~+t~+x+{}p~pyltzy+qz}+sp+qtylw+{}zupn+qz}+[Sd^+>;;9+T+sl~+mppy+l+r}pl+txp+ty+st~+nwl~~,+rzzo+wnv+zy+lww+z}+q}p+pyoplz}~,\n",
      "76\n",
      "the decrypted message for seed 76 is Vszz}.ss}|s:.vw.w.{.~ss|ow}|.t}.vs.tw|oz.~}xsq.t}.^Vga.A>><.W.vo.pss|.o.uso.w{s.w|.vw.qzo/.u}}r.zqy.}|.ozz.}.ts.s|rso}/\n",
      "77\n",
      "the decrypted message for seed 77 is Hello everyone, this is my presentation for the final project for PHYS 300. It has been a great time in this class! good luck on all your future endeavors!\n",
      "78\n",
      "the decrypted message for seed 78 is Gdkkn\u001fdudqxnmd+\u001fsghr\u001fhr\u001flx\u001foqdrdms`shnm\u001fenq\u001fsgd\u001fehm`k\u001foqnidbs\u001fenq\u001fOGXR\u001f2//-\u001fHs\u001fg`r\u001faddm\u001f`\u001ffqd`s\u001fshld\u001fhm\u001fsghr\u001fbk`rr \u001ffnnc\u001fktbj\u001fnm\u001f`kk\u001fxntq\u001fetstqd\u001fdmcd`unqr \n",
      "79\n",
      "the decrypted message for seed 79 is ]z5zzzA5}~5~55",
      "zzv~5{5}z5{~v5",
      "zx5{5e]nh5HEEC5^5}v5wzz5v5|zv5~z5~5}~5xv65|y5x55v55{z5zyzv6\n",
      "80\n",
      "the decrypted message for seed 80 is Yv}}1vvv=1",
      "yz1z1~1vv",
      "r",
      "z1w1",
      "yv1wzr}1{vt",
      "1w1aYjd1DAA?1Z",
      "1yr1svv1r1xvr",
      "1",
      "z~v1z1",
      "yz1t}r21xu1}t|11r}}11w",
      "v1vuvr2\n",
      "81\n",
      "the decrypted message for seed 81 is Qnuux)nn{xwn5)}qr|)r|)v)y{n|nw}j}rxw)ox{)}qn)orwju)y{xsnl})ox{)YQb\\)<997)R})qj|)knnw)j)p{nj})}rvn)rw)}qr|)luj||*)pxxm)u~lt)xw)juu)x~{)o~}~{n)nwmnjx{|*\n",
      "82\n",
      "the decrypted message for seed 82 is ]z5zzzA5}~5~55",
      "zzv~5{5}z5{~v5",
      "zx5{5e]nh5HEEC5^5}v5wzz5v5|zv5~z5~5}~5xv65|y5x55v55{z5zyzv6\n",
      "83\n",
      "the decrypted message for seed 83 is Rovvy*oo|yxo6*~rs}*s}*w*z|o}ox~k~syx*py|*~ro*psxkv*z|ytom~*py|*ZRc]*=::8*S~*rk}*loox*k*q|ok~*~swo*sx*~rs}*mvk}}+*qyyn*vmu*yx*kvv*y|*p~|o*oxnoky|}+\n",
      "84\n",
      "the decrypted message for seed 84 is Jgnnq\"gxgt{qpg.\"vjku\"ku\"o{\"rtgugpvcvkqp\"hqt\"vjg\"hkpcn\"rtqlgev\"hqt\"RJ[U\"5220\"Kv\"jcu\"dggp\"c\"itgcv\"vkog\"kp\"vjku\"encuu#\"iqqf\"nwem\"qp\"cnn\"{qwt\"hwvwtg\"gpfgcxqtu#\n",
      "85\n",
      "the decrypted message for seed 85 is [x3xx",
      "x?3{|3|33",
      "xxt|3y",
      "3{x3y|t3",
      "}xv3y",
      "3c[lf3FCCA3\\3{t3uxx3t3z",
      "xt3|x3|3{|3vt43zw3v~33t3",
      "3y",
      "x3xwxt",
      "4\n",
      "86\n",
      "the decrypted message for seed 86 is Hello everyone, this is my presentation for the final project for PHYS 300. It has been a great time in this class! good luck on all your future endeavors!\n",
      "87\n",
      "the decrypted message for seed 87 is ]z5zzzA5}~5~55",
      "zzv~5{5}z5{~v5",
      "zx5{5e]nh5HEEC5^5}v5wzz5v5|zv5~z5~5}~5xv65|y5x55v55{z5zyzv6\n",
      "88\n",
      "the decrypted message for seed 88 is Uryy|-rr|{r9-uv-v-z-}rr{nv|{-s|-ur-sv{ny-}|wrp-s|-]Uf`-@==;-V-un-orr{-n-trn-vzr-v{-uv-pyn.-t||q-ypx-|{-nyy-|-sr-r{qrn|.\n",
      "89\n",
      "the decrypted message for seed 89 is _|7||",
      "|C7777||",
      "x",
      "7}7|7}",
      "x7|z7}7g_pj7JGGE7`7x7y||",
      "7x7~|x7|7",
      "77zx87~{7z7",
      "7x77}|7|",
      "{|x8\n",
      "90\n",
      "the decrypted message for seed 90 is [x3xx",
      "x?3{|3|33",
      "xxt|3y",
      "3{x3y|t3",
      "}xv3y",
      "3c[lf3FCCA3\\3{t3uxx3t3z",
      "xt3|x3|3{|3vt43zw3v~33t3",
      "3y",
      "x3xwxt",
      "4\n",
      "91\n",
      "the decrypted message for seed 91 is _|7||",
      "|C7777||",
      "x",
      "7}7|7}",
      "x7|z7}7g_pj7JGGE7`7x7y||",
      "7x7~|x7|7",
      "77zx87~{7z7",
      "7x77}|7|",
      "{|x8\n",
      "92\n",
      "the decrypted message for seed 92 is Tqxx{,qq~",
      "{zq8,tu,u,y",
      ",|~qqzmu{z,r{~,tq,ruzmx,|~{vqo,r{~,\\Te_,?<<:,U,tm,nqqz,m,s~qm,uyq,uz,tu,oxm-,s{{p,xow,{z,mxx,",
      "{~,r~q,qzpqm{~-\n",
      "93\n",
      "the decrypted message for seed 93 is Rovvy*oo|yxo6*~rs}*s}*w*z|o}ox~k~syx*py|*~ro*psxkv*z|ytom~*py|*ZRc]*=::8*S~*rk}*loox*k*q|ok~*~swo*sx*~rs}*mvk}}+*qyyn*vmu*yx*kvv*y|*p~|o*oxnoky|}+\n",
      "94\n",
      "the decrypted message for seed 94 is Pmttw(m~mzwvm4(|pq{(q{(u(xzm{mv|i|qwv(nwz(|pm(nqvit(xzwrmk|(nwz(XPa[(;886(Q|(pi{(jmmv(i(ozmi|(|qum(qv(|pq{(kti{{)(owwl(t}ks(wv(itt(w}z(n}|}zm(mvlmi~wz{)\n",
      "95\n",
      "the decrypted message for seed 95 is Ifmmp!fwfszpof-!uijt!jt!nz!qsftfoubujpo!gps!uif!gjobm!qspkfdu!gps!QIZT!411/!Ju!ibt!cffo!b!hsfbu!ujnf!jo!uijt!dmbtt\"!hppe!mvdl!po!bmm!zpvs!gvuvsf!foefbwpst\"\n",
      "96\n",
      "the decrypted message for seed 96 is Vszz}.ss}|s:.vw.w.{.~ss|ow}|.t}.vs.tw|oz.~}xsq.t}.^Vga.A>><.W.vo.pss|.o.uso.w{s.w|.vw.qzo/.u}}r.zqy.}|.ozz.}.ts.s|rso}/\n",
      "97\n",
      "the decrypted message for seed 97 is [x3xx",
      "x?3{|3|33",
      "xxt|3y",
      "3{x3y|t3",
      "}xv3y",
      "3c[lf3FCCA3\\3{t3uxx3t3z",
      "xt3|x3|3{|3vt43zw3v~33t3",
      "3y",
      "x3xwxt",
      "4\n",
      "98\n",
      "the decrypted message for seed 98 is Vszz}.ss}|s:.vw.w.{.~ss|ow}|.t}.vs.tw|oz.~}xsq.t}.^Vga.A>><.W.vo.pss|.o.uso.w{s.w|.vw.qzo/.u}}r.zqy.}|.ozz.}.ts.s|rso}/\n",
      "99\n",
      "the decrypted message for seed 99 is Uryy|-rr|{r9-uv-v-z-}rr{nv|{-s|-ur-sv{ny-}|wrp-s|-]Uf`-@==;-V-un-orr{-n-trn-vzr-v{-uv-pyn.-t||q-ypx-|{-nyy-|-sr-r{qrn|.\n",
      "100\n",
      "the decrypted message for seed 100 is ]z5zzzA5}~5~55",
      "zzv~5{5}z5{~v5",
      "zx5{5e]nh5HEEC5^5}v5wzz5v5|zv5~z5~5}~5xv65|y5x55v55{z5zyzv6\n",
      "101\n",
      "the decrypted message for seed 101 is Olssv'l}lyvul3'{opz'pz't'wylzlu{h{pvu'mvy'{ol'mpuhs'wyvqlj{'mvy'WO`Z':775'P{'ohz'illu'h'nylh{'{ptl'pu'{opz'jshzz('nvvk's|jr'vu'hss'v|y'm|{|yl'luklh}vyz(\n",
      "102\n",
      "the decrypted message for seed 102 is ]z5zzzA5}~5~55",
      "zzv~5{5}z5{~v5",
      "zx5{5e]nh5HEEC5^5}v5wzz5v5|zv5~z5~5}~5xv65|y5x55v55{z5zyzv6\n",
      "103\n",
      "the decrypted message for seed 103 is Khoor#hyhu|rqh/#wklv#lv#p|#suhvhqwdwlrq#iru#wkh#ilqdo#surmhfw#iru#SK\\V#6331#Lw#kdv#ehhq#d#juhdw#wlph#lq#wklv#fodvv$#jrrg#oxfn#rq#doo#|rxu#ixwxuh#hqghdyruv$\n",
      "104\n",
      "the decrypted message for seed 104 is a~",
      "",
      "9~~~E9999~~z99~9z",
      "9~|99iarl9LIIG9b9z9{~~9z9~z9~999|",
      "z:9}9",
      "|99z",
      "",
      "99~9~}~z:\n",
      "105\n",
      "the decrypted message for seed 105 is Olssv'l}lyvul3'{opz'pz't'wylzlu{h{pvu'mvy'{ol'mpuhs'wyvqlj{'mvy'WO`Z':775'P{'ohz'illu'h'nylh{'{ptl'pu'{opz'jshzz('nvvk's|jr'vu'hss'v|y'm|{|yl'luklh}vyz(\n",
      "106\n",
      "the decrypted message for seed 106 is Khoor#hyhu|rqh/#wklv#lv#p|#suhvhqwdwlrq#iru#wkh#ilqdo#surmhfw#iru#SK\\V#6331#Lw#kdv#ehhq#d#juhdw#wlph#lq#wklv#fodvv$#jrrg#oxfn#rq#doo#|rxu#ixwxuh#hqghdyruv$\n",
      "107\n",
      "the decrypted message for seed 107 is Zw~~2www>2z{",
      "2{",
      "22w",
      "ws{2x2zw2x{s~2|wu2x2bZke2EBB@2[2zs",
      "2tww2s2yws2{w2{2z{",
      "2u~s",
      "",
      "32yv2~u}22s~~22xw2wvws",
      "3\n",
      "108\n",
      "the decrypted message for seed 108 is ]z5zzzA5}~5~55",
      "zzv~5{5}z5{~v5",
      "zx5{5e]nh5HEEC5^5}v5wzz5v5|zv5~z5~5}~5xv65|y5x55v55{z5zyzv6\n",
      "109\n",
      "the decrypted message for seed 109 is Yv}}1vvv=1",
      "yz1z1~1vv",
      "r",
      "z1w1",
      "yv1wzr}1{vt",
      "1w1aYjd1DAA?1Z",
      "1yr1svv1r1xvr",
      "1",
      "z~v1z1",
      "yz1t}r21xu1}t|11r}}11w",
      "v1vuvr2\n",
      "110\n",
      "the decrypted message for seed 110 is Uryy|-rr|{r9-uv-v-z-}rr{nv|{-s|-ur-sv{ny-}|wrp-s|-]Uf`-@==;-V-un-orr{-n-trn-vzr-v{-uv-pyn.-t||q-ypx-|{-nyy-|-sr-r{qrn|.\n",
      "111\n",
      "the decrypted message for seed 111 is Gdkkn\u001fdudqxnmd+\u001fsghr\u001fhr\u001flx\u001foqdrdms`shnm\u001fenq\u001fsgd\u001fehm`k\u001foqnidbs\u001fenq\u001fOGXR\u001f2//-\u001fHs\u001fg`r\u001faddm\u001f`\u001ffqd`s\u001fshld\u001fhm\u001fsghr\u001fbk`rr \u001ffnnc\u001fktbj\u001fnm\u001f`kk\u001fxntq\u001fetstqd\u001fdmcd`unqr \n",
      "112\n",
      "the decrypted message for seed 112 is Rovvy*oo|yxo6*~rs}*s}*w*z|o}ox~k~syx*py|*~ro*psxkv*z|ytom~*py|*ZRc]*=::8*S~*rk}*loox*k*q|ok~*~swo*sx*~rs}*mvk}}+*qyyn*vmu*yx*kvv*y|*p~|o*oxnoky|}+\n",
      "113\n",
      "the decrypted message for seed 113 is a~",
      "",
      "9~~~E9999~~z99~9z",
      "9~|99iarl9LIIG9b9z9{~~9z9~z9~999|",
      "z:9}9",
      "|99z",
      "",
      "99~9~}~z:\n",
      "114\n",
      "the decrypted message for seed 114 is Zw~~2www>2z{",
      "2{",
      "22w",
      "ws{2x2zw2x{s~2|wu2x2bZke2EBB@2[2zs",
      "2tww2s2yws2{w2{2z{",
      "2u~s",
      "",
      "32yv2~u}22s~~22xw2wvws",
      "3\n",
      "115\n",
      "the decrypted message for seed 115 is Xu||0uu~u<0xy0y0}0uu~qy~0v0xu0vy~q|0zus0v0`Xic0C@@>0Y0xq0ruu~0q0wuq0y}u0y~0xy0s|q10wt0|",
      "s{0~0q||0",
      "0v",
      "",
      "u0u~tuq1\n",
      "116\n",
      "the decrypted message for seed 116 is Gdkkn\u001fdudqxnmd+\u001fsghr\u001fhr\u001flx\u001foqdrdms`shnm\u001fenq\u001fsgd\u001fehm`k\u001foqnidbs\u001fenq\u001fOGXR\u001f2//-\u001fHs\u001fg`r\u001faddm\u001f`\u001ffqd`s\u001fshld\u001fhm\u001fsghr\u001fbk`rr \u001ffnnc\u001fktbj\u001fnm\u001f`kk\u001fxntq\u001fetstqd\u001fdmcd`unqr \n",
      "117\n",
      "the decrypted message for seed 117 is Zw~~2www>2z{",
      "2{",
      "22w",
      "ws{2x2zw2x{s~2|wu2x2bZke2EBB@2[2zs",
      "2tww2s2yws2{w2{2z{",
      "2u~s",
      "",
      "32yv2~u}22s~~22xw2wvws",
      "3\n",
      "118\n",
      "the decrypted message for seed 118 is Khoor#hyhu|rqh/#wklv#lv#p|#suhvhqwdwlrq#iru#wkh#ilqdo#surmhfw#iru#SK\\V#6331#Lw#kdv#ehhq#d#juhdw#wlph#lq#wklv#fodvv$#jrrg#oxfn#rq#doo#|rxu#ixwxuh#hqghdyruv$\n",
      "119\n",
      "the decrypted message for seed 119 is Xu||0uu~u<0xy0y0}0uu~qy~0v0xu0vy~q|0zus0v0`Xic0C@@>0Y0xq0ruu~0q0wuq0y}u0y~0xy0s|q10wt0|",
      "s{0~0q||0",
      "0v",
      "",
      "u0u~tuq1\n",
      "120\n",
      "the decrypted message for seed 120 is Qnuux)nn{xwn5)}qr|)r|)v)y{n|nw}j}rxw)ox{)}qn)orwju)y{xsnl})ox{)YQb\\)<997)R})qj|)knnw)j)p{nj})}rvn)rw)}qr|)luj||*)pxxm)u~lt)xw)juu)x~{)o~}~{n)nwmnjx{|*\n",
      "121\n",
      "the decrypted message for seed 121 is _|7||",
      "|C7777||",
      "x",
      "7}7|7}",
      "x7|z7}7g_pj7JGGE7`7x7y||",
      "7x7~|x7|7",
      "77zx87~{7z7",
      "7x77}|7|",
      "{|x8\n",
      "122\n",
      "the decrypted message for seed 122 is Qnuux)nn{xwn5)}qr|)r|)v)y{n|nw}j}rxw)ox{)}qn)orwju)y{xsnl})ox{)YQb\\)<997)R})qj|)knnw)j)p{nj})}rvn)rw)}qr|)luj||*)pxxm)u~lt)xw)juu)x~{)o~}~{n)nwmnjx{|*\n",
      "123\n",
      "the decrypted message for seed 123 is `}8}}}D888",
      "8}}y8~8}8~y8}{8~8h`qk8KHHF8a8y8z}}8y8}y8",
      "}888{y98|8{88y88~}8}|}y9\n",
      "124\n",
      "the decrypted message for seed 124 is Yv}}1vvv=1",
      "yz1z1~1vv",
      "r",
      "z1w1",
      "yv1wzr}1{vt",
      "1w1aYjd1DAA?1Z",
      "1yr1svv1r1xvr",
      "1",
      "z~v1z1",
      "yz1t}r21xu1}t|11r}}11w",
      "v1vuvr2\n",
      "125\n",
      "the decrypted message for seed 125 is Zw~~2www>2z{",
      "2{",
      "22w",
      "ws{2x2zw2x{s~2|wu2x2bZke2EBB@2[2zs",
      "2tww2s2yws2{w2{2z{",
      "2u~s",
      "",
      "32yv2~u}22s~~22xw2wvws",
      "3\n",
      "126\n",
      "the decrypted message for seed 126 is Olssv'l}lyvul3'{opz'pz't'wylzlu{h{pvu'mvy'{ol'mpuhs'wyvqlj{'mvy'WO`Z':775'P{'ohz'illu'h'nylh{'{ptl'pu'{opz'jshzz('nvvk's|jr'vu'hss'v|y'm|{|yl'luklh}vyz(\n",
      "127\n",
      "the decrypted message for seed 127 is `}8}}}D888",
      "8}}y8~8}8~y8}{8~8h`qk8KHHF8a8y8z}}8y8}y8",
      "}888{y98|8{88y88~}8}|}y9\n",
      "128\n",
      "the decrypted message for seed 128 is Zw~~2www>2z{",
      "2{",
      "22w",
      "ws{2x2zw2x{s~2|wu2x2bZke2EBB@2[2zs",
      "2tww2s2yws2{w2{2z{",
      "2u~s",
      "",
      "32yv2~u}22s~~22xw2wvws",
      "3\n",
      "129\n",
      "the decrypted message for seed 129 is Olssv'l}lyvul3'{opz'pz't'wylzlu{h{pvu'mvy'{ol'mpuhs'wyvqlj{'mvy'WO`Z':775'P{'ohz'illu'h'nylh{'{ptl'pu'{opz'jshzz('nvvk's|jr'vu'hss'v|y'm|{|yl'luklh}vyz(\n",
      "130\n",
      "the decrypted message for seed 130 is Qnuux)nn{xwn5)}qr|)r|)v)y{n|nw}j}rxw)ox{)}qn)orwju)y{xsnl})ox{)YQb\\)<997)R})qj|)knnw)j)p{nj})}rvn)rw)}qr|)luj||*)pxxm)u~lt)xw)juu)x~{)o~}~{n)nwmnjx{|*\n",
      "131\n",
      "the decrypted message for seed 131 is Wt{{~/t",
      "t~}t;/wx/x/|/tt}px~}/u~/wt/ux}p{/~ytr/u~/_Whb/B??=/X/wp/qtt}/p/vtp/x|t/x}/wx/r{p0/v~~s/{rz/~}/p{{/~/ut/t}stp",
      "~0\n",
      "132\n",
      "the decrypted message for seed 132 is Tqxx{,qq~",
      "{zq8,tu,u,y",
      ",|~qqzmu{z,r{~,tq,ruzmx,|~{vqo,r{~,\\Te_,?<<:,U,tm,nqqz,m,s~qm,uyq,uz,tu,oxm-,s{{p,xow,{z,mxx,",
      "{~,r~q,qzpqm{~-\n",
      "133\n",
      "the decrypted message for seed 133 is Rovvy*oo|yxo6*~rs}*s}*w*z|o}ox~k~syx*py|*~ro*psxkv*z|ytom~*py|*ZRc]*=::8*S~*rk}*loox*k*q|ok~*~swo*sx*~rs}*mvk}}+*qyyn*vmu*yx*kvv*y|*p~|o*oxnoky|}+\n",
      "134\n",
      "the decrypted message for seed 134 is Rovvy*oo|yxo6*~rs}*s}*w*z|o}ox~k~syx*py|*~ro*psxkv*z|ytom~*py|*ZRc]*=::8*S~*rk}*loox*k*q|ok~*~swo*sx*~rs}*mvk}}+*qyyn*vmu*yx*kvv*y|*p~|o*oxnoky|}+\n",
      "135\n",
      "the decrypted message for seed 135 is Lipps$iziv}sri0$xlmw$mw$q}$tviwirxexmsr$jsv$xli$jmrep$tvsnigx$jsv$TL]W$7442$Mx$lew$fiir$e$kviex$xmqi$mr$xlmw$gpeww%$kssh$pygo$sr$epp$}syv$jyxyvi$irhiezsvw%\n",
      "136\n",
      "the decrypted message for seed 136 is Olssv'l}lyvul3'{opz'pz't'wylzlu{h{pvu'mvy'{ol'mpuhs'wyvqlj{'mvy'WO`Z':775'P{'ohz'illu'h'nylh{'{ptl'pu'{opz'jshzz('nvvk's|jr'vu'hss'v|y'm|{|yl'luklh}vyz(\n",
      "137\n",
      "the decrypted message for seed 137 is _|7||",
      "|C7777||",
      "x",
      "7}7|7}",
      "x7|z7}7g_pj7JGGE7`7x7y||",
      "7x7~|x7|7",
      "77zx87~{7z7",
      "7x77}|7|",
      "{|x8\n",
      "138\n",
      "the decrypted message for seed 138 is [x3xx",
      "x?3{|3|33",
      "xxt|3y",
      "3{x3y|t3",
      "}xv3y",
      "3c[lf3FCCA3\\3{t3uxx3t3z",
      "xt3|x3|3{|3vt43zw3v~33t3",
      "3y",
      "x3xwxt",
      "4\n",
      "139\n",
      "the decrypted message for seed 139 is a~",
      "",
      "9~~~E9999~~z99~9z",
      "9~|99iarl9LIIG9b9z9{~~9z9~z9~999|",
      "z:9}9",
      "|99z",
      "",
      "99~9~}~z:\n",
      "140\n",
      "the decrypted message for seed 140 is Ifmmp!fwfszpof-!uijt!jt!nz!qsftfoubujpo!gps!uif!gjobm!qspkfdu!gps!QIZT!411/!Ju!ibt!cffo!b!hsfbu!ujnf!jo!uijt!dmbtt\"!hppe!mvdl!po!bmm!zpvs!gvuvsf!foefbwpst\"\n",
      "141\n",
      "the decrypted message for seed 141 is Qnuux)nn{xwn5)}qr|)r|)v)y{n|nw}j}rxw)ox{)}qn)orwju)y{xsnl})ox{)YQb\\)<997)R})qj|)knnw)j)p{nj})}rvn)rw)}qr|)luj||*)pxxm)u~lt)xw)juu)x~{)o~}~{n)nwmnjx{|*\n",
      "142\n",
      "the decrypted message for seed 142 is Olssv'l}lyvul3'{opz'pz't'wylzlu{h{pvu'mvy'{ol'mpuhs'wyvqlj{'mvy'WO`Z':775'P{'ohz'illu'h'nylh{'{ptl'pu'{opz'jshzz('nvvk's|jr'vu'hss'v|y'm|{|yl'luklh}vyz(\n",
      "143\n",
      "the decrypted message for seed 143 is \\y4yyy@4|}4}44yyu}4z4|y4z}u4~yw4z4d\\mg4GDDB4]4|u4vyy4u4{yu4}y4}4|}4wu54{x4w44u44zy4yxyu5\n",
      "144\n",
      "the decrypted message for seed 144 is Spwwz+pp}zyp7+st~+t~+x+{}p~pyltzy+qz}+sp+qtylw+{}zupn+qz}+[Sd^+>;;9+T+sl~+mppy+l+r}pl+txp+ty+st~+nwl~~,+rzzo+wnv+zy+lww+z}+q}p+pyoplz}~,\n",
      "145\n",
      "the decrypted message for seed 145 is Ifmmp!fwfszpof-!uijt!jt!nz!qsftfoubujpo!gps!uif!gjobm!qspkfdu!gps!QIZT!411/!Ju!ibt!cffo!b!hsfbu!ujnf!jo!uijt!dmbtt\"!hppe!mvdl!po!bmm!zpvs!gvuvsf!foefbwpst\"\n",
      "146\n",
      "the decrypted message for seed 146 is ]z5zzzA5}~5~55",
      "zzv~5{5}z5{~v5",
      "zx5{5e]nh5HEEC5^5}v5wzz5v5|zv5~z5~5}~5xv65|y5x55v55{z5zyzv6\n",
      "147\n",
      "the decrypted message for seed 147 is Nkrru&k|kxutk2&znoy&oy&s&vxkyktzgzout&lux&znk&lotgr&vxupkiz&lux&VN_Y&9664&Oz&ngy&hkkt&g&mxkgz&zosk&ot&znoy&irgyy'&muuj&r{iq&ut&grr&u{x&l{z{xk&ktjkg|uxy'\n",
      "148\n",
      "the decrypted message for seed 148 is Uryy|-rr|{r9-uv-v-z-}rr{nv|{-s|-ur-sv{ny-}|wrp-s|-]Uf`-@==;-V-un-orr{-n-trn-vzr-v{-uv-pyn.-t||q-ypx-|{-nyy-|-sr-r{qrn|.\n",
      "149\n",
      "the decrypted message for seed 149 is _|7||",
      "|C7777||",
      "x",
      "7}7|7}",
      "x7|z7}7g_pj7JGGE7`7x7y||",
      "7x7~|x7|7",
      "77zx87~{7z7",
      "7x77}|7|",
      "{|x8\n",
      "150\n",
      "the decrypted message for seed 150 is Gdkkn\u001fdudqxnmd+\u001fsghr\u001fhr\u001flx\u001foqdrdms`shnm\u001fenq\u001fsgd\u001fehm`k\u001foqnidbs\u001fenq\u001fOGXR\u001f2//-\u001fHs\u001fg`r\u001faddm\u001f`\u001ffqd`s\u001fshld\u001fhm\u001fsghr\u001fbk`rr \u001ffnnc\u001fktbj\u001fnm\u001f`kk\u001fxntq\u001fetstqd\u001fdmcd`unqr \n",
      "151\n",
      "the decrypted message for seed 151 is Khoor#hyhu|rqh/#wklv#lv#p|#suhvhqwdwlrq#iru#wkh#ilqdo#surmhfw#iru#SK\\V#6331#Lw#kdv#ehhq#d#juhdw#wlph#lq#wklv#fodvv$#jrrg#oxfn#rq#doo#|rxu#ixwxuh#hqghdyruv$\n",
      "152\n",
      "the decrypted message for seed 152 is Ifmmp!fwfszpof-!uijt!jt!nz!qsftfoubujpo!gps!uif!gjobm!qspkfdu!gps!QIZT!411/!Ju!ibt!cffo!b!hsfbu!ujnf!jo!uijt!dmbtt\"!hppe!mvdl!po!bmm!zpvs!gvuvsf!foefbwpst\"\n",
      "153\n",
      "the decrypted message for seed 153 is Rovvy*oo|yxo6*~rs}*s}*w*z|o}ox~k~syx*py|*~ro*psxkv*z|ytom~*py|*ZRc]*=::8*S~*rk}*loox*k*q|ok~*~swo*sx*~rs}*mvk}}+*qyyn*vmu*yx*kvv*y|*p~|o*oxnoky|}+\n",
      "154\n",
      "the decrypted message for seed 154 is [x3xx",
      "x?3{|3|33",
      "xxt|3y",
      "3{x3y|t3",
      "}xv3y",
      "3c[lf3FCCA3\\3{t3uxx3t3z",
      "xt3|x3|3{|3vt43zw3v~33t3",
      "3y",
      "x3xwxt",
      "4\n",
      "155\n",
      "the decrypted message for seed 155 is Olssv'l}lyvul3'{opz'pz't'wylzlu{h{pvu'mvy'{ol'mpuhs'wyvqlj{'mvy'WO`Z':775'P{'ohz'illu'h'nylh{'{ptl'pu'{opz'jshzz('nvvk's|jr'vu'hss'v|y'm|{|yl'luklh}vyz(\n",
      "156\n",
      "the decrypted message for seed 156 is Rovvy*oo|yxo6*~rs}*s}*w*z|o}ox~k~syx*py|*~ro*psxkv*z|ytom~*py|*ZRc]*=::8*S~*rk}*loox*k*q|ok~*~swo*sx*~rs}*mvk}}+*qyyn*vmu*yx*kvv*y|*p~|o*oxnoky|}+\n",
      "157\n",
      "the decrypted message for seed 157 is Nkrru&k|kxutk2&znoy&oy&s&vxkyktzgzout&lux&znk&lotgr&vxupkiz&lux&VN_Y&9664&Oz&ngy&hkkt&g&mxkgz&zosk&ot&znoy&irgyy'&muuj&r{iq&ut&grr&u{x&l{z{xk&ktjkg|uxy'\n",
      "158\n",
      "the decrypted message for seed 158 is Lipps$iziv}sri0$xlmw$mw$q}$tviwirxexmsr$jsv$xli$jmrep$tvsnigx$jsv$TL]W$7442$Mx$lew$fiir$e$kviex$xmqi$mr$xlmw$gpeww%$kssh$pygo$sr$epp$}syv$jyxyvi$irhiezsvw%\n",
      "159\n",
      "the decrypted message for seed 159 is Uryy|-rr|{r9-uv-v-z-}rr{nv|{-s|-ur-sv{ny-}|wrp-s|-]Uf`-@==;-V-un-orr{-n-trn-vzr-v{-uv-pyn.-t||q-ypx-|{-nyy-|-sr-r{qrn|.\n",
      "160\n",
      "the decrypted message for seed 160 is ^{",
      "6{{",
      "{B6~666{{w",
      "6|",
      "6~{6|w6",
      "{y6|",
      "6f^oi6IFFD6_6~w6x{{6w6}{w6{66~6yw76}",
      "",
      "z6y6",
      "6w6",
      "6|{6{z{w",
      "7\n",
      "161\n",
      "the decrypted message for seed 161 is Qnuux)nn{xwn5)}qr|)r|)v)y{n|nw}j}rxw)ox{)}qn)orwju)y{xsnl})ox{)YQb\\)<997)R})qj|)knnw)j)p{nj})}rvn)rw)}qr|)luj||*)pxxm)u~lt)xw)juu)x~{)o~}~{n)nwmnjx{|*\n",
      "162\n",
      "the decrypted message for seed 162 is `}8}}}D888",
      "8}}y8~8}8~y8}{8~8h`qk8KHHF8a8y8z}}8y8}y8",
      "}888{y98|8{88y88~}8}|}y9\n",
      "163\n",
      "the decrypted message for seed 163 is Pmttw(m~mzwvm4(|pq{(q{(u(xzm{mv|i|qwv(nwz(|pm(nqvit(xzwrmk|(nwz(XPa[(;886(Q|(pi{(jmmv(i(ozmi|(|qum(qv(|pq{(kti{{)(owwl(t}ks(wv(itt(w}z(n}|}zm(mvlmi~wz{)\n",
      "164\n",
      "the decrypted message for seed 164 is ^{",
      "6{{",
      "{B6~666{{w",
      "6|",
      "6~{6|w6",
      "{y6|",
      "6f^oi6IFFD6_6~w6x{{6w6}{w6{66~6yw76}",
      "",
      "z6y6",
      "6w6",
      "6|{6{z{w",
      "7\n",
      "165\n",
      "the decrypted message for seed 165 is a~",
      "",
      "9~~~E9999~~z99~9z",
      "9~|99iarl9LIIG9b9z9{~~9z9~z9~999|",
      "z:9}9",
      "|99z",
      "",
      "99~9~}~z:\n",
      "166\n",
      "the decrypted message for seed 166 is \\y4yyy@4|}4}44yyu}4z4|y4z}u4~yw4z4d\\mg4GDDB4]4|u4vyy4u4{yu4}y4}4|}4wu54{x4w44u44zy4yxyu5\n",
      "167\n",
      "the decrypted message for seed 167 is Zw~~2www>2z{",
      "2{",
      "22w",
      "ws{2x2zw2x{s~2|wu2x2bZke2EBB@2[2zs",
      "2tww2s2yws2{w2{2z{",
      "2u~s",
      "",
      "32yv2~u}22s~~22xw2wvws",
      "3\n",
      "168\n",
      "the decrypted message for seed 168 is Jgnnq\"gxgt{qpg.\"vjku\"ku\"o{\"rtgugpvcvkqp\"hqt\"vjg\"hkpcn\"rtqlgev\"hqt\"RJ[U\"5220\"Kv\"jcu\"dggp\"c\"itgcv\"vkog\"kp\"vjku\"encuu#\"iqqf\"nwem\"qp\"cnn\"{qwt\"hwvwtg\"gpfgcxqtu#\n",
      "169\n",
      "the decrypted message for seed 169 is Yv}}1vvv=1",
      "yz1z1~1vv",
      "r",
      "z1w1",
      "yv1wzr}1{vt",
      "1w1aYjd1DAA?1Z",
      "1yr1svv1r1xvr",
      "1",
      "z~v1z1",
      "yz1t}r21xu1}t|11r}}11w",
      "v1vuvr2\n",
      "170\n",
      "the decrypted message for seed 170 is Hello everyone, this is my presentation for the final project for PHYS 300. It has been a great time in this class! good luck on all your future endeavors!\n",
      "171\n",
      "the decrypted message for seed 171 is Hello everyone, this is my presentation for the final project for PHYS 300. It has been a great time in this class! good luck on all your future endeavors!\n",
      "172\n",
      "the decrypted message for seed 172 is Vszz}.ss}|s:.vw.w.{.~ss|ow}|.t}.vs.tw|oz.~}xsq.t}.^Vga.A>><.W.vo.pss|.o.uso.w{s.w|.vw.qzo/.u}}r.zqy.}|.ozz.}.ts.s|rso}/\n",
      "173\n",
      "the decrypted message for seed 173 is Wt{{~/t",
      "t~}t;/wx/x/|/tt}px~}/u~/wt/ux}p{/~ytr/u~/_Whb/B??=/X/wp/qtt}/p/vtp/x|t/x}/wx/r{p0/v~~s/{rz/~}/p{{/~/ut/t}stp",
      "~0\n",
      "174\n",
      "the decrypted message for seed 174 is Hello everyone, this is my presentation for the final project for PHYS 300. It has been a great time in this class! good luck on all your future endeavors!\n",
      "175\n",
      "the decrypted message for seed 175 is Spwwz+pp}zyp7+st~+t~+x+{}p~pyltzy+qz}+sp+qtylw+{}zupn+qz}+[Sd^+>;;9+T+sl~+mppy+l+r}pl+txp+ty+st~+nwl~~,+rzzo+wnv+zy+lww+z}+q}p+pyoplz}~,\n",
      "176\n",
      "the decrypted message for seed 176 is a~",
      "",
      "9~~~E9999~~z99~9z",
      "9~|99iarl9LIIG9b9z9{~~9z9~z9~999|",
      "z:9}9",
      "|99z",
      "",
      "99~9~}~z:\n",
      "177\n",
      "the decrypted message for seed 177 is [x3xx",
      "x?3{|3|33",
      "xxt|3y",
      "3{x3y|t3",
      "}xv3y",
      "3c[lf3FCCA3\\3{t3uxx3t3z",
      "xt3|x3|3{|3vt43zw3v~33t3",
      "3y",
      "x3xwxt",
      "4\n",
      "178\n",
      "the decrypted message for seed 178 is ^{",
      "6{{",
      "{B6~666{{w",
      "6|",
      "6~{6|w6",
      "{y6|",
      "6f^oi6IFFD6_6~w6x{{6w6}{w6{66~6yw76}",
      "",
      "z6y6",
      "6w6",
      "6|{6{z{w",
      "7\n",
      "179\n",
      "the decrypted message for seed 179 is [x3xx",
      "x?3{|3|33",
      "xxt|3y",
      "3{x3y|t3",
      "}xv3y",
      "3c[lf3FCCA3\\3{t3uxx3t3z",
      "xt3|x3|3{|3vt43zw3v~33t3",
      "3y",
      "x3xwxt",
      "4\n",
      "180\n",
      "the decrypted message for seed 180 is ]z5zzzA5}~5~55",
      "zzv~5{5}z5{~v5",
      "zx5{5e]nh5HEEC5^5}v5wzz5v5|zv5~z5~5}~5xv65|y5x55v55{z5zyzv6\n",
      "181\n",
      "the decrypted message for seed 181 is Olssv'l}lyvul3'{opz'pz't'wylzlu{h{pvu'mvy'{ol'mpuhs'wyvqlj{'mvy'WO`Z':775'P{'ohz'illu'h'nylh{'{ptl'pu'{opz'jshzz('nvvk's|jr'vu'hss'v|y'm|{|yl'luklh}vyz(\n",
      "182\n",
      "the decrypted message for seed 182 is Spwwz+pp}zyp7+st~+t~+x+{}p~pyltzy+qz}+sp+qtylw+{}zupn+qz}+[Sd^+>;;9+T+sl~+mppy+l+r}pl+txp+ty+st~+nwl~~,+rzzo+wnv+zy+lww+z}+q}p+pyoplz}~,\n",
      "183\n",
      "the decrypted message for seed 183 is ^{",
      "6{{",
      "{B6~666{{w",
      "6|",
      "6~{6|w6",
      "{y6|",
      "6f^oi6IFFD6_6~w6x{{6w6}{w6{66~6yw76}",
      "",
      "z6y6",
      "6w6",
      "6|{6{z{w",
      "7\n",
      "184\n",
      "the decrypted message for seed 184 is Yv}}1vvv=1",
      "yz1z1~1vv",
      "r",
      "z1w1",
      "yv1wzr}1{vt",
      "1w1aYjd1DAA?1Z",
      "1yr1svv1r1xvr",
      "1",
      "z~v1z1",
      "yz1t}r21xu1}t|11r}}11w",
      "v1vuvr2\n",
      "185\n",
      "the decrypted message for seed 185 is Hello everyone, this is my presentation for the final project for PHYS 300. It has been a great time in this class! good luck on all your future endeavors!\n",
      "186\n",
      "the decrypted message for seed 186 is Wt{{~/t",
      "t~}t;/wx/x/|/tt}px~}/u~/wt/ux}p{/~ytr/u~/_Whb/B??=/X/wp/qtt}/p/vtp/x|t/x}/wx/r{p0/v~~s/{rz/~}/p{{/~/ut/t}stp",
      "~0\n",
      "187\n",
      "the decrypted message for seed 187 is Vszz}.ss}|s:.vw.w.{.~ss|ow}|.t}.vs.tw|oz.~}xsq.t}.^Vga.A>><.W.vo.pss|.o.uso.w{s.w|.vw.qzo/.u}}r.zqy.}|.ozz.}.ts.s|rso}/\n",
      "188\n",
      "the decrypted message for seed 188 is Hello everyone, this is my presentation for the final project for PHYS 300. It has been a great time in this class! good luck on all your future endeavors!\n",
      "189\n",
      "the decrypted message for seed 189 is Rovvy*oo|yxo6*~rs}*s}*w*z|o}ox~k~syx*py|*~ro*psxkv*z|ytom~*py|*ZRc]*=::8*S~*rk}*loox*k*q|ok~*~swo*sx*~rs}*mvk}}+*qyyn*vmu*yx*kvv*y|*p~|o*oxnoky|}+\n",
      "190\n",
      "the decrypted message for seed 190 is _|7||",
      "|C7777||",
      "x",
      "7}7|7}",
      "x7|z7}7g_pj7JGGE7`7x7y||",
      "7x7~|x7|7",
      "77zx87~{7z7",
      "7x77}|7|",
      "{|x8\n",
      "191\n",
      "the decrypted message for seed 191 is Ifmmp!fwfszpof-!uijt!jt!nz!qsftfoubujpo!gps!uif!gjobm!qspkfdu!gps!QIZT!411/!Ju!ibt!cffo!b!hsfbu!ujnf!jo!uijt!dmbtt\"!hppe!mvdl!po!bmm!zpvs!gvuvsf!foefbwpst\"\n",
      "192\n",
      "the decrypted message for seed 192 is Vszz}.ss}|s:.vw.w.{.~ss|ow}|.t}.vs.tw|oz.~}xsq.t}.^Vga.A>><.W.vo.pss|.o.uso.w{s.w|.vw.qzo/.u}}r.zqy.}|.ozz.}.ts.s|rso}/\n",
      "193\n",
      "the decrypted message for seed 193 is Pmttw(m~mzwvm4(|pq{(q{(u(xzm{mv|i|qwv(nwz(|pm(nqvit(xzwrmk|(nwz(XPa[(;886(Q|(pi{(jmmv(i(ozmi|(|qum(qv(|pq{(kti{{)(owwl(t}ks(wv(itt(w}z(n}|}zm(mvlmi~wz{)\n",
      "194\n",
      "the decrypted message for seed 194 is Gdkkn\u001fdudqxnmd+\u001fsghr\u001fhr\u001flx\u001foqdrdms`shnm\u001fenq\u001fsgd\u001fehm`k\u001foqnidbs\u001fenq\u001fOGXR\u001f2//-\u001fHs\u001fg`r\u001faddm\u001f`\u001ffqd`s\u001fshld\u001fhm\u001fsghr\u001fbk`rr \u001ffnnc\u001fktbj\u001fnm\u001f`kk\u001fxntq\u001fetstqd\u001fdmcd`unqr \n",
      "195\n",
      "the decrypted message for seed 195 is Nkrru&k|kxutk2&znoy&oy&s&vxkyktzgzout&lux&znk&lotgr&vxupkiz&lux&VN_Y&9664&Oz&ngy&hkkt&g&mxkgz&zosk&ot&znoy&irgyy'&muuj&r{iq&ut&grr&u{x&l{z{xk&ktjkg|uxy'\n",
      "196\n",
      "the decrypted message for seed 196 is Mjqqt%j{jw~tsj1%ymnx%nx%r~%uwjxjsyfynts%ktw%ymj%knsfq%uwtojhy%ktw%UM^X%8553%Ny%mfx%gjjs%f%lwjfy%ynrj%ns%ymnx%hqfxx&%ltti%qzhp%ts%fqq%~tzw%kzyzwj%jsijf{twx&\n",
      "197\n",
      "the decrypted message for seed 197 is Pmttw(m~mzwvm4(|pq{(q{(u(xzm{mv|i|qwv(nwz(|pm(nqvit(xzwrmk|(nwz(XPa[(;886(Q|(pi{(jmmv(i(ozmi|(|qum(qv(|pq{(kti{{)(owwl(t}ks(wv(itt(w}z(n}|}zm(mvlmi~wz{)\n",
      "198\n",
      "the decrypted message for seed 198 is `}8}}}D888",
      "8}}y8~8}8~y8}{8~8h`qk8KHHF8a8y8z}}8y8}y8",
      "}888{y98|8{88y88~}8}|}y9\n",
      "199\n",
      "the decrypted message for seed 199 is Vszz}.ss}|s:.vw.w.{.~ss|ow}|.t}.vs.tw|oz.~}xsq.t}.^Vga.A>><.W.vo.pss|.o.uso.w{s.w|.vw.qzo/.u}}r.zqy.}|.ozz.}.ts.s|rso}/\n",
      "200\n",
      "the decrypted message for seed 200 is `}8}}}D888",
      "8}}y8~8}8~y8}{8~8h`qk8KHHF8a8y8z}}8y8}y8",
      "}888{y98|8{88y88~}8}|}y9\n",
      "201\n",
      "the decrypted message for seed 201 is _|7||",
      "|C7777||",
      "x",
      "7}7|7}",
      "x7|z7}7g_pj7JGGE7`7x7y||",
      "7x7~|x7|7",
      "77zx87~{7z7",
      "7x77}|7|",
      "{|x8\n",
      "202\n",
      "the decrypted message for seed 202 is Ifmmp!fwfszpof-!uijt!jt!nz!qsftfoubujpo!gps!uif!gjobm!qspkfdu!gps!QIZT!411/!Ju!ibt!cffo!b!hsfbu!ujnf!jo!uijt!dmbtt\"!hppe!mvdl!po!bmm!zpvs!gvuvsf!foefbwpst\"\n",
      "203\n",
      "the decrypted message for seed 203 is _|7||",
      "|C7777||",
      "x",
      "7}7|7}",
      "x7|z7}7g_pj7JGGE7`7x7y||",
      "7x7~|x7|7",
      "77zx87~{7z7",
      "7x77}|7|",
      "{|x8\n",
      "204\n",
      "the decrypted message for seed 204 is Uryy|-rr|{r9-uv-v-z-}rr{nv|{-s|-ur-sv{ny-}|wrp-s|-]Uf`-@==;-V-un-orr{-n-trn-vzr-v{-uv-pyn.-t||q-ypx-|{-nyy-|-sr-r{qrn|.\n",
      "205\n",
      "the decrypted message for seed 205 is Tqxx{,qq~",
      "{zq8,tu,u,y",
      ",|~qqzmu{z,r{~,tq,ruzmx,|~{vqo,r{~,\\Te_,?<<:,U,tm,nqqz,m,s~qm,uyq,uz,tu,oxm-,s{{p,xow,{z,mxx,",
      "{~,r~q,qzpqm{~-\n",
      "206\n",
      "the decrypted message for seed 206 is a~",
      "",
      "9~~~E9999~~z99~9z",
      "9~|99iarl9LIIG9b9z9{~~9z9~z9~999|",
      "z:9}9",
      "|99z",
      "",
      "99~9~}~z:\n",
      "207\n",
      "the decrypted message for seed 207 is Qnuux)nn{xwn5)}qr|)r|)v)y{n|nw}j}rxw)ox{)}qn)orwju)y{xsnl})ox{)YQb\\)<997)R})qj|)knnw)j)p{nj})}rvn)rw)}qr|)luj||*)pxxm)u~lt)xw)juu)x~{)o~}~{n)nwmnjx{|*\n",
      "208\n",
      "the decrypted message for seed 208 is Yv}}1vvv=1",
      "yz1z1~1vv",
      "r",
      "z1w1",
      "yv1wzr}1{vt",
      "1w1aYjd1DAA?1Z",
      "1yr1svv1r1xvr",
      "1",
      "z~v1z1",
      "yz1t}r21xu1}t|11r}}11w",
      "v1vuvr2\n",
      "209\n",
      "the decrypted message for seed 209 is Pmttw(m~mzwvm4(|pq{(q{(u(xzm{mv|i|qwv(nwz(|pm(nqvit(xzwrmk|(nwz(XPa[(;886(Q|(pi{(jmmv(i(ozmi|(|qum(qv(|pq{(kti{{)(owwl(t}ks(wv(itt(w}z(n}|}zm(mvlmi~wz{)\n",
      "210\n",
      "the decrypted message for seed 210 is Uryy|-rr|{r9-uv-v-z-}rr{nv|{-s|-ur-sv{ny-}|wrp-s|-]Uf`-@==;-V-un-orr{-n-trn-vzr-v{-uv-pyn.-t||q-ypx-|{-nyy-|-sr-r{qrn|.\n",
      "211\n",
      "the decrypted message for seed 211 is Olssv'l}lyvul3'{opz'pz't'wylzlu{h{pvu'mvy'{ol'mpuhs'wyvqlj{'mvy'WO`Z':775'P{'ohz'illu'h'nylh{'{ptl'pu'{opz'jshzz('nvvk's|jr'vu'hss'v|y'm|{|yl'luklh}vyz(\n",
      "212\n",
      "the decrypted message for seed 212 is Uryy|-rr|{r9-uv-v-z-}rr{nv|{-s|-ur-sv{ny-}|wrp-s|-]Uf`-@==;-V-un-orr{-n-trn-vzr-v{-uv-pyn.-t||q-ypx-|{-nyy-|-sr-r{qrn|.\n",
      "213\n",
      "the decrypted message for seed 213 is ]z5zzzA5}~5~55",
      "zzv~5{5}z5{~v5",
      "zx5{5e]nh5HEEC5^5}v5wzz5v5|zv5~z5~5}~5xv65|y5x55v55{z5zyzv6\n",
      "214\n",
      "the decrypted message for seed 214 is Qnuux)nn{xwn5)}qr|)r|)v)y{n|nw}j}rxw)ox{)}qn)orwju)y{xsnl})ox{)YQb\\)<997)R})qj|)knnw)j)p{nj})}rvn)rw)}qr|)luj||*)pxxm)u~lt)xw)juu)x~{)o~}~{n)nwmnjx{|*\n",
      "215\n",
      "the decrypted message for seed 215 is `}8}}}D888",
      "8}}y8~8}8~y8}{8~8h`qk8KHHF8a8y8z}}8y8}y8",
      "}888{y98|8{88y88~}8}|}y9\n",
      "216\n",
      "the decrypted message for seed 216 is [x3xx",
      "x?3{|3|33",
      "xxt|3y",
      "3{x3y|t3",
      "}xv3y",
      "3c[lf3FCCA3\\3{t3uxx3t3z",
      "xt3|x3|3{|3vt43zw3v~33t3",
      "3y",
      "x3xwxt",
      "4\n",
      "217\n",
      "the decrypted message for seed 217 is Xu||0uu~u<0xy0y0}0uu~qy~0v0xu0vy~q|0zus0v0`Xic0C@@>0Y0xq0ruu~0q0wuq0y}u0y~0xy0s|q10wt0|",
      "s{0~0q||0",
      "0v",
      "",
      "u0u~tuq1\n",
      "218\n",
      "the decrypted message for seed 218 is Xu||0uu~u<0xy0y0}0uu~qy~0v0xu0vy~q|0zus0v0`Xic0C@@>0Y0xq0ruu~0q0wuq0y}u0y~0xy0s|q10wt0|",
      "s{0~0q||0",
      "0v",
      "",
      "u0u~tuq1\n",
      "219\n",
      "the decrypted message for seed 219 is Khoor#hyhu|rqh/#wklv#lv#p|#suhvhqwdwlrq#iru#wkh#ilqdo#surmhfw#iru#SK\\V#6331#Lw#kdv#ehhq#d#juhdw#wlph#lq#wklv#fodvv$#jrrg#oxfn#rq#doo#|rxu#ixwxuh#hqghdyruv$\n",
      "220\n",
      "the decrypted message for seed 220 is Jgnnq\"gxgt{qpg.\"vjku\"ku\"o{\"rtgugpvcvkqp\"hqt\"vjg\"hkpcn\"rtqlgev\"hqt\"RJ[U\"5220\"Kv\"jcu\"dggp\"c\"itgcv\"vkog\"kp\"vjku\"encuu#\"iqqf\"nwem\"qp\"cnn\"{qwt\"hwvwtg\"gpfgcxqtu#\n",
      "221\n",
      "the decrypted message for seed 221 is Zw~~2www>2z{",
      "2{",
      "22w",
      "ws{2x2zw2x{s~2|wu2x2bZke2EBB@2[2zs",
      "2tww2s2yws2{w2{2z{",
      "2u~s",
      "",
      "32yv2~u}22s~~22xw2wvws",
      "3\n",
      "222\n",
      "the decrypted message for seed 222 is Ifmmp!fwfszpof-!uijt!jt!nz!qsftfoubujpo!gps!uif!gjobm!qspkfdu!gps!QIZT!411/!Ju!ibt!cffo!b!hsfbu!ujnf!jo!uijt!dmbtt\"!hppe!mvdl!po!bmm!zpvs!gvuvsf!foefbwpst\"\n",
      "223\n",
      "the decrypted message for seed 223 is Wt{{~/t",
      "t~}t;/wx/x/|/tt}px~}/u~/wt/ux}p{/~ytr/u~/_Whb/B??=/X/wp/qtt}/p/vtp/x|t/x}/wx/r{p0/v~~s/{rz/~}/p{{/~/ut/t}stp",
      "~0\n",
      "224\n",
      "the decrypted message for seed 224 is _|7||",
      "|C7777||",
      "x",
      "7}7|7}",
      "x7|z7}7g_pj7JGGE7`7x7y||",
      "7x7~|x7|7",
      "77zx87~{7z7",
      "7x77}|7|",
      "{|x8\n",
      "225\n",
      "the decrypted message for seed 225 is Khoor#hyhu|rqh/#wklv#lv#p|#suhvhqwdwlrq#iru#wkh#ilqdo#surmhfw#iru#SK\\V#6331#Lw#kdv#ehhq#d#juhdw#wlph#lq#wklv#fodvv$#jrrg#oxfn#rq#doo#|rxu#ixwxuh#hqghdyruv$\n",
      "226\n",
      "the decrypted message for seed 226 is Rovvy*oo|yxo6*~rs}*s}*w*z|o}ox~k~syx*py|*~ro*psxkv*z|ytom~*py|*ZRc]*=::8*S~*rk}*loox*k*q|ok~*~swo*sx*~rs}*mvk}}+*qyyn*vmu*yx*kvv*y|*p~|o*oxnoky|}+\n",
      "227\n",
      "the decrypted message for seed 227 is Uryy|-rr|{r9-uv-v-z-}rr{nv|{-s|-ur-sv{ny-}|wrp-s|-]Uf`-@==;-V-un-orr{-n-trn-vzr-v{-uv-pyn.-t||q-ypx-|{-nyy-|-sr-r{qrn|.\n",
      "228\n",
      "the decrypted message for seed 228 is Ifmmp!fwfszpof-!uijt!jt!nz!qsftfoubujpo!gps!uif!gjobm!qspkfdu!gps!QIZT!411/!Ju!ibt!cffo!b!hsfbu!ujnf!jo!uijt!dmbtt\"!hppe!mvdl!po!bmm!zpvs!gvuvsf!foefbwpst\"\n",
      "229\n",
      "the decrypted message for seed 229 is Qnuux)nn{xwn5)}qr|)r|)v)y{n|nw}j}rxw)ox{)}qn)orwju)y{xsnl})ox{)YQb\\)<997)R})qj|)knnw)j)p{nj})}rvn)rw)}qr|)luj||*)pxxm)u~lt)xw)juu)x~{)o~}~{n)nwmnjx{|*\n",
      "230\n",
      "the decrypted message for seed 230 is Khoor#hyhu|rqh/#wklv#lv#p|#suhvhqwdwlrq#iru#wkh#ilqdo#surmhfw#iru#SK\\V#6331#Lw#kdv#ehhq#d#juhdw#wlph#lq#wklv#fodvv$#jrrg#oxfn#rq#doo#|rxu#ixwxuh#hqghdyruv$\n",
      "231\n",
      "the decrypted message for seed 231 is a~",
      "",
      "9~~~E9999~~z99~9z",
      "9~|99iarl9LIIG9b9z9{~~9z9~z9~999|",
      "z:9}9",
      "|99z",
      "",
      "99~9~}~z:\n",
      "232\n",
      "the decrypted message for seed 232 is Yv}}1vvv=1",
      "yz1z1~1vv",
      "r",
      "z1w1",
      "yv1wzr}1{vt",
      "1w1aYjd1DAA?1Z",
      "1yr1svv1r1xvr",
      "1",
      "z~v1z1",
      "yz1t}r21xu1}t|11r}}11w",
      "v1vuvr2\n",
      "233\n",
      "the decrypted message for seed 233 is Lipps$iziv}sri0$xlmw$mw$q}$tviwirxexmsr$jsv$xli$jmrep$tvsnigx$jsv$TL]W$7442$Mx$lew$fiir$e$kviex$xmqi$mr$xlmw$gpeww%$kssh$pygo$sr$epp$}syv$jyxyvi$irhiezsvw%\n",
      "234\n",
      "the decrypted message for seed 234 is Wt{{~/t",
      "t~}t;/wx/x/|/tt}px~}/u~/wt/ux}p{/~ytr/u~/_Whb/B??=/X/wp/qtt}/p/vtp/x|t/x}/wx/r{p0/v~~s/{rz/~}/p{{/~/ut/t}stp",
      "~0\n",
      "235\n",
      "the decrypted message for seed 235 is Vszz}.ss}|s:.vw.w.{.~ss|ow}|.t}.vs.tw|oz.~}xsq.t}.^Vga.A>><.W.vo.pss|.o.uso.w{s.w|.vw.qzo/.u}}r.zqy.}|.ozz.}.ts.s|rso}/\n",
      "236\n",
      "the decrypted message for seed 236 is Lipps$iziv}sri0$xlmw$mw$q}$tviwirxexmsr$jsv$xli$jmrep$tvsnigx$jsv$TL]W$7442$Mx$lew$fiir$e$kviex$xmqi$mr$xlmw$gpeww%$kssh$pygo$sr$epp$}syv$jyxyvi$irhiezsvw%\n",
      "237\n",
      "the decrypted message for seed 237 is Nkrru&k|kxutk2&znoy&oy&s&vxkyktzgzout&lux&znk&lotgr&vxupkiz&lux&VN_Y&9664&Oz&ngy&hkkt&g&mxkgz&zosk&ot&znoy&irgyy'&muuj&r{iq&ut&grr&u{x&l{z{xk&ktjkg|uxy'\n",
      "238\n",
      "the decrypted message for seed 238 is Hello everyone, this is my presentation for the final project for PHYS 300. It has been a great time in this class! good luck on all your future endeavors!\n",
      "239\n",
      "the decrypted message for seed 239 is ^{",
      "6{{",
      "{B6~666{{w",
      "6|",
      "6~{6|w6",
      "{y6|",
      "6f^oi6IFFD6_6~w6x{{6w6}{w6{66~6yw76}",
      "",
      "z6y6",
      "6w6",
      "6|{6{z{w",
      "7\n",
      "240\n",
      "the decrypted message for seed 240 is Nkrru&k|kxutk2&znoy&oy&s&vxkyktzgzout&lux&znk&lotgr&vxupkiz&lux&VN_Y&9664&Oz&ngy&hkkt&g&mxkgz&zosk&ot&znoy&irgyy'&muuj&r{iq&ut&grr&u{x&l{z{xk&ktjkg|uxy'\n",
      "241\n",
      "the decrypted message for seed 241 is Khoor#hyhu|rqh/#wklv#lv#p|#suhvhqwdwlrq#iru#wkh#ilqdo#surmhfw#iru#SK\\V#6331#Lw#kdv#ehhq#d#juhdw#wlph#lq#wklv#fodvv$#jrrg#oxfn#rq#doo#|rxu#ixwxuh#hqghdyruv$\n",
      "242\n",
      "the decrypted message for seed 242 is Wt{{~/t",
      "t~}t;/wx/x/|/tt}px~}/u~/wt/ux}p{/~ytr/u~/_Whb/B??=/X/wp/qtt}/p/vtp/x|t/x}/wx/r{p0/v~~s/{rz/~}/p{{/~/ut/t}stp",
      "~0\n",
      "243\n",
      "the decrypted message for seed 243 is Qnuux)nn{xwn5)}qr|)r|)v)y{n|nw}j}rxw)ox{)}qn)orwju)y{xsnl})ox{)YQb\\)<997)R})qj|)knnw)j)p{nj})}rvn)rw)}qr|)luj||*)pxxm)u~lt)xw)juu)x~{)o~}~{n)nwmnjx{|*\n",
      "244\n",
      "the decrypted message for seed 244 is Ifmmp!fwfszpof-!uijt!jt!nz!qsftfoubujpo!gps!uif!gjobm!qspkfdu!gps!QIZT!411/!Ju!ibt!cffo!b!hsfbu!ujnf!jo!uijt!dmbtt\"!hppe!mvdl!po!bmm!zpvs!gvuvsf!foefbwpst\"\n",
      "245\n",
      "the decrypted message for seed 245 is ]z5zzzA5}~5~55",
      "zzv~5{5}z5{~v5",
      "zx5{5e]nh5HEEC5^5}v5wzz5v5|zv5~z5~5}~5xv65|y5x55v55{z5zyzv6\n",
      "246\n",
      "the decrypted message for seed 246 is `}8}}}D888",
      "8}}y8~8}8~y8}{8~8h`qk8KHHF8a8y8z}}8y8}y8",
      "}888{y98|8{88y88~}8}|}y9\n",
      "247\n",
      "the decrypted message for seed 247 is Spwwz+pp}zyp7+st~+t~+x+{}p~pyltzy+qz}+sp+qtylw+{}zupn+qz}+[Sd^+>;;9+T+sl~+mppy+l+r}pl+txp+ty+st~+nwl~~,+rzzo+wnv+zy+lww+z}+q}p+pyoplz}~,\n",
      "248\n",
      "the decrypted message for seed 248 is Gdkkn\u001fdudqxnmd+\u001fsghr\u001fhr\u001flx\u001foqdrdms`shnm\u001fenq\u001fsgd\u001fehm`k\u001foqnidbs\u001fenq\u001fOGXR\u001f2//-\u001fHs\u001fg`r\u001faddm\u001f`\u001ffqd`s\u001fshld\u001fhm\u001fsghr\u001fbk`rr \u001ffnnc\u001fktbj\u001fnm\u001f`kk\u001fxntq\u001fetstqd\u001fdmcd`unqr \n",
      "249\n",
      "the decrypted message for seed 249 is Yv}}1vvv=1",
      "yz1z1~1vv",
      "r",
      "z1w1",
      "yv1wzr}1{vt",
      "1w1aYjd1DAA?1Z",
      "1yr1svv1r1xvr",
      "1",
      "z~v1z1",
      "yz1t}r21xu1}t|11r}}11w",
      "v1vuvr2\n",
      "250\n",
      "the decrypted message for seed 250 is Uryy|-rr|{r9-uv-v-z-}rr{nv|{-s|-ur-sv{ny-}|wrp-s|-]Uf`-@==;-V-un-orr{-n-trn-vzr-v{-uv-pyn.-t||q-ypx-|{-nyy-|-sr-r{qrn|.\n",
      "251\n",
      "the decrypted message for seed 251 is Spwwz+pp}zyp7+st~+t~+x+{}p~pyltzy+qz}+sp+qtylw+{}zupn+qz}+[Sd^+>;;9+T+sl~+mppy+l+r}pl+txp+ty+st~+nwl~~,+rzzo+wnv+zy+lww+z}+q}p+pyoplz}~,\n",
      "252\n",
      "the decrypted message for seed 252 is Ifmmp!fwfszpof-!uijt!jt!nz!qsftfoubujpo!gps!uif!gjobm!qspkfdu!gps!QIZT!411/!Ju!ibt!cffo!b!hsfbu!ujnf!jo!uijt!dmbtt\"!hppe!mvdl!po!bmm!zpvs!gvuvsf!foefbwpst\"\n",
      "253\n",
      "the decrypted message for seed 253 is Pmttw(m~mzwvm4(|pq{(q{(u(xzm{mv|i|qwv(nwz(|pm(nqvit(xzwrmk|(nwz(XPa[(;886(Q|(pi{(jmmv(i(ozmi|(|qum(qv(|pq{(kti{{)(owwl(t}ks(wv(itt(w}z(n}|}zm(mvlmi~wz{)\n",
      "254\n",
      "the decrypted message for seed 254 is Vszz}.ss}|s:.vw.w.{.~ss|ow}|.t}.vs.tw|oz.~}xsq.t}.^Vga.A>><.W.vo.pss|.o.uso.w{s.w|.vw.qzo/.u}}r.zqy.}|.ozz.}.ts.s|rso}/\n",
      "255\n",
      "the decrypted message for seed 255 is `}8}}}D888",
      "8}}y8~8}8~y8}{8~8h`qk8KHHF8a8y8z}}8y8}y8",
      "}888{y98|8{88y88~}8}|}y9\n",
      "256\n",
      "the decrypted message for seed 256 is Rovvy*oo|yxo6*~rs}*s}*w*z|o}ox~k~syx*py|*~ro*psxkv*z|ytom~*py|*ZRc]*=::8*S~*rk}*loox*k*q|ok~*~swo*sx*~rs}*mvk}}+*qyyn*vmu*yx*kvv*y|*p~|o*oxnoky|}+\n",
      "257\n",
      "the decrypted message for seed 257 is Wt{{~/t",
      "t~}t;/wx/x/|/tt}px~}/u~/wt/ux}p{/~ytr/u~/_Whb/B??=/X/wp/qtt}/p/vtp/x|t/x}/wx/r{p0/v~~s/{rz/~}/p{{/~/ut/t}stp",
      "~0\n",
      "258\n",
      "the decrypted message for seed 258 is Mjqqt%j{jw~tsj1%ymnx%nx%r~%uwjxjsyfynts%ktw%ymj%knsfq%uwtojhy%ktw%UM^X%8553%Ny%mfx%gjjs%f%lwjfy%ynrj%ns%ymnx%hqfxx&%ltti%qzhp%ts%fqq%~tzw%kzyzwj%jsijf{twx&\n",
      "259\n",
      "the decrypted message for seed 259 is `}8}}}D888",
      "8}}y8~8}8~y8}{8~8h`qk8KHHF8a8y8z}}8y8}y8",
      "}888{y98|8{88y88~}8}|}y9\n",
      "260\n",
      "the decrypted message for seed 260 is [x3xx",
      "x?3{|3|33",
      "xxt|3y",
      "3{x3y|t3",
      "}xv3y",
      "3c[lf3FCCA3\\3{t3uxx3t3z",
      "xt3|x3|3{|3vt43zw3v~33t3",
      "3y",
      "x3xwxt",
      "4\n",
      "261\n",
      "the decrypted message for seed 261 is Tqxx{,qq~",
      "{zq8,tu,u,y",
      ",|~qqzmu{z,r{~,tq,ruzmx,|~{vqo,r{~,\\Te_,?<<:,U,tm,nqqz,m,s~qm,uyq,uz,tu,oxm-,s{{p,xow,{z,mxx,",
      "{~,r~q,qzpqm{~-\n",
      "262\n",
      "the decrypted message for seed 262 is Wt{{~/t",
      "t~}t;/wx/x/|/tt}px~}/u~/wt/ux}p{/~ytr/u~/_Whb/B??=/X/wp/qtt}/p/vtp/x|t/x}/wx/r{p0/v~~s/{rz/~}/p{{/~/ut/t}stp",
      "~0\n",
      "263\n",
      "the decrypted message for seed 263 is Jgnnq\"gxgt{qpg.\"vjku\"ku\"o{\"rtgugpvcvkqp\"hqt\"vjg\"hkpcn\"rtqlgev\"hqt\"RJ[U\"5220\"Kv\"jcu\"dggp\"c\"itgcv\"vkog\"kp\"vjku\"encuu#\"iqqf\"nwem\"qp\"cnn\"{qwt\"hwvwtg\"gpfgcxqtu#\n",
      "264\n",
      "the decrypted message for seed 264 is Nkrru&k|kxutk2&znoy&oy&s&vxkyktzgzout&lux&znk&lotgr&vxupkiz&lux&VN_Y&9664&Oz&ngy&hkkt&g&mxkgz&zosk&ot&znoy&irgyy'&muuj&r{iq&ut&grr&u{x&l{z{xk&ktjkg|uxy'\n",
      "265\n",
      "the decrypted message for seed 265 is Hello everyone, this is my presentation for the final project for PHYS 300. It has been a great time in this class! good luck on all your future endeavors!\n",
      "266\n",
      "the decrypted message for seed 266 is _|7||",
      "|C7777||",
      "x",
      "7}7|7}",
      "x7|z7}7g_pj7JGGE7`7x7y||",
      "7x7~|x7|7",
      "77zx87~{7z7",
      "7x77}|7|",
      "{|x8\n",
      "267\n",
      "the decrypted message for seed 267 is [x3xx",
      "x?3{|3|33",
      "xxt|3y",
      "3{x3y|t3",
      "}xv3y",
      "3c[lf3FCCA3\\3{t3uxx3t3z",
      "xt3|x3|3{|3vt43zw3v~33t3",
      "3y",
      "x3xwxt",
      "4\n",
      "268\n",
      "the decrypted message for seed 268 is Ifmmp!fwfszpof-!uijt!jt!nz!qsftfoubujpo!gps!uif!gjobm!qspkfdu!gps!QIZT!411/!Ju!ibt!cffo!b!hsfbu!ujnf!jo!uijt!dmbtt\"!hppe!mvdl!po!bmm!zpvs!gvuvsf!foefbwpst\"\n",
      "269\n",
      "the decrypted message for seed 269 is `}8}}}D888",
      "8}}y8~8}8~y8}{8~8h`qk8KHHF8a8y8z}}8y8}y8",
      "}888{y98|8{88y88~}8}|}y9\n",
      "270\n",
      "the decrypted message for seed 270 is \\y4yyy@4|}4}44yyu}4z4|y4z}u4~yw4z4d\\mg4GDDB4]4|u4vyy4u4{yu4}y4}4|}4wu54{x4w44u44zy4yxyu5\n",
      "271\n",
      "the decrypted message for seed 271 is Rovvy*oo|yxo6*~rs}*s}*w*z|o}ox~k~syx*py|*~ro*psxkv*z|ytom~*py|*ZRc]*=::8*S~*rk}*loox*k*q|ok~*~swo*sx*~rs}*mvk}}+*qyyn*vmu*yx*kvv*y|*p~|o*oxnoky|}+\n",
      "272\n",
      "the decrypted message for seed 272 is Rovvy*oo|yxo6*~rs}*s}*w*z|o}ox~k~syx*py|*~ro*psxkv*z|ytom~*py|*ZRc]*=::8*S~*rk}*loox*k*q|ok~*~swo*sx*~rs}*mvk}}+*qyyn*vmu*yx*kvv*y|*p~|o*oxnoky|}+\n",
      "273\n",
      "the decrypted message for seed 273 is [x3xx",
      "x?3{|3|33",
      "xxt|3y",
      "3{x3y|t3",
      "}xv3y",
      "3c[lf3FCCA3\\3{t3uxx3t3z",
      "xt3|x3|3{|3vt43zw3v~33t3",
      "3y",
      "x3xwxt",
      "4\n",
      "274\n",
      "the decrypted message for seed 274 is ]z5zzzA5}~5~55",
      "zzv~5{5}z5{~v5",
      "zx5{5e]nh5HEEC5^5}v5wzz5v5|zv5~z5~5}~5xv65|y5x55v55{z5zyzv6\n",
      "275\n",
      "the decrypted message for seed 275 is Ifmmp!fwfszpof-!uijt!jt!nz!qsftfoubujpo!gps!uif!gjobm!qspkfdu!gps!QIZT!411/!Ju!ibt!cffo!b!hsfbu!ujnf!jo!uijt!dmbtt\"!hppe!mvdl!po!bmm!zpvs!gvuvsf!foefbwpst\"\n",
      "276\n",
      "the decrypted message for seed 276 is Vszz}.ss}|s:.vw.w.{.~ss|ow}|.t}.vs.tw|oz.~}xsq.t}.^Vga.A>><.W.vo.pss|.o.uso.w{s.w|.vw.qzo/.u}}r.zqy.}|.ozz.}.ts.s|rso}/\n",
      "277\n",
      "the decrypted message for seed 277 is _|7||",
      "|C7777||",
      "x",
      "7}7|7}",
      "x7|z7}7g_pj7JGGE7`7x7y||",
      "7x7~|x7|7",
      "77zx87~{7z7",
      "7x77}|7|",
      "{|x8\n",
      "278\n",
      "the decrypted message for seed 278 is Xu||0uu~u<0xy0y0}0uu~qy~0v0xu0vy~q|0zus0v0`Xic0C@@>0Y0xq0ruu~0q0wuq0y}u0y~0xy0s|q10wt0|",
      "s{0~0q||0",
      "0v",
      "",
      "u0u~tuq1\n",
      "279\n",
      "the decrypted message for seed 279 is Tqxx{,qq~",
      "{zq8,tu,u,y",
      ",|~qqzmu{z,r{~,tq,ruzmx,|~{vqo,r{~,\\Te_,?<<:,U,tm,nqqz,m,s~qm,uyq,uz,tu,oxm-,s{{p,xow,{z,mxx,",
      "{~,r~q,qzpqm{~-\n",
      "280\n",
      "the decrypted message for seed 280 is Xu||0uu~u<0xy0y0}0uu~qy~0v0xu0vy~q|0zus0v0`Xic0C@@>0Y0xq0ruu~0q0wuq0y}u0y~0xy0s|q10wt0|",
      "s{0~0q||0",
      "0v",
      "",
      "u0u~tuq1\n",
      "281\n",
      "the decrypted message for seed 281 is a~",
      "",
      "9~~~E9999~~z99~9z",
      "9~|99iarl9LIIG9b9z9{~~9z9~z9~999|",
      "z:9}9",
      "|99z",
      "",
      "99~9~}~z:\n",
      "282\n",
      "the decrypted message for seed 282 is Lipps$iziv}sri0$xlmw$mw$q}$tviwirxexmsr$jsv$xli$jmrep$tvsnigx$jsv$TL]W$7442$Mx$lew$fiir$e$kviex$xmqi$mr$xlmw$gpeww%$kssh$pygo$sr$epp$}syv$jyxyvi$irhiezsvw%\n",
      "283\n",
      "the decrypted message for seed 283 is Jgnnq\"gxgt{qpg.\"vjku\"ku\"o{\"rtgugpvcvkqp\"hqt\"vjg\"hkpcn\"rtqlgev\"hqt\"RJ[U\"5220\"Kv\"jcu\"dggp\"c\"itgcv\"vkog\"kp\"vjku\"encuu#\"iqqf\"nwem\"qp\"cnn\"{qwt\"hwvwtg\"gpfgcxqtu#\n",
      "284\n",
      "the decrypted message for seed 284 is `}8}}}D888",
      "8}}y8~8}8~y8}{8~8h`qk8KHHF8a8y8z}}8y8}y8",
      "}888{y98|8{88y88~}8}|}y9\n",
      "285\n",
      "the decrypted message for seed 285 is Olssv'l}lyvul3'{opz'pz't'wylzlu{h{pvu'mvy'{ol'mpuhs'wyvqlj{'mvy'WO`Z':775'P{'ohz'illu'h'nylh{'{ptl'pu'{opz'jshzz('nvvk's|jr'vu'hss'v|y'm|{|yl'luklh}vyz(\n",
      "286\n",
      "the decrypted message for seed 286 is Rovvy*oo|yxo6*~rs}*s}*w*z|o}ox~k~syx*py|*~ro*psxkv*z|ytom~*py|*ZRc]*=::8*S~*rk}*loox*k*q|ok~*~swo*sx*~rs}*mvk}}+*qyyn*vmu*yx*kvv*y|*p~|o*oxnoky|}+\n",
      "287\n",
      "the decrypted message for seed 287 is Pmttw(m~mzwvm4(|pq{(q{(u(xzm{mv|i|qwv(nwz(|pm(nqvit(xzwrmk|(nwz(XPa[(;886(Q|(pi{(jmmv(i(ozmi|(|qum(qv(|pq{(kti{{)(owwl(t}ks(wv(itt(w}z(n}|}zm(mvlmi~wz{)\n",
      "288\n",
      "the decrypted message for seed 288 is Xu||0uu~u<0xy0y0}0uu~qy~0v0xu0vy~q|0zus0v0`Xic0C@@>0Y0xq0ruu~0q0wuq0y}u0y~0xy0s|q10wt0|",
      "s{0~0q||0",
      "0v",
      "",
      "u0u~tuq1\n",
      "289\n",
      "the decrypted message for seed 289 is Ifmmp!fwfszpof-!uijt!jt!nz!qsftfoubujpo!gps!uif!gjobm!qspkfdu!gps!QIZT!411/!Ju!ibt!cffo!b!hsfbu!ujnf!jo!uijt!dmbtt\"!hppe!mvdl!po!bmm!zpvs!gvuvsf!foefbwpst\"\n",
      "290\n",
      "the decrypted message for seed 290 is Pmttw(m~mzwvm4(|pq{(q{(u(xzm{mv|i|qwv(nwz(|pm(nqvit(xzwrmk|(nwz(XPa[(;886(Q|(pi{(jmmv(i(ozmi|(|qum(qv(|pq{(kti{{)(owwl(t}ks(wv(itt(w}z(n}|}zm(mvlmi~wz{)\n",
      "291\n",
      "the decrypted message for seed 291 is Lipps$iziv}sri0$xlmw$mw$q}$tviwirxexmsr$jsv$xli$jmrep$tvsnigx$jsv$TL]W$7442$Mx$lew$fiir$e$kviex$xmqi$mr$xlmw$gpeww%$kssh$pygo$sr$epp$}syv$jyxyvi$irhiezsvw%\n",
      "292\n",
      "the decrypted message for seed 292 is Ifmmp!fwfszpof-!uijt!jt!nz!qsftfoubujpo!gps!uif!gjobm!qspkfdu!gps!QIZT!411/!Ju!ibt!cffo!b!hsfbu!ujnf!jo!uijt!dmbtt\"!hppe!mvdl!po!bmm!zpvs!gvuvsf!foefbwpst\"\n",
      "293\n",
      "the decrypted message for seed 293 is Rovvy*oo|yxo6*~rs}*s}*w*z|o}ox~k~syx*py|*~ro*psxkv*z|ytom~*py|*ZRc]*=::8*S~*rk}*loox*k*q|ok~*~swo*sx*~rs}*mvk}}+*qyyn*vmu*yx*kvv*y|*p~|o*oxnoky|}+\n",
      "294\n",
      "the decrypted message for seed 294 is \\y4yyy@4|}4}44yyu}4z4|y4z}u4~yw4z4d\\mg4GDDB4]4|u4vyy4u4{yu4}y4}4|}4wu54{x4w44u44zy4yxyu5\n",
      "295\n",
      "the decrypted message for seed 295 is Gdkkn\u001fdudqxnmd+\u001fsghr\u001fhr\u001flx\u001foqdrdms`shnm\u001fenq\u001fsgd\u001fehm`k\u001foqnidbs\u001fenq\u001fOGXR\u001f2//-\u001fHs\u001fg`r\u001faddm\u001f`\u001ffqd`s\u001fshld\u001fhm\u001fsghr\u001fbk`rr \u001ffnnc\u001fktbj\u001fnm\u001f`kk\u001fxntq\u001fetstqd\u001fdmcd`unqr \n",
      "296\n",
      "the decrypted message for seed 296 is _|7||",
      "|C7777||",
      "x",
      "7}7|7}",
      "x7|z7}7g_pj7JGGE7`7x7y||",
      "7x7~|x7|7",
      "77zx87~{7z7",
      "7x77}|7|",
      "{|x8\n",
      "297\n",
      "the decrypted message for seed 297 is Qnuux)nn{xwn5)}qr|)r|)v)y{n|nw}j}rxw)ox{)}qn)orwju)y{xsnl})ox{)YQb\\)<997)R})qj|)knnw)j)p{nj})}rvn)rw)}qr|)luj||*)pxxm)u~lt)xw)juu)x~{)o~}~{n)nwmnjx{|*\n",
      "298\n",
      "the decrypted message for seed 298 is [x3xx",
      "x?3{|3|33",
      "xxt|3y",
      "3{x3y|t3",
      "}xv3y",
      "3c[lf3FCCA3\\3{t3uxx3t3z",
      "xt3|x3|3{|3vt43zw3v~33t3",
      "3y",
      "x3xwxt",
      "4\n",
      "299\n",
      "the decrypted message for seed 299 is Vszz}.ss}|s:.vw.w.{.~ss|ow}|.t}.vs.tw|oz.~}xsq.t}.^Vga.A>><.W.vo.pss|.o.uso.w{s.w|.vw.qzo/.u}}r.zqy.}|.ozz.}.ts.s|rso}/\n",
      "300\n",
      "the decrypted message for seed 300 is Nkrru&k|kxutk2&znoy&oy&s&vxkyktzgzout&lux&znk&lotgr&vxupkiz&lux&VN_Y&9664&Oz&ngy&hkkt&g&mxkgz&zosk&ot&znoy&irgyy'&muuj&r{iq&ut&grr&u{x&l{z{xk&ktjkg|uxy'\n",
      "301\n",
      "the decrypted message for seed 301 is Uryy|-rr|{r9-uv-v-z-}rr{nv|{-s|-ur-sv{ny-}|wrp-s|-]Uf`-@==;-V-un-orr{-n-trn-vzr-v{-uv-pyn.-t||q-ypx-|{-nyy-|-sr-r{qrn|.\n",
      "302\n",
      "the decrypted message for seed 302 is Pmttw(m~mzwvm4(|pq{(q{(u(xzm{mv|i|qwv(nwz(|pm(nqvit(xzwrmk|(nwz(XPa[(;886(Q|(pi{(jmmv(i(ozmi|(|qum(qv(|pq{(kti{{)(owwl(t}ks(wv(itt(w}z(n}|}zm(mvlmi~wz{)\n",
      "303\n",
      "the decrypted message for seed 303 is `}8}}}D888",
      "8}}y8~8}8~y8}{8~8h`qk8KHHF8a8y8z}}8y8}y8",
      "}888{y98|8{88y88~}8}|}y9\n",
      "304\n",
      "the decrypted message for seed 304 is ]z5zzzA5}~5~55",
      "zzv~5{5}z5{~v5",
      "zx5{5e]nh5HEEC5^5}v5wzz5v5|zv5~z5~5}~5xv65|y5x55v55{z5zyzv6\n",
      "305\n",
      "the decrypted message for seed 305 is \\y4yyy@4|}4}44yyu}4z4|y4z}u4~yw4z4d\\mg4GDDB4]4|u4vyy4u4{yu4}y4}4|}4wu54{x4w44u44zy4yxyu5\n",
      "306\n",
      "the decrypted message for seed 306 is Tqxx{,qq~",
      "{zq8,tu,u,y",
      ",|~qqzmu{z,r{~,tq,ruzmx,|~{vqo,r{~,\\Te_,?<<:,U,tm,nqqz,m,s~qm,uyq,uz,tu,oxm-,s{{p,xow,{z,mxx,",
      "{~,r~q,qzpqm{~-\n",
      "307\n",
      "the decrypted message for seed 307 is Mjqqt%j{jw~tsj1%ymnx%nx%r~%uwjxjsyfynts%ktw%ymj%knsfq%uwtojhy%ktw%UM^X%8553%Ny%mfx%gjjs%f%lwjfy%ynrj%ns%ymnx%hqfxx&%ltti%qzhp%ts%fqq%~tzw%kzyzwj%jsijf{twx&\n",
      "308\n",
      "the decrypted message for seed 308 is \\y4yyy@4|}4}44yyu}4z4|y4z}u4~yw4z4d\\mg4GDDB4]4|u4vyy4u4{yu4}y4}4|}4wu54{x4w44u44zy4yxyu5\n",
      "309\n",
      "the decrypted message for seed 309 is _|7||",
      "|C7777||",
      "x",
      "7}7|7}",
      "x7|z7}7g_pj7JGGE7`7x7y||",
      "7x7~|x7|7",
      "77zx87~{7z7",
      "7x77}|7|",
      "{|x8\n",
      "310\n",
      "the decrypted message for seed 310 is Pmttw(m~mzwvm4(|pq{(q{(u(xzm{mv|i|qwv(nwz(|pm(nqvit(xzwrmk|(nwz(XPa[(;886(Q|(pi{(jmmv(i(ozmi|(|qum(qv(|pq{(kti{{)(owwl(t}ks(wv(itt(w}z(n}|}zm(mvlmi~wz{)\n",
      "311\n",
      "the decrypted message for seed 311 is Gdkkn\u001fdudqxnmd+\u001fsghr\u001fhr\u001flx\u001foqdrdms`shnm\u001fenq\u001fsgd\u001fehm`k\u001foqnidbs\u001fenq\u001fOGXR\u001f2//-\u001fHs\u001fg`r\u001faddm\u001f`\u001ffqd`s\u001fshld\u001fhm\u001fsghr\u001fbk`rr \u001ffnnc\u001fktbj\u001fnm\u001f`kk\u001fxntq\u001fetstqd\u001fdmcd`unqr \n",
      "312\n",
      "the decrypted message for seed 312 is Mjqqt%j{jw~tsj1%ymnx%nx%r~%uwjxjsyfynts%ktw%ymj%knsfq%uwtojhy%ktw%UM^X%8553%Ny%mfx%gjjs%f%lwjfy%ynrj%ns%ymnx%hqfxx&%ltti%qzhp%ts%fqq%~tzw%kzyzwj%jsijf{twx&\n",
      "313\n",
      "the decrypted message for seed 313 is Olssv'l}lyvul3'{opz'pz't'wylzlu{h{pvu'mvy'{ol'mpuhs'wyvqlj{'mvy'WO`Z':775'P{'ohz'illu'h'nylh{'{ptl'pu'{opz'jshzz('nvvk's|jr'vu'hss'v|y'm|{|yl'luklh}vyz(\n",
      "314\n",
      "the decrypted message for seed 314 is [x3xx",
      "x?3{|3|33",
      "xxt|3y",
      "3{x3y|t3",
      "}xv3y",
      "3c[lf3FCCA3\\3{t3uxx3t3z",
      "xt3|x3|3{|3vt43zw3v~33t3",
      "3y",
      "x3xwxt",
      "4\n",
      "315\n",
      "the decrypted message for seed 315 is Tqxx{,qq~",
      "{zq8,tu,u,y",
      ",|~qqzmu{z,r{~,tq,ruzmx,|~{vqo,r{~,\\Te_,?<<:,U,tm,nqqz,m,s~qm,uyq,uz,tu,oxm-,s{{p,xow,{z,mxx,",
      "{~,r~q,qzpqm{~-\n",
      "316\n",
      "the decrypted message for seed 316 is a~",
      "",
      "9~~~E9999~~z99~9z",
      "9~|99iarl9LIIG9b9z9{~~9z9~z9~999|",
      "z:9}9",
      "|99z",
      "",
      "99~9~}~z:\n",
      "317\n",
      "the decrypted message for seed 317 is Spwwz+pp}zyp7+st~+t~+x+{}p~pyltzy+qz}+sp+qtylw+{}zupn+qz}+[Sd^+>;;9+T+sl~+mppy+l+r}pl+txp+ty+st~+nwl~~,+rzzo+wnv+zy+lww+z}+q}p+pyoplz}~,\n",
      "318\n",
      "the decrypted message for seed 318 is Khoor#hyhu|rqh/#wklv#lv#p|#suhvhqwdwlrq#iru#wkh#ilqdo#surmhfw#iru#SK\\V#6331#Lw#kdv#ehhq#d#juhdw#wlph#lq#wklv#fodvv$#jrrg#oxfn#rq#doo#|rxu#ixwxuh#hqghdyruv$\n",
      "319\n",
      "the decrypted message for seed 319 is \\y4yyy@4|}4}44yyu}4z4|y4z}u4~yw4z4d\\mg4GDDB4]4|u4vyy4u4{yu4}y4}4|}4wu54{x4w44u44zy4yxyu5\n",
      "320\n",
      "the decrypted message for seed 320 is Spwwz+pp}zyp7+st~+t~+x+{}p~pyltzy+qz}+sp+qtylw+{}zupn+qz}+[Sd^+>;;9+T+sl~+mppy+l+r}pl+txp+ty+st~+nwl~~,+rzzo+wnv+zy+lww+z}+q}p+pyoplz}~,\n",
      "321\n",
      "the decrypted message for seed 321 is Yv}}1vvv=1",
      "yz1z1~1vv",
      "r",
      "z1w1",
      "yv1wzr}1{vt",
      "1w1aYjd1DAA?1Z",
      "1yr1svv1r1xvr",
      "1",
      "z~v1z1",
      "yz1t}r21xu1}t|11r}}11w",
      "v1vuvr2\n",
      "322\n",
      "the decrypted message for seed 322 is Khoor#hyhu|rqh/#wklv#lv#p|#suhvhqwdwlrq#iru#wkh#ilqdo#surmhfw#iru#SK\\V#6331#Lw#kdv#ehhq#d#juhdw#wlph#lq#wklv#fodvv$#jrrg#oxfn#rq#doo#|rxu#ixwxuh#hqghdyruv$\n",
      "323\n",
      "the decrypted message for seed 323 is Jgnnq\"gxgt{qpg.\"vjku\"ku\"o{\"rtgugpvcvkqp\"hqt\"vjg\"hkpcn\"rtqlgev\"hqt\"RJ[U\"5220\"Kv\"jcu\"dggp\"c\"itgcv\"vkog\"kp\"vjku\"encuu#\"iqqf\"nwem\"qp\"cnn\"{qwt\"hwvwtg\"gpfgcxqtu#\n",
      "324\n",
      "the decrypted message for seed 324 is Olssv'l}lyvul3'{opz'pz't'wylzlu{h{pvu'mvy'{ol'mpuhs'wyvqlj{'mvy'WO`Z':775'P{'ohz'illu'h'nylh{'{ptl'pu'{opz'jshzz('nvvk's|jr'vu'hss'v|y'm|{|yl'luklh}vyz(\n",
      "325\n",
      "the decrypted message for seed 325 is Pmttw(m~mzwvm4(|pq{(q{(u(xzm{mv|i|qwv(nwz(|pm(nqvit(xzwrmk|(nwz(XPa[(;886(Q|(pi{(jmmv(i(ozmi|(|qum(qv(|pq{(kti{{)(owwl(t}ks(wv(itt(w}z(n}|}zm(mvlmi~wz{)\n",
      "326\n",
      "the decrypted message for seed 326 is ^{",
      "6{{",
      "{B6~666{{w",
      "6|",
      "6~{6|w6",
      "{y6|",
      "6f^oi6IFFD6_6~w6x{{6w6}{w6{66~6yw76}",
      "",
      "z6y6",
      "6w6",
      "6|{6{z{w",
      "7\n",
      "327\n",
      "the decrypted message for seed 327 is `}8}}}D888",
      "8}}y8~8}8~y8}{8~8h`qk8KHHF8a8y8z}}8y8}y8",
      "}888{y98|8{88y88~}8}|}y9\n",
      "328\n",
      "the decrypted message for seed 328 is Mjqqt%j{jw~tsj1%ymnx%nx%r~%uwjxjsyfynts%ktw%ymj%knsfq%uwtojhy%ktw%UM^X%8553%Ny%mfx%gjjs%f%lwjfy%ynrj%ns%ymnx%hqfxx&%ltti%qzhp%ts%fqq%~tzw%kzyzwj%jsijf{twx&\n",
      "329\n",
      "the decrypted message for seed 329 is Gdkkn\u001fdudqxnmd+\u001fsghr\u001fhr\u001flx\u001foqdrdms`shnm\u001fenq\u001fsgd\u001fehm`k\u001foqnidbs\u001fenq\u001fOGXR\u001f2//-\u001fHs\u001fg`r\u001faddm\u001f`\u001ffqd`s\u001fshld\u001fhm\u001fsghr\u001fbk`rr \u001ffnnc\u001fktbj\u001fnm\u001f`kk\u001fxntq\u001fetstqd\u001fdmcd`unqr \n",
      "330\n",
      "the decrypted message for seed 330 is Nkrru&k|kxutk2&znoy&oy&s&vxkyktzgzout&lux&znk&lotgr&vxupkiz&lux&VN_Y&9664&Oz&ngy&hkkt&g&mxkgz&zosk&ot&znoy&irgyy'&muuj&r{iq&ut&grr&u{x&l{z{xk&ktjkg|uxy'\n",
      "331\n",
      "the decrypted message for seed 331 is Gdkkn\u001fdudqxnmd+\u001fsghr\u001fhr\u001flx\u001foqdrdms`shnm\u001fenq\u001fsgd\u001fehm`k\u001foqnidbs\u001fenq\u001fOGXR\u001f2//-\u001fHs\u001fg`r\u001faddm\u001f`\u001ffqd`s\u001fshld\u001fhm\u001fsghr\u001fbk`rr \u001ffnnc\u001fktbj\u001fnm\u001f`kk\u001fxntq\u001fetstqd\u001fdmcd`unqr \n",
      "332\n",
      "the decrypted message for seed 332 is Zw~~2www>2z{",
      "2{",
      "22w",
      "ws{2x2zw2x{s~2|wu2x2bZke2EBB@2[2zs",
      "2tww2s2yws2{w2{2z{",
      "2u~s",
      "",
      "32yv2~u}22s~~22xw2wvws",
      "3\n",
      "333\n",
      "the decrypted message for seed 333 is Pmttw(m~mzwvm4(|pq{(q{(u(xzm{mv|i|qwv(nwz(|pm(nqvit(xzwrmk|(nwz(XPa[(;886(Q|(pi{(jmmv(i(ozmi|(|qum(qv(|pq{(kti{{)(owwl(t}ks(wv(itt(w}z(n}|}zm(mvlmi~wz{)\n",
      "334\n",
      "the decrypted message for seed 334 is Zw~~2www>2z{",
      "2{",
      "22w",
      "ws{2x2zw2x{s~2|wu2x2bZke2EBB@2[2zs",
      "2tww2s2yws2{w2{2z{",
      "2u~s",
      "",
      "32yv2~u}22s~~22xw2wvws",
      "3\n",
      "335\n",
      "the decrypted message for seed 335 is ]z5zzzA5}~5~55",
      "zzv~5{5}z5{~v5",
      "zx5{5e]nh5HEEC5^5}v5wzz5v5|zv5~z5~5}~5xv65|y5x55v55{z5zyzv6\n",
      "336\n",
      "the decrypted message for seed 336 is a~",
      "",
      "9~~~E9999~~z99~9z",
      "9~|99iarl9LIIG9b9z9{~~9z9~z9~999|",
      "z:9}9",
      "|99z",
      "",
      "99~9~}~z:\n",
      "337\n",
      "the decrypted message for seed 337 is [x3xx",
      "x?3{|3|33",
      "xxt|3y",
      "3{x3y|t3",
      "}xv3y",
      "3c[lf3FCCA3\\3{t3uxx3t3z",
      "xt3|x3|3{|3vt43zw3v~33t3",
      "3y",
      "x3xwxt",
      "4\n",
      "338\n",
      "the decrypted message for seed 338 is ^{",
      "6{{",
      "{B6~666{{w",
      "6|",
      "6~{6|w6",
      "{y6|",
      "6f^oi6IFFD6_6~w6x{{6w6}{w6{66~6yw76}",
      "",
      "z6y6",
      "6w6",
      "6|{6{z{w",
      "7\n",
      "339\n",
      "the decrypted message for seed 339 is ]z5zzzA5}~5~55",
      "zzv~5{5}z5{~v5",
      "zx5{5e]nh5HEEC5^5}v5wzz5v5|zv5~z5~5}~5xv65|y5x55v55{z5zyzv6\n",
      "340\n",
      "the decrypted message for seed 340 is Uryy|-rr|{r9-uv-v-z-}rr{nv|{-s|-ur-sv{ny-}|wrp-s|-]Uf`-@==;-V-un-orr{-n-trn-vzr-v{-uv-pyn.-t||q-ypx-|{-nyy-|-sr-r{qrn|.\n",
      "341\n",
      "the decrypted message for seed 341 is Olssv'l}lyvul3'{opz'pz't'wylzlu{h{pvu'mvy'{ol'mpuhs'wyvqlj{'mvy'WO`Z':775'P{'ohz'illu'h'nylh{'{ptl'pu'{opz'jshzz('nvvk's|jr'vu'hss'v|y'm|{|yl'luklh}vyz(\n",
      "342\n",
      "the decrypted message for seed 342 is ^{",
      "6{{",
      "{B6~666{{w",
      "6|",
      "6~{6|w6",
      "{y6|",
      "6f^oi6IFFD6_6~w6x{{6w6}{w6{66~6yw76}",
      "",
      "z6y6",
      "6w6",
      "6|{6{z{w",
      "7\n",
      "343\n",
      "the decrypted message for seed 343 is [x3xx",
      "x?3{|3|33",
      "xxt|3y",
      "3{x3y|t3",
      "}xv3y",
      "3c[lf3FCCA3\\3{t3uxx3t3z",
      "xt3|x3|3{|3vt43zw3v~33t3",
      "3y",
      "x3xwxt",
      "4\n",
      "344\n",
      "the decrypted message for seed 344 is Uryy|-rr|{r9-uv-v-z-}rr{nv|{-s|-ur-sv{ny-}|wrp-s|-]Uf`-@==;-V-un-orr{-n-trn-vzr-v{-uv-pyn.-t||q-ypx-|{-nyy-|-sr-r{qrn|.\n",
      "345\n",
      "the decrypted message for seed 345 is Ifmmp!fwfszpof-!uijt!jt!nz!qsftfoubujpo!gps!uif!gjobm!qspkfdu!gps!QIZT!411/!Ju!ibt!cffo!b!hsfbu!ujnf!jo!uijt!dmbtt\"!hppe!mvdl!po!bmm!zpvs!gvuvsf!foefbwpst\"\n",
      "346\n",
      "the decrypted message for seed 346 is Pmttw(m~mzwvm4(|pq{(q{(u(xzm{mv|i|qwv(nwz(|pm(nqvit(xzwrmk|(nwz(XPa[(;886(Q|(pi{(jmmv(i(ozmi|(|qum(qv(|pq{(kti{{)(owwl(t}ks(wv(itt(w}z(n}|}zm(mvlmi~wz{)\n",
      "347\n",
      "the decrypted message for seed 347 is Vszz}.ss}|s:.vw.w.{.~ss|ow}|.t}.vs.tw|oz.~}xsq.t}.^Vga.A>><.W.vo.pss|.o.uso.w{s.w|.vw.qzo/.u}}r.zqy.}|.ozz.}.ts.s|rso}/\n",
      "348\n",
      "the decrypted message for seed 348 is Wt{{~/t",
      "t~}t;/wx/x/|/tt}px~}/u~/wt/ux}p{/~ytr/u~/_Whb/B??=/X/wp/qtt}/p/vtp/x|t/x}/wx/r{p0/v~~s/{rz/~}/p{{/~/ut/t}stp",
      "~0\n",
      "349\n",
      "the decrypted message for seed 349 is Tqxx{,qq~",
      "{zq8,tu,u,y",
      ",|~qqzmu{z,r{~,tq,ruzmx,|~{vqo,r{~,\\Te_,?<<:,U,tm,nqqz,m,s~qm,uyq,uz,tu,oxm-,s{{p,xow,{z,mxx,",
      "{~,r~q,qzpqm{~-\n",
      "350\n",
      "the decrypted message for seed 350 is Vszz}.ss}|s:.vw.w.{.~ss|ow}|.t}.vs.tw|oz.~}xsq.t}.^Vga.A>><.W.vo.pss|.o.uso.w{s.w|.vw.qzo/.u}}r.zqy.}|.ozz.}.ts.s|rso}/\n",
      "351\n",
      "the decrypted message for seed 351 is Nkrru&k|kxutk2&znoy&oy&s&vxkyktzgzout&lux&znk&lotgr&vxupkiz&lux&VN_Y&9664&Oz&ngy&hkkt&g&mxkgz&zosk&ot&znoy&irgyy'&muuj&r{iq&ut&grr&u{x&l{z{xk&ktjkg|uxy'\n",
      "352\n",
      "the decrypted message for seed 352 is Xu||0uu~u<0xy0y0}0uu~qy~0v0xu0vy~q|0zus0v0`Xic0C@@>0Y0xq0ruu~0q0wuq0y}u0y~0xy0s|q10wt0|",
      "s{0~0q||0",
      "0v",
      "",
      "u0u~tuq1\n",
      "353\n",
      "the decrypted message for seed 353 is ^{",
      "6{{",
      "{B6~666{{w",
      "6|",
      "6~{6|w6",
      "{y6|",
      "6f^oi6IFFD6_6~w6x{{6w6}{w6{66~6yw76}",
      "",
      "z6y6",
      "6w6",
      "6|{6{z{w",
      "7\n",
      "354\n",
      "the decrypted message for seed 354 is [x3xx",
      "x?3{|3|33",
      "xxt|3y",
      "3{x3y|t3",
      "}xv3y",
      "3c[lf3FCCA3\\3{t3uxx3t3z",
      "xt3|x3|3{|3vt43zw3v~33t3",
      "3y",
      "x3xwxt",
      "4\n",
      "355\n",
      "the decrypted message for seed 355 is \\y4yyy@4|}4}44yyu}4z4|y4z}u4~yw4z4d\\mg4GDDB4]4|u4vyy4u4{yu4}y4}4|}4wu54{x4w44u44zy4yxyu5\n",
      "356\n",
      "the decrypted message for seed 356 is Mjqqt%j{jw~tsj1%ymnx%nx%r~%uwjxjsyfynts%ktw%ymj%knsfq%uwtojhy%ktw%UM^X%8553%Ny%mfx%gjjs%f%lwjfy%ynrj%ns%ymnx%hqfxx&%ltti%qzhp%ts%fqq%~tzw%kzyzwj%jsijf{twx&\n",
      "357\n",
      "the decrypted message for seed 357 is \\y4yyy@4|}4}44yyu}4z4|y4z}u4~yw4z4d\\mg4GDDB4]4|u4vyy4u4{yu4}y4}4|}4wu54{x4w44u44zy4yxyu5\n",
      "358\n",
      "the decrypted message for seed 358 is Ifmmp!fwfszpof-!uijt!jt!nz!qsftfoubujpo!gps!uif!gjobm!qspkfdu!gps!QIZT!411/!Ju!ibt!cffo!b!hsfbu!ujnf!jo!uijt!dmbtt\"!hppe!mvdl!po!bmm!zpvs!gvuvsf!foefbwpst\"\n",
      "359\n",
      "the decrypted message for seed 359 is _|7||",
      "|C7777||",
      "x",
      "7}7|7}",
      "x7|z7}7g_pj7JGGE7`7x7y||",
      "7x7~|x7|7",
      "77zx87~{7z7",
      "7x77}|7|",
      "{|x8\n",
      "360\n",
      "the decrypted message for seed 360 is Zw~~2www>2z{",
      "2{",
      "22w",
      "ws{2x2zw2x{s~2|wu2x2bZke2EBB@2[2zs",
      "2tww2s2yws2{w2{2z{",
      "2u~s",
      "",
      "32yv2~u}22s~~22xw2wvws",
      "3\n",
      "361\n",
      "the decrypted message for seed 361 is Nkrru&k|kxutk2&znoy&oy&s&vxkyktzgzout&lux&znk&lotgr&vxupkiz&lux&VN_Y&9664&Oz&ngy&hkkt&g&mxkgz&zosk&ot&znoy&irgyy'&muuj&r{iq&ut&grr&u{x&l{z{xk&ktjkg|uxy'\n",
      "362\n",
      "the decrypted message for seed 362 is Ifmmp!fwfszpof-!uijt!jt!nz!qsftfoubujpo!gps!uif!gjobm!qspkfdu!gps!QIZT!411/!Ju!ibt!cffo!b!hsfbu!ujnf!jo!uijt!dmbtt\"!hppe!mvdl!po!bmm!zpvs!gvuvsf!foefbwpst\"\n",
      "363\n",
      "the decrypted message for seed 363 is Ifmmp!fwfszpof-!uijt!jt!nz!qsftfoubujpo!gps!uif!gjobm!qspkfdu!gps!QIZT!411/!Ju!ibt!cffo!b!hsfbu!ujnf!jo!uijt!dmbtt\"!hppe!mvdl!po!bmm!zpvs!gvuvsf!foefbwpst\"\n",
      "364\n",
      "the decrypted message for seed 364 is Hello everyone, this is my presentation for the final project for PHYS 300. It has been a great time in this class! good luck on all your future endeavors!\n",
      "365\n",
      "the decrypted message for seed 365 is Lipps$iziv}sri0$xlmw$mw$q}$tviwirxexmsr$jsv$xli$jmrep$tvsnigx$jsv$TL]W$7442$Mx$lew$fiir$e$kviex$xmqi$mr$xlmw$gpeww%$kssh$pygo$sr$epp$}syv$jyxyvi$irhiezsvw%\n",
      "366\n",
      "the decrypted message for seed 366 is _|7||",
      "|C7777||",
      "x",
      "7}7|7}",
      "x7|z7}7g_pj7JGGE7`7x7y||",
      "7x7~|x7|7",
      "77zx87~{7z7",
      "7x77}|7|",
      "{|x8\n",
      "367\n",
      "the decrypted message for seed 367 is `}8}}}D888",
      "8}}y8~8}8~y8}{8~8h`qk8KHHF8a8y8z}}8y8}y8",
      "}888{y98|8{88y88~}8}|}y9\n",
      "368\n",
      "the decrypted message for seed 368 is Rovvy*oo|yxo6*~rs}*s}*w*z|o}ox~k~syx*py|*~ro*psxkv*z|ytom~*py|*ZRc]*=::8*S~*rk}*loox*k*q|ok~*~swo*sx*~rs}*mvk}}+*qyyn*vmu*yx*kvv*y|*p~|o*oxnoky|}+\n",
      "369\n",
      "the decrypted message for seed 369 is Ifmmp!fwfszpof-!uijt!jt!nz!qsftfoubujpo!gps!uif!gjobm!qspkfdu!gps!QIZT!411/!Ju!ibt!cffo!b!hsfbu!ujnf!jo!uijt!dmbtt\"!hppe!mvdl!po!bmm!zpvs!gvuvsf!foefbwpst\"\n",
      "370\n",
      "the decrypted message for seed 370 is ^{",
      "6{{",
      "{B6~666{{w",
      "6|",
      "6~{6|w6",
      "{y6|",
      "6f^oi6IFFD6_6~w6x{{6w6}{w6{66~6yw76}",
      "",
      "z6y6",
      "6w6",
      "6|{6{z{w",
      "7\n",
      "371\n",
      "the decrypted message for seed 371 is Xu||0uu~u<0xy0y0}0uu~qy~0v0xu0vy~q|0zus0v0`Xic0C@@>0Y0xq0ruu~0q0wuq0y}u0y~0xy0s|q10wt0|",
      "s{0~0q||0",
      "0v",
      "",
      "u0u~tuq1\n",
      "372\n",
      "the decrypted message for seed 372 is ^{",
      "6{{",
      "{B6~666{{w",
      "6|",
      "6~{6|w6",
      "{y6|",
      "6f^oi6IFFD6_6~w6x{{6w6}{w6{66~6yw76}",
      "",
      "z6y6",
      "6w6",
      "6|{6{z{w",
      "7\n",
      "373\n",
      "the decrypted message for seed 373 is `}8}}}D888",
      "8}}y8~8}8~y8}{8~8h`qk8KHHF8a8y8z}}8y8}y8",
      "}888{y98|8{88y88~}8}|}y9\n",
      "374\n",
      "the decrypted message for seed 374 is Wt{{~/t",
      "t~}t;/wx/x/|/tt}px~}/u~/wt/ux}p{/~ytr/u~/_Whb/B??=/X/wp/qtt}/p/vtp/x|t/x}/wx/r{p0/v~~s/{rz/~}/p{{/~/ut/t}stp",
      "~0\n",
      "375\n",
      "the decrypted message for seed 375 is Zw~~2www>2z{",
      "2{",
      "22w",
      "ws{2x2zw2x{s~2|wu2x2bZke2EBB@2[2zs",
      "2tww2s2yws2{w2{2z{",
      "2u~s",
      "",
      "32yv2~u}22s~~22xw2wvws",
      "3\n",
      "376\n",
      "the decrypted message for seed 376 is Lipps$iziv}sri0$xlmw$mw$q}$tviwirxexmsr$jsv$xli$jmrep$tvsnigx$jsv$TL]W$7442$Mx$lew$fiir$e$kviex$xmqi$mr$xlmw$gpeww%$kssh$pygo$sr$epp$}syv$jyxyvi$irhiezsvw%\n",
      "377\n",
      "the decrypted message for seed 377 is Zw~~2www>2z{",
      "2{",
      "22w",
      "ws{2x2zw2x{s~2|wu2x2bZke2EBB@2[2zs",
      "2tww2s2yws2{w2{2z{",
      "2u~s",
      "",
      "32yv2~u}22s~~22xw2wvws",
      "3\n",
      "378\n",
      "the decrypted message for seed 378 is a~",
      "",
      "9~~~E9999~~z99~9z",
      "9~|99iarl9LIIG9b9z9{~~9z9~z9~999|",
      "z:9}9",
      "|99z",
      "",
      "99~9~}~z:\n",
      "379\n",
      "the decrypted message for seed 379 is a~",
      "",
      "9~~~E9999~~z99~9z",
      "9~|99iarl9LIIG9b9z9{~~9z9~z9~999|",
      "z:9}9",
      "|99z",
      "",
      "99~9~}~z:\n",
      "380\n",
      "the decrypted message for seed 380 is ]z5zzzA5}~5~55",
      "zzv~5{5}z5{~v5",
      "zx5{5e]nh5HEEC5^5}v5wzz5v5|zv5~z5~5}~5xv65|y5x55v55{z5zyzv6\n",
      "381\n",
      "the decrypted message for seed 381 is Rovvy*oo|yxo6*~rs}*s}*w*z|o}ox~k~syx*py|*~ro*psxkv*z|ytom~*py|*ZRc]*=::8*S~*rk}*loox*k*q|ok~*~swo*sx*~rs}*mvk}}+*qyyn*vmu*yx*kvv*y|*p~|o*oxnoky|}+\n",
      "382\n",
      "the decrypted message for seed 382 is `}8}}}D888",
      "8}}y8~8}8~y8}{8~8h`qk8KHHF8a8y8z}}8y8}y8",
      "}888{y98|8{88y88~}8}|}y9\n",
      "383\n",
      "the decrypted message for seed 383 is Qnuux)nn{xwn5)}qr|)r|)v)y{n|nw}j}rxw)ox{)}qn)orwju)y{xsnl})ox{)YQb\\)<997)R})qj|)knnw)j)p{nj})}rvn)rw)}qr|)luj||*)pxxm)u~lt)xw)juu)x~{)o~}~{n)nwmnjx{|*\n",
      "384\n",
      "the decrypted message for seed 384 is Mjqqt%j{jw~tsj1%ymnx%nx%r~%uwjxjsyfynts%ktw%ymj%knsfq%uwtojhy%ktw%UM^X%8553%Ny%mfx%gjjs%f%lwjfy%ynrj%ns%ymnx%hqfxx&%ltti%qzhp%ts%fqq%~tzw%kzyzwj%jsijf{twx&\n",
      "385\n",
      "the decrypted message for seed 385 is _|7||",
      "|C7777||",
      "x",
      "7}7|7}",
      "x7|z7}7g_pj7JGGE7`7x7y||",
      "7x7~|x7|7",
      "77zx87~{7z7",
      "7x77}|7|",
      "{|x8\n",
      "386\n",
      "the decrypted message for seed 386 is Nkrru&k|kxutk2&znoy&oy&s&vxkyktzgzout&lux&znk&lotgr&vxupkiz&lux&VN_Y&9664&Oz&ngy&hkkt&g&mxkgz&zosk&ot&znoy&irgyy'&muuj&r{iq&ut&grr&u{x&l{z{xk&ktjkg|uxy'\n",
      "387\n",
      "the decrypted message for seed 387 is Spwwz+pp}zyp7+st~+t~+x+{}p~pyltzy+qz}+sp+qtylw+{}zupn+qz}+[Sd^+>;;9+T+sl~+mppy+l+r}pl+txp+ty+st~+nwl~~,+rzzo+wnv+zy+lww+z}+q}p+pyoplz}~,\n",
      "388\n",
      "the decrypted message for seed 388 is Hello everyone, this is my presentation for the final project for PHYS 300. It has been a great time in this class! good luck on all your future endeavors!\n",
      "389\n",
      "the decrypted message for seed 389 is Lipps$iziv}sri0$xlmw$mw$q}$tviwirxexmsr$jsv$xli$jmrep$tvsnigx$jsv$TL]W$7442$Mx$lew$fiir$e$kviex$xmqi$mr$xlmw$gpeww%$kssh$pygo$sr$epp$}syv$jyxyvi$irhiezsvw%\n",
      "390\n",
      "the decrypted message for seed 390 is Olssv'l}lyvul3'{opz'pz't'wylzlu{h{pvu'mvy'{ol'mpuhs'wyvqlj{'mvy'WO`Z':775'P{'ohz'illu'h'nylh{'{ptl'pu'{opz'jshzz('nvvk's|jr'vu'hss'v|y'm|{|yl'luklh}vyz(\n",
      "391\n",
      "the decrypted message for seed 391 is Rovvy*oo|yxo6*~rs}*s}*w*z|o}ox~k~syx*py|*~ro*psxkv*z|ytom~*py|*ZRc]*=::8*S~*rk}*loox*k*q|ok~*~swo*sx*~rs}*mvk}}+*qyyn*vmu*yx*kvv*y|*p~|o*oxnoky|}+\n",
      "392\n",
      "the decrypted message for seed 392 is Nkrru&k|kxutk2&znoy&oy&s&vxkyktzgzout&lux&znk&lotgr&vxupkiz&lux&VN_Y&9664&Oz&ngy&hkkt&g&mxkgz&zosk&ot&znoy&irgyy'&muuj&r{iq&ut&grr&u{x&l{z{xk&ktjkg|uxy'\n",
      "393\n",
      "the decrypted message for seed 393 is Vszz}.ss}|s:.vw.w.{.~ss|ow}|.t}.vs.tw|oz.~}xsq.t}.^Vga.A>><.W.vo.pss|.o.uso.w{s.w|.vw.qzo/.u}}r.zqy.}|.ozz.}.ts.s|rso}/\n",
      "394\n",
      "the decrypted message for seed 394 is Zw~~2www>2z{",
      "2{",
      "22w",
      "ws{2x2zw2x{s~2|wu2x2bZke2EBB@2[2zs",
      "2tww2s2yws2{w2{2z{",
      "2u~s",
      "",
      "32yv2~u}22s~~22xw2wvws",
      "3\n",
      "395\n",
      "the decrypted message for seed 395 is Vszz}.ss}|s:.vw.w.{.~ss|ow}|.t}.vs.tw|oz.~}xsq.t}.^Vga.A>><.W.vo.pss|.o.uso.w{s.w|.vw.qzo/.u}}r.zqy.}|.ozz.}.ts.s|rso}/\n",
      "396\n",
      "the decrypted message for seed 396 is `}8}}}D888",
      "8}}y8~8}8~y8}{8~8h`qk8KHHF8a8y8z}}8y8}y8",
      "}888{y98|8{88y88~}8}|}y9\n",
      "397\n",
      "the decrypted message for seed 397 is ^{",
      "6{{",
      "{B6~666{{w",
      "6|",
      "6~{6|w6",
      "{y6|",
      "6f^oi6IFFD6_6~w6x{{6w6}{w6{66~6yw76}",
      "",
      "z6y6",
      "6w6",
      "6|{6{z{w",
      "7\n",
      "398\n",
      "the decrypted message for seed 398 is Uryy|-rr|{r9-uv-v-z-}rr{nv|{-s|-ur-sv{ny-}|wrp-s|-]Uf`-@==;-V-un-orr{-n-trn-vzr-v{-uv-pyn.-t||q-ypx-|{-nyy-|-sr-r{qrn|.\n",
      "399\n",
      "the decrypted message for seed 399 is `}8}}}D888",
      "8}}y8~8}8~y8}{8~8h`qk8KHHF8a8y8z}}8y8}y8",
      "}888{y98|8{88y88~}8}|}y9\n",
      "400\n",
      "the decrypted message for seed 400 is Xu||0uu~u<0xy0y0}0uu~qy~0v0xu0vy~q|0zus0v0`Xic0C@@>0Y0xq0ruu~0q0wuq0y}u0y~0xy0s|q10wt0|",
      "s{0~0q||0",
      "0v",
      "",
      "u0u~tuq1\n",
      "401\n",
      "the decrypted message for seed 401 is Rovvy*oo|yxo6*~rs}*s}*w*z|o}ox~k~syx*py|*~ro*psxkv*z|ytom~*py|*ZRc]*=::8*S~*rk}*loox*k*q|ok~*~swo*sx*~rs}*mvk}}+*qyyn*vmu*yx*kvv*y|*p~|o*oxnoky|}+\n",
      "402\n",
      "the decrypted message for seed 402 is Gdkkn\u001fdudqxnmd+\u001fsghr\u001fhr\u001flx\u001foqdrdms`shnm\u001fenq\u001fsgd\u001fehm`k\u001foqnidbs\u001fenq\u001fOGXR\u001f2//-\u001fHs\u001fg`r\u001faddm\u001f`\u001ffqd`s\u001fshld\u001fhm\u001fsghr\u001fbk`rr \u001ffnnc\u001fktbj\u001fnm\u001f`kk\u001fxntq\u001fetstqd\u001fdmcd`unqr \n",
      "403\n",
      "the decrypted message for seed 403 is Zw~~2www>2z{",
      "2{",
      "22w",
      "ws{2x2zw2x{s~2|wu2x2bZke2EBB@2[2zs",
      "2tww2s2yws2{w2{2z{",
      "2u~s",
      "",
      "32yv2~u}22s~~22xw2wvws",
      "3\n",
      "404\n",
      "the decrypted message for seed 404 is _|7||",
      "|C7777||",
      "x",
      "7}7|7}",
      "x7|z7}7g_pj7JGGE7`7x7y||",
      "7x7~|x7|7",
      "77zx87~{7z7",
      "7x77}|7|",
      "{|x8\n",
      "405\n",
      "the decrypted message for seed 405 is `}8}}}D888",
      "8}}y8~8}8~y8}{8~8h`qk8KHHF8a8y8z}}8y8}y8",
      "}888{y98|8{88y88~}8}|}y9\n",
      "406\n",
      "the decrypted message for seed 406 is Tqxx{,qq~",
      "{zq8,tu,u,y",
      ",|~qqzmu{z,r{~,tq,ruzmx,|~{vqo,r{~,\\Te_,?<<:,U,tm,nqqz,m,s~qm,uyq,uz,tu,oxm-,s{{p,xow,{z,mxx,",
      "{~,r~q,qzpqm{~-\n",
      "407\n",
      "the decrypted message for seed 407 is Lipps$iziv}sri0$xlmw$mw$q}$tviwirxexmsr$jsv$xli$jmrep$tvsnigx$jsv$TL]W$7442$Mx$lew$fiir$e$kviex$xmqi$mr$xlmw$gpeww%$kssh$pygo$sr$epp$}syv$jyxyvi$irhiezsvw%\n",
      "408\n",
      "the decrypted message for seed 408 is Hello everyone, this is my presentation for the final project for PHYS 300. It has been a great time in this class! good luck on all your future endeavors!\n",
      "409\n",
      "the decrypted message for seed 409 is Gdkkn\u001fdudqxnmd+\u001fsghr\u001fhr\u001flx\u001foqdrdms`shnm\u001fenq\u001fsgd\u001fehm`k\u001foqnidbs\u001fenq\u001fOGXR\u001f2//-\u001fHs\u001fg`r\u001faddm\u001f`\u001ffqd`s\u001fshld\u001fhm\u001fsghr\u001fbk`rr \u001ffnnc\u001fktbj\u001fnm\u001f`kk\u001fxntq\u001fetstqd\u001fdmcd`unqr \n",
      "410\n",
      "the decrypted message for seed 410 is ]z5zzzA5}~5~55",
      "zzv~5{5}z5{~v5",
      "zx5{5e]nh5HEEC5^5}v5wzz5v5|zv5~z5~5}~5xv65|y5x55v55{z5zyzv6\n",
      "411\n",
      "the decrypted message for seed 411 is [x3xx",
      "x?3{|3|33",
      "xxt|3y",
      "3{x3y|t3",
      "}xv3y",
      "3c[lf3FCCA3\\3{t3uxx3t3z",
      "xt3|x3|3{|3vt43zw3v~33t3",
      "3y",
      "x3xwxt",
      "4\n",
      "412\n",
      "the decrypted message for seed 412 is Xu||0uu~u<0xy0y0}0uu~qy~0v0xu0vy~q|0zus0v0`Xic0C@@>0Y0xq0ruu~0q0wuq0y}u0y~0xy0s|q10wt0|",
      "s{0~0q||0",
      "0v",
      "",
      "u0u~tuq1\n",
      "413\n",
      "the decrypted message for seed 413 is Gdkkn\u001fdudqxnmd+\u001fsghr\u001fhr\u001flx\u001foqdrdms`shnm\u001fenq\u001fsgd\u001fehm`k\u001foqnidbs\u001fenq\u001fOGXR\u001f2//-\u001fHs\u001fg`r\u001faddm\u001f`\u001ffqd`s\u001fshld\u001fhm\u001fsghr\u001fbk`rr \u001ffnnc\u001fktbj\u001fnm\u001f`kk\u001fxntq\u001fetstqd\u001fdmcd`unqr \n",
      "414\n",
      "the decrypted message for seed 414 is Tqxx{,qq~",
      "{zq8,tu,u,y",
      ",|~qqzmu{z,r{~,tq,ruzmx,|~{vqo,r{~,\\Te_,?<<:,U,tm,nqqz,m,s~qm,uyq,uz,tu,oxm-,s{{p,xow,{z,mxx,",
      "{~,r~q,qzpqm{~-\n",
      "415\n",
      "the decrypted message for seed 415 is Ifmmp!fwfszpof-!uijt!jt!nz!qsftfoubujpo!gps!uif!gjobm!qspkfdu!gps!QIZT!411/!Ju!ibt!cffo!b!hsfbu!ujnf!jo!uijt!dmbtt\"!hppe!mvdl!po!bmm!zpvs!gvuvsf!foefbwpst\"\n",
      "416\n",
      "the decrypted message for seed 416 is Yv}}1vvv=1",
      "yz1z1~1vv",
      "r",
      "z1w1",
      "yv1wzr}1{vt",
      "1w1aYjd1DAA?1Z",
      "1yr1svv1r1xvr",
      "1",
      "z~v1z1",
      "yz1t}r21xu1}t|11r}}11w",
      "v1vuvr2\n",
      "417\n",
      "the decrypted message for seed 417 is Nkrru&k|kxutk2&znoy&oy&s&vxkyktzgzout&lux&znk&lotgr&vxupkiz&lux&VN_Y&9664&Oz&ngy&hkkt&g&mxkgz&zosk&ot&znoy&irgyy'&muuj&r{iq&ut&grr&u{x&l{z{xk&ktjkg|uxy'\n",
      "418\n",
      "the decrypted message for seed 418 is Wt{{~/t",
      "t~}t;/wx/x/|/tt}px~}/u~/wt/ux}p{/~ytr/u~/_Whb/B??=/X/wp/qtt}/p/vtp/x|t/x}/wx/r{p0/v~~s/{rz/~}/p{{/~/ut/t}stp",
      "~0\n",
      "419\n",
      "the decrypted message for seed 419 is Nkrru&k|kxutk2&znoy&oy&s&vxkyktzgzout&lux&znk&lotgr&vxupkiz&lux&VN_Y&9664&Oz&ngy&hkkt&g&mxkgz&zosk&ot&znoy&irgyy'&muuj&r{iq&ut&grr&u{x&l{z{xk&ktjkg|uxy'\n",
      "420\n",
      "the decrypted message for seed 420 is a~",
      "",
      "9~~~E9999~~z99~9z",
      "9~|99iarl9LIIG9b9z9{~~9z9~z9~999|",
      "z:9}9",
      "|99z",
      "",
      "99~9~}~z:\n",
      "421\n",
      "the decrypted message for seed 421 is Mjqqt%j{jw~tsj1%ymnx%nx%r~%uwjxjsyfynts%ktw%ymj%knsfq%uwtojhy%ktw%UM^X%8553%Ny%mfx%gjjs%f%lwjfy%ynrj%ns%ymnx%hqfxx&%ltti%qzhp%ts%fqq%~tzw%kzyzwj%jsijf{twx&\n",
      "422\n",
      "the decrypted message for seed 422 is Uryy|-rr|{r9-uv-v-z-}rr{nv|{-s|-ur-sv{ny-}|wrp-s|-]Uf`-@==;-V-un-orr{-n-trn-vzr-v{-uv-pyn.-t||q-ypx-|{-nyy-|-sr-r{qrn|.\n",
      "423\n",
      "the decrypted message for seed 423 is Wt{{~/t",
      "t~}t;/wx/x/|/tt}px~}/u~/wt/ux}p{/~ytr/u~/_Whb/B??=/X/wp/qtt}/p/vtp/x|t/x}/wx/r{p0/v~~s/{rz/~}/p{{/~/ut/t}stp",
      "~0\n",
      "424\n",
      "the decrypted message for seed 424 is Pmttw(m~mzwvm4(|pq{(q{(u(xzm{mv|i|qwv(nwz(|pm(nqvit(xzwrmk|(nwz(XPa[(;886(Q|(pi{(jmmv(i(ozmi|(|qum(qv(|pq{(kti{{)(owwl(t}ks(wv(itt(w}z(n}|}zm(mvlmi~wz{)\n",
      "425\n",
      "the decrypted message for seed 425 is Tqxx{,qq~",
      "{zq8,tu,u,y",
      ",|~qqzmu{z,r{~,tq,ruzmx,|~{vqo,r{~,\\Te_,?<<:,U,tm,nqqz,m,s~qm,uyq,uz,tu,oxm-,s{{p,xow,{z,mxx,",
      "{~,r~q,qzpqm{~-\n",
      "426\n",
      "the decrypted message for seed 426 is \\y4yyy@4|}4}44yyu}4z4|y4z}u4~yw4z4d\\mg4GDDB4]4|u4vyy4u4{yu4}y4}4|}4wu54{x4w44u44zy4yxyu5\n",
      "427\n",
      "the decrypted message for seed 427 is \\y4yyy@4|}4}44yyu}4z4|y4z}u4~yw4z4d\\mg4GDDB4]4|u4vyy4u4{yu4}y4}4|}4wu54{x4w44u44zy4yxyu5\n",
      "428\n",
      "the decrypted message for seed 428 is Yv}}1vvv=1",
      "yz1z1~1vv",
      "r",
      "z1w1",
      "yv1wzr}1{vt",
      "1w1aYjd1DAA?1Z",
      "1yr1svv1r1xvr",
      "1",
      "z~v1z1",
      "yz1t}r21xu1}t|11r}}11w",
      "v1vuvr2\n",
      "429\n",
      "the decrypted message for seed 429 is Nkrru&k|kxutk2&znoy&oy&s&vxkyktzgzout&lux&znk&lotgr&vxupkiz&lux&VN_Y&9664&Oz&ngy&hkkt&g&mxkgz&zosk&ot&znoy&irgyy'&muuj&r{iq&ut&grr&u{x&l{z{xk&ktjkg|uxy'\n",
      "430\n",
      "the decrypted message for seed 430 is Yv}}1vvv=1",
      "yz1z1~1vv",
      "r",
      "z1w1",
      "yv1wzr}1{vt",
      "1w1aYjd1DAA?1Z",
      "1yr1svv1r1xvr",
      "1",
      "z~v1z1",
      "yz1t}r21xu1}t|11r}}11w",
      "v1vuvr2\n",
      "431\n",
      "the decrypted message for seed 431 is Xu||0uu~u<0xy0y0}0uu~qy~0v0xu0vy~q|0zus0v0`Xic0C@@>0Y0xq0ruu~0q0wuq0y}u0y~0xy0s|q10wt0|",
      "s{0~0q||0",
      "0v",
      "",
      "u0u~tuq1\n",
      "432\n",
      "the decrypted message for seed 432 is Olssv'l}lyvul3'{opz'pz't'wylzlu{h{pvu'mvy'{ol'mpuhs'wyvqlj{'mvy'WO`Z':775'P{'ohz'illu'h'nylh{'{ptl'pu'{opz'jshzz('nvvk's|jr'vu'hss'v|y'm|{|yl'luklh}vyz(\n",
      "433\n",
      "the decrypted message for seed 433 is [x3xx",
      "x?3{|3|33",
      "xxt|3y",
      "3{x3y|t3",
      "}xv3y",
      "3c[lf3FCCA3\\3{t3uxx3t3z",
      "xt3|x3|3{|3vt43zw3v~33t3",
      "3y",
      "x3xwxt",
      "4\n",
      "434\n",
      "the decrypted message for seed 434 is Vszz}.ss}|s:.vw.w.{.~ss|ow}|.t}.vs.tw|oz.~}xsq.t}.^Vga.A>><.W.vo.pss|.o.uso.w{s.w|.vw.qzo/.u}}r.zqy.}|.ozz.}.ts.s|rso}/\n",
      "435\n",
      "the decrypted message for seed 435 is Gdkkn\u001fdudqxnmd+\u001fsghr\u001fhr\u001flx\u001foqdrdms`shnm\u001fenq\u001fsgd\u001fehm`k\u001foqnidbs\u001fenq\u001fOGXR\u001f2//-\u001fHs\u001fg`r\u001faddm\u001f`\u001ffqd`s\u001fshld\u001fhm\u001fsghr\u001fbk`rr \u001ffnnc\u001fktbj\u001fnm\u001f`kk\u001fxntq\u001fetstqd\u001fdmcd`unqr \n",
      "436\n",
      "the decrypted message for seed 436 is Uryy|-rr|{r9-uv-v-z-}rr{nv|{-s|-ur-sv{ny-}|wrp-s|-]Uf`-@==;-V-un-orr{-n-trn-vzr-v{-uv-pyn.-t||q-ypx-|{-nyy-|-sr-r{qrn|.\n",
      "437\n",
      "the decrypted message for seed 437 is Qnuux)nn{xwn5)}qr|)r|)v)y{n|nw}j}rxw)ox{)}qn)orwju)y{xsnl})ox{)YQb\\)<997)R})qj|)knnw)j)p{nj})}rvn)rw)}qr|)luj||*)pxxm)u~lt)xw)juu)x~{)o~}~{n)nwmnjx{|*\n",
      "438\n",
      "the decrypted message for seed 438 is [x3xx",
      "x?3{|3|33",
      "xxt|3y",
      "3{x3y|t3",
      "}xv3y",
      "3c[lf3FCCA3\\3{t3uxx3t3z",
      "xt3|x3|3{|3vt43zw3v~33t3",
      "3y",
      "x3xwxt",
      "4\n",
      "439\n",
      "the decrypted message for seed 439 is Uryy|-rr|{r9-uv-v-z-}rr{nv|{-s|-ur-sv{ny-}|wrp-s|-]Uf`-@==;-V-un-orr{-n-trn-vzr-v{-uv-pyn.-t||q-ypx-|{-nyy-|-sr-r{qrn|.\n",
      "440\n",
      "the decrypted message for seed 440 is ^{",
      "6{{",
      "{B6~666{{w",
      "6|",
      "6~{6|w6",
      "{y6|",
      "6f^oi6IFFD6_6~w6x{{6w6}{w6{66~6yw76}",
      "",
      "z6y6",
      "6w6",
      "6|{6{z{w",
      "7\n",
      "441\n",
      "the decrypted message for seed 441 is \\y4yyy@4|}4}44yyu}4z4|y4z}u4~yw4z4d\\mg4GDDB4]4|u4vyy4u4{yu4}y4}4|}4wu54{x4w44u44zy4yxyu5\n",
      "442\n",
      "the decrypted message for seed 442 is Vszz}.ss}|s:.vw.w.{.~ss|ow}|.t}.vs.tw|oz.~}xsq.t}.^Vga.A>><.W.vo.pss|.o.uso.w{s.w|.vw.qzo/.u}}r.zqy.}|.ozz.}.ts.s|rso}/\n",
      "443\n",
      "the decrypted message for seed 443 is Ifmmp!fwfszpof-!uijt!jt!nz!qsftfoubujpo!gps!uif!gjobm!qspkfdu!gps!QIZT!411/!Ju!ibt!cffo!b!hsfbu!ujnf!jo!uijt!dmbtt\"!hppe!mvdl!po!bmm!zpvs!gvuvsf!foefbwpst\"\n",
      "444\n",
      "the decrypted message for seed 444 is Xu||0uu~u<0xy0y0}0uu~qy~0v0xu0vy~q|0zus0v0`Xic0C@@>0Y0xq0ruu~0q0wuq0y}u0y~0xy0s|q10wt0|",
      "s{0~0q||0",
      "0v",
      "",
      "u0u~tuq1\n",
      "445\n",
      "the decrypted message for seed 445 is Pmttw(m~mzwvm4(|pq{(q{(u(xzm{mv|i|qwv(nwz(|pm(nqvit(xzwrmk|(nwz(XPa[(;886(Q|(pi{(jmmv(i(ozmi|(|qum(qv(|pq{(kti{{)(owwl(t}ks(wv(itt(w}z(n}|}zm(mvlmi~wz{)\n",
      "446\n",
      "the decrypted message for seed 446 is Hello everyone, this is my presentation for the final project for PHYS 300. It has been a great time in this class! good luck on all your future endeavors!\n",
      "447\n"
     ]
    },
    {
     "name": "stdout",
     "output_type": "stream",
     "text": [
      "the decrypted message for seed 447 is Tqxx{,qq~",
      "{zq8,tu,u,y",
      ",|~qqzmu{z,r{~,tq,ruzmx,|~{vqo,r{~,\\Te_,?<<:,U,tm,nqqz,m,s~qm,uyq,uz,tu,oxm-,s{{p,xow,{z,mxx,",
      "{~,r~q,qzpqm{~-\n",
      "448\n",
      "the decrypted message for seed 448 is Yv}}1vvv=1",
      "yz1z1~1vv",
      "r",
      "z1w1",
      "yv1wzr}1{vt",
      "1w1aYjd1DAA?1Z",
      "1yr1svv1r1xvr",
      "1",
      "z~v1z1",
      "yz1t}r21xu1}t|11r}}11w",
      "v1vuvr2\n",
      "449\n",
      "the decrypted message for seed 449 is [x3xx",
      "x?3{|3|33",
      "xxt|3y",
      "3{x3y|t3",
      "}xv3y",
      "3c[lf3FCCA3\\3{t3uxx3t3z",
      "xt3|x3|3{|3vt43zw3v~33t3",
      "3y",
      "x3xwxt",
      "4\n",
      "450\n",
      "the decrypted message for seed 450 is ^{",
      "6{{",
      "{B6~666{{w",
      "6|",
      "6~{6|w6",
      "{y6|",
      "6f^oi6IFFD6_6~w6x{{6w6}{w6{66~6yw76}",
      "",
      "z6y6",
      "6w6",
      "6|{6{z{w",
      "7\n",
      "451\n",
      "the decrypted message for seed 451 is `}8}}}D888",
      "8}}y8~8}8~y8}{8~8h`qk8KHHF8a8y8z}}8y8}y8",
      "}888{y98|8{88y88~}8}|}y9\n",
      "452\n",
      "the decrypted message for seed 452 is Wt{{~/t",
      "t~}t;/wx/x/|/tt}px~}/u~/wt/ux}p{/~ytr/u~/_Whb/B??=/X/wp/qtt}/p/vtp/x|t/x}/wx/r{p0/v~~s/{rz/~}/p{{/~/ut/t}stp",
      "~0\n",
      "453\n",
      "the decrypted message for seed 453 is Zw~~2www>2z{",
      "2{",
      "22w",
      "ws{2x2zw2x{s~2|wu2x2bZke2EBB@2[2zs",
      "2tww2s2yws2{w2{2z{",
      "2u~s",
      "",
      "32yv2~u}22s~~22xw2wvws",
      "3\n",
      "454\n",
      "the decrypted message for seed 454 is Xu||0uu~u<0xy0y0}0uu~qy~0v0xu0vy~q|0zus0v0`Xic0C@@>0Y0xq0ruu~0q0wuq0y}u0y~0xy0s|q10wt0|",
      "s{0~0q||0",
      "0v",
      "",
      "u0u~tuq1\n",
      "455\n",
      "the decrypted message for seed 455 is Jgnnq\"gxgt{qpg.\"vjku\"ku\"o{\"rtgugpvcvkqp\"hqt\"vjg\"hkpcn\"rtqlgev\"hqt\"RJ[U\"5220\"Kv\"jcu\"dggp\"c\"itgcv\"vkog\"kp\"vjku\"encuu#\"iqqf\"nwem\"qp\"cnn\"{qwt\"hwvwtg\"gpfgcxqtu#\n",
      "456\n",
      "the decrypted message for seed 456 is Jgnnq\"gxgt{qpg.\"vjku\"ku\"o{\"rtgugpvcvkqp\"hqt\"vjg\"hkpcn\"rtqlgev\"hqt\"RJ[U\"5220\"Kv\"jcu\"dggp\"c\"itgcv\"vkog\"kp\"vjku\"encuu#\"iqqf\"nwem\"qp\"cnn\"{qwt\"hwvwtg\"gpfgcxqtu#\n",
      "457\n",
      "the decrypted message for seed 457 is Ifmmp!fwfszpof-!uijt!jt!nz!qsftfoubujpo!gps!uif!gjobm!qspkfdu!gps!QIZT!411/!Ju!ibt!cffo!b!hsfbu!ujnf!jo!uijt!dmbtt\"!hppe!mvdl!po!bmm!zpvs!gvuvsf!foefbwpst\"\n",
      "458\n",
      "the decrypted message for seed 458 is _|7||",
      "|C7777||",
      "x",
      "7}7|7}",
      "x7|z7}7g_pj7JGGE7`7x7y||",
      "7x7~|x7|7",
      "77zx87~{7z7",
      "7x77}|7|",
      "{|x8\n",
      "459\n",
      "the decrypted message for seed 459 is Mjqqt%j{jw~tsj1%ymnx%nx%r~%uwjxjsyfynts%ktw%ymj%knsfq%uwtojhy%ktw%UM^X%8553%Ny%mfx%gjjs%f%lwjfy%ynrj%ns%ymnx%hqfxx&%ltti%qzhp%ts%fqq%~tzw%kzyzwj%jsijf{twx&\n",
      "460\n",
      "the decrypted message for seed 460 is Xu||0uu~u<0xy0y0}0uu~qy~0v0xu0vy~q|0zus0v0`Xic0C@@>0Y0xq0ruu~0q0wuq0y}u0y~0xy0s|q10wt0|",
      "s{0~0q||0",
      "0v",
      "",
      "u0u~tuq1\n",
      "461\n",
      "the decrypted message for seed 461 is Jgnnq\"gxgt{qpg.\"vjku\"ku\"o{\"rtgugpvcvkqp\"hqt\"vjg\"hkpcn\"rtqlgev\"hqt\"RJ[U\"5220\"Kv\"jcu\"dggp\"c\"itgcv\"vkog\"kp\"vjku\"encuu#\"iqqf\"nwem\"qp\"cnn\"{qwt\"hwvwtg\"gpfgcxqtu#\n",
      "462\n",
      "the decrypted message for seed 462 is Olssv'l}lyvul3'{opz'pz't'wylzlu{h{pvu'mvy'{ol'mpuhs'wyvqlj{'mvy'WO`Z':775'P{'ohz'illu'h'nylh{'{ptl'pu'{opz'jshzz('nvvk's|jr'vu'hss'v|y'm|{|yl'luklh}vyz(\n",
      "463\n",
      "the decrypted message for seed 463 is [x3xx",
      "x?3{|3|33",
      "xxt|3y",
      "3{x3y|t3",
      "}xv3y",
      "3c[lf3FCCA3\\3{t3uxx3t3z",
      "xt3|x3|3{|3vt43zw3v~33t3",
      "3y",
      "x3xwxt",
      "4\n",
      "464\n",
      "the decrypted message for seed 464 is Yv}}1vvv=1",
      "yz1z1~1vv",
      "r",
      "z1w1",
      "yv1wzr}1{vt",
      "1w1aYjd1DAA?1Z",
      "1yr1svv1r1xvr",
      "1",
      "z~v1z1",
      "yz1t}r21xu1}t|11r}}11w",
      "v1vuvr2\n",
      "465\n",
      "the decrypted message for seed 465 is [x3xx",
      "x?3{|3|33",
      "xxt|3y",
      "3{x3y|t3",
      "}xv3y",
      "3c[lf3FCCA3\\3{t3uxx3t3z",
      "xt3|x3|3{|3vt43zw3v~33t3",
      "3y",
      "x3xwxt",
      "4\n",
      "466\n",
      "the decrypted message for seed 466 is `}8}}}D888",
      "8}}y8~8}8~y8}{8~8h`qk8KHHF8a8y8z}}8y8}y8",
      "}888{y98|8{88y88~}8}|}y9\n",
      "467\n",
      "the decrypted message for seed 467 is Yv}}1vvv=1",
      "yz1z1~1vv",
      "r",
      "z1w1",
      "yv1wzr}1{vt",
      "1w1aYjd1DAA?1Z",
      "1yr1svv1r1xvr",
      "1",
      "z~v1z1",
      "yz1t}r21xu1}t|11r}}11w",
      "v1vuvr2\n",
      "468\n",
      "the decrypted message for seed 468 is [x3xx",
      "x?3{|3|33",
      "xxt|3y",
      "3{x3y|t3",
      "}xv3y",
      "3c[lf3FCCA3\\3{t3uxx3t3z",
      "xt3|x3|3{|3vt43zw3v~33t3",
      "3y",
      "x3xwxt",
      "4\n",
      "469\n",
      "the decrypted message for seed 469 is Yv}}1vvv=1",
      "yz1z1~1vv",
      "r",
      "z1w1",
      "yv1wzr}1{vt",
      "1w1aYjd1DAA?1Z",
      "1yr1svv1r1xvr",
      "1",
      "z~v1z1",
      "yz1t}r21xu1}t|11r}}11w",
      "v1vuvr2\n",
      "470\n",
      "the decrypted message for seed 470 is `}8}}}D888",
      "8}}y8~8}8~y8}{8~8h`qk8KHHF8a8y8z}}8y8}y8",
      "}888{y98|8{88y88~}8}|}y9\n",
      "471\n",
      "the decrypted message for seed 471 is Lipps$iziv}sri0$xlmw$mw$q}$tviwirxexmsr$jsv$xli$jmrep$tvsnigx$jsv$TL]W$7442$Mx$lew$fiir$e$kviex$xmqi$mr$xlmw$gpeww%$kssh$pygo$sr$epp$}syv$jyxyvi$irhiezsvw%\n",
      "472\n",
      "the decrypted message for seed 472 is ]z5zzzA5}~5~55",
      "zzv~5{5}z5{~v5",
      "zx5{5e]nh5HEEC5^5}v5wzz5v5|zv5~z5~5}~5xv65|y5x55v55{z5zyzv6\n",
      "473\n",
      "the decrypted message for seed 473 is Wt{{~/t",
      "t~}t;/wx/x/|/tt}px~}/u~/wt/ux}p{/~ytr/u~/_Whb/B??=/X/wp/qtt}/p/vtp/x|t/x}/wx/r{p0/v~~s/{rz/~}/p{{/~/ut/t}stp",
      "~0\n",
      "474\n",
      "the decrypted message for seed 474 is _|7||",
      "|C7777||",
      "x",
      "7}7|7}",
      "x7|z7}7g_pj7JGGE7`7x7y||",
      "7x7~|x7|7",
      "77zx87~{7z7",
      "7x77}|7|",
      "{|x8\n",
      "475\n",
      "the decrypted message for seed 475 is _|7||",
      "|C7777||",
      "x",
      "7}7|7}",
      "x7|z7}7g_pj7JGGE7`7x7y||",
      "7x7~|x7|7",
      "77zx87~{7z7",
      "7x77}|7|",
      "{|x8\n",
      "476\n",
      "the decrypted message for seed 476 is Rovvy*oo|yxo6*~rs}*s}*w*z|o}ox~k~syx*py|*~ro*psxkv*z|ytom~*py|*ZRc]*=::8*S~*rk}*loox*k*q|ok~*~swo*sx*~rs}*mvk}}+*qyyn*vmu*yx*kvv*y|*p~|o*oxnoky|}+\n",
      "477\n",
      "the decrypted message for seed 477 is Nkrru&k|kxutk2&znoy&oy&s&vxkyktzgzout&lux&znk&lotgr&vxupkiz&lux&VN_Y&9664&Oz&ngy&hkkt&g&mxkgz&zosk&ot&znoy&irgyy'&muuj&r{iq&ut&grr&u{x&l{z{xk&ktjkg|uxy'\n",
      "478\n",
      "the decrypted message for seed 478 is Wt{{~/t",
      "t~}t;/wx/x/|/tt}px~}/u~/wt/ux}p{/~ytr/u~/_Whb/B??=/X/wp/qtt}/p/vtp/x|t/x}/wx/r{p0/v~~s/{rz/~}/p{{/~/ut/t}stp",
      "~0\n",
      "479\n",
      "the decrypted message for seed 479 is Hello everyone, this is my presentation for the final project for PHYS 300. It has been a great time in this class! good luck on all your future endeavors!\n",
      "480\n",
      "the decrypted message for seed 480 is Uryy|-rr|{r9-uv-v-z-}rr{nv|{-s|-ur-sv{ny-}|wrp-s|-]Uf`-@==;-V-un-orr{-n-trn-vzr-v{-uv-pyn.-t||q-ypx-|{-nyy-|-sr-r{qrn|.\n",
      "481\n",
      "the decrypted message for seed 481 is Lipps$iziv}sri0$xlmw$mw$q}$tviwirxexmsr$jsv$xli$jmrep$tvsnigx$jsv$TL]W$7442$Mx$lew$fiir$e$kviex$xmqi$mr$xlmw$gpeww%$kssh$pygo$sr$epp$}syv$jyxyvi$irhiezsvw%\n",
      "482\n",
      "the decrypted message for seed 482 is Qnuux)nn{xwn5)}qr|)r|)v)y{n|nw}j}rxw)ox{)}qn)orwju)y{xsnl})ox{)YQb\\)<997)R})qj|)knnw)j)p{nj})}rvn)rw)}qr|)luj||*)pxxm)u~lt)xw)juu)x~{)o~}~{n)nwmnjx{|*\n",
      "483\n",
      "the decrypted message for seed 483 is Qnuux)nn{xwn5)}qr|)r|)v)y{n|nw}j}rxw)ox{)}qn)orwju)y{xsnl})ox{)YQb\\)<997)R})qj|)knnw)j)p{nj})}rvn)rw)}qr|)luj||*)pxxm)u~lt)xw)juu)x~{)o~}~{n)nwmnjx{|*\n",
      "484\n",
      "the decrypted message for seed 484 is Olssv'l}lyvul3'{opz'pz't'wylzlu{h{pvu'mvy'{ol'mpuhs'wyvqlj{'mvy'WO`Z':775'P{'ohz'illu'h'nylh{'{ptl'pu'{opz'jshzz('nvvk's|jr'vu'hss'v|y'm|{|yl'luklh}vyz(\n",
      "485\n",
      "the decrypted message for seed 485 is ]z5zzzA5}~5~55",
      "zzv~5{5}z5{~v5",
      "zx5{5e]nh5HEEC5^5}v5wzz5v5|zv5~z5~5}~5xv65|y5x55v55{z5zyzv6\n",
      "486\n",
      "the decrypted message for seed 486 is \\y4yyy@4|}4}44yyu}4z4|y4z}u4~yw4z4d\\mg4GDDB4]4|u4vyy4u4{yu4}y4}4|}4wu54{x4w44u44zy4yxyu5\n",
      "487\n",
      "the decrypted message for seed 487 is Gdkkn\u001fdudqxnmd+\u001fsghr\u001fhr\u001flx\u001foqdrdms`shnm\u001fenq\u001fsgd\u001fehm`k\u001foqnidbs\u001fenq\u001fOGXR\u001f2//-\u001fHs\u001fg`r\u001faddm\u001f`\u001ffqd`s\u001fshld\u001fhm\u001fsghr\u001fbk`rr \u001ffnnc\u001fktbj\u001fnm\u001f`kk\u001fxntq\u001fetstqd\u001fdmcd`unqr \n",
      "488\n",
      "the decrypted message for seed 488 is ^{",
      "6{{",
      "{B6~666{{w",
      "6|",
      "6~{6|w6",
      "{y6|",
      "6f^oi6IFFD6_6~w6x{{6w6}{w6{66~6yw76}",
      "",
      "z6y6",
      "6w6",
      "6|{6{z{w",
      "7\n",
      "489\n",
      "the decrypted message for seed 489 is \\y4yyy@4|}4}44yyu}4z4|y4z}u4~yw4z4d\\mg4GDDB4]4|u4vyy4u4{yu4}y4}4|}4wu54{x4w44u44zy4yxyu5\n",
      "490\n",
      "the decrypted message for seed 490 is Jgnnq\"gxgt{qpg.\"vjku\"ku\"o{\"rtgugpvcvkqp\"hqt\"vjg\"hkpcn\"rtqlgev\"hqt\"RJ[U\"5220\"Kv\"jcu\"dggp\"c\"itgcv\"vkog\"kp\"vjku\"encuu#\"iqqf\"nwem\"qp\"cnn\"{qwt\"hwvwtg\"gpfgcxqtu#\n",
      "491\n",
      "the decrypted message for seed 491 is Rovvy*oo|yxo6*~rs}*s}*w*z|o}ox~k~syx*py|*~ro*psxkv*z|ytom~*py|*ZRc]*=::8*S~*rk}*loox*k*q|ok~*~swo*sx*~rs}*mvk}}+*qyyn*vmu*yx*kvv*y|*p~|o*oxnoky|}+\n",
      "492\n",
      "the decrypted message for seed 492 is Hello everyone, this is my presentation for the final project for PHYS 300. It has been a great time in this class! good luck on all your future endeavors!\n",
      "493\n",
      "the decrypted message for seed 493 is Yv}}1vvv=1",
      "yz1z1~1vv",
      "r",
      "z1w1",
      "yv1wzr}1{vt",
      "1w1aYjd1DAA?1Z",
      "1yr1svv1r1xvr",
      "1",
      "z~v1z1",
      "yz1t}r21xu1}t|11r}}11w",
      "v1vuvr2\n",
      "494\n",
      "the decrypted message for seed 494 is Mjqqt%j{jw~tsj1%ymnx%nx%r~%uwjxjsyfynts%ktw%ymj%knsfq%uwtojhy%ktw%UM^X%8553%Ny%mfx%gjjs%f%lwjfy%ynrj%ns%ymnx%hqfxx&%ltti%qzhp%ts%fqq%~tzw%kzyzwj%jsijf{twx&\n",
      "495\n",
      "the decrypted message for seed 495 is Lipps$iziv}sri0$xlmw$mw$q}$tviwirxexmsr$jsv$xli$jmrep$tvsnigx$jsv$TL]W$7442$Mx$lew$fiir$e$kviex$xmqi$mr$xlmw$gpeww%$kssh$pygo$sr$epp$}syv$jyxyvi$irhiezsvw%\n",
      "496\n",
      "the decrypted message for seed 496 is Jgnnq\"gxgt{qpg.\"vjku\"ku\"o{\"rtgugpvcvkqp\"hqt\"vjg\"hkpcn\"rtqlgev\"hqt\"RJ[U\"5220\"Kv\"jcu\"dggp\"c\"itgcv\"vkog\"kp\"vjku\"encuu#\"iqqf\"nwem\"qp\"cnn\"{qwt\"hwvwtg\"gpfgcxqtu#\n",
      "497\n",
      "the decrypted message for seed 497 is Yv}}1vvv=1",
      "yz1z1~1vv",
      "r",
      "z1w1",
      "yv1wzr}1{vt",
      "1w1aYjd1DAA?1Z",
      "1yr1svv1r1xvr",
      "1",
      "z~v1z1",
      "yz1t}r21xu1}t|11r}}11w",
      "v1vuvr2\n",
      "498\n",
      "the decrypted message for seed 498 is Rovvy*oo|yxo6*~rs}*s}*w*z|o}ox~k~syx*py|*~ro*psxkv*z|ytom~*py|*ZRc]*=::8*S~*rk}*loox*k*q|ok~*~swo*sx*~rs}*mvk}}+*qyyn*vmu*yx*kvv*y|*p~|o*oxnoky|}+\n",
      "499\n",
      "the decrypted message for seed 499 is ^{",
      "6{{",
      "{B6~666{{w",
      "6|",
      "6~{6|w6",
      "{y6|",
      "6f^oi6IFFD6_6~w6x{{6w6}{w6{66~6yw76}",
      "",
      "z6y6",
      "6w6",
      "6|{6{z{w",
      "7\n",
      "500\n",
      "the decrypted message for seed 500 is Hello everyone, this is my presentation for the final project for PHYS 300. It has been a great time in this class! good luck on all your future endeavors!\n",
      "501\n",
      "the decrypted message for seed 501 is Mjqqt%j{jw~tsj1%ymnx%nx%r~%uwjxjsyfynts%ktw%ymj%knsfq%uwtojhy%ktw%UM^X%8553%Ny%mfx%gjjs%f%lwjfy%ynrj%ns%ymnx%hqfxx&%ltti%qzhp%ts%fqq%~tzw%kzyzwj%jsijf{twx&\n",
      "502\n",
      "the decrypted message for seed 502 is Qnuux)nn{xwn5)}qr|)r|)v)y{n|nw}j}rxw)ox{)}qn)orwju)y{xsnl})ox{)YQb\\)<997)R})qj|)knnw)j)p{nj})}rvn)rw)}qr|)luj||*)pxxm)u~lt)xw)juu)x~{)o~}~{n)nwmnjx{|*\n",
      "503\n",
      "the decrypted message for seed 503 is \\y4yyy@4|}4}44yyu}4z4|y4z}u4~yw4z4d\\mg4GDDB4]4|u4vyy4u4{yu4}y4}4|}4wu54{x4w44u44zy4yxyu5\n",
      "504\n",
      "the decrypted message for seed 504 is Spwwz+pp}zyp7+st~+t~+x+{}p~pyltzy+qz}+sp+qtylw+{}zupn+qz}+[Sd^+>;;9+T+sl~+mppy+l+r}pl+txp+ty+st~+nwl~~,+rzzo+wnv+zy+lww+z}+q}p+pyoplz}~,\n",
      "505\n",
      "the decrypted message for seed 505 is ]z5zzzA5}~5~55",
      "zzv~5{5}z5{~v5",
      "zx5{5e]nh5HEEC5^5}v5wzz5v5|zv5~z5~5}~5xv65|y5x55v55{z5zyzv6\n",
      "506\n",
      "the decrypted message for seed 506 is Ifmmp!fwfszpof-!uijt!jt!nz!qsftfoubujpo!gps!uif!gjobm!qspkfdu!gps!QIZT!411/!Ju!ibt!cffo!b!hsfbu!ujnf!jo!uijt!dmbtt\"!hppe!mvdl!po!bmm!zpvs!gvuvsf!foefbwpst\"\n",
      "507\n",
      "the decrypted message for seed 507 is Rovvy*oo|yxo6*~rs}*s}*w*z|o}ox~k~syx*py|*~ro*psxkv*z|ytom~*py|*ZRc]*=::8*S~*rk}*loox*k*q|ok~*~swo*sx*~rs}*mvk}}+*qyyn*vmu*yx*kvv*y|*p~|o*oxnoky|}+\n",
      "508\n",
      "the decrypted message for seed 508 is Pmttw(m~mzwvm4(|pq{(q{(u(xzm{mv|i|qwv(nwz(|pm(nqvit(xzwrmk|(nwz(XPa[(;886(Q|(pi{(jmmv(i(ozmi|(|qum(qv(|pq{(kti{{)(owwl(t}ks(wv(itt(w}z(n}|}zm(mvlmi~wz{)\n",
      "509\n",
      "the decrypted message for seed 509 is Khoor#hyhu|rqh/#wklv#lv#p|#suhvhqwdwlrq#iru#wkh#ilqdo#surmhfw#iru#SK\\V#6331#Lw#kdv#ehhq#d#juhdw#wlph#lq#wklv#fodvv$#jrrg#oxfn#rq#doo#|rxu#ixwxuh#hqghdyruv$\n",
      "510\n",
      "the decrypted message for seed 510 is Lipps$iziv}sri0$xlmw$mw$q}$tviwirxexmsr$jsv$xli$jmrep$tvsnigx$jsv$TL]W$7442$Mx$lew$fiir$e$kviex$xmqi$mr$xlmw$gpeww%$kssh$pygo$sr$epp$}syv$jyxyvi$irhiezsvw%\n",
      "511\n",
      "the decrypted message for seed 511 is ^{",
      "6{{",
      "{B6~666{{w",
      "6|",
      "6~{6|w6",
      "{y6|",
      "6f^oi6IFFD6_6~w6x{{6w6}{w6{66~6yw76}",
      "",
      "z6y6",
      "6w6",
      "6|{6{z{w",
      "7\n",
      "512\n",
      "the decrypted message for seed 512 is a~",
      "",
      "9~~~E9999~~z99~9z",
      "9~|99iarl9LIIG9b9z9{~~9z9~z9~999|",
      "z:9}9",
      "|99z",
      "",
      "99~9~}~z:\n",
      "513\n",
      "the decrypted message for seed 513 is a~",
      "",
      "9~~~E9999~~z99~9z",
      "9~|99iarl9LIIG9b9z9{~~9z9~z9~999|",
      "z:9}9",
      "|99z",
      "",
      "99~9~}~z:\n",
      "514\n",
      "the decrypted message for seed 514 is Vszz}.ss}|s:.vw.w.{.~ss|ow}|.t}.vs.tw|oz.~}xsq.t}.^Vga.A>><.W.vo.pss|.o.uso.w{s.w|.vw.qzo/.u}}r.zqy.}|.ozz.}.ts.s|rso}/\n",
      "515\n",
      "the decrypted message for seed 515 is \\y4yyy@4|}4}44yyu}4z4|y4z}u4~yw4z4d\\mg4GDDB4]4|u4vyy4u4{yu4}y4}4|}4wu54{x4w44u44zy4yxyu5\n",
      "516\n",
      "the decrypted message for seed 516 is Gdkkn\u001fdudqxnmd+\u001fsghr\u001fhr\u001flx\u001foqdrdms`shnm\u001fenq\u001fsgd\u001fehm`k\u001foqnidbs\u001fenq\u001fOGXR\u001f2//-\u001fHs\u001fg`r\u001faddm\u001f`\u001ffqd`s\u001fshld\u001fhm\u001fsghr\u001fbk`rr \u001ffnnc\u001fktbj\u001fnm\u001f`kk\u001fxntq\u001fetstqd\u001fdmcd`unqr \n",
      "517\n",
      "the decrypted message for seed 517 is Hello everyone, this is my presentation for the final project for PHYS 300. It has been a great time in this class! good luck on all your future endeavors!\n",
      "518\n",
      "the decrypted message for seed 518 is Gdkkn\u001fdudqxnmd+\u001fsghr\u001fhr\u001flx\u001foqdrdms`shnm\u001fenq\u001fsgd\u001fehm`k\u001foqnidbs\u001fenq\u001fOGXR\u001f2//-\u001fHs\u001fg`r\u001faddm\u001f`\u001ffqd`s\u001fshld\u001fhm\u001fsghr\u001fbk`rr \u001ffnnc\u001fktbj\u001fnm\u001f`kk\u001fxntq\u001fetstqd\u001fdmcd`unqr \n",
      "519\n",
      "the decrypted message for seed 519 is Nkrru&k|kxutk2&znoy&oy&s&vxkyktzgzout&lux&znk&lotgr&vxupkiz&lux&VN_Y&9664&Oz&ngy&hkkt&g&mxkgz&zosk&ot&znoy&irgyy'&muuj&r{iq&ut&grr&u{x&l{z{xk&ktjkg|uxy'\n",
      "520\n",
      "the decrypted message for seed 520 is a~",
      "",
      "9~~~E9999~~z99~9z",
      "9~|99iarl9LIIG9b9z9{~~9z9~z9~999|",
      "z:9}9",
      "|99z",
      "",
      "99~9~}~z:\n",
      "521\n",
      "the decrypted message for seed 521 is ^{",
      "6{{",
      "{B6~666{{w",
      "6|",
      "6~{6|w6",
      "{y6|",
      "6f^oi6IFFD6_6~w6x{{6w6}{w6{66~6yw76}",
      "",
      "z6y6",
      "6w6",
      "6|{6{z{w",
      "7\n",
      "522\n",
      "the decrypted message for seed 522 is _|7||",
      "|C7777||",
      "x",
      "7}7|7}",
      "x7|z7}7g_pj7JGGE7`7x7y||",
      "7x7~|x7|7",
      "77zx87~{7z7",
      "7x77}|7|",
      "{|x8\n",
      "523\n",
      "the decrypted message for seed 523 is Lipps$iziv}sri0$xlmw$mw$q}$tviwirxexmsr$jsv$xli$jmrep$tvsnigx$jsv$TL]W$7442$Mx$lew$fiir$e$kviex$xmqi$mr$xlmw$gpeww%$kssh$pygo$sr$epp$}syv$jyxyvi$irhiezsvw%\n",
      "524\n",
      "the decrypted message for seed 524 is Zw~~2www>2z{",
      "2{",
      "22w",
      "ws{2x2zw2x{s~2|wu2x2bZke2EBB@2[2zs",
      "2tww2s2yws2{w2{2z{",
      "2u~s",
      "",
      "32yv2~u}22s~~22xw2wvws",
      "3\n",
      "525\n",
      "the decrypted message for seed 525 is Gdkkn\u001fdudqxnmd+\u001fsghr\u001fhr\u001flx\u001foqdrdms`shnm\u001fenq\u001fsgd\u001fehm`k\u001foqnidbs\u001fenq\u001fOGXR\u001f2//-\u001fHs\u001fg`r\u001faddm\u001f`\u001ffqd`s\u001fshld\u001fhm\u001fsghr\u001fbk`rr \u001ffnnc\u001fktbj\u001fnm\u001f`kk\u001fxntq\u001fetstqd\u001fdmcd`unqr \n",
      "526\n",
      "the decrypted message for seed 526 is ]z5zzzA5}~5~55",
      "zzv~5{5}z5{~v5",
      "zx5{5e]nh5HEEC5^5}v5wzz5v5|zv5~z5~5}~5xv65|y5x55v55{z5zyzv6\n",
      "527\n",
      "the decrypted message for seed 527 is Tqxx{,qq~",
      "{zq8,tu,u,y",
      ",|~qqzmu{z,r{~,tq,ruzmx,|~{vqo,r{~,\\Te_,?<<:,U,tm,nqqz,m,s~qm,uyq,uz,tu,oxm-,s{{p,xow,{z,mxx,",
      "{~,r~q,qzpqm{~-\n",
      "528\n",
      "the decrypted message for seed 528 is Hello everyone, this is my presentation for the final project for PHYS 300. It has been a great time in this class! good luck on all your future endeavors!\n",
      "529\n",
      "the decrypted message for seed 529 is Mjqqt%j{jw~tsj1%ymnx%nx%r~%uwjxjsyfynts%ktw%ymj%knsfq%uwtojhy%ktw%UM^X%8553%Ny%mfx%gjjs%f%lwjfy%ynrj%ns%ymnx%hqfxx&%ltti%qzhp%ts%fqq%~tzw%kzyzwj%jsijf{twx&\n",
      "530\n",
      "the decrypted message for seed 530 is Wt{{~/t",
      "t~}t;/wx/x/|/tt}px~}/u~/wt/ux}p{/~ytr/u~/_Whb/B??=/X/wp/qtt}/p/vtp/x|t/x}/wx/r{p0/v~~s/{rz/~}/p{{/~/ut/t}stp",
      "~0\n",
      "531\n",
      "the decrypted message for seed 531 is Jgnnq\"gxgt{qpg.\"vjku\"ku\"o{\"rtgugpvcvkqp\"hqt\"vjg\"hkpcn\"rtqlgev\"hqt\"RJ[U\"5220\"Kv\"jcu\"dggp\"c\"itgcv\"vkog\"kp\"vjku\"encuu#\"iqqf\"nwem\"qp\"cnn\"{qwt\"hwvwtg\"gpfgcxqtu#\n",
      "532\n",
      "the decrypted message for seed 532 is [x3xx",
      "x?3{|3|33",
      "xxt|3y",
      "3{x3y|t3",
      "}xv3y",
      "3c[lf3FCCA3\\3{t3uxx3t3z",
      "xt3|x3|3{|3vt43zw3v~33t3",
      "3y",
      "x3xwxt",
      "4\n",
      "533\n",
      "the decrypted message for seed 533 is Uryy|-rr|{r9-uv-v-z-}rr{nv|{-s|-ur-sv{ny-}|wrp-s|-]Uf`-@==;-V-un-orr{-n-trn-vzr-v{-uv-pyn.-t||q-ypx-|{-nyy-|-sr-r{qrn|.\n",
      "534\n",
      "the decrypted message for seed 534 is Tqxx{,qq~",
      "{zq8,tu,u,y",
      ",|~qqzmu{z,r{~,tq,ruzmx,|~{vqo,r{~,\\Te_,?<<:,U,tm,nqqz,m,s~qm,uyq,uz,tu,oxm-,s{{p,xow,{z,mxx,",
      "{~,r~q,qzpqm{~-\n",
      "535\n",
      "the decrypted message for seed 535 is ]z5zzzA5}~5~55",
      "zzv~5{5}z5{~v5",
      "zx5{5e]nh5HEEC5^5}v5wzz5v5|zv5~z5~5}~5xv65|y5x55v55{z5zyzv6\n",
      "536\n",
      "the decrypted message for seed 536 is Jgnnq\"gxgt{qpg.\"vjku\"ku\"o{\"rtgugpvcvkqp\"hqt\"vjg\"hkpcn\"rtqlgev\"hqt\"RJ[U\"5220\"Kv\"jcu\"dggp\"c\"itgcv\"vkog\"kp\"vjku\"encuu#\"iqqf\"nwem\"qp\"cnn\"{qwt\"hwvwtg\"gpfgcxqtu#\n",
      "537\n",
      "the decrypted message for seed 537 is Jgnnq\"gxgt{qpg.\"vjku\"ku\"o{\"rtgugpvcvkqp\"hqt\"vjg\"hkpcn\"rtqlgev\"hqt\"RJ[U\"5220\"Kv\"jcu\"dggp\"c\"itgcv\"vkog\"kp\"vjku\"encuu#\"iqqf\"nwem\"qp\"cnn\"{qwt\"hwvwtg\"gpfgcxqtu#\n",
      "538\n",
      "the decrypted message for seed 538 is Yv}}1vvv=1",
      "yz1z1~1vv",
      "r",
      "z1w1",
      "yv1wzr}1{vt",
      "1w1aYjd1DAA?1Z",
      "1yr1svv1r1xvr",
      "1",
      "z~v1z1",
      "yz1t}r21xu1}t|11r}}11w",
      "v1vuvr2\n",
      "539\n",
      "the decrypted message for seed 539 is Xu||0uu~u<0xy0y0}0uu~qy~0v0xu0vy~q|0zus0v0`Xic0C@@>0Y0xq0ruu~0q0wuq0y}u0y~0xy0s|q10wt0|",
      "s{0~0q||0",
      "0v",
      "",
      "u0u~tuq1\n",
      "540\n",
      "the decrypted message for seed 540 is Nkrru&k|kxutk2&znoy&oy&s&vxkyktzgzout&lux&znk&lotgr&vxupkiz&lux&VN_Y&9664&Oz&ngy&hkkt&g&mxkgz&zosk&ot&znoy&irgyy'&muuj&r{iq&ut&grr&u{x&l{z{xk&ktjkg|uxy'\n",
      "541\n",
      "the decrypted message for seed 541 is Vszz}.ss}|s:.vw.w.{.~ss|ow}|.t}.vs.tw|oz.~}xsq.t}.^Vga.A>><.W.vo.pss|.o.uso.w{s.w|.vw.qzo/.u}}r.zqy.}|.ozz.}.ts.s|rso}/\n",
      "542\n",
      "the decrypted message for seed 542 is Rovvy*oo|yxo6*~rs}*s}*w*z|o}ox~k~syx*py|*~ro*psxkv*z|ytom~*py|*ZRc]*=::8*S~*rk}*loox*k*q|ok~*~swo*sx*~rs}*mvk}}+*qyyn*vmu*yx*kvv*y|*p~|o*oxnoky|}+\n",
      "543\n",
      "the decrypted message for seed 543 is Gdkkn\u001fdudqxnmd+\u001fsghr\u001fhr\u001flx\u001foqdrdms`shnm\u001fenq\u001fsgd\u001fehm`k\u001foqnidbs\u001fenq\u001fOGXR\u001f2//-\u001fHs\u001fg`r\u001faddm\u001f`\u001ffqd`s\u001fshld\u001fhm\u001fsghr\u001fbk`rr \u001ffnnc\u001fktbj\u001fnm\u001f`kk\u001fxntq\u001fetstqd\u001fdmcd`unqr \n",
      "544\n",
      "the decrypted message for seed 544 is Lipps$iziv}sri0$xlmw$mw$q}$tviwirxexmsr$jsv$xli$jmrep$tvsnigx$jsv$TL]W$7442$Mx$lew$fiir$e$kviex$xmqi$mr$xlmw$gpeww%$kssh$pygo$sr$epp$}syv$jyxyvi$irhiezsvw%\n",
      "545\n",
      "the decrypted message for seed 545 is [x3xx",
      "x?3{|3|33",
      "xxt|3y",
      "3{x3y|t3",
      "}xv3y",
      "3c[lf3FCCA3\\3{t3uxx3t3z",
      "xt3|x3|3{|3vt43zw3v~33t3",
      "3y",
      "x3xwxt",
      "4\n",
      "546\n",
      "the decrypted message for seed 546 is a~",
      "",
      "9~~~E9999~~z99~9z",
      "9~|99iarl9LIIG9b9z9{~~9z9~z9~999|",
      "z:9}9",
      "|99z",
      "",
      "99~9~}~z:\n",
      "547\n",
      "the decrypted message for seed 547 is `}8}}}D888",
      "8}}y8~8}8~y8}{8~8h`qk8KHHF8a8y8z}}8y8}y8",
      "}888{y98|8{88y88~}8}|}y9\n",
      "548\n",
      "the decrypted message for seed 548 is `}8}}}D888",
      "8}}y8~8}8~y8}{8~8h`qk8KHHF8a8y8z}}8y8}y8",
      "}888{y98|8{88y88~}8}|}y9\n",
      "549\n",
      "the decrypted message for seed 549 is Mjqqt%j{jw~tsj1%ymnx%nx%r~%uwjxjsyfynts%ktw%ymj%knsfq%uwtojhy%ktw%UM^X%8553%Ny%mfx%gjjs%f%lwjfy%ynrj%ns%ymnx%hqfxx&%ltti%qzhp%ts%fqq%~tzw%kzyzwj%jsijf{twx&\n",
      "550\n",
      "the decrypted message for seed 550 is Gdkkn\u001fdudqxnmd+\u001fsghr\u001fhr\u001flx\u001foqdrdms`shnm\u001fenq\u001fsgd\u001fehm`k\u001foqnidbs\u001fenq\u001fOGXR\u001f2//-\u001fHs\u001fg`r\u001faddm\u001f`\u001ffqd`s\u001fshld\u001fhm\u001fsghr\u001fbk`rr \u001ffnnc\u001fktbj\u001fnm\u001f`kk\u001fxntq\u001fetstqd\u001fdmcd`unqr \n",
      "551\n",
      "the decrypted message for seed 551 is Qnuux)nn{xwn5)}qr|)r|)v)y{n|nw}j}rxw)ox{)}qn)orwju)y{xsnl})ox{)YQb\\)<997)R})qj|)knnw)j)p{nj})}rvn)rw)}qr|)luj||*)pxxm)u~lt)xw)juu)x~{)o~}~{n)nwmnjx{|*\n",
      "552\n",
      "the decrypted message for seed 552 is a~",
      "",
      "9~~~E9999~~z99~9z",
      "9~|99iarl9LIIG9b9z9{~~9z9~z9~999|",
      "z:9}9",
      "|99z",
      "",
      "99~9~}~z:\n",
      "553\n",
      "the decrypted message for seed 553 is Rovvy*oo|yxo6*~rs}*s}*w*z|o}ox~k~syx*py|*~ro*psxkv*z|ytom~*py|*ZRc]*=::8*S~*rk}*loox*k*q|ok~*~swo*sx*~rs}*mvk}}+*qyyn*vmu*yx*kvv*y|*p~|o*oxnoky|}+\n",
      "554\n",
      "the decrypted message for seed 554 is Qnuux)nn{xwn5)}qr|)r|)v)y{n|nw}j}rxw)ox{)}qn)orwju)y{xsnl})ox{)YQb\\)<997)R})qj|)knnw)j)p{nj})}rvn)rw)}qr|)luj||*)pxxm)u~lt)xw)juu)x~{)o~}~{n)nwmnjx{|*\n",
      "555\n",
      "the decrypted message for seed 555 is [x3xx",
      "x?3{|3|33",
      "xxt|3y",
      "3{x3y|t3",
      "}xv3y",
      "3c[lf3FCCA3\\3{t3uxx3t3z",
      "xt3|x3|3{|3vt43zw3v~33t3",
      "3y",
      "x3xwxt",
      "4\n",
      "556\n",
      "the decrypted message for seed 556 is Khoor#hyhu|rqh/#wklv#lv#p|#suhvhqwdwlrq#iru#wkh#ilqdo#surmhfw#iru#SK\\V#6331#Lw#kdv#ehhq#d#juhdw#wlph#lq#wklv#fodvv$#jrrg#oxfn#rq#doo#|rxu#ixwxuh#hqghdyruv$\n",
      "557\n",
      "the decrypted message for seed 557 is a~",
      "",
      "9~~~E9999~~z99~9z",
      "9~|99iarl9LIIG9b9z9{~~9z9~z9~999|",
      "z:9}9",
      "|99z",
      "",
      "99~9~}~z:\n",
      "558\n",
      "the decrypted message for seed 558 is Uryy|-rr|{r9-uv-v-z-}rr{nv|{-s|-ur-sv{ny-}|wrp-s|-]Uf`-@==;-V-un-orr{-n-trn-vzr-v{-uv-pyn.-t||q-ypx-|{-nyy-|-sr-r{qrn|.\n",
      "559\n",
      "the decrypted message for seed 559 is a~",
      "",
      "9~~~E9999~~z99~9z",
      "9~|99iarl9LIIG9b9z9{~~9z9~z9~999|",
      "z:9}9",
      "|99z",
      "",
      "99~9~}~z:\n",
      "560\n",
      "the decrypted message for seed 560 is Ifmmp!fwfszpof-!uijt!jt!nz!qsftfoubujpo!gps!uif!gjobm!qspkfdu!gps!QIZT!411/!Ju!ibt!cffo!b!hsfbu!ujnf!jo!uijt!dmbtt\"!hppe!mvdl!po!bmm!zpvs!gvuvsf!foefbwpst\"\n",
      "561\n",
      "the decrypted message for seed 561 is Olssv'l}lyvul3'{opz'pz't'wylzlu{h{pvu'mvy'{ol'mpuhs'wyvqlj{'mvy'WO`Z':775'P{'ohz'illu'h'nylh{'{ptl'pu'{opz'jshzz('nvvk's|jr'vu'hss'v|y'm|{|yl'luklh}vyz(\n",
      "562\n",
      "the decrypted message for seed 562 is Jgnnq\"gxgt{qpg.\"vjku\"ku\"o{\"rtgugpvcvkqp\"hqt\"vjg\"hkpcn\"rtqlgev\"hqt\"RJ[U\"5220\"Kv\"jcu\"dggp\"c\"itgcv\"vkog\"kp\"vjku\"encuu#\"iqqf\"nwem\"qp\"cnn\"{qwt\"hwvwtg\"gpfgcxqtu#\n",
      "563\n",
      "the decrypted message for seed 563 is Qnuux)nn{xwn5)}qr|)r|)v)y{n|nw}j}rxw)ox{)}qn)orwju)y{xsnl})ox{)YQb\\)<997)R})qj|)knnw)j)p{nj})}rvn)rw)}qr|)luj||*)pxxm)u~lt)xw)juu)x~{)o~}~{n)nwmnjx{|*\n",
      "564\n",
      "the decrypted message for seed 564 is Xu||0uu~u<0xy0y0}0uu~qy~0v0xu0vy~q|0zus0v0`Xic0C@@>0Y0xq0ruu~0q0wuq0y}u0y~0xy0s|q10wt0|",
      "s{0~0q||0",
      "0v",
      "",
      "u0u~tuq1\n",
      "565\n",
      "the decrypted message for seed 565 is Mjqqt%j{jw~tsj1%ymnx%nx%r~%uwjxjsyfynts%ktw%ymj%knsfq%uwtojhy%ktw%UM^X%8553%Ny%mfx%gjjs%f%lwjfy%ynrj%ns%ymnx%hqfxx&%ltti%qzhp%ts%fqq%~tzw%kzyzwj%jsijf{twx&\n",
      "566\n",
      "the decrypted message for seed 566 is Hello everyone, this is my presentation for the final project for PHYS 300. It has been a great time in this class! good luck on all your future endeavors!\n",
      "567\n",
      "the decrypted message for seed 567 is ]z5zzzA5}~5~55",
      "zzv~5{5}z5{~v5",
      "zx5{5e]nh5HEEC5^5}v5wzz5v5|zv5~z5~5}~5xv65|y5x55v55{z5zyzv6\n",
      "568\n",
      "the decrypted message for seed 568 is ^{",
      "6{{",
      "{B6~666{{w",
      "6|",
      "6~{6|w6",
      "{y6|",
      "6f^oi6IFFD6_6~w6x{{6w6}{w6{66~6yw76}",
      "",
      "z6y6",
      "6w6",
      "6|{6{z{w",
      "7\n",
      "569\n",
      "the decrypted message for seed 569 is Nkrru&k|kxutk2&znoy&oy&s&vxkyktzgzout&lux&znk&lotgr&vxupkiz&lux&VN_Y&9664&Oz&ngy&hkkt&g&mxkgz&zosk&ot&znoy&irgyy'&muuj&r{iq&ut&grr&u{x&l{z{xk&ktjkg|uxy'\n",
      "570\n",
      "the decrypted message for seed 570 is _|7||",
      "|C7777||",
      "x",
      "7}7|7}",
      "x7|z7}7g_pj7JGGE7`7x7y||",
      "7x7~|x7|7",
      "77zx87~{7z7",
      "7x77}|7|",
      "{|x8\n",
      "571\n",
      "the decrypted message for seed 571 is ]z5zzzA5}~5~55",
      "zzv~5{5}z5{~v5",
      "zx5{5e]nh5HEEC5^5}v5wzz5v5|zv5~z5~5}~5xv65|y5x55v55{z5zyzv6\n",
      "572\n",
      "the decrypted message for seed 572 is [x3xx",
      "x?3{|3|33",
      "xxt|3y",
      "3{x3y|t3",
      "}xv3y",
      "3c[lf3FCCA3\\3{t3uxx3t3z",
      "xt3|x3|3{|3vt43zw3v~33t3",
      "3y",
      "x3xwxt",
      "4\n",
      "573\n",
      "the decrypted message for seed 573 is Khoor#hyhu|rqh/#wklv#lv#p|#suhvhqwdwlrq#iru#wkh#ilqdo#surmhfw#iru#SK\\V#6331#Lw#kdv#ehhq#d#juhdw#wlph#lq#wklv#fodvv$#jrrg#oxfn#rq#doo#|rxu#ixwxuh#hqghdyruv$\n",
      "574\n",
      "the decrypted message for seed 574 is Xu||0uu~u<0xy0y0}0uu~qy~0v0xu0vy~q|0zus0v0`Xic0C@@>0Y0xq0ruu~0q0wuq0y}u0y~0xy0s|q10wt0|",
      "s{0~0q||0",
      "0v",
      "",
      "u0u~tuq1\n",
      "575\n",
      "the decrypted message for seed 575 is Xu||0uu~u<0xy0y0}0uu~qy~0v0xu0vy~q|0zus0v0`Xic0C@@>0Y0xq0ruu~0q0wuq0y}u0y~0xy0s|q10wt0|",
      "s{0~0q||0",
      "0v",
      "",
      "u0u~tuq1\n",
      "576\n",
      "the decrypted message for seed 576 is Ifmmp!fwfszpof-!uijt!jt!nz!qsftfoubujpo!gps!uif!gjobm!qspkfdu!gps!QIZT!411/!Ju!ibt!cffo!b!hsfbu!ujnf!jo!uijt!dmbtt\"!hppe!mvdl!po!bmm!zpvs!gvuvsf!foefbwpst\"\n",
      "577\n",
      "the decrypted message for seed 577 is Uryy|-rr|{r9-uv-v-z-}rr{nv|{-s|-ur-sv{ny-}|wrp-s|-]Uf`-@==;-V-un-orr{-n-trn-vzr-v{-uv-pyn.-t||q-ypx-|{-nyy-|-sr-r{qrn|.\n",
      "578\n",
      "the decrypted message for seed 578 is Ifmmp!fwfszpof-!uijt!jt!nz!qsftfoubujpo!gps!uif!gjobm!qspkfdu!gps!QIZT!411/!Ju!ibt!cffo!b!hsfbu!ujnf!jo!uijt!dmbtt\"!hppe!mvdl!po!bmm!zpvs!gvuvsf!foefbwpst\"\n",
      "579\n",
      "the decrypted message for seed 579 is Wt{{~/t",
      "t~}t;/wx/x/|/tt}px~}/u~/wt/ux}p{/~ytr/u~/_Whb/B??=/X/wp/qtt}/p/vtp/x|t/x}/wx/r{p0/v~~s/{rz/~}/p{{/~/ut/t}stp",
      "~0\n",
      "580\n",
      "the decrypted message for seed 580 is Qnuux)nn{xwn5)}qr|)r|)v)y{n|nw}j}rxw)ox{)}qn)orwju)y{xsnl})ox{)YQb\\)<997)R})qj|)knnw)j)p{nj})}rvn)rw)}qr|)luj||*)pxxm)u~lt)xw)juu)x~{)o~}~{n)nwmnjx{|*\n",
      "581\n",
      "the decrypted message for seed 581 is Khoor#hyhu|rqh/#wklv#lv#p|#suhvhqwdwlrq#iru#wkh#ilqdo#surmhfw#iru#SK\\V#6331#Lw#kdv#ehhq#d#juhdw#wlph#lq#wklv#fodvv$#jrrg#oxfn#rq#doo#|rxu#ixwxuh#hqghdyruv$\n",
      "582\n",
      "the decrypted message for seed 582 is [x3xx",
      "x?3{|3|33",
      "xxt|3y",
      "3{x3y|t3",
      "}xv3y",
      "3c[lf3FCCA3\\3{t3uxx3t3z",
      "xt3|x3|3{|3vt43zw3v~33t3",
      "3y",
      "x3xwxt",
      "4\n",
      "583\n",
      "the decrypted message for seed 583 is Pmttw(m~mzwvm4(|pq{(q{(u(xzm{mv|i|qwv(nwz(|pm(nqvit(xzwrmk|(nwz(XPa[(;886(Q|(pi{(jmmv(i(ozmi|(|qum(qv(|pq{(kti{{)(owwl(t}ks(wv(itt(w}z(n}|}zm(mvlmi~wz{)\n",
      "584\n",
      "the decrypted message for seed 584 is Nkrru&k|kxutk2&znoy&oy&s&vxkyktzgzout&lux&znk&lotgr&vxupkiz&lux&VN_Y&9664&Oz&ngy&hkkt&g&mxkgz&zosk&ot&znoy&irgyy'&muuj&r{iq&ut&grr&u{x&l{z{xk&ktjkg|uxy'\n",
      "585\n",
      "the decrypted message for seed 585 is `}8}}}D888",
      "8}}y8~8}8~y8}{8~8h`qk8KHHF8a8y8z}}8y8}y8",
      "}888{y98|8{88y88~}8}|}y9\n",
      "586\n",
      "the decrypted message for seed 586 is Jgnnq\"gxgt{qpg.\"vjku\"ku\"o{\"rtgugpvcvkqp\"hqt\"vjg\"hkpcn\"rtqlgev\"hqt\"RJ[U\"5220\"Kv\"jcu\"dggp\"c\"itgcv\"vkog\"kp\"vjku\"encuu#\"iqqf\"nwem\"qp\"cnn\"{qwt\"hwvwtg\"gpfgcxqtu#\n",
      "587\n",
      "the decrypted message for seed 587 is Khoor#hyhu|rqh/#wklv#lv#p|#suhvhqwdwlrq#iru#wkh#ilqdo#surmhfw#iru#SK\\V#6331#Lw#kdv#ehhq#d#juhdw#wlph#lq#wklv#fodvv$#jrrg#oxfn#rq#doo#|rxu#ixwxuh#hqghdyruv$\n",
      "588\n",
      "the decrypted message for seed 588 is Jgnnq\"gxgt{qpg.\"vjku\"ku\"o{\"rtgugpvcvkqp\"hqt\"vjg\"hkpcn\"rtqlgev\"hqt\"RJ[U\"5220\"Kv\"jcu\"dggp\"c\"itgcv\"vkog\"kp\"vjku\"encuu#\"iqqf\"nwem\"qp\"cnn\"{qwt\"hwvwtg\"gpfgcxqtu#\n",
      "589\n",
      "the decrypted message for seed 589 is ^{",
      "6{{",
      "{B6~666{{w",
      "6|",
      "6~{6|w6",
      "{y6|",
      "6f^oi6IFFD6_6~w6x{{6w6}{w6{66~6yw76}",
      "",
      "z6y6",
      "6w6",
      "6|{6{z{w",
      "7\n",
      "590\n",
      "the decrypted message for seed 590 is a~",
      "",
      "9~~~E9999~~z99~9z",
      "9~|99iarl9LIIG9b9z9{~~9z9~z9~999|",
      "z:9}9",
      "|99z",
      "",
      "99~9~}~z:\n",
      "591\n",
      "the decrypted message for seed 591 is Pmttw(m~mzwvm4(|pq{(q{(u(xzm{mv|i|qwv(nwz(|pm(nqvit(xzwrmk|(nwz(XPa[(;886(Q|(pi{(jmmv(i(ozmi|(|qum(qv(|pq{(kti{{)(owwl(t}ks(wv(itt(w}z(n}|}zm(mvlmi~wz{)\n",
      "592\n",
      "the decrypted message for seed 592 is _|7||",
      "|C7777||",
      "x",
      "7}7|7}",
      "x7|z7}7g_pj7JGGE7`7x7y||",
      "7x7~|x7|7",
      "77zx87~{7z7",
      "7x77}|7|",
      "{|x8\n",
      "593\n",
      "the decrypted message for seed 593 is Wt{{~/t",
      "t~}t;/wx/x/|/tt}px~}/u~/wt/ux}p{/~ytr/u~/_Whb/B??=/X/wp/qtt}/p/vtp/x|t/x}/wx/r{p0/v~~s/{rz/~}/p{{/~/ut/t}stp",
      "~0\n",
      "594\n",
      "the decrypted message for seed 594 is ]z5zzzA5}~5~55",
      "zzv~5{5}z5{~v5",
      "zx5{5e]nh5HEEC5^5}v5wzz5v5|zv5~z5~5}~5xv65|y5x55v55{z5zyzv6\n",
      "595\n",
      "the decrypted message for seed 595 is Vszz}.ss}|s:.vw.w.{.~ss|ow}|.t}.vs.tw|oz.~}xsq.t}.^Vga.A>><.W.vo.pss|.o.uso.w{s.w|.vw.qzo/.u}}r.zqy.}|.ozz.}.ts.s|rso}/\n",
      "596\n",
      "the decrypted message for seed 596 is Uryy|-rr|{r9-uv-v-z-}rr{nv|{-s|-ur-sv{ny-}|wrp-s|-]Uf`-@==;-V-un-orr{-n-trn-vzr-v{-uv-pyn.-t||q-ypx-|{-nyy-|-sr-r{qrn|.\n",
      "597\n",
      "the decrypted message for seed 597 is ^{",
      "6{{",
      "{B6~666{{w",
      "6|",
      "6~{6|w6",
      "{y6|",
      "6f^oi6IFFD6_6~w6x{{6w6}{w6{66~6yw76}",
      "",
      "z6y6",
      "6w6",
      "6|{6{z{w",
      "7\n",
      "598\n",
      "the decrypted message for seed 598 is Gdkkn\u001fdudqxnmd+\u001fsghr\u001fhr\u001flx\u001foqdrdms`shnm\u001fenq\u001fsgd\u001fehm`k\u001foqnidbs\u001fenq\u001fOGXR\u001f2//-\u001fHs\u001fg`r\u001faddm\u001f`\u001ffqd`s\u001fshld\u001fhm\u001fsghr\u001fbk`rr \u001ffnnc\u001fktbj\u001fnm\u001f`kk\u001fxntq\u001fetstqd\u001fdmcd`unqr \n",
      "599\n",
      "the decrypted message for seed 599 is Khoor#hyhu|rqh/#wklv#lv#p|#suhvhqwdwlrq#iru#wkh#ilqdo#surmhfw#iru#SK\\V#6331#Lw#kdv#ehhq#d#juhdw#wlph#lq#wklv#fodvv$#jrrg#oxfn#rq#doo#|rxu#ixwxuh#hqghdyruv$\n",
      "600\n",
      "the decrypted message for seed 600 is Yv}}1vvv=1",
      "yz1z1~1vv",
      "r",
      "z1w1",
      "yv1wzr}1{vt",
      "1w1aYjd1DAA?1Z",
      "1yr1svv1r1xvr",
      "1",
      "z~v1z1",
      "yz1t}r21xu1}t|11r}}11w",
      "v1vuvr2\n",
      "601\n",
      "the decrypted message for seed 601 is [x3xx",
      "x?3{|3|33",
      "xxt|3y",
      "3{x3y|t3",
      "}xv3y",
      "3c[lf3FCCA3\\3{t3uxx3t3z",
      "xt3|x3|3{|3vt43zw3v~33t3",
      "3y",
      "x3xwxt",
      "4\n",
      "602\n",
      "the decrypted message for seed 602 is Uryy|-rr|{r9-uv-v-z-}rr{nv|{-s|-ur-sv{ny-}|wrp-s|-]Uf`-@==;-V-un-orr{-n-trn-vzr-v{-uv-pyn.-t||q-ypx-|{-nyy-|-sr-r{qrn|.\n",
      "603\n",
      "the decrypted message for seed 603 is \\y4yyy@4|}4}44yyu}4z4|y4z}u4~yw4z4d\\mg4GDDB4]4|u4vyy4u4{yu4}y4}4|}4wu54{x4w44u44zy4yxyu5\n",
      "604\n",
      "the decrypted message for seed 604 is _|7||",
      "|C7777||",
      "x",
      "7}7|7}",
      "x7|z7}7g_pj7JGGE7`7x7y||",
      "7x7~|x7|7",
      "77zx87~{7z7",
      "7x77}|7|",
      "{|x8\n",
      "605\n",
      "the decrypted message for seed 605 is \\y4yyy@4|}4}44yyu}4z4|y4z}u4~yw4z4d\\mg4GDDB4]4|u4vyy4u4{yu4}y4}4|}4wu54{x4w44u44zy4yxyu5\n",
      "606\n",
      "the decrypted message for seed 606 is Jgnnq\"gxgt{qpg.\"vjku\"ku\"o{\"rtgugpvcvkqp\"hqt\"vjg\"hkpcn\"rtqlgev\"hqt\"RJ[U\"5220\"Kv\"jcu\"dggp\"c\"itgcv\"vkog\"kp\"vjku\"encuu#\"iqqf\"nwem\"qp\"cnn\"{qwt\"hwvwtg\"gpfgcxqtu#\n",
      "607\n",
      "the decrypted message for seed 607 is Khoor#hyhu|rqh/#wklv#lv#p|#suhvhqwdwlrq#iru#wkh#ilqdo#surmhfw#iru#SK\\V#6331#Lw#kdv#ehhq#d#juhdw#wlph#lq#wklv#fodvv$#jrrg#oxfn#rq#doo#|rxu#ixwxuh#hqghdyruv$\n",
      "608\n",
      "the decrypted message for seed 608 is ]z5zzzA5}~5~55",
      "zzv~5{5}z5{~v5",
      "zx5{5e]nh5HEEC5^5}v5wzz5v5|zv5~z5~5}~5xv65|y5x55v55{z5zyzv6\n",
      "609\n",
      "the decrypted message for seed 609 is Mjqqt%j{jw~tsj1%ymnx%nx%r~%uwjxjsyfynts%ktw%ymj%knsfq%uwtojhy%ktw%UM^X%8553%Ny%mfx%gjjs%f%lwjfy%ynrj%ns%ymnx%hqfxx&%ltti%qzhp%ts%fqq%~tzw%kzyzwj%jsijf{twx&\n",
      "610\n",
      "the decrypted message for seed 610 is Spwwz+pp}zyp7+st~+t~+x+{}p~pyltzy+qz}+sp+qtylw+{}zupn+qz}+[Sd^+>;;9+T+sl~+mppy+l+r}pl+txp+ty+st~+nwl~~,+rzzo+wnv+zy+lww+z}+q}p+pyoplz}~,\n",
      "611\n",
      "the decrypted message for seed 611 is Pmttw(m~mzwvm4(|pq{(q{(u(xzm{mv|i|qwv(nwz(|pm(nqvit(xzwrmk|(nwz(XPa[(;886(Q|(pi{(jmmv(i(ozmi|(|qum(qv(|pq{(kti{{)(owwl(t}ks(wv(itt(w}z(n}|}zm(mvlmi~wz{)\n",
      "612\n",
      "the decrypted message for seed 612 is Gdkkn\u001fdudqxnmd+\u001fsghr\u001fhr\u001flx\u001foqdrdms`shnm\u001fenq\u001fsgd\u001fehm`k\u001foqnidbs\u001fenq\u001fOGXR\u001f2//-\u001fHs\u001fg`r\u001faddm\u001f`\u001ffqd`s\u001fshld\u001fhm\u001fsghr\u001fbk`rr \u001ffnnc\u001fktbj\u001fnm\u001f`kk\u001fxntq\u001fetstqd\u001fdmcd`unqr \n",
      "613\n",
      "the decrypted message for seed 613 is Yv}}1vvv=1",
      "yz1z1~1vv",
      "r",
      "z1w1",
      "yv1wzr}1{vt",
      "1w1aYjd1DAA?1Z",
      "1yr1svv1r1xvr",
      "1",
      "z~v1z1",
      "yz1t}r21xu1}t|11r}}11w",
      "v1vuvr2\n",
      "614\n",
      "the decrypted message for seed 614 is Yv}}1vvv=1",
      "yz1z1~1vv",
      "r",
      "z1w1",
      "yv1wzr}1{vt",
      "1w1aYjd1DAA?1Z",
      "1yr1svv1r1xvr",
      "1",
      "z~v1z1",
      "yz1t}r21xu1}t|11r}}11w",
      "v1vuvr2\n",
      "615\n",
      "the decrypted message for seed 615 is Zw~~2www>2z{",
      "2{",
      "22w",
      "ws{2x2zw2x{s~2|wu2x2bZke2EBB@2[2zs",
      "2tww2s2yws2{w2{2z{",
      "2u~s",
      "",
      "32yv2~u}22s~~22xw2wvws",
      "3\n",
      "616\n",
      "the decrypted message for seed 616 is a~",
      "",
      "9~~~E9999~~z99~9z",
      "9~|99iarl9LIIG9b9z9{~~9z9~z9~999|",
      "z:9}9",
      "|99z",
      "",
      "99~9~}~z:\n",
      "617\n",
      "the decrypted message for seed 617 is Khoor#hyhu|rqh/#wklv#lv#p|#suhvhqwdwlrq#iru#wkh#ilqdo#surmhfw#iru#SK\\V#6331#Lw#kdv#ehhq#d#juhdw#wlph#lq#wklv#fodvv$#jrrg#oxfn#rq#doo#|rxu#ixwxuh#hqghdyruv$\n",
      "618\n",
      "the decrypted message for seed 618 is Spwwz+pp}zyp7+st~+t~+x+{}p~pyltzy+qz}+sp+qtylw+{}zupn+qz}+[Sd^+>;;9+T+sl~+mppy+l+r}pl+txp+ty+st~+nwl~~,+rzzo+wnv+zy+lww+z}+q}p+pyoplz}~,\n",
      "619\n",
      "the decrypted message for seed 619 is Qnuux)nn{xwn5)}qr|)r|)v)y{n|nw}j}rxw)ox{)}qn)orwju)y{xsnl})ox{)YQb\\)<997)R})qj|)knnw)j)p{nj})}rvn)rw)}qr|)luj||*)pxxm)u~lt)xw)juu)x~{)o~}~{n)nwmnjx{|*\n",
      "620\n",
      "the decrypted message for seed 620 is Zw~~2www>2z{",
      "2{",
      "22w",
      "ws{2x2zw2x{s~2|wu2x2bZke2EBB@2[2zs",
      "2tww2s2yws2{w2{2z{",
      "2u~s",
      "",
      "32yv2~u}22s~~22xw2wvws",
      "3\n",
      "621\n",
      "the decrypted message for seed 621 is Wt{{~/t",
      "t~}t;/wx/x/|/tt}px~}/u~/wt/ux}p{/~ytr/u~/_Whb/B??=/X/wp/qtt}/p/vtp/x|t/x}/wx/r{p0/v~~s/{rz/~}/p{{/~/ut/t}stp",
      "~0\n",
      "622\n",
      "the decrypted message for seed 622 is Xu||0uu~u<0xy0y0}0uu~qy~0v0xu0vy~q|0zus0v0`Xic0C@@>0Y0xq0ruu~0q0wuq0y}u0y~0xy0s|q10wt0|",
      "s{0~0q||0",
      "0v",
      "",
      "u0u~tuq1\n",
      "623\n",
      "the decrypted message for seed 623 is `}8}}}D888",
      "8}}y8~8}8~y8}{8~8h`qk8KHHF8a8y8z}}8y8}y8",
      "}888{y98|8{88y88~}8}|}y9\n",
      "624\n",
      "the decrypted message for seed 624 is [x3xx",
      "x?3{|3|33",
      "xxt|3y",
      "3{x3y|t3",
      "}xv3y",
      "3c[lf3FCCA3\\3{t3uxx3t3z",
      "xt3|x3|3{|3vt43zw3v~33t3",
      "3y",
      "x3xwxt",
      "4\n",
      "625\n",
      "the decrypted message for seed 625 is Tqxx{,qq~",
      "{zq8,tu,u,y",
      ",|~qqzmu{z,r{~,tq,ruzmx,|~{vqo,r{~,\\Te_,?<<:,U,tm,nqqz,m,s~qm,uyq,uz,tu,oxm-,s{{p,xow,{z,mxx,",
      "{~,r~q,qzpqm{~-\n",
      "626\n",
      "the decrypted message for seed 626 is Vszz}.ss}|s:.vw.w.{.~ss|ow}|.t}.vs.tw|oz.~}xsq.t}.^Vga.A>><.W.vo.pss|.o.uso.w{s.w|.vw.qzo/.u}}r.zqy.}|.ozz.}.ts.s|rso}/\n",
      "627\n",
      "the decrypted message for seed 627 is Yv}}1vvv=1",
      "yz1z1~1vv",
      "r",
      "z1w1",
      "yv1wzr}1{vt",
      "1w1aYjd1DAA?1Z",
      "1yr1svv1r1xvr",
      "1",
      "z~v1z1",
      "yz1t}r21xu1}t|11r}}11w",
      "v1vuvr2\n",
      "628\n",
      "the decrypted message for seed 628 is Uryy|-rr|{r9-uv-v-z-}rr{nv|{-s|-ur-sv{ny-}|wrp-s|-]Uf`-@==;-V-un-orr{-n-trn-vzr-v{-uv-pyn.-t||q-ypx-|{-nyy-|-sr-r{qrn|.\n",
      "629\n",
      "the decrypted message for seed 629 is `}8}}}D888",
      "8}}y8~8}8~y8}{8~8h`qk8KHHF8a8y8z}}8y8}y8",
      "}888{y98|8{88y88~}8}|}y9\n",
      "630\n",
      "the decrypted message for seed 630 is Spwwz+pp}zyp7+st~+t~+x+{}p~pyltzy+qz}+sp+qtylw+{}zupn+qz}+[Sd^+>;;9+T+sl~+mppy+l+r}pl+txp+ty+st~+nwl~~,+rzzo+wnv+zy+lww+z}+q}p+pyoplz}~,\n",
      "631\n",
      "the decrypted message for seed 631 is Hello everyone, this is my presentation for the final project for PHYS 300. It has been a great time in this class! good luck on all your future endeavors!\n",
      "632\n",
      "the decrypted message for seed 632 is Vszz}.ss}|s:.vw.w.{.~ss|ow}|.t}.vs.tw|oz.~}xsq.t}.^Vga.A>><.W.vo.pss|.o.uso.w{s.w|.vw.qzo/.u}}r.zqy.}|.ozz.}.ts.s|rso}/\n",
      "633\n",
      "the decrypted message for seed 633 is `}8}}}D888",
      "8}}y8~8}8~y8}{8~8h`qk8KHHF8a8y8z}}8y8}y8",
      "}888{y98|8{88y88~}8}|}y9\n",
      "634\n",
      "the decrypted message for seed 634 is ]z5zzzA5}~5~55",
      "zzv~5{5}z5{~v5",
      "zx5{5e]nh5HEEC5^5}v5wzz5v5|zv5~z5~5}~5xv65|y5x55v55{z5zyzv6\n",
      "635\n",
      "the decrypted message for seed 635 is Vszz}.ss}|s:.vw.w.{.~ss|ow}|.t}.vs.tw|oz.~}xsq.t}.^Vga.A>><.W.vo.pss|.o.uso.w{s.w|.vw.qzo/.u}}r.zqy.}|.ozz.}.ts.s|rso}/\n",
      "636\n",
      "the decrypted message for seed 636 is [x3xx",
      "x?3{|3|33",
      "xxt|3y",
      "3{x3y|t3",
      "}xv3y",
      "3c[lf3FCCA3\\3{t3uxx3t3z",
      "xt3|x3|3{|3vt43zw3v~33t3",
      "3y",
      "x3xwxt",
      "4\n",
      "637\n",
      "the decrypted message for seed 637 is Rovvy*oo|yxo6*~rs}*s}*w*z|o}ox~k~syx*py|*~ro*psxkv*z|ytom~*py|*ZRc]*=::8*S~*rk}*loox*k*q|ok~*~swo*sx*~rs}*mvk}}+*qyyn*vmu*yx*kvv*y|*p~|o*oxnoky|}+\n",
      "638\n",
      "the decrypted message for seed 638 is Mjqqt%j{jw~tsj1%ymnx%nx%r~%uwjxjsyfynts%ktw%ymj%knsfq%uwtojhy%ktw%UM^X%8553%Ny%mfx%gjjs%f%lwjfy%ynrj%ns%ymnx%hqfxx&%ltti%qzhp%ts%fqq%~tzw%kzyzwj%jsijf{twx&\n",
      "639\n",
      "the decrypted message for seed 639 is Khoor#hyhu|rqh/#wklv#lv#p|#suhvhqwdwlrq#iru#wkh#ilqdo#surmhfw#iru#SK\\V#6331#Lw#kdv#ehhq#d#juhdw#wlph#lq#wklv#fodvv$#jrrg#oxfn#rq#doo#|rxu#ixwxuh#hqghdyruv$\n",
      "640\n",
      "the decrypted message for seed 640 is a~",
      "",
      "9~~~E9999~~z99~9z",
      "9~|99iarl9LIIG9b9z9{~~9z9~z9~999|",
      "z:9}9",
      "|99z",
      "",
      "99~9~}~z:\n",
      "641\n",
      "the decrypted message for seed 641 is Uryy|-rr|{r9-uv-v-z-}rr{nv|{-s|-ur-sv{ny-}|wrp-s|-]Uf`-@==;-V-un-orr{-n-trn-vzr-v{-uv-pyn.-t||q-ypx-|{-nyy-|-sr-r{qrn|.\n",
      "642\n",
      "the decrypted message for seed 642 is Lipps$iziv}sri0$xlmw$mw$q}$tviwirxexmsr$jsv$xli$jmrep$tvsnigx$jsv$TL]W$7442$Mx$lew$fiir$e$kviex$xmqi$mr$xlmw$gpeww%$kssh$pygo$sr$epp$}syv$jyxyvi$irhiezsvw%\n",
      "643\n",
      "the decrypted message for seed 643 is Pmttw(m~mzwvm4(|pq{(q{(u(xzm{mv|i|qwv(nwz(|pm(nqvit(xzwrmk|(nwz(XPa[(;886(Q|(pi{(jmmv(i(ozmi|(|qum(qv(|pq{(kti{{)(owwl(t}ks(wv(itt(w}z(n}|}zm(mvlmi~wz{)\n",
      "644\n",
      "the decrypted message for seed 644 is Rovvy*oo|yxo6*~rs}*s}*w*z|o}ox~k~syx*py|*~ro*psxkv*z|ytom~*py|*ZRc]*=::8*S~*rk}*loox*k*q|ok~*~swo*sx*~rs}*mvk}}+*qyyn*vmu*yx*kvv*y|*p~|o*oxnoky|}+\n",
      "645\n",
      "the decrypted message for seed 645 is [x3xx",
      "x?3{|3|33",
      "xxt|3y",
      "3{x3y|t3",
      "}xv3y",
      "3c[lf3FCCA3\\3{t3uxx3t3z",
      "xt3|x3|3{|3vt43zw3v~33t3",
      "3y",
      "x3xwxt",
      "4\n",
      "646\n",
      "the decrypted message for seed 646 is Olssv'l}lyvul3'{opz'pz't'wylzlu{h{pvu'mvy'{ol'mpuhs'wyvqlj{'mvy'WO`Z':775'P{'ohz'illu'h'nylh{'{ptl'pu'{opz'jshzz('nvvk's|jr'vu'hss'v|y'm|{|yl'luklh}vyz(\n",
      "647\n",
      "the decrypted message for seed 647 is Lipps$iziv}sri0$xlmw$mw$q}$tviwirxexmsr$jsv$xli$jmrep$tvsnigx$jsv$TL]W$7442$Mx$lew$fiir$e$kviex$xmqi$mr$xlmw$gpeww%$kssh$pygo$sr$epp$}syv$jyxyvi$irhiezsvw%\n",
      "648\n",
      "the decrypted message for seed 648 is Mjqqt%j{jw~tsj1%ymnx%nx%r~%uwjxjsyfynts%ktw%ymj%knsfq%uwtojhy%ktw%UM^X%8553%Ny%mfx%gjjs%f%lwjfy%ynrj%ns%ymnx%hqfxx&%ltti%qzhp%ts%fqq%~tzw%kzyzwj%jsijf{twx&\n",
      "649\n",
      "the decrypted message for seed 649 is Vszz}.ss}|s:.vw.w.{.~ss|ow}|.t}.vs.tw|oz.~}xsq.t}.^Vga.A>><.W.vo.pss|.o.uso.w{s.w|.vw.qzo/.u}}r.zqy.}|.ozz.}.ts.s|rso}/\n",
      "650\n",
      "the decrypted message for seed 650 is Wt{{~/t",
      "t~}t;/wx/x/|/tt}px~}/u~/wt/ux}p{/~ytr/u~/_Whb/B??=/X/wp/qtt}/p/vtp/x|t/x}/wx/r{p0/v~~s/{rz/~}/p{{/~/ut/t}stp",
      "~0\n",
      "651\n",
      "the decrypted message for seed 651 is `}8}}}D888",
      "8}}y8~8}8~y8}{8~8h`qk8KHHF8a8y8z}}8y8}y8",
      "}888{y98|8{88y88~}8}|}y9\n",
      "652\n",
      "the decrypted message for seed 652 is ]z5zzzA5}~5~55",
      "zzv~5{5}z5{~v5",
      "zx5{5e]nh5HEEC5^5}v5wzz5v5|zv5~z5~5}~5xv65|y5x55v55{z5zyzv6\n",
      "653\n",
      "the decrypted message for seed 653 is Jgnnq\"gxgt{qpg.\"vjku\"ku\"o{\"rtgugpvcvkqp\"hqt\"vjg\"hkpcn\"rtqlgev\"hqt\"RJ[U\"5220\"Kv\"jcu\"dggp\"c\"itgcv\"vkog\"kp\"vjku\"encuu#\"iqqf\"nwem\"qp\"cnn\"{qwt\"hwvwtg\"gpfgcxqtu#\n",
      "654\n",
      "the decrypted message for seed 654 is Lipps$iziv}sri0$xlmw$mw$q}$tviwirxexmsr$jsv$xli$jmrep$tvsnigx$jsv$TL]W$7442$Mx$lew$fiir$e$kviex$xmqi$mr$xlmw$gpeww%$kssh$pygo$sr$epp$}syv$jyxyvi$irhiezsvw%\n",
      "655\n",
      "the decrypted message for seed 655 is Gdkkn\u001fdudqxnmd+\u001fsghr\u001fhr\u001flx\u001foqdrdms`shnm\u001fenq\u001fsgd\u001fehm`k\u001foqnidbs\u001fenq\u001fOGXR\u001f2//-\u001fHs\u001fg`r\u001faddm\u001f`\u001ffqd`s\u001fshld\u001fhm\u001fsghr\u001fbk`rr \u001ffnnc\u001fktbj\u001fnm\u001f`kk\u001fxntq\u001fetstqd\u001fdmcd`unqr \n",
      "656\n",
      "the decrypted message for seed 656 is Lipps$iziv}sri0$xlmw$mw$q}$tviwirxexmsr$jsv$xli$jmrep$tvsnigx$jsv$TL]W$7442$Mx$lew$fiir$e$kviex$xmqi$mr$xlmw$gpeww%$kssh$pygo$sr$epp$}syv$jyxyvi$irhiezsvw%\n",
      "657\n",
      "the decrypted message for seed 657 is Nkrru&k|kxutk2&znoy&oy&s&vxkyktzgzout&lux&znk&lotgr&vxupkiz&lux&VN_Y&9664&Oz&ngy&hkkt&g&mxkgz&zosk&ot&znoy&irgyy'&muuj&r{iq&ut&grr&u{x&l{z{xk&ktjkg|uxy'\n",
      "658\n",
      "the decrypted message for seed 658 is ]z5zzzA5}~5~55",
      "zzv~5{5}z5{~v5",
      "zx5{5e]nh5HEEC5^5}v5wzz5v5|zv5~z5~5}~5xv65|y5x55v55{z5zyzv6\n",
      "659\n",
      "the decrypted message for seed 659 is Jgnnq\"gxgt{qpg.\"vjku\"ku\"o{\"rtgugpvcvkqp\"hqt\"vjg\"hkpcn\"rtqlgev\"hqt\"RJ[U\"5220\"Kv\"jcu\"dggp\"c\"itgcv\"vkog\"kp\"vjku\"encuu#\"iqqf\"nwem\"qp\"cnn\"{qwt\"hwvwtg\"gpfgcxqtu#\n",
      "660\n",
      "the decrypted message for seed 660 is a~",
      "",
      "9~~~E9999~~z99~9z",
      "9~|99iarl9LIIG9b9z9{~~9z9~z9~999|",
      "z:9}9",
      "|99z",
      "",
      "99~9~}~z:\n",
      "661\n",
      "the decrypted message for seed 661 is \\y4yyy@4|}4}44yyu}4z4|y4z}u4~yw4z4d\\mg4GDDB4]4|u4vyy4u4{yu4}y4}4|}4wu54{x4w44u44zy4yxyu5\n",
      "662\n",
      "the decrypted message for seed 662 is Mjqqt%j{jw~tsj1%ymnx%nx%r~%uwjxjsyfynts%ktw%ymj%knsfq%uwtojhy%ktw%UM^X%8553%Ny%mfx%gjjs%f%lwjfy%ynrj%ns%ymnx%hqfxx&%ltti%qzhp%ts%fqq%~tzw%kzyzwj%jsijf{twx&\n",
      "663\n",
      "the decrypted message for seed 663 is Khoor#hyhu|rqh/#wklv#lv#p|#suhvhqwdwlrq#iru#wkh#ilqdo#surmhfw#iru#SK\\V#6331#Lw#kdv#ehhq#d#juhdw#wlph#lq#wklv#fodvv$#jrrg#oxfn#rq#doo#|rxu#ixwxuh#hqghdyruv$\n",
      "664\n",
      "the decrypted message for seed 664 is Hello everyone, this is my presentation for the final project for PHYS 300. It has been a great time in this class! good luck on all your future endeavors!\n",
      "665\n",
      "the decrypted message for seed 665 is Qnuux)nn{xwn5)}qr|)r|)v)y{n|nw}j}rxw)ox{)}qn)orwju)y{xsnl})ox{)YQb\\)<997)R})qj|)knnw)j)p{nj})}rvn)rw)}qr|)luj||*)pxxm)u~lt)xw)juu)x~{)o~}~{n)nwmnjx{|*\n",
      "666\n",
      "the decrypted message for seed 666 is Spwwz+pp}zyp7+st~+t~+x+{}p~pyltzy+qz}+sp+qtylw+{}zupn+qz}+[Sd^+>;;9+T+sl~+mppy+l+r}pl+txp+ty+st~+nwl~~,+rzzo+wnv+zy+lww+z}+q}p+pyoplz}~,\n",
      "667\n",
      "the decrypted message for seed 667 is ^{",
      "6{{",
      "{B6~666{{w",
      "6|",
      "6~{6|w6",
      "{y6|",
      "6f^oi6IFFD6_6~w6x{{6w6}{w6{66~6yw76}",
      "",
      "z6y6",
      "6w6",
      "6|{6{z{w",
      "7\n",
      "668\n",
      "the decrypted message for seed 668 is Spwwz+pp}zyp7+st~+t~+x+{}p~pyltzy+qz}+sp+qtylw+{}zupn+qz}+[Sd^+>;;9+T+sl~+mppy+l+r}pl+txp+ty+st~+nwl~~,+rzzo+wnv+zy+lww+z}+q}p+pyoplz}~,\n",
      "669\n",
      "the decrypted message for seed 669 is Xu||0uu~u<0xy0y0}0uu~qy~0v0xu0vy~q|0zus0v0`Xic0C@@>0Y0xq0ruu~0q0wuq0y}u0y~0xy0s|q10wt0|",
      "s{0~0q||0",
      "0v",
      "",
      "u0u~tuq1\n",
      "670\n",
      "the decrypted message for seed 670 is Olssv'l}lyvul3'{opz'pz't'wylzlu{h{pvu'mvy'{ol'mpuhs'wyvqlj{'mvy'WO`Z':775'P{'ohz'illu'h'nylh{'{ptl'pu'{opz'jshzz('nvvk's|jr'vu'hss'v|y'm|{|yl'luklh}vyz(\n",
      "671\n",
      "the decrypted message for seed 671 is Hello everyone, this is my presentation for the final project for PHYS 300. It has been a great time in this class! good luck on all your future endeavors!\n",
      "672\n",
      "the decrypted message for seed 672 is a~",
      "",
      "9~~~E9999~~z99~9z",
      "9~|99iarl9LIIG9b9z9{~~9z9~z9~999|",
      "z:9}9",
      "|99z",
      "",
      "99~9~}~z:\n",
      "673\n",
      "the decrypted message for seed 673 is Qnuux)nn{xwn5)}qr|)r|)v)y{n|nw}j}rxw)ox{)}qn)orwju)y{xsnl})ox{)YQb\\)<997)R})qj|)knnw)j)p{nj})}rvn)rw)}qr|)luj||*)pxxm)u~lt)xw)juu)x~{)o~}~{n)nwmnjx{|*\n",
      "674\n",
      "the decrypted message for seed 674 is Uryy|-rr|{r9-uv-v-z-}rr{nv|{-s|-ur-sv{ny-}|wrp-s|-]Uf`-@==;-V-un-orr{-n-trn-vzr-v{-uv-pyn.-t||q-ypx-|{-nyy-|-sr-r{qrn|.\n",
      "675\n",
      "the decrypted message for seed 675 is [x3xx",
      "x?3{|3|33",
      "xxt|3y",
      "3{x3y|t3",
      "}xv3y",
      "3c[lf3FCCA3\\3{t3uxx3t3z",
      "xt3|x3|3{|3vt43zw3v~33t3",
      "3y",
      "x3xwxt",
      "4\n",
      "676\n",
      "the decrypted message for seed 676 is a~",
      "",
      "9~~~E9999~~z99~9z",
      "9~|99iarl9LIIG9b9z9{~~9z9~z9~999|",
      "z:9}9",
      "|99z",
      "",
      "99~9~}~z:\n",
      "677\n",
      "the decrypted message for seed 677 is Mjqqt%j{jw~tsj1%ymnx%nx%r~%uwjxjsyfynts%ktw%ymj%knsfq%uwtojhy%ktw%UM^X%8553%Ny%mfx%gjjs%f%lwjfy%ynrj%ns%ymnx%hqfxx&%ltti%qzhp%ts%fqq%~tzw%kzyzwj%jsijf{twx&\n",
      "678\n",
      "the decrypted message for seed 678 is ^{",
      "6{{",
      "{B6~666{{w",
      "6|",
      "6~{6|w6",
      "{y6|",
      "6f^oi6IFFD6_6~w6x{{6w6}{w6{66~6yw76}",
      "",
      "z6y6",
      "6w6",
      "6|{6{z{w",
      "7\n",
      "679\n",
      "the decrypted message for seed 679 is Mjqqt%j{jw~tsj1%ymnx%nx%r~%uwjxjsyfynts%ktw%ymj%knsfq%uwtojhy%ktw%UM^X%8553%Ny%mfx%gjjs%f%lwjfy%ynrj%ns%ymnx%hqfxx&%ltti%qzhp%ts%fqq%~tzw%kzyzwj%jsijf{twx&\n",
      "680\n",
      "the decrypted message for seed 680 is Nkrru&k|kxutk2&znoy&oy&s&vxkyktzgzout&lux&znk&lotgr&vxupkiz&lux&VN_Y&9664&Oz&ngy&hkkt&g&mxkgz&zosk&ot&znoy&irgyy'&muuj&r{iq&ut&grr&u{x&l{z{xk&ktjkg|uxy'\n",
      "681\n",
      "the decrypted message for seed 681 is Tqxx{,qq~",
      "{zq8,tu,u,y",
      ",|~qqzmu{z,r{~,tq,ruzmx,|~{vqo,r{~,\\Te_,?<<:,U,tm,nqqz,m,s~qm,uyq,uz,tu,oxm-,s{{p,xow,{z,mxx,",
      "{~,r~q,qzpqm{~-\n",
      "682\n",
      "the decrypted message for seed 682 is Qnuux)nn{xwn5)}qr|)r|)v)y{n|nw}j}rxw)ox{)}qn)orwju)y{xsnl})ox{)YQb\\)<997)R})qj|)knnw)j)p{nj})}rvn)rw)}qr|)luj||*)pxxm)u~lt)xw)juu)x~{)o~}~{n)nwmnjx{|*\n",
      "683\n",
      "the decrypted message for seed 683 is Uryy|-rr|{r9-uv-v-z-}rr{nv|{-s|-ur-sv{ny-}|wrp-s|-]Uf`-@==;-V-un-orr{-n-trn-vzr-v{-uv-pyn.-t||q-ypx-|{-nyy-|-sr-r{qrn|.\n",
      "684\n",
      "the decrypted message for seed 684 is Uryy|-rr|{r9-uv-v-z-}rr{nv|{-s|-ur-sv{ny-}|wrp-s|-]Uf`-@==;-V-un-orr{-n-trn-vzr-v{-uv-pyn.-t||q-ypx-|{-nyy-|-sr-r{qrn|.\n",
      "685\n",
      "the decrypted message for seed 685 is Xu||0uu~u<0xy0y0}0uu~qy~0v0xu0vy~q|0zus0v0`Xic0C@@>0Y0xq0ruu~0q0wuq0y}u0y~0xy0s|q10wt0|",
      "s{0~0q||0",
      "0v",
      "",
      "u0u~tuq1\n",
      "686\n",
      "the decrypted message for seed 686 is Qnuux)nn{xwn5)}qr|)r|)v)y{n|nw}j}rxw)ox{)}qn)orwju)y{xsnl})ox{)YQb\\)<997)R})qj|)knnw)j)p{nj})}rvn)rw)}qr|)luj||*)pxxm)u~lt)xw)juu)x~{)o~}~{n)nwmnjx{|*\n",
      "687\n",
      "the decrypted message for seed 687 is Uryy|-rr|{r9-uv-v-z-}rr{nv|{-s|-ur-sv{ny-}|wrp-s|-]Uf`-@==;-V-un-orr{-n-trn-vzr-v{-uv-pyn.-t||q-ypx-|{-nyy-|-sr-r{qrn|.\n",
      "688\n",
      "the decrypted message for seed 688 is Hello everyone, this is my presentation for the final project for PHYS 300. It has been a great time in this class! good luck on all your future endeavors!\n",
      "689\n",
      "the decrypted message for seed 689 is Nkrru&k|kxutk2&znoy&oy&s&vxkyktzgzout&lux&znk&lotgr&vxupkiz&lux&VN_Y&9664&Oz&ngy&hkkt&g&mxkgz&zosk&ot&znoy&irgyy'&muuj&r{iq&ut&grr&u{x&l{z{xk&ktjkg|uxy'\n",
      "690\n",
      "the decrypted message for seed 690 is Wt{{~/t",
      "t~}t;/wx/x/|/tt}px~}/u~/wt/ux}p{/~ytr/u~/_Whb/B??=/X/wp/qtt}/p/vtp/x|t/x}/wx/r{p0/v~~s/{rz/~}/p{{/~/ut/t}stp",
      "~0\n",
      "691\n",
      "the decrypted message for seed 691 is Khoor#hyhu|rqh/#wklv#lv#p|#suhvhqwdwlrq#iru#wkh#ilqdo#surmhfw#iru#SK\\V#6331#Lw#kdv#ehhq#d#juhdw#wlph#lq#wklv#fodvv$#jrrg#oxfn#rq#doo#|rxu#ixwxuh#hqghdyruv$\n",
      "692\n",
      "the decrypted message for seed 692 is a~",
      "",
      "9~~~E9999~~z99~9z",
      "9~|99iarl9LIIG9b9z9{~~9z9~z9~999|",
      "z:9}9",
      "|99z",
      "",
      "99~9~}~z:\n",
      "693\n",
      "the decrypted message for seed 693 is Rovvy*oo|yxo6*~rs}*s}*w*z|o}ox~k~syx*py|*~ro*psxkv*z|ytom~*py|*ZRc]*=::8*S~*rk}*loox*k*q|ok~*~swo*sx*~rs}*mvk}}+*qyyn*vmu*yx*kvv*y|*p~|o*oxnoky|}+\n",
      "694\n",
      "the decrypted message for seed 694 is Khoor#hyhu|rqh/#wklv#lv#p|#suhvhqwdwlrq#iru#wkh#ilqdo#surmhfw#iru#SK\\V#6331#Lw#kdv#ehhq#d#juhdw#wlph#lq#wklv#fodvv$#jrrg#oxfn#rq#doo#|rxu#ixwxuh#hqghdyruv$\n",
      "695\n",
      "the decrypted message for seed 695 is Wt{{~/t",
      "t~}t;/wx/x/|/tt}px~}/u~/wt/ux}p{/~ytr/u~/_Whb/B??=/X/wp/qtt}/p/vtp/x|t/x}/wx/r{p0/v~~s/{rz/~}/p{{/~/ut/t}stp",
      "~0\n",
      "696\n",
      "the decrypted message for seed 696 is \\y4yyy@4|}4}44yyu}4z4|y4z}u4~yw4z4d\\mg4GDDB4]4|u4vyy4u4{yu4}y4}4|}4wu54{x4w44u44zy4yxyu5\n",
      "697\n",
      "the decrypted message for seed 697 is ]z5zzzA5}~5~55",
      "zzv~5{5}z5{~v5",
      "zx5{5e]nh5HEEC5^5}v5wzz5v5|zv5~z5~5}~5xv65|y5x55v55{z5zyzv6\n",
      "698\n",
      "the decrypted message for seed 698 is Hello everyone, this is my presentation for the final project for PHYS 300. It has been a great time in this class! good luck on all your future endeavors!\n",
      "699\n",
      "the decrypted message for seed 699 is Vszz}.ss}|s:.vw.w.{.~ss|ow}|.t}.vs.tw|oz.~}xsq.t}.^Vga.A>><.W.vo.pss|.o.uso.w{s.w|.vw.qzo/.u}}r.zqy.}|.ozz.}.ts.s|rso}/\n",
      "700\n",
      "the decrypted message for seed 700 is \\y4yyy@4|}4}44yyu}4z4|y4z}u4~yw4z4d\\mg4GDDB4]4|u4vyy4u4{yu4}y4}4|}4wu54{x4w44u44zy4yxyu5\n",
      "701\n",
      "the decrypted message for seed 701 is Jgnnq\"gxgt{qpg.\"vjku\"ku\"o{\"rtgugpvcvkqp\"hqt\"vjg\"hkpcn\"rtqlgev\"hqt\"RJ[U\"5220\"Kv\"jcu\"dggp\"c\"itgcv\"vkog\"kp\"vjku\"encuu#\"iqqf\"nwem\"qp\"cnn\"{qwt\"hwvwtg\"gpfgcxqtu#\n",
      "702\n",
      "the decrypted message for seed 702 is Ifmmp!fwfszpof-!uijt!jt!nz!qsftfoubujpo!gps!uif!gjobm!qspkfdu!gps!QIZT!411/!Ju!ibt!cffo!b!hsfbu!ujnf!jo!uijt!dmbtt\"!hppe!mvdl!po!bmm!zpvs!gvuvsf!foefbwpst\"\n",
      "703\n",
      "the decrypted message for seed 703 is `}8}}}D888",
      "8}}y8~8}8~y8}{8~8h`qk8KHHF8a8y8z}}8y8}y8",
      "}888{y98|8{88y88~}8}|}y9\n",
      "704\n",
      "the decrypted message for seed 704 is Gdkkn\u001fdudqxnmd+\u001fsghr\u001fhr\u001flx\u001foqdrdms`shnm\u001fenq\u001fsgd\u001fehm`k\u001foqnidbs\u001fenq\u001fOGXR\u001f2//-\u001fHs\u001fg`r\u001faddm\u001f`\u001ffqd`s\u001fshld\u001fhm\u001fsghr\u001fbk`rr \u001ffnnc\u001fktbj\u001fnm\u001f`kk\u001fxntq\u001fetstqd\u001fdmcd`unqr \n",
      "705\n",
      "the decrypted message for seed 705 is Ifmmp!fwfszpof-!uijt!jt!nz!qsftfoubujpo!gps!uif!gjobm!qspkfdu!gps!QIZT!411/!Ju!ibt!cffo!b!hsfbu!ujnf!jo!uijt!dmbtt\"!hppe!mvdl!po!bmm!zpvs!gvuvsf!foefbwpst\"\n",
      "706\n",
      "the decrypted message for seed 706 is Nkrru&k|kxutk2&znoy&oy&s&vxkyktzgzout&lux&znk&lotgr&vxupkiz&lux&VN_Y&9664&Oz&ngy&hkkt&g&mxkgz&zosk&ot&znoy&irgyy'&muuj&r{iq&ut&grr&u{x&l{z{xk&ktjkg|uxy'\n",
      "707\n",
      "the decrypted message for seed 707 is a~",
      "",
      "9~~~E9999~~z99~9z",
      "9~|99iarl9LIIG9b9z9{~~9z9~z9~999|",
      "z:9}9",
      "|99z",
      "",
      "99~9~}~z:\n",
      "708\n",
      "the decrypted message for seed 708 is ^{",
      "6{{",
      "{B6~666{{w",
      "6|",
      "6~{6|w6",
      "{y6|",
      "6f^oi6IFFD6_6~w6x{{6w6}{w6{66~6yw76}",
      "",
      "z6y6",
      "6w6",
      "6|{6{z{w",
      "7\n",
      "709\n",
      "the decrypted message for seed 709 is Pmttw(m~mzwvm4(|pq{(q{(u(xzm{mv|i|qwv(nwz(|pm(nqvit(xzwrmk|(nwz(XPa[(;886(Q|(pi{(jmmv(i(ozmi|(|qum(qv(|pq{(kti{{)(owwl(t}ks(wv(itt(w}z(n}|}zm(mvlmi~wz{)\n",
      "710\n",
      "the decrypted message for seed 710 is Uryy|-rr|{r9-uv-v-z-}rr{nv|{-s|-ur-sv{ny-}|wrp-s|-]Uf`-@==;-V-un-orr{-n-trn-vzr-v{-uv-pyn.-t||q-ypx-|{-nyy-|-sr-r{qrn|.\n",
      "711\n",
      "the decrypted message for seed 711 is Nkrru&k|kxutk2&znoy&oy&s&vxkyktzgzout&lux&znk&lotgr&vxupkiz&lux&VN_Y&9664&Oz&ngy&hkkt&g&mxkgz&zosk&ot&znoy&irgyy'&muuj&r{iq&ut&grr&u{x&l{z{xk&ktjkg|uxy'\n",
      "712\n",
      "the decrypted message for seed 712 is Xu||0uu~u<0xy0y0}0uu~qy~0v0xu0vy~q|0zus0v0`Xic0C@@>0Y0xq0ruu~0q0wuq0y}u0y~0xy0s|q10wt0|",
      "s{0~0q||0",
      "0v",
      "",
      "u0u~tuq1\n",
      "713\n",
      "the decrypted message for seed 713 is Uryy|-rr|{r9-uv-v-z-}rr{nv|{-s|-ur-sv{ny-}|wrp-s|-]Uf`-@==;-V-un-orr{-n-trn-vzr-v{-uv-pyn.-t||q-ypx-|{-nyy-|-sr-r{qrn|.\n",
      "714\n",
      "the decrypted message for seed 714 is Ifmmp!fwfszpof-!uijt!jt!nz!qsftfoubujpo!gps!uif!gjobm!qspkfdu!gps!QIZT!411/!Ju!ibt!cffo!b!hsfbu!ujnf!jo!uijt!dmbtt\"!hppe!mvdl!po!bmm!zpvs!gvuvsf!foefbwpst\"\n",
      "715\n",
      "the decrypted message for seed 715 is Qnuux)nn{xwn5)}qr|)r|)v)y{n|nw}j}rxw)ox{)}qn)orwju)y{xsnl})ox{)YQb\\)<997)R})qj|)knnw)j)p{nj})}rvn)rw)}qr|)luj||*)pxxm)u~lt)xw)juu)x~{)o~}~{n)nwmnjx{|*\n",
      "716\n",
      "the decrypted message for seed 716 is \\y4yyy@4|}4}44yyu}4z4|y4z}u4~yw4z4d\\mg4GDDB4]4|u4vyy4u4{yu4}y4}4|}4wu54{x4w44u44zy4yxyu5\n",
      "717\n",
      "the decrypted message for seed 717 is Zw~~2www>2z{",
      "2{",
      "22w",
      "ws{2x2zw2x{s~2|wu2x2bZke2EBB@2[2zs",
      "2tww2s2yws2{w2{2z{",
      "2u~s",
      "",
      "32yv2~u}22s~~22xw2wvws",
      "3\n",
      "718\n",
      "the decrypted message for seed 718 is Yv}}1vvv=1",
      "yz1z1~1vv",
      "r",
      "z1w1",
      "yv1wzr}1{vt",
      "1w1aYjd1DAA?1Z",
      "1yr1svv1r1xvr",
      "1",
      "z~v1z1",
      "yz1t}r21xu1}t|11r}}11w",
      "v1vuvr2\n",
      "719\n",
      "the decrypted message for seed 719 is Yv}}1vvv=1",
      "yz1z1~1vv",
      "r",
      "z1w1",
      "yv1wzr}1{vt",
      "1w1aYjd1DAA?1Z",
      "1yr1svv1r1xvr",
      "1",
      "z~v1z1",
      "yz1t}r21xu1}t|11r}}11w",
      "v1vuvr2\n",
      "720\n",
      "the decrypted message for seed 720 is Jgnnq\"gxgt{qpg.\"vjku\"ku\"o{\"rtgugpvcvkqp\"hqt\"vjg\"hkpcn\"rtqlgev\"hqt\"RJ[U\"5220\"Kv\"jcu\"dggp\"c\"itgcv\"vkog\"kp\"vjku\"encuu#\"iqqf\"nwem\"qp\"cnn\"{qwt\"hwvwtg\"gpfgcxqtu#\n",
      "721\n",
      "the decrypted message for seed 721 is ]z5zzzA5}~5~55",
      "zzv~5{5}z5{~v5",
      "zx5{5e]nh5HEEC5^5}v5wzz5v5|zv5~z5~5}~5xv65|y5x55v55{z5zyzv6\n",
      "722\n",
      "the decrypted message for seed 722 is Nkrru&k|kxutk2&znoy&oy&s&vxkyktzgzout&lux&znk&lotgr&vxupkiz&lux&VN_Y&9664&Oz&ngy&hkkt&g&mxkgz&zosk&ot&znoy&irgyy'&muuj&r{iq&ut&grr&u{x&l{z{xk&ktjkg|uxy'\n",
      "723\n",
      "the decrypted message for seed 723 is Pmttw(m~mzwvm4(|pq{(q{(u(xzm{mv|i|qwv(nwz(|pm(nqvit(xzwrmk|(nwz(XPa[(;886(Q|(pi{(jmmv(i(ozmi|(|qum(qv(|pq{(kti{{)(owwl(t}ks(wv(itt(w}z(n}|}zm(mvlmi~wz{)\n",
      "724\n",
      "the decrypted message for seed 724 is Jgnnq\"gxgt{qpg.\"vjku\"ku\"o{\"rtgugpvcvkqp\"hqt\"vjg\"hkpcn\"rtqlgev\"hqt\"RJ[U\"5220\"Kv\"jcu\"dggp\"c\"itgcv\"vkog\"kp\"vjku\"encuu#\"iqqf\"nwem\"qp\"cnn\"{qwt\"hwvwtg\"gpfgcxqtu#\n",
      "725\n",
      "the decrypted message for seed 725 is _|7||",
      "|C7777||",
      "x",
      "7}7|7}",
      "x7|z7}7g_pj7JGGE7`7x7y||",
      "7x7~|x7|7",
      "77zx87~{7z7",
      "7x77}|7|",
      "{|x8\n",
      "726\n",
      "the decrypted message for seed 726 is Yv}}1vvv=1",
      "yz1z1~1vv",
      "r",
      "z1w1",
      "yv1wzr}1{vt",
      "1w1aYjd1DAA?1Z",
      "1yr1svv1r1xvr",
      "1",
      "z~v1z1",
      "yz1t}r21xu1}t|11r}}11w",
      "v1vuvr2\n",
      "727\n",
      "the decrypted message for seed 727 is Qnuux)nn{xwn5)}qr|)r|)v)y{n|nw}j}rxw)ox{)}qn)orwju)y{xsnl})ox{)YQb\\)<997)R})qj|)knnw)j)p{nj})}rvn)rw)}qr|)luj||*)pxxm)u~lt)xw)juu)x~{)o~}~{n)nwmnjx{|*\n",
      "728\n",
      "the decrypted message for seed 728 is `}8}}}D888",
      "8}}y8~8}8~y8}{8~8h`qk8KHHF8a8y8z}}8y8}y8",
      "}888{y98|8{88y88~}8}|}y9\n",
      "729\n",
      "the decrypted message for seed 729 is Khoor#hyhu|rqh/#wklv#lv#p|#suhvhqwdwlrq#iru#wkh#ilqdo#surmhfw#iru#SK\\V#6331#Lw#kdv#ehhq#d#juhdw#wlph#lq#wklv#fodvv$#jrrg#oxfn#rq#doo#|rxu#ixwxuh#hqghdyruv$\n",
      "730\n",
      "the decrypted message for seed 730 is Xu||0uu~u<0xy0y0}0uu~qy~0v0xu0vy~q|0zus0v0`Xic0C@@>0Y0xq0ruu~0q0wuq0y}u0y~0xy0s|q10wt0|",
      "s{0~0q||0",
      "0v",
      "",
      "u0u~tuq1\n",
      "731\n",
      "the decrypted message for seed 731 is Jgnnq\"gxgt{qpg.\"vjku\"ku\"o{\"rtgugpvcvkqp\"hqt\"vjg\"hkpcn\"rtqlgev\"hqt\"RJ[U\"5220\"Kv\"jcu\"dggp\"c\"itgcv\"vkog\"kp\"vjku\"encuu#\"iqqf\"nwem\"qp\"cnn\"{qwt\"hwvwtg\"gpfgcxqtu#\n",
      "732\n",
      "the decrypted message for seed 732 is Lipps$iziv}sri0$xlmw$mw$q}$tviwirxexmsr$jsv$xli$jmrep$tvsnigx$jsv$TL]W$7442$Mx$lew$fiir$e$kviex$xmqi$mr$xlmw$gpeww%$kssh$pygo$sr$epp$}syv$jyxyvi$irhiezsvw%\n",
      "733\n",
      "the decrypted message for seed 733 is Tqxx{,qq~",
      "{zq8,tu,u,y",
      ",|~qqzmu{z,r{~,tq,ruzmx,|~{vqo,r{~,\\Te_,?<<:,U,tm,nqqz,m,s~qm,uyq,uz,tu,oxm-,s{{p,xow,{z,mxx,",
      "{~,r~q,qzpqm{~-\n",
      "734\n",
      "the decrypted message for seed 734 is Lipps$iziv}sri0$xlmw$mw$q}$tviwirxexmsr$jsv$xli$jmrep$tvsnigx$jsv$TL]W$7442$Mx$lew$fiir$e$kviex$xmqi$mr$xlmw$gpeww%$kssh$pygo$sr$epp$}syv$jyxyvi$irhiezsvw%\n",
      "735\n",
      "the decrypted message for seed 735 is Tqxx{,qq~",
      "{zq8,tu,u,y",
      ",|~qqzmu{z,r{~,tq,ruzmx,|~{vqo,r{~,\\Te_,?<<:,U,tm,nqqz,m,s~qm,uyq,uz,tu,oxm-,s{{p,xow,{z,mxx,",
      "{~,r~q,qzpqm{~-\n",
      "736\n",
      "the decrypted message for seed 736 is Yv}}1vvv=1",
      "yz1z1~1vv",
      "r",
      "z1w1",
      "yv1wzr}1{vt",
      "1w1aYjd1DAA?1Z",
      "1yr1svv1r1xvr",
      "1",
      "z~v1z1",
      "yz1t}r21xu1}t|11r}}11w",
      "v1vuvr2\n",
      "737\n",
      "the decrypted message for seed 737 is a~",
      "",
      "9~~~E9999~~z99~9z",
      "9~|99iarl9LIIG9b9z9{~~9z9~z9~999|",
      "z:9}9",
      "|99z",
      "",
      "99~9~}~z:\n",
      "738\n",
      "the decrypted message for seed 738 is \\y4yyy@4|}4}44yyu}4z4|y4z}u4~yw4z4d\\mg4GDDB4]4|u4vyy4u4{yu4}y4}4|}4wu54{x4w44u44zy4yxyu5\n",
      "739\n",
      "the decrypted message for seed 739 is [x3xx",
      "x?3{|3|33",
      "xxt|3y",
      "3{x3y|t3",
      "}xv3y",
      "3c[lf3FCCA3\\3{t3uxx3t3z",
      "xt3|x3|3{|3vt43zw3v~33t3",
      "3y",
      "x3xwxt",
      "4\n",
      "740\n",
      "the decrypted message for seed 740 is Olssv'l}lyvul3'{opz'pz't'wylzlu{h{pvu'mvy'{ol'mpuhs'wyvqlj{'mvy'WO`Z':775'P{'ohz'illu'h'nylh{'{ptl'pu'{opz'jshzz('nvvk's|jr'vu'hss'v|y'm|{|yl'luklh}vyz(\n",
      "741\n",
      "the decrypted message for seed 741 is Zw~~2www>2z{",
      "2{",
      "22w",
      "ws{2x2zw2x{s~2|wu2x2bZke2EBB@2[2zs",
      "2tww2s2yws2{w2{2z{",
      "2u~s",
      "",
      "32yv2~u}22s~~22xw2wvws",
      "3\n",
      "742\n",
      "the decrypted message for seed 742 is Tqxx{,qq~",
      "{zq8,tu,u,y",
      ",|~qqzmu{z,r{~,tq,ruzmx,|~{vqo,r{~,\\Te_,?<<:,U,tm,nqqz,m,s~qm,uyq,uz,tu,oxm-,s{{p,xow,{z,mxx,",
      "{~,r~q,qzpqm{~-\n",
      "743\n",
      "the decrypted message for seed 743 is Khoor#hyhu|rqh/#wklv#lv#p|#suhvhqwdwlrq#iru#wkh#ilqdo#surmhfw#iru#SK\\V#6331#Lw#kdv#ehhq#d#juhdw#wlph#lq#wklv#fodvv$#jrrg#oxfn#rq#doo#|rxu#ixwxuh#hqghdyruv$\n",
      "744\n",
      "the decrypted message for seed 744 is Xu||0uu~u<0xy0y0}0uu~qy~0v0xu0vy~q|0zus0v0`Xic0C@@>0Y0xq0ruu~0q0wuq0y}u0y~0xy0s|q10wt0|",
      "s{0~0q||0",
      "0v",
      "",
      "u0u~tuq1\n",
      "745\n",
      "the decrypted message for seed 745 is Zw~~2www>2z{",
      "2{",
      "22w",
      "ws{2x2zw2x{s~2|wu2x2bZke2EBB@2[2zs",
      "2tww2s2yws2{w2{2z{",
      "2u~s",
      "",
      "32yv2~u}22s~~22xw2wvws",
      "3\n",
      "746\n",
      "the decrypted message for seed 746 is Tqxx{,qq~",
      "{zq8,tu,u,y",
      ",|~qqzmu{z,r{~,tq,ruzmx,|~{vqo,r{~,\\Te_,?<<:,U,tm,nqqz,m,s~qm,uyq,uz,tu,oxm-,s{{p,xow,{z,mxx,",
      "{~,r~q,qzpqm{~-\n",
      "747\n",
      "the decrypted message for seed 747 is Xu||0uu~u<0xy0y0}0uu~qy~0v0xu0vy~q|0zus0v0`Xic0C@@>0Y0xq0ruu~0q0wuq0y}u0y~0xy0s|q10wt0|",
      "s{0~0q||0",
      "0v",
      "",
      "u0u~tuq1\n",
      "748\n",
      "the decrypted message for seed 748 is _|7||",
      "|C7777||",
      "x",
      "7}7|7}",
      "x7|z7}7g_pj7JGGE7`7x7y||",
      "7x7~|x7|7",
      "77zx87~{7z7",
      "7x77}|7|",
      "{|x8\n",
      "749\n",
      "the decrypted message for seed 749 is Ifmmp!fwfszpof-!uijt!jt!nz!qsftfoubujpo!gps!uif!gjobm!qspkfdu!gps!QIZT!411/!Ju!ibt!cffo!b!hsfbu!ujnf!jo!uijt!dmbtt\"!hppe!mvdl!po!bmm!zpvs!gvuvsf!foefbwpst\"\n",
      "750\n",
      "the decrypted message for seed 750 is Wt{{~/t",
      "t~}t;/wx/x/|/tt}px~}/u~/wt/ux}p{/~ytr/u~/_Whb/B??=/X/wp/qtt}/p/vtp/x|t/x}/wx/r{p0/v~~s/{rz/~}/p{{/~/ut/t}stp",
      "~0\n",
      "751\n",
      "the decrypted message for seed 751 is Ifmmp!fwfszpof-!uijt!jt!nz!qsftfoubujpo!gps!uif!gjobm!qspkfdu!gps!QIZT!411/!Ju!ibt!cffo!b!hsfbu!ujnf!jo!uijt!dmbtt\"!hppe!mvdl!po!bmm!zpvs!gvuvsf!foefbwpst\"\n",
      "752\n",
      "the decrypted message for seed 752 is Qnuux)nn{xwn5)}qr|)r|)v)y{n|nw}j}rxw)ox{)}qn)orwju)y{xsnl})ox{)YQb\\)<997)R})qj|)knnw)j)p{nj})}rvn)rw)}qr|)luj||*)pxxm)u~lt)xw)juu)x~{)o~}~{n)nwmnjx{|*\n",
      "753\n",
      "the decrypted message for seed 753 is Ifmmp!fwfszpof-!uijt!jt!nz!qsftfoubujpo!gps!uif!gjobm!qspkfdu!gps!QIZT!411/!Ju!ibt!cffo!b!hsfbu!ujnf!jo!uijt!dmbtt\"!hppe!mvdl!po!bmm!zpvs!gvuvsf!foefbwpst\"\n",
      "754\n",
      "the decrypted message for seed 754 is \\y4yyy@4|}4}44yyu}4z4|y4z}u4~yw4z4d\\mg4GDDB4]4|u4vyy4u4{yu4}y4}4|}4wu54{x4w44u44zy4yxyu5\n",
      "755\n",
      "the decrypted message for seed 755 is Qnuux)nn{xwn5)}qr|)r|)v)y{n|nw}j}rxw)ox{)}qn)orwju)y{xsnl})ox{)YQb\\)<997)R})qj|)knnw)j)p{nj})}rvn)rw)}qr|)luj||*)pxxm)u~lt)xw)juu)x~{)o~}~{n)nwmnjx{|*\n",
      "756\n",
      "the decrypted message for seed 756 is Spwwz+pp}zyp7+st~+t~+x+{}p~pyltzy+qz}+sp+qtylw+{}zupn+qz}+[Sd^+>;;9+T+sl~+mppy+l+r}pl+txp+ty+st~+nwl~~,+rzzo+wnv+zy+lww+z}+q}p+pyoplz}~,\n",
      "757\n",
      "the decrypted message for seed 757 is Uryy|-rr|{r9-uv-v-z-}rr{nv|{-s|-ur-sv{ny-}|wrp-s|-]Uf`-@==;-V-un-orr{-n-trn-vzr-v{-uv-pyn.-t||q-ypx-|{-nyy-|-sr-r{qrn|.\n",
      "758\n",
      "the decrypted message for seed 758 is Wt{{~/t",
      "t~}t;/wx/x/|/tt}px~}/u~/wt/ux}p{/~ytr/u~/_Whb/B??=/X/wp/qtt}/p/vtp/x|t/x}/wx/r{p0/v~~s/{rz/~}/p{{/~/ut/t}stp",
      "~0\n",
      "759\n",
      "the decrypted message for seed 759 is `}8}}}D888",
      "8}}y8~8}8~y8}{8~8h`qk8KHHF8a8y8z}}8y8}y8",
      "}888{y98|8{88y88~}8}|}y9\n",
      "760\n",
      "the decrypted message for seed 760 is ]z5zzzA5}~5~55",
      "zzv~5{5}z5{~v5",
      "zx5{5e]nh5HEEC5^5}v5wzz5v5|zv5~z5~5}~5xv65|y5x55v55{z5zyzv6\n",
      "761\n",
      "the decrypted message for seed 761 is Zw~~2www>2z{",
      "2{",
      "22w",
      "ws{2x2zw2x{s~2|wu2x2bZke2EBB@2[2zs",
      "2tww2s2yws2{w2{2z{",
      "2u~s",
      "",
      "32yv2~u}22s~~22xw2wvws",
      "3\n",
      "762\n",
      "the decrypted message for seed 762 is Mjqqt%j{jw~tsj1%ymnx%nx%r~%uwjxjsyfynts%ktw%ymj%knsfq%uwtojhy%ktw%UM^X%8553%Ny%mfx%gjjs%f%lwjfy%ynrj%ns%ymnx%hqfxx&%ltti%qzhp%ts%fqq%~tzw%kzyzwj%jsijf{twx&\n",
      "763\n",
      "the decrypted message for seed 763 is Nkrru&k|kxutk2&znoy&oy&s&vxkyktzgzout&lux&znk&lotgr&vxupkiz&lux&VN_Y&9664&Oz&ngy&hkkt&g&mxkgz&zosk&ot&znoy&irgyy'&muuj&r{iq&ut&grr&u{x&l{z{xk&ktjkg|uxy'\n",
      "764\n",
      "the decrypted message for seed 764 is Lipps$iziv}sri0$xlmw$mw$q}$tviwirxexmsr$jsv$xli$jmrep$tvsnigx$jsv$TL]W$7442$Mx$lew$fiir$e$kviex$xmqi$mr$xlmw$gpeww%$kssh$pygo$sr$epp$}syv$jyxyvi$irhiezsvw%\n",
      "765\n",
      "the decrypted message for seed 765 is `}8}}}D888",
      "8}}y8~8}8~y8}{8~8h`qk8KHHF8a8y8z}}8y8}y8",
      "}888{y98|8{88y88~}8}|}y9\n",
      "766\n",
      "the decrypted message for seed 766 is Yv}}1vvv=1",
      "yz1z1~1vv",
      "r",
      "z1w1",
      "yv1wzr}1{vt",
      "1w1aYjd1DAA?1Z",
      "1yr1svv1r1xvr",
      "1",
      "z~v1z1",
      "yz1t}r21xu1}t|11r}}11w",
      "v1vuvr2\n",
      "767\n",
      "the decrypted message for seed 767 is Gdkkn\u001fdudqxnmd+\u001fsghr\u001fhr\u001flx\u001foqdrdms`shnm\u001fenq\u001fsgd\u001fehm`k\u001foqnidbs\u001fenq\u001fOGXR\u001f2//-\u001fHs\u001fg`r\u001faddm\u001f`\u001ffqd`s\u001fshld\u001fhm\u001fsghr\u001fbk`rr \u001ffnnc\u001fktbj\u001fnm\u001f`kk\u001fxntq\u001fetstqd\u001fdmcd`unqr \n",
      "768\n",
      "the decrypted message for seed 768 is _|7||",
      "|C7777||",
      "x",
      "7}7|7}",
      "x7|z7}7g_pj7JGGE7`7x7y||",
      "7x7~|x7|7",
      "77zx87~{7z7",
      "7x77}|7|",
      "{|x8\n",
      "769\n",
      "the decrypted message for seed 769 is a~",
      "",
      "9~~~E9999~~z99~9z",
      "9~|99iarl9LIIG9b9z9{~~9z9~z9~999|",
      "z:9}9",
      "|99z",
      "",
      "99~9~}~z:\n",
      "770\n",
      "the decrypted message for seed 770 is Uryy|-rr|{r9-uv-v-z-}rr{nv|{-s|-ur-sv{ny-}|wrp-s|-]Uf`-@==;-V-un-orr{-n-trn-vzr-v{-uv-pyn.-t||q-ypx-|{-nyy-|-sr-r{qrn|.\n",
      "771\n",
      "the decrypted message for seed 771 is Uryy|-rr|{r9-uv-v-z-}rr{nv|{-s|-ur-sv{ny-}|wrp-s|-]Uf`-@==;-V-un-orr{-n-trn-vzr-v{-uv-pyn.-t||q-ypx-|{-nyy-|-sr-r{qrn|.\n",
      "772\n",
      "the decrypted message for seed 772 is ^{",
      "6{{",
      "{B6~666{{w",
      "6|",
      "6~{6|w6",
      "{y6|",
      "6f^oi6IFFD6_6~w6x{{6w6}{w6{66~6yw76}",
      "",
      "z6y6",
      "6w6",
      "6|{6{z{w",
      "7\n",
      "773\n",
      "the decrypted message for seed 773 is \\y4yyy@4|}4}44yyu}4z4|y4z}u4~yw4z4d\\mg4GDDB4]4|u4vyy4u4{yu4}y4}4|}4wu54{x4w44u44zy4yxyu5\n",
      "774\n",
      "the decrypted message for seed 774 is Xu||0uu~u<0xy0y0}0uu~qy~0v0xu0vy~q|0zus0v0`Xic0C@@>0Y0xq0ruu~0q0wuq0y}u0y~0xy0s|q10wt0|",
      "s{0~0q||0",
      "0v",
      "",
      "u0u~tuq1\n",
      "775\n",
      "the decrypted message for seed 775 is Rovvy*oo|yxo6*~rs}*s}*w*z|o}ox~k~syx*py|*~ro*psxkv*z|ytom~*py|*ZRc]*=::8*S~*rk}*loox*k*q|ok~*~swo*sx*~rs}*mvk}}+*qyyn*vmu*yx*kvv*y|*p~|o*oxnoky|}+\n",
      "776\n",
      "the decrypted message for seed 776 is Spwwz+pp}zyp7+st~+t~+x+{}p~pyltzy+qz}+sp+qtylw+{}zupn+qz}+[Sd^+>;;9+T+sl~+mppy+l+r}pl+txp+ty+st~+nwl~~,+rzzo+wnv+zy+lww+z}+q}p+pyoplz}~,\n",
      "777\n",
      "the decrypted message for seed 777 is Zw~~2www>2z{",
      "2{",
      "22w",
      "ws{2x2zw2x{s~2|wu2x2bZke2EBB@2[2zs",
      "2tww2s2yws2{w2{2z{",
      "2u~s",
      "",
      "32yv2~u}22s~~22xw2wvws",
      "3\n",
      "778\n",
      "the decrypted message for seed 778 is `}8}}}D888",
      "8}}y8~8}8~y8}{8~8h`qk8KHHF8a8y8z}}8y8}y8",
      "}888{y98|8{88y88~}8}|}y9\n",
      "779\n",
      "the decrypted message for seed 779 is Olssv'l}lyvul3'{opz'pz't'wylzlu{h{pvu'mvy'{ol'mpuhs'wyvqlj{'mvy'WO`Z':775'P{'ohz'illu'h'nylh{'{ptl'pu'{opz'jshzz('nvvk's|jr'vu'hss'v|y'm|{|yl'luklh}vyz(\n",
      "780\n",
      "the decrypted message for seed 780 is [x3xx",
      "x?3{|3|33",
      "xxt|3y",
      "3{x3y|t3",
      "}xv3y",
      "3c[lf3FCCA3\\3{t3uxx3t3z",
      "xt3|x3|3{|3vt43zw3v~33t3",
      "3y",
      "x3xwxt",
      "4\n",
      "781\n",
      "the decrypted message for seed 781 is [x3xx",
      "x?3{|3|33",
      "xxt|3y",
      "3{x3y|t3",
      "}xv3y",
      "3c[lf3FCCA3\\3{t3uxx3t3z",
      "xt3|x3|3{|3vt43zw3v~33t3",
      "3y",
      "x3xwxt",
      "4\n",
      "782\n",
      "the decrypted message for seed 782 is Lipps$iziv}sri0$xlmw$mw$q}$tviwirxexmsr$jsv$xli$jmrep$tvsnigx$jsv$TL]W$7442$Mx$lew$fiir$e$kviex$xmqi$mr$xlmw$gpeww%$kssh$pygo$sr$epp$}syv$jyxyvi$irhiezsvw%\n",
      "783\n",
      "the decrypted message for seed 783 is Pmttw(m~mzwvm4(|pq{(q{(u(xzm{mv|i|qwv(nwz(|pm(nqvit(xzwrmk|(nwz(XPa[(;886(Q|(pi{(jmmv(i(ozmi|(|qum(qv(|pq{(kti{{)(owwl(t}ks(wv(itt(w}z(n}|}zm(mvlmi~wz{)\n",
      "784\n",
      "the decrypted message for seed 784 is Tqxx{,qq~",
      "{zq8,tu,u,y",
      ",|~qqzmu{z,r{~,tq,ruzmx,|~{vqo,r{~,\\Te_,?<<:,U,tm,nqqz,m,s~qm,uyq,uz,tu,oxm-,s{{p,xow,{z,mxx,",
      "{~,r~q,qzpqm{~-\n",
      "785\n",
      "the decrypted message for seed 785 is Qnuux)nn{xwn5)}qr|)r|)v)y{n|nw}j}rxw)ox{)}qn)orwju)y{xsnl})ox{)YQb\\)<997)R})qj|)knnw)j)p{nj})}rvn)rw)}qr|)luj||*)pxxm)u~lt)xw)juu)x~{)o~}~{n)nwmnjx{|*\n",
      "786\n",
      "the decrypted message for seed 786 is Hello everyone, this is my presentation for the final project for PHYS 300. It has been a great time in this class! good luck on all your future endeavors!\n",
      "787\n",
      "the decrypted message for seed 787 is Xu||0uu~u<0xy0y0}0uu~qy~0v0xu0vy~q|0zus0v0`Xic0C@@>0Y0xq0ruu~0q0wuq0y}u0y~0xy0s|q10wt0|",
      "s{0~0q||0",
      "0v",
      "",
      "u0u~tuq1\n",
      "788\n",
      "the decrypted message for seed 788 is Olssv'l}lyvul3'{opz'pz't'wylzlu{h{pvu'mvy'{ol'mpuhs'wyvqlj{'mvy'WO`Z':775'P{'ohz'illu'h'nylh{'{ptl'pu'{opz'jshzz('nvvk's|jr'vu'hss'v|y'm|{|yl'luklh}vyz(\n",
      "789\n",
      "the decrypted message for seed 789 is Rovvy*oo|yxo6*~rs}*s}*w*z|o}ox~k~syx*py|*~ro*psxkv*z|ytom~*py|*ZRc]*=::8*S~*rk}*loox*k*q|ok~*~swo*sx*~rs}*mvk}}+*qyyn*vmu*yx*kvv*y|*p~|o*oxnoky|}+\n",
      "790\n",
      "the decrypted message for seed 790 is Mjqqt%j{jw~tsj1%ymnx%nx%r~%uwjxjsyfynts%ktw%ymj%knsfq%uwtojhy%ktw%UM^X%8553%Ny%mfx%gjjs%f%lwjfy%ynrj%ns%ymnx%hqfxx&%ltti%qzhp%ts%fqq%~tzw%kzyzwj%jsijf{twx&\n",
      "791\n",
      "the decrypted message for seed 791 is Lipps$iziv}sri0$xlmw$mw$q}$tviwirxexmsr$jsv$xli$jmrep$tvsnigx$jsv$TL]W$7442$Mx$lew$fiir$e$kviex$xmqi$mr$xlmw$gpeww%$kssh$pygo$sr$epp$}syv$jyxyvi$irhiezsvw%\n",
      "792\n",
      "the decrypted message for seed 792 is Olssv'l}lyvul3'{opz'pz't'wylzlu{h{pvu'mvy'{ol'mpuhs'wyvqlj{'mvy'WO`Z':775'P{'ohz'illu'h'nylh{'{ptl'pu'{opz'jshzz('nvvk's|jr'vu'hss'v|y'm|{|yl'luklh}vyz(\n",
      "793\n",
      "the decrypted message for seed 793 is Hello everyone, this is my presentation for the final project for PHYS 300. It has been a great time in this class! good luck on all your future endeavors!\n",
      "794\n",
      "the decrypted message for seed 794 is Xu||0uu~u<0xy0y0}0uu~qy~0v0xu0vy~q|0zus0v0`Xic0C@@>0Y0xq0ruu~0q0wuq0y}u0y~0xy0s|q10wt0|",
      "s{0~0q||0",
      "0v",
      "",
      "u0u~tuq1\n",
      "795\n",
      "the decrypted message for seed 795 is Uryy|-rr|{r9-uv-v-z-}rr{nv|{-s|-ur-sv{ny-}|wrp-s|-]Uf`-@==;-V-un-orr{-n-trn-vzr-v{-uv-pyn.-t||q-ypx-|{-nyy-|-sr-r{qrn|.\n",
      "796\n",
      "the decrypted message for seed 796 is Pmttw(m~mzwvm4(|pq{(q{(u(xzm{mv|i|qwv(nwz(|pm(nqvit(xzwrmk|(nwz(XPa[(;886(Q|(pi{(jmmv(i(ozmi|(|qum(qv(|pq{(kti{{)(owwl(t}ks(wv(itt(w}z(n}|}zm(mvlmi~wz{)\n",
      "797\n",
      "the decrypted message for seed 797 is Nkrru&k|kxutk2&znoy&oy&s&vxkyktzgzout&lux&znk&lotgr&vxupkiz&lux&VN_Y&9664&Oz&ngy&hkkt&g&mxkgz&zosk&ot&znoy&irgyy'&muuj&r{iq&ut&grr&u{x&l{z{xk&ktjkg|uxy'\n",
      "798\n",
      "the decrypted message for seed 798 is Tqxx{,qq~",
      "{zq8,tu,u,y",
      ",|~qqzmu{z,r{~,tq,ruzmx,|~{vqo,r{~,\\Te_,?<<:,U,tm,nqqz,m,s~qm,uyq,uz,tu,oxm-,s{{p,xow,{z,mxx,",
      "{~,r~q,qzpqm{~-\n",
      "799\n",
      "the decrypted message for seed 799 is [x3xx",
      "x?3{|3|33",
      "xxt|3y",
      "3{x3y|t3",
      "}xv3y",
      "3c[lf3FCCA3\\3{t3uxx3t3z",
      "xt3|x3|3{|3vt43zw3v~33t3",
      "3y",
      "x3xwxt",
      "4\n",
      "800\n",
      "the decrypted message for seed 800 is Lipps$iziv}sri0$xlmw$mw$q}$tviwirxexmsr$jsv$xli$jmrep$tvsnigx$jsv$TL]W$7442$Mx$lew$fiir$e$kviex$xmqi$mr$xlmw$gpeww%$kssh$pygo$sr$epp$}syv$jyxyvi$irhiezsvw%\n",
      "801\n",
      "the decrypted message for seed 801 is ^{",
      "6{{",
      "{B6~666{{w",
      "6|",
      "6~{6|w6",
      "{y6|",
      "6f^oi6IFFD6_6~w6x{{6w6}{w6{66~6yw76}",
      "",
      "z6y6",
      "6w6",
      "6|{6{z{w",
      "7\n",
      "802\n",
      "the decrypted message for seed 802 is Pmttw(m~mzwvm4(|pq{(q{(u(xzm{mv|i|qwv(nwz(|pm(nqvit(xzwrmk|(nwz(XPa[(;886(Q|(pi{(jmmv(i(ozmi|(|qum(qv(|pq{(kti{{)(owwl(t}ks(wv(itt(w}z(n}|}zm(mvlmi~wz{)\n",
      "803\n",
      "the decrypted message for seed 803 is ^{",
      "6{{",
      "{B6~666{{w",
      "6|",
      "6~{6|w6",
      "{y6|",
      "6f^oi6IFFD6_6~w6x{{6w6}{w6{66~6yw76}",
      "",
      "z6y6",
      "6w6",
      "6|{6{z{w",
      "7\n",
      "804\n",
      "the decrypted message for seed 804 is Rovvy*oo|yxo6*~rs}*s}*w*z|o}ox~k~syx*py|*~ro*psxkv*z|ytom~*py|*ZRc]*=::8*S~*rk}*loox*k*q|ok~*~swo*sx*~rs}*mvk}}+*qyyn*vmu*yx*kvv*y|*p~|o*oxnoky|}+\n",
      "805\n",
      "the decrypted message for seed 805 is Rovvy*oo|yxo6*~rs}*s}*w*z|o}ox~k~syx*py|*~ro*psxkv*z|ytom~*py|*ZRc]*=::8*S~*rk}*loox*k*q|ok~*~swo*sx*~rs}*mvk}}+*qyyn*vmu*yx*kvv*y|*p~|o*oxnoky|}+\n",
      "806\n",
      "the decrypted message for seed 806 is Spwwz+pp}zyp7+st~+t~+x+{}p~pyltzy+qz}+sp+qtylw+{}zupn+qz}+[Sd^+>;;9+T+sl~+mppy+l+r}pl+txp+ty+st~+nwl~~,+rzzo+wnv+zy+lww+z}+q}p+pyoplz}~,\n",
      "807\n",
      "the decrypted message for seed 807 is Vszz}.ss}|s:.vw.w.{.~ss|ow}|.t}.vs.tw|oz.~}xsq.t}.^Vga.A>><.W.vo.pss|.o.uso.w{s.w|.vw.qzo/.u}}r.zqy.}|.ozz.}.ts.s|rso}/\n",
      "808\n",
      "the decrypted message for seed 808 is Vszz}.ss}|s:.vw.w.{.~ss|ow}|.t}.vs.tw|oz.~}xsq.t}.^Vga.A>><.W.vo.pss|.o.uso.w{s.w|.vw.qzo/.u}}r.zqy.}|.ozz.}.ts.s|rso}/\n",
      "809\n",
      "the decrypted message for seed 809 is `}8}}}D888",
      "8}}y8~8}8~y8}{8~8h`qk8KHHF8a8y8z}}8y8}y8",
      "}888{y98|8{88y88~}8}|}y9\n",
      "810\n",
      "the decrypted message for seed 810 is Khoor#hyhu|rqh/#wklv#lv#p|#suhvhqwdwlrq#iru#wkh#ilqdo#surmhfw#iru#SK\\V#6331#Lw#kdv#ehhq#d#juhdw#wlph#lq#wklv#fodvv$#jrrg#oxfn#rq#doo#|rxu#ixwxuh#hqghdyruv$\n",
      "811\n",
      "the decrypted message for seed 811 is _|7||",
      "|C7777||",
      "x",
      "7}7|7}",
      "x7|z7}7g_pj7JGGE7`7x7y||",
      "7x7~|x7|7",
      "77zx87~{7z7",
      "7x77}|7|",
      "{|x8\n",
      "812\n",
      "the decrypted message for seed 812 is `}8}}}D888",
      "8}}y8~8}8~y8}{8~8h`qk8KHHF8a8y8z}}8y8}y8",
      "}888{y98|8{88y88~}8}|}y9\n",
      "813\n",
      "the decrypted message for seed 813 is ]z5zzzA5}~5~55",
      "zzv~5{5}z5{~v5",
      "zx5{5e]nh5HEEC5^5}v5wzz5v5|zv5~z5~5}~5xv65|y5x55v55{z5zyzv6\n",
      "814\n",
      "the decrypted message for seed 814 is Nkrru&k|kxutk2&znoy&oy&s&vxkyktzgzout&lux&znk&lotgr&vxupkiz&lux&VN_Y&9664&Oz&ngy&hkkt&g&mxkgz&zosk&ot&znoy&irgyy'&muuj&r{iq&ut&grr&u{x&l{z{xk&ktjkg|uxy'\n",
      "815\n",
      "the decrypted message for seed 815 is a~",
      "",
      "9~~~E9999~~z99~9z",
      "9~|99iarl9LIIG9b9z9{~~9z9~z9~999|",
      "z:9}9",
      "|99z",
      "",
      "99~9~}~z:\n",
      "816\n",
      "the decrypted message for seed 816 is \\y4yyy@4|}4}44yyu}4z4|y4z}u4~yw4z4d\\mg4GDDB4]4|u4vyy4u4{yu4}y4}4|}4wu54{x4w44u44zy4yxyu5\n",
      "817\n",
      "the decrypted message for seed 817 is ]z5zzzA5}~5~55",
      "zzv~5{5}z5{~v5",
      "zx5{5e]nh5HEEC5^5}v5wzz5v5|zv5~z5~5}~5xv65|y5x55v55{z5zyzv6\n",
      "818\n",
      "the decrypted message for seed 818 is Rovvy*oo|yxo6*~rs}*s}*w*z|o}ox~k~syx*py|*~ro*psxkv*z|ytom~*py|*ZRc]*=::8*S~*rk}*loox*k*q|ok~*~swo*sx*~rs}*mvk}}+*qyyn*vmu*yx*kvv*y|*p~|o*oxnoky|}+\n",
      "819\n",
      "the decrypted message for seed 819 is Vszz}.ss}|s:.vw.w.{.~ss|ow}|.t}.vs.tw|oz.~}xsq.t}.^Vga.A>><.W.vo.pss|.o.uso.w{s.w|.vw.qzo/.u}}r.zqy.}|.ozz.}.ts.s|rso}/\n",
      "820\n",
      "the decrypted message for seed 820 is [x3xx",
      "x?3{|3|33",
      "xxt|3y",
      "3{x3y|t3",
      "}xv3y",
      "3c[lf3FCCA3\\3{t3uxx3t3z",
      "xt3|x3|3{|3vt43zw3v~33t3",
      "3y",
      "x3xwxt",
      "4\n",
      "821\n",
      "the decrypted message for seed 821 is Olssv'l}lyvul3'{opz'pz't'wylzlu{h{pvu'mvy'{ol'mpuhs'wyvqlj{'mvy'WO`Z':775'P{'ohz'illu'h'nylh{'{ptl'pu'{opz'jshzz('nvvk's|jr'vu'hss'v|y'm|{|yl'luklh}vyz(\n",
      "822\n",
      "the decrypted message for seed 822 is ^{",
      "6{{",
      "{B6~666{{w",
      "6|",
      "6~{6|w6",
      "{y6|",
      "6f^oi6IFFD6_6~w6x{{6w6}{w6{66~6yw76}",
      "",
      "z6y6",
      "6w6",
      "6|{6{z{w",
      "7\n",
      "823\n",
      "the decrypted message for seed 823 is Wt{{~/t",
      "t~}t;/wx/x/|/tt}px~}/u~/wt/ux}p{/~ytr/u~/_Whb/B??=/X/wp/qtt}/p/vtp/x|t/x}/wx/r{p0/v~~s/{rz/~}/p{{/~/ut/t}stp",
      "~0\n",
      "824\n",
      "the decrypted message for seed 824 is Mjqqt%j{jw~tsj1%ymnx%nx%r~%uwjxjsyfynts%ktw%ymj%knsfq%uwtojhy%ktw%UM^X%8553%Ny%mfx%gjjs%f%lwjfy%ynrj%ns%ymnx%hqfxx&%ltti%qzhp%ts%fqq%~tzw%kzyzwj%jsijf{twx&\n",
      "825\n",
      "the decrypted message for seed 825 is Yv}}1vvv=1",
      "yz1z1~1vv",
      "r",
      "z1w1",
      "yv1wzr}1{vt",
      "1w1aYjd1DAA?1Z",
      "1yr1svv1r1xvr",
      "1",
      "z~v1z1",
      "yz1t}r21xu1}t|11r}}11w",
      "v1vuvr2\n",
      "826\n",
      "the decrypted message for seed 826 is Pmttw(m~mzwvm4(|pq{(q{(u(xzm{mv|i|qwv(nwz(|pm(nqvit(xzwrmk|(nwz(XPa[(;886(Q|(pi{(jmmv(i(ozmi|(|qum(qv(|pq{(kti{{)(owwl(t}ks(wv(itt(w}z(n}|}zm(mvlmi~wz{)\n",
      "827\n",
      "the decrypted message for seed 827 is Vszz}.ss}|s:.vw.w.{.~ss|ow}|.t}.vs.tw|oz.~}xsq.t}.^Vga.A>><.W.vo.pss|.o.uso.w{s.w|.vw.qzo/.u}}r.zqy.}|.ozz.}.ts.s|rso}/\n",
      "828\n",
      "the decrypted message for seed 828 is [x3xx",
      "x?3{|3|33",
      "xxt|3y",
      "3{x3y|t3",
      "}xv3y",
      "3c[lf3FCCA3\\3{t3uxx3t3z",
      "xt3|x3|3{|3vt43zw3v~33t3",
      "3y",
      "x3xwxt",
      "4\n",
      "829\n",
      "the decrypted message for seed 829 is [x3xx",
      "x?3{|3|33",
      "xxt|3y",
      "3{x3y|t3",
      "}xv3y",
      "3c[lf3FCCA3\\3{t3uxx3t3z",
      "xt3|x3|3{|3vt43zw3v~33t3",
      "3y",
      "x3xwxt",
      "4\n",
      "830\n",
      "the decrypted message for seed 830 is ^{",
      "6{{",
      "{B6~666{{w",
      "6|",
      "6~{6|w6",
      "{y6|",
      "6f^oi6IFFD6_6~w6x{{6w6}{w6{66~6yw76}",
      "",
      "z6y6",
      "6w6",
      "6|{6{z{w",
      "7\n",
      "831\n",
      "the decrypted message for seed 831 is \\y4yyy@4|}4}44yyu}4z4|y4z}u4~yw4z4d\\mg4GDDB4]4|u4vyy4u4{yu4}y4}4|}4wu54{x4w44u44zy4yxyu5\n",
      "832\n",
      "the decrypted message for seed 832 is Jgnnq\"gxgt{qpg.\"vjku\"ku\"o{\"rtgugpvcvkqp\"hqt\"vjg\"hkpcn\"rtqlgev\"hqt\"RJ[U\"5220\"Kv\"jcu\"dggp\"c\"itgcv\"vkog\"kp\"vjku\"encuu#\"iqqf\"nwem\"qp\"cnn\"{qwt\"hwvwtg\"gpfgcxqtu#\n",
      "833\n",
      "the decrypted message for seed 833 is Olssv'l}lyvul3'{opz'pz't'wylzlu{h{pvu'mvy'{ol'mpuhs'wyvqlj{'mvy'WO`Z':775'P{'ohz'illu'h'nylh{'{ptl'pu'{opz'jshzz('nvvk's|jr'vu'hss'v|y'm|{|yl'luklh}vyz(\n",
      "834\n",
      "the decrypted message for seed 834 is Xu||0uu~u<0xy0y0}0uu~qy~0v0xu0vy~q|0zus0v0`Xic0C@@>0Y0xq0ruu~0q0wuq0y}u0y~0xy0s|q10wt0|",
      "s{0~0q||0",
      "0v",
      "",
      "u0u~tuq1\n",
      "835\n",
      "the decrypted message for seed 835 is Nkrru&k|kxutk2&znoy&oy&s&vxkyktzgzout&lux&znk&lotgr&vxupkiz&lux&VN_Y&9664&Oz&ngy&hkkt&g&mxkgz&zosk&ot&znoy&irgyy'&muuj&r{iq&ut&grr&u{x&l{z{xk&ktjkg|uxy'\n",
      "836\n",
      "the decrypted message for seed 836 is Tqxx{,qq~",
      "{zq8,tu,u,y",
      ",|~qqzmu{z,r{~,tq,ruzmx,|~{vqo,r{~,\\Te_,?<<:,U,tm,nqqz,m,s~qm,uyq,uz,tu,oxm-,s{{p,xow,{z,mxx,",
      "{~,r~q,qzpqm{~-\n",
      "837\n",
      "the decrypted message for seed 837 is Pmttw(m~mzwvm4(|pq{(q{(u(xzm{mv|i|qwv(nwz(|pm(nqvit(xzwrmk|(nwz(XPa[(;886(Q|(pi{(jmmv(i(ozmi|(|qum(qv(|pq{(kti{{)(owwl(t}ks(wv(itt(w}z(n}|}zm(mvlmi~wz{)\n",
      "838\n",
      "the decrypted message for seed 838 is Qnuux)nn{xwn5)}qr|)r|)v)y{n|nw}j}rxw)ox{)}qn)orwju)y{xsnl})ox{)YQb\\)<997)R})qj|)knnw)j)p{nj})}rvn)rw)}qr|)luj||*)pxxm)u~lt)xw)juu)x~{)o~}~{n)nwmnjx{|*\n",
      "839\n",
      "the decrypted message for seed 839 is Nkrru&k|kxutk2&znoy&oy&s&vxkyktzgzout&lux&znk&lotgr&vxupkiz&lux&VN_Y&9664&Oz&ngy&hkkt&g&mxkgz&zosk&ot&znoy&irgyy'&muuj&r{iq&ut&grr&u{x&l{z{xk&ktjkg|uxy'\n",
      "840\n",
      "the decrypted message for seed 840 is [x3xx",
      "x?3{|3|33",
      "xxt|3y",
      "3{x3y|t3",
      "}xv3y",
      "3c[lf3FCCA3\\3{t3uxx3t3z",
      "xt3|x3|3{|3vt43zw3v~33t3",
      "3y",
      "x3xwxt",
      "4\n",
      "841\n",
      "the decrypted message for seed 841 is Olssv'l}lyvul3'{opz'pz't'wylzlu{h{pvu'mvy'{ol'mpuhs'wyvqlj{'mvy'WO`Z':775'P{'ohz'illu'h'nylh{'{ptl'pu'{opz'jshzz('nvvk's|jr'vu'hss'v|y'm|{|yl'luklh}vyz(\n",
      "842\n",
      "the decrypted message for seed 842 is _|7||",
      "|C7777||",
      "x",
      "7}7|7}",
      "x7|z7}7g_pj7JGGE7`7x7y||",
      "7x7~|x7|7",
      "77zx87~{7z7",
      "7x77}|7|",
      "{|x8\n",
      "843\n",
      "the decrypted message for seed 843 is Lipps$iziv}sri0$xlmw$mw$q}$tviwirxexmsr$jsv$xli$jmrep$tvsnigx$jsv$TL]W$7442$Mx$lew$fiir$e$kviex$xmqi$mr$xlmw$gpeww%$kssh$pygo$sr$epp$}syv$jyxyvi$irhiezsvw%\n",
      "844\n",
      "the decrypted message for seed 844 is Mjqqt%j{jw~tsj1%ymnx%nx%r~%uwjxjsyfynts%ktw%ymj%knsfq%uwtojhy%ktw%UM^X%8553%Ny%mfx%gjjs%f%lwjfy%ynrj%ns%ymnx%hqfxx&%ltti%qzhp%ts%fqq%~tzw%kzyzwj%jsijf{twx&\n",
      "845\n",
      "the decrypted message for seed 845 is `}8}}}D888",
      "8}}y8~8}8~y8}{8~8h`qk8KHHF8a8y8z}}8y8}y8",
      "}888{y98|8{88y88~}8}|}y9\n",
      "846\n",
      "the decrypted message for seed 846 is ^{",
      "6{{",
      "{B6~666{{w",
      "6|",
      "6~{6|w6",
      "{y6|",
      "6f^oi6IFFD6_6~w6x{{6w6}{w6{66~6yw76}",
      "",
      "z6y6",
      "6w6",
      "6|{6{z{w",
      "7\n",
      "847\n"
     ]
    },
    {
     "name": "stdout",
     "output_type": "stream",
     "text": [
      "the decrypted message for seed 847 is Uryy|-rr|{r9-uv-v-z-}rr{nv|{-s|-ur-sv{ny-}|wrp-s|-]Uf`-@==;-V-un-orr{-n-trn-vzr-v{-uv-pyn.-t||q-ypx-|{-nyy-|-sr-r{qrn|.\n",
      "848\n",
      "the decrypted message for seed 848 is Gdkkn\u001fdudqxnmd+\u001fsghr\u001fhr\u001flx\u001foqdrdms`shnm\u001fenq\u001fsgd\u001fehm`k\u001foqnidbs\u001fenq\u001fOGXR\u001f2//-\u001fHs\u001fg`r\u001faddm\u001f`\u001ffqd`s\u001fshld\u001fhm\u001fsghr\u001fbk`rr \u001ffnnc\u001fktbj\u001fnm\u001f`kk\u001fxntq\u001fetstqd\u001fdmcd`unqr \n",
      "849\n",
      "the decrypted message for seed 849 is a~",
      "",
      "9~~~E9999~~z99~9z",
      "9~|99iarl9LIIG9b9z9{~~9z9~z9~999|",
      "z:9}9",
      "|99z",
      "",
      "99~9~}~z:\n",
      "850\n",
      "the decrypted message for seed 850 is Gdkkn\u001fdudqxnmd+\u001fsghr\u001fhr\u001flx\u001foqdrdms`shnm\u001fenq\u001fsgd\u001fehm`k\u001foqnidbs\u001fenq\u001fOGXR\u001f2//-\u001fHs\u001fg`r\u001faddm\u001f`\u001ffqd`s\u001fshld\u001fhm\u001fsghr\u001fbk`rr \u001ffnnc\u001fktbj\u001fnm\u001f`kk\u001fxntq\u001fetstqd\u001fdmcd`unqr \n",
      "851\n",
      "the decrypted message for seed 851 is Olssv'l}lyvul3'{opz'pz't'wylzlu{h{pvu'mvy'{ol'mpuhs'wyvqlj{'mvy'WO`Z':775'P{'ohz'illu'h'nylh{'{ptl'pu'{opz'jshzz('nvvk's|jr'vu'hss'v|y'm|{|yl'luklh}vyz(\n",
      "852\n",
      "the decrypted message for seed 852 is Gdkkn\u001fdudqxnmd+\u001fsghr\u001fhr\u001flx\u001foqdrdms`shnm\u001fenq\u001fsgd\u001fehm`k\u001foqnidbs\u001fenq\u001fOGXR\u001f2//-\u001fHs\u001fg`r\u001faddm\u001f`\u001ffqd`s\u001fshld\u001fhm\u001fsghr\u001fbk`rr \u001ffnnc\u001fktbj\u001fnm\u001f`kk\u001fxntq\u001fetstqd\u001fdmcd`unqr \n",
      "853\n",
      "the decrypted message for seed 853 is Uryy|-rr|{r9-uv-v-z-}rr{nv|{-s|-ur-sv{ny-}|wrp-s|-]Uf`-@==;-V-un-orr{-n-trn-vzr-v{-uv-pyn.-t||q-ypx-|{-nyy-|-sr-r{qrn|.\n",
      "854\n",
      "the decrypted message for seed 854 is Ifmmp!fwfszpof-!uijt!jt!nz!qsftfoubujpo!gps!uif!gjobm!qspkfdu!gps!QIZT!411/!Ju!ibt!cffo!b!hsfbu!ujnf!jo!uijt!dmbtt\"!hppe!mvdl!po!bmm!zpvs!gvuvsf!foefbwpst\"\n",
      "855\n",
      "the decrypted message for seed 855 is Zw~~2www>2z{",
      "2{",
      "22w",
      "ws{2x2zw2x{s~2|wu2x2bZke2EBB@2[2zs",
      "2tww2s2yws2{w2{2z{",
      "2u~s",
      "",
      "32yv2~u}22s~~22xw2wvws",
      "3\n",
      "856\n",
      "the decrypted message for seed 856 is [x3xx",
      "x?3{|3|33",
      "xxt|3y",
      "3{x3y|t3",
      "}xv3y",
      "3c[lf3FCCA3\\3{t3uxx3t3z",
      "xt3|x3|3{|3vt43zw3v~33t3",
      "3y",
      "x3xwxt",
      "4\n",
      "857\n",
      "the decrypted message for seed 857 is Rovvy*oo|yxo6*~rs}*s}*w*z|o}ox~k~syx*py|*~ro*psxkv*z|ytom~*py|*ZRc]*=::8*S~*rk}*loox*k*q|ok~*~swo*sx*~rs}*mvk}}+*qyyn*vmu*yx*kvv*y|*p~|o*oxnoky|}+\n",
      "858\n",
      "the decrypted message for seed 858 is Qnuux)nn{xwn5)}qr|)r|)v)y{n|nw}j}rxw)ox{)}qn)orwju)y{xsnl})ox{)YQb\\)<997)R})qj|)knnw)j)p{nj})}rvn)rw)}qr|)luj||*)pxxm)u~lt)xw)juu)x~{)o~}~{n)nwmnjx{|*\n",
      "859\n",
      "the decrypted message for seed 859 is Olssv'l}lyvul3'{opz'pz't'wylzlu{h{pvu'mvy'{ol'mpuhs'wyvqlj{'mvy'WO`Z':775'P{'ohz'illu'h'nylh{'{ptl'pu'{opz'jshzz('nvvk's|jr'vu'hss'v|y'm|{|yl'luklh}vyz(\n",
      "860\n",
      "the decrypted message for seed 860 is ]z5zzzA5}~5~55",
      "zzv~5{5}z5{~v5",
      "zx5{5e]nh5HEEC5^5}v5wzz5v5|zv5~z5~5}~5xv65|y5x55v55{z5zyzv6\n",
      "861\n",
      "the decrypted message for seed 861 is Spwwz+pp}zyp7+st~+t~+x+{}p~pyltzy+qz}+sp+qtylw+{}zupn+qz}+[Sd^+>;;9+T+sl~+mppy+l+r}pl+txp+ty+st~+nwl~~,+rzzo+wnv+zy+lww+z}+q}p+pyoplz}~,\n",
      "862\n",
      "the decrypted message for seed 862 is Olssv'l}lyvul3'{opz'pz't'wylzlu{h{pvu'mvy'{ol'mpuhs'wyvqlj{'mvy'WO`Z':775'P{'ohz'illu'h'nylh{'{ptl'pu'{opz'jshzz('nvvk's|jr'vu'hss'v|y'm|{|yl'luklh}vyz(\n",
      "863\n",
      "the decrypted message for seed 863 is Olssv'l}lyvul3'{opz'pz't'wylzlu{h{pvu'mvy'{ol'mpuhs'wyvqlj{'mvy'WO`Z':775'P{'ohz'illu'h'nylh{'{ptl'pu'{opz'jshzz('nvvk's|jr'vu'hss'v|y'm|{|yl'luklh}vyz(\n",
      "864\n",
      "the decrypted message for seed 864 is Xu||0uu~u<0xy0y0}0uu~qy~0v0xu0vy~q|0zus0v0`Xic0C@@>0Y0xq0ruu~0q0wuq0y}u0y~0xy0s|q10wt0|",
      "s{0~0q||0",
      "0v",
      "",
      "u0u~tuq1\n",
      "865\n",
      "the decrypted message for seed 865 is Uryy|-rr|{r9-uv-v-z-}rr{nv|{-s|-ur-sv{ny-}|wrp-s|-]Uf`-@==;-V-un-orr{-n-trn-vzr-v{-uv-pyn.-t||q-ypx-|{-nyy-|-sr-r{qrn|.\n",
      "866\n",
      "the decrypted message for seed 866 is ^{",
      "6{{",
      "{B6~666{{w",
      "6|",
      "6~{6|w6",
      "{y6|",
      "6f^oi6IFFD6_6~w6x{{6w6}{w6{66~6yw76}",
      "",
      "z6y6",
      "6w6",
      "6|{6{z{w",
      "7\n",
      "867\n",
      "the decrypted message for seed 867 is Gdkkn\u001fdudqxnmd+\u001fsghr\u001fhr\u001flx\u001foqdrdms`shnm\u001fenq\u001fsgd\u001fehm`k\u001foqnidbs\u001fenq\u001fOGXR\u001f2//-\u001fHs\u001fg`r\u001faddm\u001f`\u001ffqd`s\u001fshld\u001fhm\u001fsghr\u001fbk`rr \u001ffnnc\u001fktbj\u001fnm\u001f`kk\u001fxntq\u001fetstqd\u001fdmcd`unqr \n",
      "868\n",
      "the decrypted message for seed 868 is Uryy|-rr|{r9-uv-v-z-}rr{nv|{-s|-ur-sv{ny-}|wrp-s|-]Uf`-@==;-V-un-orr{-n-trn-vzr-v{-uv-pyn.-t||q-ypx-|{-nyy-|-sr-r{qrn|.\n",
      "869\n",
      "the decrypted message for seed 869 is Tqxx{,qq~",
      "{zq8,tu,u,y",
      ",|~qqzmu{z,r{~,tq,ruzmx,|~{vqo,r{~,\\Te_,?<<:,U,tm,nqqz,m,s~qm,uyq,uz,tu,oxm-,s{{p,xow,{z,mxx,",
      "{~,r~q,qzpqm{~-\n",
      "870\n",
      "the decrypted message for seed 870 is Zw~~2www>2z{",
      "2{",
      "22w",
      "ws{2x2zw2x{s~2|wu2x2bZke2EBB@2[2zs",
      "2tww2s2yws2{w2{2z{",
      "2u~s",
      "",
      "32yv2~u}22s~~22xw2wvws",
      "3\n",
      "871\n",
      "the decrypted message for seed 871 is Vszz}.ss}|s:.vw.w.{.~ss|ow}|.t}.vs.tw|oz.~}xsq.t}.^Vga.A>><.W.vo.pss|.o.uso.w{s.w|.vw.qzo/.u}}r.zqy.}|.ozz.}.ts.s|rso}/\n",
      "872\n",
      "the decrypted message for seed 872 is Pmttw(m~mzwvm4(|pq{(q{(u(xzm{mv|i|qwv(nwz(|pm(nqvit(xzwrmk|(nwz(XPa[(;886(Q|(pi{(jmmv(i(ozmi|(|qum(qv(|pq{(kti{{)(owwl(t}ks(wv(itt(w}z(n}|}zm(mvlmi~wz{)\n",
      "873\n",
      "the decrypted message for seed 873 is ]z5zzzA5}~5~55",
      "zzv~5{5}z5{~v5",
      "zx5{5e]nh5HEEC5^5}v5wzz5v5|zv5~z5~5}~5xv65|y5x55v55{z5zyzv6\n",
      "874\n",
      "the decrypted message for seed 874 is Qnuux)nn{xwn5)}qr|)r|)v)y{n|nw}j}rxw)ox{)}qn)orwju)y{xsnl})ox{)YQb\\)<997)R})qj|)knnw)j)p{nj})}rvn)rw)}qr|)luj||*)pxxm)u~lt)xw)juu)x~{)o~}~{n)nwmnjx{|*\n",
      "875\n",
      "the decrypted message for seed 875 is Qnuux)nn{xwn5)}qr|)r|)v)y{n|nw}j}rxw)ox{)}qn)orwju)y{xsnl})ox{)YQb\\)<997)R})qj|)knnw)j)p{nj})}rvn)rw)}qr|)luj||*)pxxm)u~lt)xw)juu)x~{)o~}~{n)nwmnjx{|*\n",
      "876\n",
      "the decrypted message for seed 876 is Khoor#hyhu|rqh/#wklv#lv#p|#suhvhqwdwlrq#iru#wkh#ilqdo#surmhfw#iru#SK\\V#6331#Lw#kdv#ehhq#d#juhdw#wlph#lq#wklv#fodvv$#jrrg#oxfn#rq#doo#|rxu#ixwxuh#hqghdyruv$\n",
      "877\n",
      "the decrypted message for seed 877 is Zw~~2www>2z{",
      "2{",
      "22w",
      "ws{2x2zw2x{s~2|wu2x2bZke2EBB@2[2zs",
      "2tww2s2yws2{w2{2z{",
      "2u~s",
      "",
      "32yv2~u}22s~~22xw2wvws",
      "3\n",
      "878\n",
      "the decrypted message for seed 878 is Hello everyone, this is my presentation for the final project for PHYS 300. It has been a great time in this class! good luck on all your future endeavors!\n",
      "879\n",
      "the decrypted message for seed 879 is _|7||",
      "|C7777||",
      "x",
      "7}7|7}",
      "x7|z7}7g_pj7JGGE7`7x7y||",
      "7x7~|x7|7",
      "77zx87~{7z7",
      "7x77}|7|",
      "{|x8\n",
      "880\n",
      "the decrypted message for seed 880 is ^{",
      "6{{",
      "{B6~666{{w",
      "6|",
      "6~{6|w6",
      "{y6|",
      "6f^oi6IFFD6_6~w6x{{6w6}{w6{66~6yw76}",
      "",
      "z6y6",
      "6w6",
      "6|{6{z{w",
      "7\n",
      "881\n",
      "the decrypted message for seed 881 is Lipps$iziv}sri0$xlmw$mw$q}$tviwirxexmsr$jsv$xli$jmrep$tvsnigx$jsv$TL]W$7442$Mx$lew$fiir$e$kviex$xmqi$mr$xlmw$gpeww%$kssh$pygo$sr$epp$}syv$jyxyvi$irhiezsvw%\n",
      "882\n",
      "the decrypted message for seed 882 is a~",
      "",
      "9~~~E9999~~z99~9z",
      "9~|99iarl9LIIG9b9z9{~~9z9~z9~999|",
      "z:9}9",
      "|99z",
      "",
      "99~9~}~z:\n",
      "883\n",
      "the decrypted message for seed 883 is Pmttw(m~mzwvm4(|pq{(q{(u(xzm{mv|i|qwv(nwz(|pm(nqvit(xzwrmk|(nwz(XPa[(;886(Q|(pi{(jmmv(i(ozmi|(|qum(qv(|pq{(kti{{)(owwl(t}ks(wv(itt(w}z(n}|}zm(mvlmi~wz{)\n",
      "884\n",
      "the decrypted message for seed 884 is Gdkkn\u001fdudqxnmd+\u001fsghr\u001fhr\u001flx\u001foqdrdms`shnm\u001fenq\u001fsgd\u001fehm`k\u001foqnidbs\u001fenq\u001fOGXR\u001f2//-\u001fHs\u001fg`r\u001faddm\u001f`\u001ffqd`s\u001fshld\u001fhm\u001fsghr\u001fbk`rr \u001ffnnc\u001fktbj\u001fnm\u001f`kk\u001fxntq\u001fetstqd\u001fdmcd`unqr \n",
      "885\n",
      "the decrypted message for seed 885 is Vszz}.ss}|s:.vw.w.{.~ss|ow}|.t}.vs.tw|oz.~}xsq.t}.^Vga.A>><.W.vo.pss|.o.uso.w{s.w|.vw.qzo/.u}}r.zqy.}|.ozz.}.ts.s|rso}/\n",
      "886\n",
      "the decrypted message for seed 886 is [x3xx",
      "x?3{|3|33",
      "xxt|3y",
      "3{x3y|t3",
      "}xv3y",
      "3c[lf3FCCA3\\3{t3uxx3t3z",
      "xt3|x3|3{|3vt43zw3v~33t3",
      "3y",
      "x3xwxt",
      "4\n",
      "887\n",
      "the decrypted message for seed 887 is Rovvy*oo|yxo6*~rs}*s}*w*z|o}ox~k~syx*py|*~ro*psxkv*z|ytom~*py|*ZRc]*=::8*S~*rk}*loox*k*q|ok~*~swo*sx*~rs}*mvk}}+*qyyn*vmu*yx*kvv*y|*p~|o*oxnoky|}+\n",
      "888\n",
      "the decrypted message for seed 888 is _|7||",
      "|C7777||",
      "x",
      "7}7|7}",
      "x7|z7}7g_pj7JGGE7`7x7y||",
      "7x7~|x7|7",
      "77zx87~{7z7",
      "7x77}|7|",
      "{|x8\n",
      "889\n",
      "the decrypted message for seed 889 is Mjqqt%j{jw~tsj1%ymnx%nx%r~%uwjxjsyfynts%ktw%ymj%knsfq%uwtojhy%ktw%UM^X%8553%Ny%mfx%gjjs%f%lwjfy%ynrj%ns%ymnx%hqfxx&%ltti%qzhp%ts%fqq%~tzw%kzyzwj%jsijf{twx&\n",
      "890\n",
      "the decrypted message for seed 890 is `}8}}}D888",
      "8}}y8~8}8~y8}{8~8h`qk8KHHF8a8y8z}}8y8}y8",
      "}888{y98|8{88y88~}8}|}y9\n",
      "891\n",
      "the decrypted message for seed 891 is Mjqqt%j{jw~tsj1%ymnx%nx%r~%uwjxjsyfynts%ktw%ymj%knsfq%uwtojhy%ktw%UM^X%8553%Ny%mfx%gjjs%f%lwjfy%ynrj%ns%ymnx%hqfxx&%ltti%qzhp%ts%fqq%~tzw%kzyzwj%jsijf{twx&\n",
      "892\n",
      "the decrypted message for seed 892 is Zw~~2www>2z{",
      "2{",
      "22w",
      "ws{2x2zw2x{s~2|wu2x2bZke2EBB@2[2zs",
      "2tww2s2yws2{w2{2z{",
      "2u~s",
      "",
      "32yv2~u}22s~~22xw2wvws",
      "3\n",
      "893\n",
      "the decrypted message for seed 893 is Qnuux)nn{xwn5)}qr|)r|)v)y{n|nw}j}rxw)ox{)}qn)orwju)y{xsnl})ox{)YQb\\)<997)R})qj|)knnw)j)p{nj})}rvn)rw)}qr|)luj||*)pxxm)u~lt)xw)juu)x~{)o~}~{n)nwmnjx{|*\n",
      "894\n",
      "the decrypted message for seed 894 is Spwwz+pp}zyp7+st~+t~+x+{}p~pyltzy+qz}+sp+qtylw+{}zupn+qz}+[Sd^+>;;9+T+sl~+mppy+l+r}pl+txp+ty+st~+nwl~~,+rzzo+wnv+zy+lww+z}+q}p+pyoplz}~,\n",
      "895\n",
      "the decrypted message for seed 895 is Mjqqt%j{jw~tsj1%ymnx%nx%r~%uwjxjsyfynts%ktw%ymj%knsfq%uwtojhy%ktw%UM^X%8553%Ny%mfx%gjjs%f%lwjfy%ynrj%ns%ymnx%hqfxx&%ltti%qzhp%ts%fqq%~tzw%kzyzwj%jsijf{twx&\n",
      "896\n",
      "the decrypted message for seed 896 is [x3xx",
      "x?3{|3|33",
      "xxt|3y",
      "3{x3y|t3",
      "}xv3y",
      "3c[lf3FCCA3\\3{t3uxx3t3z",
      "xt3|x3|3{|3vt43zw3v~33t3",
      "3y",
      "x3xwxt",
      "4\n",
      "897\n",
      "the decrypted message for seed 897 is `}8}}}D888",
      "8}}y8~8}8~y8}{8~8h`qk8KHHF8a8y8z}}8y8}y8",
      "}888{y98|8{88y88~}8}|}y9\n",
      "898\n",
      "the decrypted message for seed 898 is Tqxx{,qq~",
      "{zq8,tu,u,y",
      ",|~qqzmu{z,r{~,tq,ruzmx,|~{vqo,r{~,\\Te_,?<<:,U,tm,nqqz,m,s~qm,uyq,uz,tu,oxm-,s{{p,xow,{z,mxx,",
      "{~,r~q,qzpqm{~-\n",
      "899\n",
      "the decrypted message for seed 899 is Hello everyone, this is my presentation for the final project for PHYS 300. It has been a great time in this class! good luck on all your future endeavors!\n",
      "900\n",
      "the decrypted message for seed 900 is Nkrru&k|kxutk2&znoy&oy&s&vxkyktzgzout&lux&znk&lotgr&vxupkiz&lux&VN_Y&9664&Oz&ngy&hkkt&g&mxkgz&zosk&ot&znoy&irgyy'&muuj&r{iq&ut&grr&u{x&l{z{xk&ktjkg|uxy'\n",
      "901\n",
      "the decrypted message for seed 901 is Tqxx{,qq~",
      "{zq8,tu,u,y",
      ",|~qqzmu{z,r{~,tq,ruzmx,|~{vqo,r{~,\\Te_,?<<:,U,tm,nqqz,m,s~qm,uyq,uz,tu,oxm-,s{{p,xow,{z,mxx,",
      "{~,r~q,qzpqm{~-\n",
      "902\n",
      "the decrypted message for seed 902 is Yv}}1vvv=1",
      "yz1z1~1vv",
      "r",
      "z1w1",
      "yv1wzr}1{vt",
      "1w1aYjd1DAA?1Z",
      "1yr1svv1r1xvr",
      "1",
      "z~v1z1",
      "yz1t}r21xu1}t|11r}}11w",
      "v1vuvr2\n",
      "903\n",
      "the decrypted message for seed 903 is `}8}}}D888",
      "8}}y8~8}8~y8}{8~8h`qk8KHHF8a8y8z}}8y8}y8",
      "}888{y98|8{88y88~}8}|}y9\n",
      "904\n",
      "the decrypted message for seed 904 is Khoor#hyhu|rqh/#wklv#lv#p|#suhvhqwdwlrq#iru#wkh#ilqdo#surmhfw#iru#SK\\V#6331#Lw#kdv#ehhq#d#juhdw#wlph#lq#wklv#fodvv$#jrrg#oxfn#rq#doo#|rxu#ixwxuh#hqghdyruv$\n",
      "905\n",
      "the decrypted message for seed 905 is Lipps$iziv}sri0$xlmw$mw$q}$tviwirxexmsr$jsv$xli$jmrep$tvsnigx$jsv$TL]W$7442$Mx$lew$fiir$e$kviex$xmqi$mr$xlmw$gpeww%$kssh$pygo$sr$epp$}syv$jyxyvi$irhiezsvw%\n",
      "906\n",
      "the decrypted message for seed 906 is a~",
      "",
      "9~~~E9999~~z99~9z",
      "9~|99iarl9LIIG9b9z9{~~9z9~z9~999|",
      "z:9}9",
      "|99z",
      "",
      "99~9~}~z:\n",
      "907\n",
      "the decrypted message for seed 907 is Khoor#hyhu|rqh/#wklv#lv#p|#suhvhqwdwlrq#iru#wkh#ilqdo#surmhfw#iru#SK\\V#6331#Lw#kdv#ehhq#d#juhdw#wlph#lq#wklv#fodvv$#jrrg#oxfn#rq#doo#|rxu#ixwxuh#hqghdyruv$\n",
      "908\n",
      "the decrypted message for seed 908 is Mjqqt%j{jw~tsj1%ymnx%nx%r~%uwjxjsyfynts%ktw%ymj%knsfq%uwtojhy%ktw%UM^X%8553%Ny%mfx%gjjs%f%lwjfy%ynrj%ns%ymnx%hqfxx&%ltti%qzhp%ts%fqq%~tzw%kzyzwj%jsijf{twx&\n",
      "909\n",
      "the decrypted message for seed 909 is [x3xx",
      "x?3{|3|33",
      "xxt|3y",
      "3{x3y|t3",
      "}xv3y",
      "3c[lf3FCCA3\\3{t3uxx3t3z",
      "xt3|x3|3{|3vt43zw3v~33t3",
      "3y",
      "x3xwxt",
      "4\n",
      "910\n",
      "the decrypted message for seed 910 is Nkrru&k|kxutk2&znoy&oy&s&vxkyktzgzout&lux&znk&lotgr&vxupkiz&lux&VN_Y&9664&Oz&ngy&hkkt&g&mxkgz&zosk&ot&znoy&irgyy'&muuj&r{iq&ut&grr&u{x&l{z{xk&ktjkg|uxy'\n",
      "911\n",
      "the decrypted message for seed 911 is Spwwz+pp}zyp7+st~+t~+x+{}p~pyltzy+qz}+sp+qtylw+{}zupn+qz}+[Sd^+>;;9+T+sl~+mppy+l+r}pl+txp+ty+st~+nwl~~,+rzzo+wnv+zy+lww+z}+q}p+pyoplz}~,\n",
      "912\n",
      "the decrypted message for seed 912 is Qnuux)nn{xwn5)}qr|)r|)v)y{n|nw}j}rxw)ox{)}qn)orwju)y{xsnl})ox{)YQb\\)<997)R})qj|)knnw)j)p{nj})}rvn)rw)}qr|)luj||*)pxxm)u~lt)xw)juu)x~{)o~}~{n)nwmnjx{|*\n",
      "913\n",
      "the decrypted message for seed 913 is ^{",
      "6{{",
      "{B6~666{{w",
      "6|",
      "6~{6|w6",
      "{y6|",
      "6f^oi6IFFD6_6~w6x{{6w6}{w6{66~6yw76}",
      "",
      "z6y6",
      "6w6",
      "6|{6{z{w",
      "7\n",
      "914\n",
      "the decrypted message for seed 914 is `}8}}}D888",
      "8}}y8~8}8~y8}{8~8h`qk8KHHF8a8y8z}}8y8}y8",
      "}888{y98|8{88y88~}8}|}y9\n",
      "915\n",
      "the decrypted message for seed 915 is \\y4yyy@4|}4}44yyu}4z4|y4z}u4~yw4z4d\\mg4GDDB4]4|u4vyy4u4{yu4}y4}4|}4wu54{x4w44u44zy4yxyu5\n",
      "916\n",
      "the decrypted message for seed 916 is Lipps$iziv}sri0$xlmw$mw$q}$tviwirxexmsr$jsv$xli$jmrep$tvsnigx$jsv$TL]W$7442$Mx$lew$fiir$e$kviex$xmqi$mr$xlmw$gpeww%$kssh$pygo$sr$epp$}syv$jyxyvi$irhiezsvw%\n",
      "917\n",
      "the decrypted message for seed 917 is Ifmmp!fwfszpof-!uijt!jt!nz!qsftfoubujpo!gps!uif!gjobm!qspkfdu!gps!QIZT!411/!Ju!ibt!cffo!b!hsfbu!ujnf!jo!uijt!dmbtt\"!hppe!mvdl!po!bmm!zpvs!gvuvsf!foefbwpst\"\n",
      "918\n",
      "the decrypted message for seed 918 is Khoor#hyhu|rqh/#wklv#lv#p|#suhvhqwdwlrq#iru#wkh#ilqdo#surmhfw#iru#SK\\V#6331#Lw#kdv#ehhq#d#juhdw#wlph#lq#wklv#fodvv$#jrrg#oxfn#rq#doo#|rxu#ixwxuh#hqghdyruv$\n",
      "919\n",
      "the decrypted message for seed 919 is Lipps$iziv}sri0$xlmw$mw$q}$tviwirxexmsr$jsv$xli$jmrep$tvsnigx$jsv$TL]W$7442$Mx$lew$fiir$e$kviex$xmqi$mr$xlmw$gpeww%$kssh$pygo$sr$epp$}syv$jyxyvi$irhiezsvw%\n",
      "920\n",
      "the decrypted message for seed 920 is Nkrru&k|kxutk2&znoy&oy&s&vxkyktzgzout&lux&znk&lotgr&vxupkiz&lux&VN_Y&9664&Oz&ngy&hkkt&g&mxkgz&zosk&ot&znoy&irgyy'&muuj&r{iq&ut&grr&u{x&l{z{xk&ktjkg|uxy'\n",
      "921\n",
      "the decrypted message for seed 921 is Vszz}.ss}|s:.vw.w.{.~ss|ow}|.t}.vs.tw|oz.~}xsq.t}.^Vga.A>><.W.vo.pss|.o.uso.w{s.w|.vw.qzo/.u}}r.zqy.}|.ozz.}.ts.s|rso}/\n",
      "922\n",
      "the decrypted message for seed 922 is `}8}}}D888",
      "8}}y8~8}8~y8}{8~8h`qk8KHHF8a8y8z}}8y8}y8",
      "}888{y98|8{88y88~}8}|}y9\n",
      "923\n",
      "the decrypted message for seed 923 is Gdkkn\u001fdudqxnmd+\u001fsghr\u001fhr\u001flx\u001foqdrdms`shnm\u001fenq\u001fsgd\u001fehm`k\u001foqnidbs\u001fenq\u001fOGXR\u001f2//-\u001fHs\u001fg`r\u001faddm\u001f`\u001ffqd`s\u001fshld\u001fhm\u001fsghr\u001fbk`rr \u001ffnnc\u001fktbj\u001fnm\u001f`kk\u001fxntq\u001fetstqd\u001fdmcd`unqr \n",
      "924\n",
      "the decrypted message for seed 924 is Olssv'l}lyvul3'{opz'pz't'wylzlu{h{pvu'mvy'{ol'mpuhs'wyvqlj{'mvy'WO`Z':775'P{'ohz'illu'h'nylh{'{ptl'pu'{opz'jshzz('nvvk's|jr'vu'hss'v|y'm|{|yl'luklh}vyz(\n",
      "925\n",
      "the decrypted message for seed 925 is _|7||",
      "|C7777||",
      "x",
      "7}7|7}",
      "x7|z7}7g_pj7JGGE7`7x7y||",
      "7x7~|x7|7",
      "77zx87~{7z7",
      "7x77}|7|",
      "{|x8\n",
      "926\n",
      "the decrypted message for seed 926 is Mjqqt%j{jw~tsj1%ymnx%nx%r~%uwjxjsyfynts%ktw%ymj%knsfq%uwtojhy%ktw%UM^X%8553%Ny%mfx%gjjs%f%lwjfy%ynrj%ns%ymnx%hqfxx&%ltti%qzhp%ts%fqq%~tzw%kzyzwj%jsijf{twx&\n",
      "927\n",
      "the decrypted message for seed 927 is Mjqqt%j{jw~tsj1%ymnx%nx%r~%uwjxjsyfynts%ktw%ymj%knsfq%uwtojhy%ktw%UM^X%8553%Ny%mfx%gjjs%f%lwjfy%ynrj%ns%ymnx%hqfxx&%ltti%qzhp%ts%fqq%~tzw%kzyzwj%jsijf{twx&\n",
      "928\n",
      "the decrypted message for seed 928 is Xu||0uu~u<0xy0y0}0uu~qy~0v0xu0vy~q|0zus0v0`Xic0C@@>0Y0xq0ruu~0q0wuq0y}u0y~0xy0s|q10wt0|",
      "s{0~0q||0",
      "0v",
      "",
      "u0u~tuq1\n",
      "929\n",
      "the decrypted message for seed 929 is [x3xx",
      "x?3{|3|33",
      "xxt|3y",
      "3{x3y|t3",
      "}xv3y",
      "3c[lf3FCCA3\\3{t3uxx3t3z",
      "xt3|x3|3{|3vt43zw3v~33t3",
      "3y",
      "x3xwxt",
      "4\n",
      "930\n",
      "the decrypted message for seed 930 is Qnuux)nn{xwn5)}qr|)r|)v)y{n|nw}j}rxw)ox{)}qn)orwju)y{xsnl})ox{)YQb\\)<997)R})qj|)knnw)j)p{nj})}rvn)rw)}qr|)luj||*)pxxm)u~lt)xw)juu)x~{)o~}~{n)nwmnjx{|*\n",
      "931\n",
      "the decrypted message for seed 931 is Hello everyone, this is my presentation for the final project for PHYS 300. It has been a great time in this class! good luck on all your future endeavors!\n",
      "932\n",
      "the decrypted message for seed 932 is Qnuux)nn{xwn5)}qr|)r|)v)y{n|nw}j}rxw)ox{)}qn)orwju)y{xsnl})ox{)YQb\\)<997)R})qj|)knnw)j)p{nj})}rvn)rw)}qr|)luj||*)pxxm)u~lt)xw)juu)x~{)o~}~{n)nwmnjx{|*\n",
      "933\n",
      "the decrypted message for seed 933 is Qnuux)nn{xwn5)}qr|)r|)v)y{n|nw}j}rxw)ox{)}qn)orwju)y{xsnl})ox{)YQb\\)<997)R})qj|)knnw)j)p{nj})}rvn)rw)}qr|)luj||*)pxxm)u~lt)xw)juu)x~{)o~}~{n)nwmnjx{|*\n",
      "934\n",
      "the decrypted message for seed 934 is Spwwz+pp}zyp7+st~+t~+x+{}p~pyltzy+qz}+sp+qtylw+{}zupn+qz}+[Sd^+>;;9+T+sl~+mppy+l+r}pl+txp+ty+st~+nwl~~,+rzzo+wnv+zy+lww+z}+q}p+pyoplz}~,\n",
      "935\n",
      "the decrypted message for seed 935 is Gdkkn\u001fdudqxnmd+\u001fsghr\u001fhr\u001flx\u001foqdrdms`shnm\u001fenq\u001fsgd\u001fehm`k\u001foqnidbs\u001fenq\u001fOGXR\u001f2//-\u001fHs\u001fg`r\u001faddm\u001f`\u001ffqd`s\u001fshld\u001fhm\u001fsghr\u001fbk`rr \u001ffnnc\u001fktbj\u001fnm\u001f`kk\u001fxntq\u001fetstqd\u001fdmcd`unqr \n",
      "936\n",
      "the decrypted message for seed 936 is ]z5zzzA5}~5~55",
      "zzv~5{5}z5{~v5",
      "zx5{5e]nh5HEEC5^5}v5wzz5v5|zv5~z5~5}~5xv65|y5x55v55{z5zyzv6\n",
      "937\n",
      "the decrypted message for seed 937 is Pmttw(m~mzwvm4(|pq{(q{(u(xzm{mv|i|qwv(nwz(|pm(nqvit(xzwrmk|(nwz(XPa[(;886(Q|(pi{(jmmv(i(ozmi|(|qum(qv(|pq{(kti{{)(owwl(t}ks(wv(itt(w}z(n}|}zm(mvlmi~wz{)\n",
      "938\n",
      "the decrypted message for seed 938 is Spwwz+pp}zyp7+st~+t~+x+{}p~pyltzy+qz}+sp+qtylw+{}zupn+qz}+[Sd^+>;;9+T+sl~+mppy+l+r}pl+txp+ty+st~+nwl~~,+rzzo+wnv+zy+lww+z}+q}p+pyoplz}~,\n",
      "939\n",
      "the decrypted message for seed 939 is ^{",
      "6{{",
      "{B6~666{{w",
      "6|",
      "6~{6|w6",
      "{y6|",
      "6f^oi6IFFD6_6~w6x{{6w6}{w6{66~6yw76}",
      "",
      "z6y6",
      "6w6",
      "6|{6{z{w",
      "7\n",
      "940\n",
      "the decrypted message for seed 940 is Vszz}.ss}|s:.vw.w.{.~ss|ow}|.t}.vs.tw|oz.~}xsq.t}.^Vga.A>><.W.vo.pss|.o.uso.w{s.w|.vw.qzo/.u}}r.zqy.}|.ozz.}.ts.s|rso}/\n",
      "941\n",
      "the decrypted message for seed 941 is Vszz}.ss}|s:.vw.w.{.~ss|ow}|.t}.vs.tw|oz.~}xsq.t}.^Vga.A>><.W.vo.pss|.o.uso.w{s.w|.vw.qzo/.u}}r.zqy.}|.ozz.}.ts.s|rso}/\n",
      "942\n",
      "the decrypted message for seed 942 is Uryy|-rr|{r9-uv-v-z-}rr{nv|{-s|-ur-sv{ny-}|wrp-s|-]Uf`-@==;-V-un-orr{-n-trn-vzr-v{-uv-pyn.-t||q-ypx-|{-nyy-|-sr-r{qrn|.\n",
      "943\n",
      "the decrypted message for seed 943 is Pmttw(m~mzwvm4(|pq{(q{(u(xzm{mv|i|qwv(nwz(|pm(nqvit(xzwrmk|(nwz(XPa[(;886(Q|(pi{(jmmv(i(ozmi|(|qum(qv(|pq{(kti{{)(owwl(t}ks(wv(itt(w}z(n}|}zm(mvlmi~wz{)\n",
      "944\n",
      "the decrypted message for seed 944 is a~",
      "",
      "9~~~E9999~~z99~9z",
      "9~|99iarl9LIIG9b9z9{~~9z9~z9~999|",
      "z:9}9",
      "|99z",
      "",
      "99~9~}~z:\n",
      "945\n",
      "the decrypted message for seed 945 is Tqxx{,qq~",
      "{zq8,tu,u,y",
      ",|~qqzmu{z,r{~,tq,ruzmx,|~{vqo,r{~,\\Te_,?<<:,U,tm,nqqz,m,s~qm,uyq,uz,tu,oxm-,s{{p,xow,{z,mxx,",
      "{~,r~q,qzpqm{~-\n",
      "946\n",
      "the decrypted message for seed 946 is `}8}}}D888",
      "8}}y8~8}8~y8}{8~8h`qk8KHHF8a8y8z}}8y8}y8",
      "}888{y98|8{88y88~}8}|}y9\n",
      "947\n",
      "the decrypted message for seed 947 is [x3xx",
      "x?3{|3|33",
      "xxt|3y",
      "3{x3y|t3",
      "}xv3y",
      "3c[lf3FCCA3\\3{t3uxx3t3z",
      "xt3|x3|3{|3vt43zw3v~33t3",
      "3y",
      "x3xwxt",
      "4\n",
      "948\n",
      "the decrypted message for seed 948 is Qnuux)nn{xwn5)}qr|)r|)v)y{n|nw}j}rxw)ox{)}qn)orwju)y{xsnl})ox{)YQb\\)<997)R})qj|)knnw)j)p{nj})}rvn)rw)}qr|)luj||*)pxxm)u~lt)xw)juu)x~{)o~}~{n)nwmnjx{|*\n",
      "949\n",
      "the decrypted message for seed 949 is Wt{{~/t",
      "t~}t;/wx/x/|/tt}px~}/u~/wt/ux}p{/~ytr/u~/_Whb/B??=/X/wp/qtt}/p/vtp/x|t/x}/wx/r{p0/v~~s/{rz/~}/p{{/~/ut/t}stp",
      "~0\n",
      "950\n",
      "the decrypted message for seed 950 is [x3xx",
      "x?3{|3|33",
      "xxt|3y",
      "3{x3y|t3",
      "}xv3y",
      "3c[lf3FCCA3\\3{t3uxx3t3z",
      "xt3|x3|3{|3vt43zw3v~33t3",
      "3y",
      "x3xwxt",
      "4\n",
      "951\n",
      "the decrypted message for seed 951 is Ifmmp!fwfszpof-!uijt!jt!nz!qsftfoubujpo!gps!uif!gjobm!qspkfdu!gps!QIZT!411/!Ju!ibt!cffo!b!hsfbu!ujnf!jo!uijt!dmbtt\"!hppe!mvdl!po!bmm!zpvs!gvuvsf!foefbwpst\"\n",
      "952\n",
      "the decrypted message for seed 952 is ^{",
      "6{{",
      "{B6~666{{w",
      "6|",
      "6~{6|w6",
      "{y6|",
      "6f^oi6IFFD6_6~w6x{{6w6}{w6{66~6yw76}",
      "",
      "z6y6",
      "6w6",
      "6|{6{z{w",
      "7\n",
      "953\n",
      "the decrypted message for seed 953 is a~",
      "",
      "9~~~E9999~~z99~9z",
      "9~|99iarl9LIIG9b9z9{~~9z9~z9~999|",
      "z:9}9",
      "|99z",
      "",
      "99~9~}~z:\n",
      "954\n",
      "the decrypted message for seed 954 is \\y4yyy@4|}4}44yyu}4z4|y4z}u4~yw4z4d\\mg4GDDB4]4|u4vyy4u4{yu4}y4}4|}4wu54{x4w44u44zy4yxyu5\n",
      "955\n",
      "the decrypted message for seed 955 is Lipps$iziv}sri0$xlmw$mw$q}$tviwirxexmsr$jsv$xli$jmrep$tvsnigx$jsv$TL]W$7442$Mx$lew$fiir$e$kviex$xmqi$mr$xlmw$gpeww%$kssh$pygo$sr$epp$}syv$jyxyvi$irhiezsvw%\n",
      "956\n",
      "the decrypted message for seed 956 is Lipps$iziv}sri0$xlmw$mw$q}$tviwirxexmsr$jsv$xli$jmrep$tvsnigx$jsv$TL]W$7442$Mx$lew$fiir$e$kviex$xmqi$mr$xlmw$gpeww%$kssh$pygo$sr$epp$}syv$jyxyvi$irhiezsvw%\n",
      "957\n",
      "the decrypted message for seed 957 is Spwwz+pp}zyp7+st~+t~+x+{}p~pyltzy+qz}+sp+qtylw+{}zupn+qz}+[Sd^+>;;9+T+sl~+mppy+l+r}pl+txp+ty+st~+nwl~~,+rzzo+wnv+zy+lww+z}+q}p+pyoplz}~,\n",
      "958\n",
      "the decrypted message for seed 958 is Wt{{~/t",
      "t~}t;/wx/x/|/tt}px~}/u~/wt/ux}p{/~ytr/u~/_Whb/B??=/X/wp/qtt}/p/vtp/x|t/x}/wx/r{p0/v~~s/{rz/~}/p{{/~/ut/t}stp",
      "~0\n",
      "959\n",
      "the decrypted message for seed 959 is Rovvy*oo|yxo6*~rs}*s}*w*z|o}ox~k~syx*py|*~ro*psxkv*z|ytom~*py|*ZRc]*=::8*S~*rk}*loox*k*q|ok~*~swo*sx*~rs}*mvk}}+*qyyn*vmu*yx*kvv*y|*p~|o*oxnoky|}+\n",
      "960\n",
      "the decrypted message for seed 960 is Uryy|-rr|{r9-uv-v-z-}rr{nv|{-s|-ur-sv{ny-}|wrp-s|-]Uf`-@==;-V-un-orr{-n-trn-vzr-v{-uv-pyn.-t||q-ypx-|{-nyy-|-sr-r{qrn|.\n",
      "961\n",
      "the decrypted message for seed 961 is Mjqqt%j{jw~tsj1%ymnx%nx%r~%uwjxjsyfynts%ktw%ymj%knsfq%uwtojhy%ktw%UM^X%8553%Ny%mfx%gjjs%f%lwjfy%ynrj%ns%ymnx%hqfxx&%ltti%qzhp%ts%fqq%~tzw%kzyzwj%jsijf{twx&\n",
      "962\n",
      "the decrypted message for seed 962 is Yv}}1vvv=1",
      "yz1z1~1vv",
      "r",
      "z1w1",
      "yv1wzr}1{vt",
      "1w1aYjd1DAA?1Z",
      "1yr1svv1r1xvr",
      "1",
      "z~v1z1",
      "yz1t}r21xu1}t|11r}}11w",
      "v1vuvr2\n",
      "963\n",
      "the decrypted message for seed 963 is Pmttw(m~mzwvm4(|pq{(q{(u(xzm{mv|i|qwv(nwz(|pm(nqvit(xzwrmk|(nwz(XPa[(;886(Q|(pi{(jmmv(i(ozmi|(|qum(qv(|pq{(kti{{)(owwl(t}ks(wv(itt(w}z(n}|}zm(mvlmi~wz{)\n",
      "964\n",
      "the decrypted message for seed 964 is Gdkkn\u001fdudqxnmd+\u001fsghr\u001fhr\u001flx\u001foqdrdms`shnm\u001fenq\u001fsgd\u001fehm`k\u001foqnidbs\u001fenq\u001fOGXR\u001f2//-\u001fHs\u001fg`r\u001faddm\u001f`\u001ffqd`s\u001fshld\u001fhm\u001fsghr\u001fbk`rr \u001ffnnc\u001fktbj\u001fnm\u001f`kk\u001fxntq\u001fetstqd\u001fdmcd`unqr \n",
      "965\n",
      "the decrypted message for seed 965 is Zw~~2www>2z{",
      "2{",
      "22w",
      "ws{2x2zw2x{s~2|wu2x2bZke2EBB@2[2zs",
      "2tww2s2yws2{w2{2z{",
      "2u~s",
      "",
      "32yv2~u}22s~~22xw2wvws",
      "3\n",
      "966\n",
      "the decrypted message for seed 966 is `}8}}}D888",
      "8}}y8~8}8~y8}{8~8h`qk8KHHF8a8y8z}}8y8}y8",
      "}888{y98|8{88y88~}8}|}y9\n",
      "967\n",
      "the decrypted message for seed 967 is Qnuux)nn{xwn5)}qr|)r|)v)y{n|nw}j}rxw)ox{)}qn)orwju)y{xsnl})ox{)YQb\\)<997)R})qj|)knnw)j)p{nj})}rvn)rw)}qr|)luj||*)pxxm)u~lt)xw)juu)x~{)o~}~{n)nwmnjx{|*\n",
      "968\n",
      "the decrypted message for seed 968 is Hello everyone, this is my presentation for the final project for PHYS 300. It has been a great time in this class! good luck on all your future endeavors!\n",
      "969\n",
      "the decrypted message for seed 969 is Uryy|-rr|{r9-uv-v-z-}rr{nv|{-s|-ur-sv{ny-}|wrp-s|-]Uf`-@==;-V-un-orr{-n-trn-vzr-v{-uv-pyn.-t||q-ypx-|{-nyy-|-sr-r{qrn|.\n",
      "970\n",
      "the decrypted message for seed 970 is Gdkkn\u001fdudqxnmd+\u001fsghr\u001fhr\u001flx\u001foqdrdms`shnm\u001fenq\u001fsgd\u001fehm`k\u001foqnidbs\u001fenq\u001fOGXR\u001f2//-\u001fHs\u001fg`r\u001faddm\u001f`\u001ffqd`s\u001fshld\u001fhm\u001fsghr\u001fbk`rr \u001ffnnc\u001fktbj\u001fnm\u001f`kk\u001fxntq\u001fetstqd\u001fdmcd`unqr \n",
      "971\n",
      "the decrypted message for seed 971 is Yv}}1vvv=1",
      "yz1z1~1vv",
      "r",
      "z1w1",
      "yv1wzr}1{vt",
      "1w1aYjd1DAA?1Z",
      "1yr1svv1r1xvr",
      "1",
      "z~v1z1",
      "yz1t}r21xu1}t|11r}}11w",
      "v1vuvr2\n",
      "972\n",
      "the decrypted message for seed 972 is Jgnnq\"gxgt{qpg.\"vjku\"ku\"o{\"rtgugpvcvkqp\"hqt\"vjg\"hkpcn\"rtqlgev\"hqt\"RJ[U\"5220\"Kv\"jcu\"dggp\"c\"itgcv\"vkog\"kp\"vjku\"encuu#\"iqqf\"nwem\"qp\"cnn\"{qwt\"hwvwtg\"gpfgcxqtu#\n",
      "973\n",
      "the decrypted message for seed 973 is ]z5zzzA5}~5~55",
      "zzv~5{5}z5{~v5",
      "zx5{5e]nh5HEEC5^5}v5wzz5v5|zv5~z5~5}~5xv65|y5x55v55{z5zyzv6\n",
      "974\n",
      "the decrypted message for seed 974 is Wt{{~/t",
      "t~}t;/wx/x/|/tt}px~}/u~/wt/ux}p{/~ytr/u~/_Whb/B??=/X/wp/qtt}/p/vtp/x|t/x}/wx/r{p0/v~~s/{rz/~}/p{{/~/ut/t}stp",
      "~0\n",
      "975\n",
      "the decrypted message for seed 975 is Rovvy*oo|yxo6*~rs}*s}*w*z|o}ox~k~syx*py|*~ro*psxkv*z|ytom~*py|*ZRc]*=::8*S~*rk}*loox*k*q|ok~*~swo*sx*~rs}*mvk}}+*qyyn*vmu*yx*kvv*y|*p~|o*oxnoky|}+\n",
      "976\n",
      "the decrypted message for seed 976 is Gdkkn\u001fdudqxnmd+\u001fsghr\u001fhr\u001flx\u001foqdrdms`shnm\u001fenq\u001fsgd\u001fehm`k\u001foqnidbs\u001fenq\u001fOGXR\u001f2//-\u001fHs\u001fg`r\u001faddm\u001f`\u001ffqd`s\u001fshld\u001fhm\u001fsghr\u001fbk`rr \u001ffnnc\u001fktbj\u001fnm\u001f`kk\u001fxntq\u001fetstqd\u001fdmcd`unqr \n",
      "977\n",
      "the decrypted message for seed 977 is Mjqqt%j{jw~tsj1%ymnx%nx%r~%uwjxjsyfynts%ktw%ymj%knsfq%uwtojhy%ktw%UM^X%8553%Ny%mfx%gjjs%f%lwjfy%ynrj%ns%ymnx%hqfxx&%ltti%qzhp%ts%fqq%~tzw%kzyzwj%jsijf{twx&\n",
      "978\n",
      "the decrypted message for seed 978 is Olssv'l}lyvul3'{opz'pz't'wylzlu{h{pvu'mvy'{ol'mpuhs'wyvqlj{'mvy'WO`Z':775'P{'ohz'illu'h'nylh{'{ptl'pu'{opz'jshzz('nvvk's|jr'vu'hss'v|y'm|{|yl'luklh}vyz(\n",
      "979\n",
      "the decrypted message for seed 979 is Spwwz+pp}zyp7+st~+t~+x+{}p~pyltzy+qz}+sp+qtylw+{}zupn+qz}+[Sd^+>;;9+T+sl~+mppy+l+r}pl+txp+ty+st~+nwl~~,+rzzo+wnv+zy+lww+z}+q}p+pyoplz}~,\n",
      "980\n",
      "the decrypted message for seed 980 is Tqxx{,qq~",
      "{zq8,tu,u,y",
      ",|~qqzmu{z,r{~,tq,ruzmx,|~{vqo,r{~,\\Te_,?<<:,U,tm,nqqz,m,s~qm,uyq,uz,tu,oxm-,s{{p,xow,{z,mxx,",
      "{~,r~q,qzpqm{~-\n",
      "981\n",
      "the decrypted message for seed 981 is Zw~~2www>2z{",
      "2{",
      "22w",
      "ws{2x2zw2x{s~2|wu2x2bZke2EBB@2[2zs",
      "2tww2s2yws2{w2{2z{",
      "2u~s",
      "",
      "32yv2~u}22s~~22xw2wvws",
      "3\n",
      "982\n",
      "the decrypted message for seed 982 is Qnuux)nn{xwn5)}qr|)r|)v)y{n|nw}j}rxw)ox{)}qn)orwju)y{xsnl})ox{)YQb\\)<997)R})qj|)knnw)j)p{nj})}rvn)rw)}qr|)luj||*)pxxm)u~lt)xw)juu)x~{)o~}~{n)nwmnjx{|*\n",
      "983\n",
      "the decrypted message for seed 983 is Lipps$iziv}sri0$xlmw$mw$q}$tviwirxexmsr$jsv$xli$jmrep$tvsnigx$jsv$TL]W$7442$Mx$lew$fiir$e$kviex$xmqi$mr$xlmw$gpeww%$kssh$pygo$sr$epp$}syv$jyxyvi$irhiezsvw%\n",
      "984\n",
      "the decrypted message for seed 984 is Hello everyone, this is my presentation for the final project for PHYS 300. It has been a great time in this class! good luck on all your future endeavors!\n",
      "985\n",
      "the decrypted message for seed 985 is Wt{{~/t",
      "t~}t;/wx/x/|/tt}px~}/u~/wt/ux}p{/~ytr/u~/_Whb/B??=/X/wp/qtt}/p/vtp/x|t/x}/wx/r{p0/v~~s/{rz/~}/p{{/~/ut/t}stp",
      "~0\n",
      "986\n",
      "the decrypted message for seed 986 is ^{",
      "6{{",
      "{B6~666{{w",
      "6|",
      "6~{6|w6",
      "{y6|",
      "6f^oi6IFFD6_6~w6x{{6w6}{w6{66~6yw76}",
      "",
      "z6y6",
      "6w6",
      "6|{6{z{w",
      "7\n",
      "987\n",
      "the decrypted message for seed 987 is Pmttw(m~mzwvm4(|pq{(q{(u(xzm{mv|i|qwv(nwz(|pm(nqvit(xzwrmk|(nwz(XPa[(;886(Q|(pi{(jmmv(i(ozmi|(|qum(qv(|pq{(kti{{)(owwl(t}ks(wv(itt(w}z(n}|}zm(mvlmi~wz{)\n",
      "988\n",
      "the decrypted message for seed 988 is Xu||0uu~u<0xy0y0}0uu~qy~0v0xu0vy~q|0zus0v0`Xic0C@@>0Y0xq0ruu~0q0wuq0y}u0y~0xy0s|q10wt0|",
      "s{0~0q||0",
      "0v",
      "",
      "u0u~tuq1\n",
      "989\n",
      "the decrypted message for seed 989 is _|7||",
      "|C7777||",
      "x",
      "7}7|7}",
      "x7|z7}7g_pj7JGGE7`7x7y||",
      "7x7~|x7|7",
      "77zx87~{7z7",
      "7x77}|7|",
      "{|x8\n",
      "990\n",
      "the decrypted message for seed 990 is Gdkkn\u001fdudqxnmd+\u001fsghr\u001fhr\u001flx\u001foqdrdms`shnm\u001fenq\u001fsgd\u001fehm`k\u001foqnidbs\u001fenq\u001fOGXR\u001f2//-\u001fHs\u001fg`r\u001faddm\u001f`\u001ffqd`s\u001fshld\u001fhm\u001fsghr\u001fbk`rr \u001ffnnc\u001fktbj\u001fnm\u001f`kk\u001fxntq\u001fetstqd\u001fdmcd`unqr \n",
      "991\n",
      "the decrypted message for seed 991 is ]z5zzzA5}~5~55",
      "zzv~5{5}z5{~v5",
      "zx5{5e]nh5HEEC5^5}v5wzz5v5|zv5~z5~5}~5xv65|y5x55v55{z5zyzv6\n",
      "992\n",
      "the decrypted message for seed 992 is [x3xx",
      "x?3{|3|33",
      "xxt|3y",
      "3{x3y|t3",
      "}xv3y",
      "3c[lf3FCCA3\\3{t3uxx3t3z",
      "xt3|x3|3{|3vt43zw3v~33t3",
      "3y",
      "x3xwxt",
      "4\n",
      "993\n",
      "the decrypted message for seed 993 is `}8}}}D888",
      "8}}y8~8}8~y8}{8~8h`qk8KHHF8a8y8z}}8y8}y8",
      "}888{y98|8{88y88~}8}|}y9\n",
      "994\n",
      "the decrypted message for seed 994 is ]z5zzzA5}~5~55",
      "zzv~5{5}z5{~v5",
      "zx5{5e]nh5HEEC5^5}v5wzz5v5|zv5~z5~5}~5xv65|y5x55v55{z5zyzv6\n",
      "995\n",
      "the decrypted message for seed 995 is \\y4yyy@4|}4}44yyu}4z4|y4z}u4~yw4z4d\\mg4GDDB4]4|u4vyy4u4{yu4}y4}4|}4wu54{x4w44u44zy4yxyu5\n",
      "996\n",
      "the decrypted message for seed 996 is Spwwz+pp}zyp7+st~+t~+x+{}p~pyltzy+qz}+sp+qtylw+{}zupn+qz}+[Sd^+>;;9+T+sl~+mppy+l+r}pl+txp+ty+st~+nwl~~,+rzzo+wnv+zy+lww+z}+q}p+pyoplz}~,\n",
      "997\n",
      "the decrypted message for seed 997 is Spwwz+pp}zyp7+st~+t~+x+{}p~pyltzy+qz}+sp+qtylw+{}zupn+qz}+[Sd^+>;;9+T+sl~+mppy+l+r}pl+txp+ty+st~+nwl~~,+rzzo+wnv+zy+lww+z}+q}p+pyoplz}~,\n",
      "998\n",
      "the decrypted message for seed 998 is \\y4yyy@4|}4}44yyu}4z4|y4z}u4~yw4z4d\\mg4GDDB4]4|u4vyy4u4{yu4}y4}4|}4wu54{x4w44u44zy4yxyu5\n",
      "999\n",
      "the decrypted message for seed 999 is Hello everyone, this is my presentation for the final project for PHYS 300. It has been a great time in this class! good luck on all your future endeavors!\n"
     ]
    }
   ],
   "source": [
    "#this section of the code will decrypt the message by converting the\n",
    "#encrypted message to integers that can be added or subtracted by a random number\n",
    "#this is iterated over different seeds until we get the original message that was typed by the user\n",
    "numbers = []\n",
    "cipher_keys = []\n",
    "i = 0\n",
    "for letter in char:\n",
    "    num = ord(letter)\n",
    "    numbers.append(num)\n",
    "values_crypt = np.array(numbers)\n",
    "for i in range(1000):\n",
    "    seed(i)\n",
    "    b = values_crypt - randrange(27)\n",
    "    crt = ''\n",
    "    for number in b:\n",
    "        crt += chr(number+40)\n",
    "        if crt == message:\n",
    "            cipher_keys.append(i)\n",
    "    print(i)\n",
    "    print(\"the decrypted message for seed\",i,\"is\",crt)\n",
    "    "
   ]
  },
  {
   "cell_type": "code",
   "execution_count": 48,
   "id": "7bbabdfd",
   "metadata": {},
   "outputs": [
    {
     "name": "stdout",
     "output_type": "stream",
     "text": [
      "the seeds that are keys for this cypher are [6, 77, 86, 170, 171, 174, 185, 188, 238, 265, 364, 388, 408, 446, 479, 492, 500, 517, 528, 566, 631, 664, 671, 688, 698, 786, 793, 878, 899, 931, 968, 984, 999]\n"
     ]
    }
   ],
   "source": [
    "#these are the keys for this cypher. So in the randrange(27), if any of these numbers are the seeds\n",
    "#then the message will be able to be decrypted\n",
    "print(\"the seeds that are keys for this cypher are\",cipher_keys)"
   ]
  },
  {
   "cell_type": "code",
   "execution_count": null,
   "id": "08e5ddbd",
   "metadata": {},
   "outputs": [],
   "source": []
  },
  {
   "cell_type": "code",
   "execution_count": null,
   "id": "5269db00",
   "metadata": {},
   "outputs": [],
   "source": []
  }
 ],
 "metadata": {
  "kernelspec": {
   "display_name": "Python 3",
   "language": "python",
   "name": "python3"
  },
  "language_info": {
   "codemirror_mode": {
    "name": "ipython",
    "version": 3
   },
   "file_extension": ".py",
   "mimetype": "text/x-python",
   "name": "python",
   "nbconvert_exporter": "python",
   "pygments_lexer": "ipython3",
   "version": "3.9.5"
  }
 },
 "nbformat": 4,
 "nbformat_minor": 5
}
