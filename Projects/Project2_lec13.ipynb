{
 "cells": [
  {
   "cell_type": "markdown",
   "id": "3f96e7eb",
   "metadata": {},
   "source": [
    "# Project 2 On Random Number Generation"
   ]
  },
  {
   "cell_type": "markdown",
   "id": "1f010de3",
   "metadata": {},
   "source": [
    "## The introduction to the modern approach to generate the random numbers on computer"
   ]
  },
  {
   "cell_type": "markdown",
   "id": "fafd7983",
   "metadata": {},
   "source": [
    "For most generators, the seed specifies the starting point indirectly and isnt equal to the first value. i will demonstrate the effect of a seed"
   ]
  },
  {
   "cell_type": "code",
   "execution_count": 32,
   "id": "a116e09e",
   "metadata": {},
   "outputs": [
    {
     "data": {
      "text/plain": [
       "0.5714025946899135"
      ]
     },
     "execution_count": 32,
     "metadata": {},
     "output_type": "execute_result"
    }
   ],
   "source": [
    "from random import random, seed, randrange\n",
    "seed(10)\n",
    "random()"
   ]
  },
  {
   "cell_type": "code",
   "execution_count": 33,
   "id": "eff98f58",
   "metadata": {},
   "outputs": [
    {
     "data": {
      "text/plain": [
       "0.4288890546751146"
      ]
     },
     "execution_count": 33,
     "metadata": {},
     "output_type": "execute_result"
    }
   ],
   "source": [
    "random()"
   ]
  },
  {
   "cell_type": "code",
   "execution_count": 34,
   "id": "e4e8d3c0",
   "metadata": {},
   "outputs": [
    {
     "data": {
      "text/plain": [
       "0.23796462709189137"
      ]
     },
     "execution_count": 34,
     "metadata": {},
     "output_type": "execute_result"
    }
   ],
   "source": [
    "seed(3)\n",
    "random()"
   ]
  },
  {
   "cell_type": "markdown",
   "id": "66c1e973",
   "metadata": {},
   "source": [
    "The random number is different with different seeds and also different from when there is no seed. If you run cell 21 and 23, the random number will not change. But if you run cell 22 multiple times, the random number will be different each time. This is the effect of the seed."
   ]
  },
  {
   "cell_type": "markdown",
   "id": "2dd72104",
   "metadata": {},
   "source": [
    "The random function has no arguments and if it is repeated, you dont get the same number each time."
   ]
  },
  {
   "cell_type": "code",
   "execution_count": 35,
   "id": "6c873e2e",
   "metadata": {},
   "outputs": [
    {
     "name": "stdout",
     "output_type": "stream",
     "text": [
      "0.5442292252959519\n",
      "0.36995516654807925\n",
      "0.6039200385961945\n",
      "0.625720304108054\n"
     ]
    }
   ],
   "source": [
    "for i in range(4):\n",
    "    print(random())"
   ]
  },
  {
   "cell_type": "markdown",
   "id": "25fb1e3c",
   "metadata": {},
   "source": [
    "We can also use the randrange function, randrange(m,n,k), which takes in arguments to specify the range and the steps. the range is from from m to n-1 in steps of k."
   ]
  },
  {
   "cell_type": "code",
   "execution_count": 72,
   "id": "b3d7de86",
   "metadata": {
    "scrolled": true
   },
   "outputs": [
    {
     "name": "stdout",
     "output_type": "stream",
     "text": [
      "6\n",
      "0\n",
      "16\n",
      "23\n",
      "1\n",
      "5\n",
      "7\n",
      "0\n",
      "1\n",
      "25\n",
      "21\n",
      "4\n",
      "22\n",
      "11\n",
      "7\n",
      "3\n",
      "10\n",
      "14\n",
      "22\n",
      "11\n",
      "8\n",
      "12\n",
      "8\n",
      "11\n",
      "7\n",
      "6\n",
      "11\n",
      "25\n",
      "10\n",
      "7\n"
     ]
    }
   ],
   "source": [
    "seed(15)\n",
    "for i in range(30):\n",
    "    print(randrange(27))"
   ]
  },
  {
   "cell_type": "code",
   "execution_count": 37,
   "id": "3f46ac50",
   "metadata": {
    "scrolled": true
   },
   "outputs": [
    {
     "name": "stdout",
     "output_type": "stream",
     "text": [
      "73\n",
      "22\n",
      "8\n",
      "30\n"
     ]
    }
   ],
   "source": [
    "seed(62)\n",
    "for i in range(4):\n",
    "    print(randrange(100))"
   ]
  },
  {
   "cell_type": "markdown",
   "id": "6ca3cb42",
   "metadata": {},
   "source": [
    "## Pseudo Random numbers (PRNGS)"
   ]
  },
  {
   "cell_type": "markdown",
   "id": "e19d154f",
   "metadata": {},
   "source": [
    "Some random numbers are not really random. They are pseudorandom, given that they use the deterministic formula"
   ]
  },
  {
   "cell_type": "markdown",
   "id": "8137fca9",
   "metadata": {},
   "source": [
    "$$x' = (ax+c)mod$$"
   ]
  },
  {
   "cell_type": "markdown",
   "id": "f312633a",
   "metadata": {},
   "source": [
    "Where a,c, and m are integer constants and x is an integer variable"
   ]
  },
  {
   "cell_type": "markdown",
   "id": "e4d544bd",
   "metadata": {},
   "source": [
    "This formula is known as a random number generator. It takes a given value of x and turns it into a new integer. then plugs that integer in and does it again and again. this process is known for producing Pseudo random numbers and is called a pseudo random number generator (PRNG). This is one of the methods for producing random numbers."
   ]
  },
  {
   "cell_type": "markdown",
   "id": "4d076cb3",
   "metadata": {},
   "source": [
    "PRNG's are reproducible so they are not truly random. But if you make the parameters complex enough, you can make it harder to reproduce for other people"
   ]
  },
  {
   "cell_type": "markdown",
   "id": "90bdf6a5",
   "metadata": {},
   "source": [
    "## True random numbers (TRNG)"
   ]
  },
  {
   "cell_type": "markdown",
   "id": "34239b3f",
   "metadata": {},
   "source": [
    "random numbers can be true random numbers as well. True random numbers take random processes that occur outside of the computer and use them to produce random numbers. Examples of truly random processes are rolling dice, or radioactive decay. True random number generators are ideal because they are hard to predict in cases of ciphering. The ideal RNG is a TRNG. But for the purposes of simplicity, a PRNG will be used for my example"
   ]
  },
  {
   "cell_type": "markdown",
   "id": "07ad8562",
   "metadata": {},
   "source": [
    "# This section of the code will show an example of a program which utilizes random numbers and seeds"
   ]
  },
  {
   "cell_type": "markdown",
   "id": "8987cec4",
   "metadata": {},
   "source": [
    "## The idea behind random numbers will be used to create a program that creates a key from a seed and random numbers that can encrypt a message input by the user"
   ]
  },
  {
   "cell_type": "markdown",
   "id": "6e1bce9a",
   "metadata": {},
   "source": [
    "The math behind generating PRNG's lies in the equation"
   ]
  },
  {
   "cell_type": "markdown",
   "id": "b6bc846b",
   "metadata": {},
   "source": [
    "$$x' = (ax+c)mod$$"
   ]
  },
  {
   "cell_type": "markdown",
   "id": "2b9ac6ad",
   "metadata": {},
   "source": [
    "This equation is known as the linear congruential number generator"
   ]
  },
  {
   "cell_type": "markdown",
   "id": "67e35f35",
   "metadata": {},
   "source": [
    "using this equation we can create numbers that look random but are actually controlled by the parameters in the equation. If you know the values of x, a, c, and m, you can reproduce the numbers again and again."
   ]
  },
  {
   "cell_type": "markdown",
   "id": "30ef431c",
   "metadata": {},
   "source": [
    "So when using this random number generator for a cipher, be sure not to share those parameters with anyone."
   ]
  },
  {
   "cell_type": "code",
   "execution_count": 579,
   "id": "9a259a3c",
   "metadata": {},
   "outputs": [],
   "source": [
    "from random import random, seed, randrange, randint\n",
    "import numpy as np\n",
    "import math"
   ]
  },
  {
   "cell_type": "markdown",
   "id": "10be7573",
   "metadata": {},
   "source": [
    "### This part of the code is where I create an RNG. The RNG I decided to use was the linear congruential random number generator. In order to promote as much randomness as possible, I multiplied the parameters by a variable i."
   ]
  },
  {
   "cell_type": "code",
   "execution_count": 580,
   "id": "4269b25f",
   "metadata": {},
   "outputs": [],
   "source": [
    "def RNG(i):\n",
    "    x = 2*i\n",
    "    a = 3*i\n",
    "    c = 3*i**2\n",
    "    m = 23\n",
    "    x = (a*x+c)%m\n",
    "    return x"
   ]
  },
  {
   "cell_type": "markdown",
   "id": "9f33fa74",
   "metadata": {},
   "source": [
    "### This cell takes in a user inputted message and converts its characters to their perspective ASCII values then stores them in a list labeled values. This is done so that I can crypt the characters by changing their ASCII values by some random number."
   ]
  },
  {
   "cell_type": "code",
   "execution_count": 596,
   "id": "c5268028",
   "metadata": {},
   "outputs": [
    {
     "name": "stdout",
     "output_type": "stream",
     "text": [
      "enter a message to decrypt: Hello everyone, My name is Markiece Givens and this is my final project for PHYS 300! It is a cipher using a RNG generator using the linear congruential generator!\n",
      "[72, 101, 108, 108, 111, 32, 101, 118, 101, 114, 121, 111, 110, 101, 44, 32, 77, 121, 32, 110, 97, 109, 101, 32, 105, 115, 32, 77, 97, 114, 107, 105, 101, 99, 101, 32, 71, 105, 118, 101, 110, 115, 32, 97, 110, 100, 32, 116, 104, 105, 115, 32, 105, 115, 32, 109, 121, 32, 102, 105, 110, 97, 108, 32, 112, 114, 111, 106, 101, 99, 116, 32, 102, 111, 114, 32, 80, 72, 89, 83, 32, 51, 48, 48, 33, 32, 73, 116, 32, 105, 115, 32, 97, 32, 99, 105, 112, 104, 101, 114, 32, 117, 115, 105, 110, 103, 32, 97, 32, 82, 78, 71, 32, 103, 101, 110, 101, 114, 97, 116, 111, 114, 32, 117, 115, 105, 110, 103, 32, 116, 104, 101, 32, 108, 105, 110, 101, 97, 114, 32, 99, 111, 110, 103, 114, 117, 101, 110, 116, 105, 97, 108, 32, 103, 101, 110, 101, 114, 97, 116, 111, 114, 33]\n"
     ]
    }
   ],
   "source": [
    "message = input(\"enter a message to decrypt: \")\n",
    "values = []\n",
    "for letter in message:\n",
    "    letter_value = ord(letter)\n",
    "    values.append(letter_value)\n",
    "print(values)"
   ]
  },
  {
   "cell_type": "markdown",
   "id": "b4ea0c4f",
   "metadata": {},
   "source": [
    "### This cell handles the magic. It converts the list of the characters ASCII values to a numpy array so that I can add an array to them. If this were not done, I wouldn't be able to add the ASCII by some random numbers. "
   ]
  },
  {
   "cell_type": "markdown",
   "id": "d8b7d60c",
   "metadata": {},
   "source": [
    "The cell then takes every number stored in the numpy array, and then it finds some random number within the range of 1 to 50, stores it in the variable i, then it takes that value of i and plugs it into the linear congruential RNG. This is to promote randomness and also to make it to where the encrypted message would be hard to crack."
   ]
  },
  {
   "cell_type": "code",
   "execution_count": 627,
   "id": "89e27d6a",
   "metadata": {},
   "outputs": [
    {
     "name": "stdout",
     "output_type": "stream",
     "text": [
      "[73, 110, 124, 114, 115, 33, 109, 130, 102, 126, 133, 119, 113, 110, 45, 34, 90, 125, 34, 122, 103, 117, 102, 41, 109, 118, 41, 89, 101, 118, 116, 107, 119, 105, 113, 44, 79, 106, 134, 110, 113, 123, 35, 110, 119, 106, 41, 129, 113, 114, 123, 35, 109, 131, 34, 122, 137, 45, 115, 118, 118, 109, 112, 33, 130, 118, 114, 118, 110, 103, 120, 44, 114, 124, 115, 34, 83, 81, 92, 89, 33, 67, 51, 56, 33, 33, 81, 122, 33, 117, 133, 41, 101, 33, 115, 107, 114, 117, 114, 117, 41, 129, 116, 105, 118, 111, 44, 115, 41, 94, 84, 80, 38, 112, 114, 111, 102, 126, 105, 129, 114, 127, 44, 129, 124, 118, 119, 112, 50, 132, 110, 104, 36, 121, 109, 114, 103, 110, 132, 38, 111, 123, 122, 107, 132, 129, 117, 126, 124, 106, 99, 126, 44, 116, 119, 123, 103, 123, 100, 124, 113, 118, 37]\n"
     ]
    }
   ],
   "source": [
    "values_crypt = np.array(values)\n",
    "crypt = []\n",
    "for number in values_crypt:\n",
    "    i = randrange(1,50)\n",
    "    number += RNG(i)\n",
    "    crypt.append(number)\n",
    "print(crypt)"
   ]
  },
  {
   "cell_type": "markdown",
   "id": "48de6473",
   "metadata": {},
   "source": [
    "### The final section of the code stores the variable char as ' ' in order to make the code run smoother when it comes to converting from the ASCII values to the character. "
   ]
  },
  {
   "cell_type": "markdown",
   "id": "3dd27a5e",
   "metadata": {},
   "source": [
    "This cell takes every number stored in crypt and converts it to a character. Python Uses the ASCII table so that is referenced when converting the numbers to a character!"
   ]
  },
  {
   "cell_type": "code",
   "execution_count": 628,
   "id": "f2338160",
   "metadata": {},
   "outputs": [
    {
     "name": "stdout",
     "output_type": "stream",
     "text": [
      "The encrypted message is:  In|rs!mf~",
      "wqn-\"Z}\"zguf)mv)Yevtkwiq,Ojnq{#nwj)qr{#m\"z-svvmp!vrvngx,r|s\"SQ\\Y!C38!!Qz!u",
      ")e!skruru)tivo,s)^TP&prof~ir,|vwp2nh$ymrgn&o{zku~|jc~,tw{g{d|qv%\n"
     ]
    }
   ],
   "source": [
    "char = ''\n",
    "for number in crypt:\n",
    "    char += chr(number)\n",
    "print(\"The encrypted message is: \", char)"
   ]
  },
  {
   "cell_type": "code",
   "execution_count": null,
   "id": "362b85fc",
   "metadata": {},
   "outputs": [],
   "source": []
  },
  {
   "cell_type": "code",
   "execution_count": null,
   "id": "b1412bac",
   "metadata": {},
   "outputs": [],
   "source": []
  },
  {
   "cell_type": "code",
   "execution_count": null,
   "id": "ba42bdb0",
   "metadata": {},
   "outputs": [],
   "source": []
  },
  {
   "cell_type": "code",
   "execution_count": null,
   "id": "37ef7147",
   "metadata": {},
   "outputs": [],
   "source": []
  },
  {
   "cell_type": "code",
   "execution_count": 588,
   "id": "caaeefdb",
   "metadata": {
    "scrolled": true
   },
   "outputs": [
    {
     "name": "stdout",
     "output_type": "stream",
     "text": [
      "enter a message to decrypt: jelina\n",
      "[66, 61, 68, 65, 70, 57]\n"
     ]
    }
   ],
   "source": [
    "#this section of the code takes in a user inputted message\n",
    "#and assigns values to each letter in the message\n",
    "message = input(\"enter a message to decrypt: \")\n",
    "values = []\n",
    "for letter in message:\n",
    "    letter_value = ord(letter) - 40\n",
    "    values.append(letter_value)\n",
    "print(values)"
   ]
  },
  {
   "cell_type": "code",
   "execution_count": 589,
   "id": "77e4965c",
   "metadata": {},
   "outputs": [
    {
     "name": "stdout",
     "output_type": "stream",
     "text": [
      "[90 85 92 89 94 81]\n",
      "the encrypted message is: ZU\\Y^Q\n"
     ]
    }
   ],
   "source": [
    "#this section of the code assigns the numerical values of the\n",
    "#inputted message to a numpy array so that a random number\n",
    "#can be added to each individual number in order to change\n",
    "#the letters\n",
    "values_crypt = np.array(values)\n",
    "#not every seed is going to work. 6,7,9,10,11,12,16\n",
    "seed(6)\n",
    "for number in values_crypt:\n",
    "    b = values_crypt + randrange(27)\n",
    "print(b)\n",
    "char = ''\n",
    "for number in b:\n",
    "    char += chr(number)\n",
    "print(\"the encrypted message is:\", char)"
   ]
  },
  {
   "cell_type": "code",
   "execution_count": 592,
   "id": "70c4e2e0",
   "metadata": {},
   "outputs": [
    {
     "name": "stdout",
     "output_type": "stream",
     "text": [
      "0\n",
      "the decrypted message for seed 0 is rmtqvi\n",
      "1\n",
      "the decrypted message for seed 1 is zu|y~q\n",
      "2\n",
      "the decrypted message for seed 2 is }x|t\n",
      "3\n",
      "the decrypted message for seed 3 is ojqnsf\n",
      "4\n",
      "the decrypted message for seed 4 is snurwj\n",
      "5\n",
      "the decrypted message for seed 5 is lgnkpc\n",
      "6\n",
      "the decrypted message for seed 6 is jelina\n",
      "7\n",
      "the decrypted message for seed 7 is {w\n",
      "8\n",
      "the decrypted message for seed 8 is lgnkpc\n",
      "9\n",
      "the decrypted message for seed 9 is }x|t\n"
     ]
    }
   ],
   "source": [
    "#this section of the code will decrypt the message by converting the\n",
    "#encrypted message to integers that can be added or subtracted by a random number\n",
    "#this is iterated over different seeds until we get the original message that was typed by the user\n",
    "numbers = []\n",
    "cipher_keys = []\n",
    "i = 0\n",
    "for letter in char:\n",
    "    num = ord(letter) + 40\n",
    "    numbers.append(num)\n",
    "values_crypt = np.array(numbers)\n",
    "for i in range(10):\n",
    "    seed(i)\n",
    "    for numbers in values_crypt:\n",
    "        b = values_crypt - randrange(27)\n",
    "    crt = ''\n",
    "    for number in b:\n",
    "        crt += chr(number)\n",
    "        if crt == message:\n",
    "            cipher_keys.append(i)\n",
    "    print(i)\n",
    "    print(\"the decrypted message for seed\",i,\"is\",crt)\n",
    "    "
   ]
  },
  {
   "cell_type": "code",
   "execution_count": 593,
   "id": "7bbabdfd",
   "metadata": {},
   "outputs": [
    {
     "name": "stdout",
     "output_type": "stream",
     "text": [
      "the seeds that are keys for this cypher are [6]\n"
     ]
    }
   ],
   "source": [
    "#these are the keys for this cypher. So in the randrange(27), if any of these numbers are the seeds\n",
    "#then the message will be able to be decrypted\n",
    "print(\"the seeds that are keys for this cypher are\",cipher_keys)"
   ]
  },
  {
   "cell_type": "code",
   "execution_count": null,
   "id": "08e5ddbd",
   "metadata": {},
   "outputs": [],
   "source": []
  },
  {
   "cell_type": "code",
   "execution_count": null,
   "id": "a388638a",
   "metadata": {},
   "outputs": [],
   "source": []
  }
 ],
 "metadata": {
  "kernelspec": {
   "display_name": "Python 3",
   "language": "python",
   "name": "python3"
  },
  "language_info": {
   "codemirror_mode": {
    "name": "ipython",
    "version": 3
   },
   "file_extension": ".py",
   "mimetype": "text/x-python",
   "name": "python",
   "nbconvert_exporter": "python",
   "pygments_lexer": "ipython3",
   "version": "3.9.5"
  }
 },
 "nbformat": 4,
 "nbformat_minor": 5
}
