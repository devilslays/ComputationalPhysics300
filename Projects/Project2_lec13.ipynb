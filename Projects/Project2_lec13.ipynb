{
 "cells": [
  {
   "cell_type": "markdown",
   "id": "3f96e7eb",
   "metadata": {},
   "source": [
    "# Project 2 On Random Number Generation"
   ]
  },
  {
   "cell_type": "markdown",
   "id": "1f010de3",
   "metadata": {},
   "source": [
    "## The introduction to the modern approach to generate the random numbers on computer"
   ]
  },
  {
   "cell_type": "markdown",
   "id": "fafd7983",
   "metadata": {},
   "source": [
    "For most generators, the seed specifies the starting point indirectly and isnt equal to the first value. i will demonstrate the effect of a seed"
   ]
  },
  {
   "cell_type": "code",
   "execution_count": 32,
   "id": "a116e09e",
   "metadata": {},
   "outputs": [
    {
     "data": {
      "text/plain": [
       "0.5714025946899135"
      ]
     },
     "execution_count": 32,
     "metadata": {},
     "output_type": "execute_result"
    }
   ],
   "source": [
    "from random import random, seed, randrange\n",
    "seed(10)\n",
    "random()"
   ]
  },
  {
   "cell_type": "code",
   "execution_count": 33,
   "id": "eff98f58",
   "metadata": {},
   "outputs": [
    {
     "data": {
      "text/plain": [
       "0.4288890546751146"
      ]
     },
     "execution_count": 33,
     "metadata": {},
     "output_type": "execute_result"
    }
   ],
   "source": [
    "random()"
   ]
  },
  {
   "cell_type": "code",
   "execution_count": 34,
   "id": "e4e8d3c0",
   "metadata": {},
   "outputs": [
    {
     "data": {
      "text/plain": [
       "0.23796462709189137"
      ]
     },
     "execution_count": 34,
     "metadata": {},
     "output_type": "execute_result"
    }
   ],
   "source": [
    "seed(3)\n",
    "random()"
   ]
  },
  {
   "cell_type": "markdown",
   "id": "66c1e973",
   "metadata": {},
   "source": [
    "The random number is different with different seeds and also different from when there is no seed. If you run cell 21 and 23, the random number will not change. But if you run cell 22 multiple times, the random number will be different each time. This is the effect of the seed."
   ]
  },
  {
   "cell_type": "markdown",
   "id": "2dd72104",
   "metadata": {},
   "source": [
    "The random function has no arguments and if it is repeated, you dont get the same number each time."
   ]
  },
  {
   "cell_type": "code",
   "execution_count": 35,
   "id": "6c873e2e",
   "metadata": {},
   "outputs": [
    {
     "name": "stdout",
     "output_type": "stream",
     "text": [
      "0.5442292252959519\n",
      "0.36995516654807925\n",
      "0.6039200385961945\n",
      "0.625720304108054\n"
     ]
    }
   ],
   "source": [
    "for i in range(4):\n",
    "    print(random())"
   ]
  },
  {
   "cell_type": "markdown",
   "id": "25fb1e3c",
   "metadata": {},
   "source": [
    "We can also use the randrange function, randrange(m,n,k), which takes in arguments to specify the range and the steps. the range is from from m to n-1 in steps of k."
   ]
  },
  {
   "cell_type": "code",
   "execution_count": 72,
   "id": "b3d7de86",
   "metadata": {
    "scrolled": true
   },
   "outputs": [
    {
     "name": "stdout",
     "output_type": "stream",
     "text": [
      "6\n",
      "0\n",
      "16\n",
      "23\n",
      "1\n",
      "5\n",
      "7\n",
      "0\n",
      "1\n",
      "25\n",
      "21\n",
      "4\n",
      "22\n",
      "11\n",
      "7\n",
      "3\n",
      "10\n",
      "14\n",
      "22\n",
      "11\n",
      "8\n",
      "12\n",
      "8\n",
      "11\n",
      "7\n",
      "6\n",
      "11\n",
      "25\n",
      "10\n",
      "7\n"
     ]
    }
   ],
   "source": [
    "seed(15)\n",
    "for i in range(30):\n",
    "    print(randrange(27))"
   ]
  },
  {
   "cell_type": "code",
   "execution_count": 37,
   "id": "3f46ac50",
   "metadata": {
    "scrolled": true
   },
   "outputs": [
    {
     "name": "stdout",
     "output_type": "stream",
     "text": [
      "73\n",
      "22\n",
      "8\n",
      "30\n"
     ]
    }
   ],
   "source": [
    "seed(62)\n",
    "for i in range(4):\n",
    "    print(randrange(100))"
   ]
  },
  {
   "cell_type": "markdown",
   "id": "6ca3cb42",
   "metadata": {},
   "source": [
    "## Pseudo Random numbers (PRNGS)"
   ]
  },
  {
   "cell_type": "markdown",
   "id": "e19d154f",
   "metadata": {},
   "source": [
    "Some random numbers are not really random. They are pseudorandom, given that they use the deterministic formula"
   ]
  },
  {
   "cell_type": "markdown",
   "id": "8137fca9",
   "metadata": {},
   "source": [
    "$$x' = (ax+c)mod$$"
   ]
  },
  {
   "cell_type": "markdown",
   "id": "f312633a",
   "metadata": {},
   "source": [
    "Where a,c, and m are integer constants and x is an integer variable"
   ]
  },
  {
   "cell_type": "markdown",
   "id": "e4d544bd",
   "metadata": {},
   "source": [
    "This formula is known as a random number generator. It takes a given value of x and turns it into a new integer. then plugs that integer in and does it again and again. this process is known for producing Pseudo random numbers and is called a pseudo random number generator (PRNG). This is one of the methods for producing random numbers."
   ]
  },
  {
   "cell_type": "markdown",
   "id": "4d076cb3",
   "metadata": {},
   "source": [
    "PRNG's are reproducible so they are not truly random. But if you make the parameters complex enough, you can make it harder to reproduce for other people"
   ]
  },
  {
   "cell_type": "markdown",
   "id": "90bdf6a5",
   "metadata": {},
   "source": [
    "## True random numbers (TRNG)"
   ]
  },
  {
   "cell_type": "markdown",
   "id": "34239b3f",
   "metadata": {},
   "source": [
    "random numbers can be true random numbers as well. True random numbers take random processes that occur outside of the computer and use them to produce random numbers. Examples of truly random processes are rolling dice, or radioactive decay. True random number generators are ideal because they are hard to predict in cases of ciphering. The ideal RNG is a TRNG. But for the purposes of simplicity, a PRNG will be used for my example"
   ]
  },
  {
   "cell_type": "markdown",
   "id": "07ad8562",
   "metadata": {},
   "source": [
    "# This section of the code will show an example of a program which utilizes random numbers and seeds"
   ]
  },
  {
   "cell_type": "markdown",
   "id": "8987cec4",
   "metadata": {},
   "source": [
    "## The idea behind random numbers will be used to create a program that creates a key from a seed and random numbers that can encrypt a message input by the user"
   ]
  },
  {
   "cell_type": "markdown",
   "id": "6e1bce9a",
   "metadata": {},
   "source": [
    "The math behind generating PRNG's lies in the equation"
   ]
  },
  {
   "cell_type": "markdown",
   "id": "b6bc846b",
   "metadata": {},
   "source": [
    "$$x' = (ax+c)mod$$"
   ]
  },
  {
   "cell_type": "markdown",
   "id": "2b9ac6ad",
   "metadata": {},
   "source": [
    "This equation is known as the linear congruential number generator"
   ]
  },
  {
   "cell_type": "markdown",
   "id": "67e35f35",
   "metadata": {},
   "source": [
    "using this equation we can create numbers that look random but are actually controlled by the parameters in the equation. If you know the values of x, a, c, and m, you can reproduce the numbers again and again."
   ]
  },
  {
   "cell_type": "markdown",
   "id": "30ef431c",
   "metadata": {},
   "source": [
    "So when using this random number generator for a cipher, be sure not to share those parameters with anyone."
   ]
  },
  {
   "cell_type": "code",
   "execution_count": 1,
   "id": "9a259a3c",
   "metadata": {},
   "outputs": [],
   "source": [
    "from random import random, seed, randrange, randint\n",
    "import numpy as np\n",
    "import math"
   ]
  },
  {
   "cell_type": "markdown",
   "id": "e34a8910",
   "metadata": {},
   "source": [
    "### This part of the code is where I create an RNG. The RNG I decided to use was the linear congruential random number generator. In order to promote as much randomness as possible, I multiplied the parameters by a variable i. It returns the value x and this is the value will be added to the ASCII values below"
   ]
  },
  {
   "cell_type": "code",
   "execution_count": 2,
   "id": "600d5ea3",
   "metadata": {},
   "outputs": [],
   "source": [
    "def RNG(i):\n",
    "    x = 2*i\n",
    "    a = 3*i\n",
    "    c = 3*i**2\n",
    "    m = 23\n",
    "    x = (a*x+c)%m\n",
    "    return x"
   ]
  },
  {
   "cell_type": "markdown",
   "id": "b5e7e627",
   "metadata": {},
   "source": [
    "### This cell takes in a user inputted message and converts its characters to their perspective ASCII values then stores them in a list labeled values. This is done so that I can crypt the characters by changing their ASCII values by some random number."
   ]
  },
  {
   "cell_type": "code",
   "execution_count": 3,
   "id": "a2cc6349",
   "metadata": {},
   "outputs": [
    {
     "name": "stdout",
     "output_type": "stream",
     "text": [
      "enter a message to decrypt: Hello everyone, My name is Markiece Givens and this is my final project for PHYS 300! It is a cipher using a RNG generator using the linear congruential generator!\n",
      "[72, 101, 108, 108, 111, 32, 101, 118, 101, 114, 121, 111, 110, 101, 44, 32, 77, 121, 32, 110, 97, 109, 101, 32, 105, 115, 32, 77, 97, 114, 107, 105, 101, 99, 101, 32, 71, 105, 118, 101, 110, 115, 32, 97, 110, 100, 32, 116, 104, 105, 115, 32, 105, 115, 32, 109, 121, 32, 102, 105, 110, 97, 108, 32, 112, 114, 111, 106, 101, 99, 116, 32, 102, 111, 114, 32, 80, 72, 89, 83, 32, 51, 48, 48, 33, 32, 73, 116, 32, 105, 115, 32, 97, 32, 99, 105, 112, 104, 101, 114, 32, 117, 115, 105, 110, 103, 32, 97, 32, 82, 78, 71, 32, 103, 101, 110, 101, 114, 97, 116, 111, 114, 32, 117, 115, 105, 110, 103, 32, 116, 104, 101, 32, 108, 105, 110, 101, 97, 114, 32, 99, 111, 110, 103, 114, 117, 101, 110, 116, 105, 97, 108, 32, 103, 101, 110, 101, 114, 97, 116, 111, 114, 33]\n"
     ]
    }
   ],
   "source": [
    "message = input(\"enter a message to decrypt: \")\n",
    "values = []\n",
    "for letter in message:\n",
    "    letter_value = ord(letter)\n",
    "    values.append(letter_value)\n",
    "print(values)"
   ]
  },
  {
   "cell_type": "markdown",
   "id": "02619d98",
   "metadata": {},
   "source": [
    "### This cell handles the magic. It converts the list of the characters ASCII values to a numpy array so that I can add an array to them. If this were not done, I wouldn't be able to add the ASCII values by some random numbers. "
   ]
  },
  {
   "cell_type": "markdown",
   "id": "2a6e60b6",
   "metadata": {},
   "source": [
    "The cell then takes every number stored in the numpy array containing the ASCII values, and then it finds some random number within the range of 1 to 50, stores it in the variable i, then it takes that value of i and plugs it into the linear congruential RNG. This is to promote as much randomness as possible and also to make it to where the encrypted message would be hard to crack."
   ]
  },
  {
   "cell_type": "code",
   "execution_count": 4,
   "id": "706f5e39",
   "metadata": {},
   "outputs": [
    {
     "name": "stdout",
     "output_type": "stream",
     "text": [
      "[78, 104, 121, 121, 124, 50, 113, 127, 110, 130, 121, 124, 128, 103, 57, 35, 89, 134, 40, 114, 106, 110, 117, 40, 107, 116, 35, 78, 109, 126, 115, 114, 109, 108, 117, 34, 71, 114, 127, 107, 123, 128, 44, 98, 111, 112, 34, 129, 108, 111, 127, 38, 123, 128, 41, 110, 122, 44, 120, 107, 114, 113, 114, 34, 120, 123, 124, 109, 103, 103, 129, 38, 106, 114, 127, 48, 98, 78, 102, 83, 40, 55, 60, 57, 36, 48, 79, 118, 50, 105, 119, 34, 97, 44, 115, 106, 120, 117, 110, 122, 44, 125, 131, 108, 123, 105, 41, 106, 45, 91, 80, 80, 34, 116, 110, 112, 117, 126, 106, 134, 124, 132, 48, 129, 118, 123, 110, 104, 38, 118, 107, 102, 34, 126, 106, 116, 119, 113, 130, 34, 112, 115, 122, 115, 126, 126, 102, 114, 119, 106, 110, 111, 45, 116, 113, 126, 114, 127, 99, 119, 115, 115, 36]\n"
     ]
    }
   ],
   "source": [
    "values_crypt = np.array(values)\n",
    "crypt = []\n",
    "for number in values_crypt:\n",
    "    i = randrange(1,50)\n",
    "    number += RNG(i)\n",
    "    crypt.append(number)\n",
    "print(crypt)"
   ]
  },
  {
   "cell_type": "markdown",
   "id": "d1ae78b0",
   "metadata": {},
   "source": [
    "### The final section of the code stores the variable char as ' ' in order to make the code run smoother when it comes to converting from the ASCII values to their perspective character. "
   ]
  },
  {
   "cell_type": "markdown",
   "id": "29ff6b78",
   "metadata": {},
   "source": [
    "This cell takes every number stored in crypt and converts it to a character. Python Uses the ASCII table so that is referenced when converting the numbers to a character!"
   ]
  },
  {
   "cell_type": "code",
   "execution_count": 5,
   "id": "ae0deadc",
   "metadata": {},
   "outputs": [
    {
     "name": "stdout",
     "output_type": "stream",
     "text": [
      "The encrypted message is:  Nhyy|2qny|g9#Y(rjnu(kt#Nm~srmlu\"Grk{,bop\"lo&{)nz,xkrqr\"x{|mgg&jr0bNfS(7<9$0Ov2iw\"a,sjxunz,}l{i)j-[PP\"tnpu~j|0v{nh&vkf\"~jtwq\"pszs~~frwjno-tq~rcwss$\n"
     ]
    }
   ],
   "source": [
    "char = ''\n",
    "for number in crypt:\n",
    "    char += chr(number)\n",
    "print(\"The encrypted message is: \", char)"
   ]
  },
  {
   "cell_type": "markdown",
   "id": "b2dd44be",
   "metadata": {},
   "source": [
    "# The below code is my cipher used without a RNG"
   ]
  },
  {
   "cell_type": "markdown",
   "id": "82953504",
   "metadata": {},
   "source": [
    "### What I notice about my old code is"
   ]
  },
  {
   "cell_type": "markdown",
   "id": "f590c4d8",
   "metadata": {},
   "source": [
    "1. It is a lot less varied and less dependable. \n",
    "* what i mean by dependable and varied is that it only works for certain seeds from 1 to inf. This is a discrepancy and also shows how powerful an RNG is. With the use of an RNG the results can be a lot more dependable and random"
   ]
  },
  {
   "cell_type": "markdown",
   "id": "14143226",
   "metadata": {},
   "source": [
    "2. when using an RNG it is more customizable. The cipher below can only be used for certain values but using the RNG, it is able to incorporate many values that lie within the ASCII chart"
   ]
  },
  {
   "cell_type": "code",
   "execution_count": 6,
   "id": "caaeefdb",
   "metadata": {
    "scrolled": true
   },
   "outputs": [
    {
     "name": "stdout",
     "output_type": "stream",
     "text": [
      "enter a message to decrypt: Hello everyone, My name is Markiece Givens and this is my final project for PHYS 300! It is a cipher using a RNG generator using the linear congruential generator!\n",
      "[72, 101, 108, 108, 111, 32, 101, 118, 101, 114, 121, 111, 110, 101, 44, 32, 77, 121, 32, 110, 97, 109, 101, 32, 105, 115, 32, 77, 97, 114, 107, 105, 101, 99, 101, 32, 71, 105, 118, 101, 110, 115, 32, 97, 110, 100, 32, 116, 104, 105, 115, 32, 105, 115, 32, 109, 121, 32, 102, 105, 110, 97, 108, 32, 112, 114, 111, 106, 101, 99, 116, 32, 102, 111, 114, 32, 80, 72, 89, 83, 32, 51, 48, 48, 33, 32, 73, 116, 32, 105, 115, 32, 97, 32, 99, 105, 112, 104, 101, 114, 32, 117, 115, 105, 110, 103, 32, 97, 32, 82, 78, 71, 32, 103, 101, 110, 101, 114, 97, 116, 111, 114, 32, 117, 115, 105, 110, 103, 32, 116, 104, 101, 32, 108, 105, 110, 101, 97, 114, 32, 99, 111, 110, 103, 114, 117, 101, 110, 116, 105, 97, 108, 32, 103, 101, 110, 101, 114, 97, 116, 111, 114, 33]\n"
     ]
    }
   ],
   "source": [
    "#this section of the code takes in a user inputted message\n",
    "#and assigns values to each letter in the message\n",
    "message = input(\"enter a message to decrypt: \")\n",
    "values = []\n",
    "for letter in message:\n",
    "    letter_value = ord(letter)\n",
    "    values.append(letter_value)\n",
    "print(values)"
   ]
  },
  {
   "cell_type": "code",
   "execution_count": 13,
   "id": "77e4965c",
   "metadata": {},
   "outputs": [
    {
     "name": "stdout",
     "output_type": "stream",
     "text": [
      "the encrypted message is: Ignw%|z{tx-2b~-m|0t.]isktsmq-Wnjuz fxi$xt5zx.7vyz~+{tqy.zy/XWic:L;E/.T7z.p5js~w3}xwp9w:b_W0{xr{xz~+k*h&lowus(uvj",
      "iv{gm-}}of}lyv!\n"
     ]
    }
   ],
   "source": [
    "#this section of the code assigns the numerical values of the\n",
    "#inputted message to a numpy array so that a random number\n",
    "#can be added to each individual number in order to change\n",
    "#the letters\n",
    "values_crypt = np.array(values)\n",
    "#not every seed is going to work. 6,7,9,10,11,12,16\n",
    "crypt2 = []\n",
    "seed(2)\n",
    "for number in values_crypt:\n",
    "    number += randrange(27)\n",
    "    crypt2.append(number)\n",
    "char = ''\n",
    "for number in crypt2:\n",
    "    char += chr(number)\n",
    "print(\"the encrypted message is:\", char)"
   ]
  },
  {
   "cell_type": "code",
   "execution_count": 10,
   "id": "70c4e2e0",
   "metadata": {},
   "outputs": [
    {
     "name": "stdout",
     "output_type": "stream",
     "text": [
      "0\n",
      "the decrypted message for seed 0 is U{x53Bf1p8",
      "Gpm|nu{<hqw4lx2uFzzE M~>~¡06q[tHN=O?=WH 1?EzELih\\6}",
      "@¢o,¡;",
      "}A|||¤{~|Cqpo+\n",
      "1\n",
      "the decrypted message for seed 1 is U{x53Bf1p8",
      "Gpm|nu{<hqw4lx2uFzzE M~>~¡06q[tHN=O?=WH 1?EzELih\\6}",
      "@¢o,¡;",
      "}A|||¤{~|Cqpo+My-35q~GzHt<ervwq-Wj&si4F5Oy<yE?egx@UDW>>`8EAwK¢y~N=zdgJ{{>w/o>}~3r|{Dsv}0\n",
      "2\n",
      "the decrypted message for seed 2 is U{x53Bf1p8",
      "Gpm|nu{<hqw4lx2uFzzE M~>~¡06q[tHN=O?=WH 1?EzELih\\6}",
      "@¢o,¡;",
      "}A|||¤{~|Cqpo+My-35q~GzHt<ervwq-Wj&si4F5Oy<yE?egx@UDW>>`8EAwK¢y~N=zdgJ{{>w/o>}~3r|{Dsv}0Jip£*¨z.Dw:y@<mqtkw}:gso| kn(J}<N6y}¢<>`fysTeFZ=<_N¡<Jq}¤|F",
      "£yRTrpg@6m 4¢h,opt0}m¢m~mn:pgw~}!\n",
      "3\n",
      "the decrypted message for seed 3 is U{x53Bf1p8",
      "Gpm|nu{<hqw4lx2uFzzE M~>~¡06q[tHN=O?=WH 1?EzELih\\6}",
      "@¢o,¡;",
      "}A|||¤{~|Cqpo+My-35q~GzHt<ervwq-Wj&si4F5Oy<yE?egx@UDW>>`8EAwK¢y~N=zdgJ{{>w/o>}~3r|{Dsv}0Jip£*¨z.Dw:y@<mqtkw}:gso| kn(J}<N6y}¢<>`fysTeFZ=<_N¡<Jq}¤|F",
      "£yRTrpg@6m 4¢h,opt0}m¢m~mn:pgw~}!Py{8£}5CiC~ ?2d}w{mEYs|v8fq3NEEz|{:;",
      "Ach{pLSEZ/6gM 8G|v ",
      "MzrHIdjp2|{>l<y6mxwwv;wwqzqw8{tx2\n",
      "4\n",
      "the decrypted message for seed 4 is U{x53Bf1p8",
      "Gpm|nu{<hqw4lx2uFzzE M~>~¡06q[tHN=O?=WH 1?EzELih\\6}",
      "@¢o,¡;",
      "}A|||¤{~|Cqpo+My-35q~GzHt<ervwq-Wj&si4F5Oy<yE?egx@UDW>>`8EAwK¢y~N=zdgJ{{>w/o>}~3r|{Dsv}0Jip£*¨z.Dw:y@<mqtkw}:gso| kn(J}<N6y}¢<>`fysTeFZ=<_N¡<Jq}¤|F",
      "£yRTrpg@6m 4¢h,opt0}m¢m~mn:pgw~}!Py{8£}5CiC~ ?2d}w{mEYs|v8fq3NEEz|{:;",
      "Ach{pLSEZ/6gM 8G|v ",
      "MzrHIdjp2|{>l<y6mxwwv;wwqzqw8{tx2Ppq4|{}E3i>uJw4]|uw2`w|3pu4}{=|? 7;z3IqXkdH`CU@BcA~4rBp|>¢J}DeyXF}4l,0vxy<||ku9yx}wz,\n",
      "5\n",
      "the decrypted message for seed 5 is U{x53Bf1p8",
      "Gpm|nu{<hqw4lx2uFzzE M~>~¡06q[tHN=O?=WH 1?EzELih\\6}",
      "@¢o,¡;",
      "}A|||¤{~|Cqpo+My-35q~GzHt<ervwq-Wj&si4F5Oy<yE?egx@UDW>>`8EAwK¢y~N=zdgJ{{>w/o>}~3r|{Dsv}0Jip£*¨z.Dw:y@<mqtkw}:gso| kn(J}<N6y}¢<>`fysTeFZ=<_N¡<Jq}¤|F",
      "£yRTrpg@6m 4¢h,opt0}m¢m~mn:pgw~}!Py{8£}5CiC~ ?2d}w{mEYs|v8fq3NEEz|{:;",
      "Ach{pLSEZ/6gM 8G|v ",
      "MzrHIdjp2|{>l<y6mxwwv;wwqzqw8{tx2Ppq4|{}E3i>uJw4]|uw2`w|3pu4}{=|? 7;z3IqXkdH`CU@BcA~4rBp|>¢J}DeyXF}4l,0vxy<||ku9yx}wz,\\o",
      "¢;¦4Fc0|Aw5]yx|x",
      "}2on.j|i$z:4K|4{u8AXj~yDNDPI7cA=:k{3¤",
      "|K:p`m5~6<¢1m|y{}8tzxqv2j",
      "8\n",
      "6\n",
      "the decrypted message for seed 6 is U{x53Bf1p8",
      "Gpm|nu{<hqw4lx2uFzzE M~>~¡06q[tHN=O?=WH 1?EzELih\\6}",
      "@¢o,¡;",
      "}A|||¤{~|Cqpo+My-35q~GzHt<ervwq-Wj&si4F5Oy<yE?egx@UDW>>`8EAwK¢y~N=zdgJ{{>w/o>}~3r|{Dsv}0Jip£*¨z.Dw:y@<mqtkw}:gso| kn(J}<N6y}¢<>`fysTeFZ=<_N¡<Jq}¤|F",
      "£yRTrpg@6m 4¢h,opt0}m¢m~mn:pgw~}!Py{8£}5CiC~ ?2d}w{mEYs|v8fq3NEEz|{:;",
      "Ach{pLSEZ/6gM 8G|v ",
      "MzrHIdjp2|{>l<y6mxwwv;wwqzqw8{tx2Ppq4|{}E3i>uJw4]|uw2`w|3pu4}{=|? 7;z3IqXkdH`CU@BcA~4rBp|>¢J}DeyXF}4l,0vxy<||ku9yx}wz,\\o",
      "¢;¦4Fc0|Aw5]yx|x",
      "}2on.j|i$z:4K|4{u8AXj~yDNDPI7cA=:k{3¤",
      "|K:p`m5~6<¢1m|y{}8tzxqv2j",
      "8byy=zD=l-|G?rly}",
      "5lw*h18~D@y?DyCc^|pCWMH1>i=}Cx>y{F¥p??bsaA{/l=¢t4",
      "q6v",
      "z/n{!\n",
      "7\n",
      "the decrypted message for seed 7 is U{x53Bf1p8",
      "Gpm|nu{<hqw4lx2uFzzE M~>~¡06q[tHN=O?=WH 1?EzELih\\6}",
      "@¢o,¡;",
      "}A|||¤{~|Cqpo+My-35q~GzHt<ervwq-Wj&si4F5Oy<yE?egx@UDW>>`8EAwK¢y~N=zdgJ{{>w/o>}~3r|{Dsv}0Jip£*¨z.Dw:y@<mqtkw}:gso| kn(J}<N6y}¢<>`fysTeFZ=<_N¡<Jq}¤|F",
      "£yRTrpg@6m 4¢h,opt0}m¢m~mn:pgw~}!Py{8£}5CiC~ ?2d}w{mEYs|v8fq3NEEz|{:;",
      "Ach{pLSEZ/6gM 8G|v ",
      "MzrHIdjp2|{>l<y6mxwwv;wwqzqw8{tx2Ppq4|{}E3i>uJw4]|uw2`w|3pu4}{=|? 7;z3IqXkdH`CU@BcA~4rBp|>¢J}DeyXF}4l,0vxy<||ku9yx}wz,\\o",
      "¢;¦4Fc0|Aw5]yx|x",
      "}2on.j|i$z:4K|4{u8AXj~yDNDPI7cA=:k{3¤",
      "|K:p`m5~6<¢1m|y{}8tzxqv2j",
      "8byy=zD=l-|G?rly}",
      "5lw*h18~D@y?DyCc^|pCWMH1>i=}Cx>y{F¥p??bsaA{/l=¢t4",
      "q6v",
      "z/n{!Skz' }~.4o/o11d}}u",
      "}.^on~$w{{-8B:{>~<8_pnyRS=W8>cNAr8z{ByJS|iaF|3A¡q8}=vul",
      "|v1{rn~2\n",
      "8\n",
      "the decrypted message for seed 8 is U{x53Bf1p8",
      "Gpm|nu{<hqw4lx2uFzzE M~>~¡06q[tHN=O?=WH 1?EzELih\\6}",
      "@¢o,¡;",
      "}A|||¤{~|Cqpo+My-35q~GzHt<ervwq-Wj&si4F5Oy<yE?egx@UDW>>`8EAwK¢y~N=zdgJ{{>w/o>}~3r|{Dsv}0Jip£*¨z.Dw:y@<mqtkw}:gso| kn(J}<N6y}¢<>`fysTeFZ=<_N¡<Jq}¤|F",
      "£yRTrpg@6m 4¢h,opt0}m¢m~mn:pgw~}!Py{8£}5CiC~ ?2d}w{mEYs|v8fq3NEEz|{:;",
      "Ach{pLSEZ/6gM 8G|v ",
      "MzrHIdjp2|{>l<y6mxwwv;wwqzqw8{tx2Ppq4|{}E3i>uJw4]|uw2`w|3pu4}{=|? 7;z3IqXkdH`CU@BcA~4rBp|>¢J}DeyXF}4l,0vxy<||ku9yx}wz,\\o",
      "¢;¦4Fc0|Aw5]yx|x",
      "}2on.j|i$z:4K|4{u8AXj~yDNDPI7cA=:k{3¤",
      "|K:p`m5~6<¢1m|y{}8tzxqv2j",
      "8byy=zD=l-|G?rly}",
      "5lw*h18~D@y?DyCc^|pCWMH1>i=}Cx>y{F¥p??bsaA{/l=¢t4",
      "q6v",
      "z/n{!Skz' }~.4o/o11d}}u",
      "}.^on~$w{{-8B:{>~<8_pnyRS=W8>cNAr8z{ByJS|iaF|3A¡q8}=vul",
      "|v1{rn~2Prz{;}~zA2p;|J=ds|z9nqrx\"r0u<z==}<|uE@cdmhR_>VE8jK>;swH¤@Abha7yz0n*/l}Bzq{i/rg|1\n",
      "9\n",
      "the decrypted message for seed 9 is U{x53Bf1p8",
      "Gpm|nu{<hqw4lx2uFzzE M~>~¡06q[tHN=O?=WH 1?EzELih\\6}",
      "@¢o,¡;",
      "}A|||¤{~|Cqpo+My-35q~GzHt<ervwq-Wj&si4F5Oy<yE?egx@UDW>>`8EAwK¢y~N=zdgJ{{>w/o>}~3r|{Dsv}0Jip£*¨z.Dw:y@<mqtkw}:gso| kn(J}<N6y}¢<>`fysTeFZ=<_N¡<Jq}¤|F",
      "£yRTrpg@6m 4¢h,opt0}m¢m~mn:pgw~}!Py{8£}5CiC~ ?2d}w{mEYs|v8fq3NEEz|{:;",
      "Ach{pLSEZ/6gM 8G|v ",
      "MzrHIdjp2|{>l<y6mxwwv;wwqzqw8{tx2Ppq4|{}E3i>uJw4]|uw2`w|3pu4}{=|? 7;z3IqXkdH`CU@BcA~4rBp|>¢J}DeyXF}4l,0vxy<||ku9yx}wz,\\o",
      "¢;¦4Fc0|Aw5]yx|x",
      "}2on.j|i$z:4K|4{u8AXj~yDNDPI7cA=:k{3¤",
      "|K:p`m5~6<¢1m|y{}8tzxqv2j",
      "8byy=zD=l-|G?rly}",
      "5lw*h18~D@y?DyCc^|pCWMH1>i=}Cx>y{F¥p??bsaA{/l=¢t4",
      "q6v",
      "z/n{!Skz' }~.4o/o11d}}u",
      "}.^on~$w{{-8B:{>~<8_pnyRS=W8>cNAr8z{ByJS|iaF|3A¡q8}=vul",
      "|v1{rn~2Prz{;}~zA2p;|J=ds|z9nqrx\"r0u<z==}<|uE@cdmhR_>VE8jK>;swH¤@Abha7yz0n*/l}Bzq{i/rg|1Wzy*v>ExDrG3djvo",
      "oCcm~5m1|AGMvz/{t15bWkgKLKGA=eD|4MlJ~",
      "L{Qjvi1~y6}@s8zu{",
      "?u}",
      "vyuu7xzo!\n",
      "10\n",
      "the decrypted message for seed 10 is U{x53Bf1p8",
      "Gpm|nu{<hqw4lx2uFzzE M~>~¡06q[tHN=O?=WH 1?EzELih\\6}",
      "@¢o,¡;",
      "}A|||¤{~|Cqpo+My-35q~GzHt<ervwq-Wj&si4F5Oy<yE?egx@UDW>>`8EAwK¢y~N=zdgJ{{>w/o>}~3r|{Dsv}0Jip£*¨z.Dw:y@<mqtkw}:gso| kn(J}<N6y}¢<>`fysTeFZ=<_N¡<Jq}¤|F",
      "£yRTrpg@6m 4¢h,opt0}m¢m~mn:pgw~}!Py{8£}5CiC~ ?2d}w{mEYs|v8fq3NEEz|{:;",
      "Ach{pLSEZ/6gM 8G|v ",
      "MzrHIdjp2|{>l<y6mxwwv;wwqzqw8{tx2Ppq4|{}E3i>uJw4]|uw2`w|3pu4}{=|? 7;z3IqXkdH`CU@BcA~4rBp|>¢J}DeyXF}4l,0vxy<||ku9yx}wz,\\o",
      "¢;¦4Fc0|Aw5]yx|x",
      "}2on.j|i$z:4K|4{u8AXj~yDNDPI7cA=:k{3¤",
      "|K:p`m5~6<¢1m|y{}8tzxqv2j",
      "8byy=zD=l-|G?rly}",
      "5lw*h18~D@y?DyCc^|pCWMH1>i=}Cx>y{F¥p??bsaA{/l=¢t4",
      "q6v",
      "z/n{!Skz' }~.4o/o11d}}u",
      "}.^on~$w{{-8B:{>~<8_pnyRS=W8>cNAr8z{ByJS|iaF|3A¡q8}=vul",
      "|v1{rn~2Prz{;}~zA2p;|J=ds|z9nqrx\"r0u<z==}<|uE@cdmhR_>VE8jK>;swH¤@Abha7yz0n*/l}Bzq{i/rg|1Wzy*v>ExDrG3djvo",
      "oCcm~5m1|AGMvz/{t15bWkgKLKGA=eD|4MlJ~",
      "L{Qjvi1~y6}@s8zu{",
      "?u}",
      "vyuu7xzo![h{%23r7t1Ahutu2lwuy8m|0",
      "t9?>:}~¥5z0g`vONLG3:fJ~F8xx£@tL?ege96r@r-",
      "t}x4y",
      "ir<{j}-\n",
      "11\n",
      "the decrypted message for seed 11 is U{x53Bf1p8",
      "Gpm|nu{<hqw4lx2uFzzE M~>~¡06q[tHN=O?=WH 1?EzELih\\6}",
      "@¢o,¡;",
      "}A|||¤{~|Cqpo+My-35q~GzHt<ervwq-Wj&si4F5Oy<yE?egx@UDW>>`8EAwK¢y~N=zdgJ{{>w/o>}~3r|{Dsv}0Jip£*¨z.Dw:y@<mqtkw}:gso| kn(J}<N6y}¢<>`fysTeFZ=<_N¡<Jq}¤|F",
      "£yRTrpg@6m 4¢h,opt0}m¢m~mn:pgw~}!Py{8£}5CiC~ ?2d}w{mEYs|v8fq3NEEz|{:;",
      "Ach{pLSEZ/6gM 8G|v ",
      "MzrHIdjp2|{>l<y6mxwwv;wwqzqw8{tx2Ppq4|{}E3i>uJw4]|uw2`w|3pu4}{=|? 7;z3IqXkdH`CU@BcA~4rBp|>¢J}DeyXF}4l,0vxy<||ku9yx}wz,\\o",
      "¢;¦4Fc0|Aw5]yx|x",
      "}2on.j|i$z:4K|4{u8AXj~yDNDPI7cA=:k{3¤",
      "|K:p`m5~6<¢1m|y{}8tzxqv2j",
      "8byy=zD=l-|G?rly}",
      "5lw*h18~D@y?DyCc^|pCWMH1>i=}Cx>y{F¥p??bsaA{/l=¢t4",
      "q6v",
      "z/n{!Skz' }~.4o/o11d}}u",
      "}.^on~$w{{-8B:{>~<8_pnyRS=W8>cNAr8z{ByJS|iaF|3A¡q8}=vul",
      "|v1{rn~2Prz{;}~zA2p;|J=ds|z9nqrx\"r0u<z==}<|uE@cdmhR_>VE8jK>;swH¤@Abha7yz0n*/l}Bzq{i/rg|1Wzy*v>ExDrG3djvo",
      "oCcm~5m1|AGMvz/{t15bWkgKLKGA=eD|4MlJ~",
      "L{Qjvi1~y6}@s8zu{",
      "?u}",
      "vyuu7xzo![h{%23r7t1Ahutu2lwuy8m|0",
      "t9?>:}~¥5z0g`vONLG3:fJ~F8xx£@tL?ege96r@r-",
      "t}x4y",
      "ir<{j}-Wx",
      "5F7e6oF",
      "Aiwr-q~kv'yx2;B78vy£5y1jolo=UGG/CT={:Awu",
      "H",
      "zz9Rec^F~x1q.|)yuw}:~vo}~ks;",
      "}y#\n",
      "12\n",
      "the decrypted message for seed 12 is U{x53Bf1p8",
      "Gpm|nu{<hqw4lx2uFzzE M~>~¡06q[tHN=O?=WH 1?EzELih\\6}",
      "@¢o,¡;",
      "}A|||¤{~|Cqpo+My-35q~GzHt<ervwq-Wj&si4F5Oy<yE?egx@UDW>>`8EAwK¢y~N=zdgJ{{>w/o>}~3r|{Dsv}0Jip£*¨z.Dw:y@<mqtkw}:gso| kn(J}<N6y}¢<>`fysTeFZ=<_N¡<Jq}¤|F",
      "£yRTrpg@6m 4¢h,opt0}m¢m~mn:pgw~}!Py{8£}5CiC~ ?2d}w{mEYs|v8fq3NEEz|{:;",
      "Ach{pLSEZ/6gM 8G|v ",
      "MzrHIdjp2|{>l<y6mxwwv;wwqzqw8{tx2Ppq4|{}E3i>uJw4]|uw2`w|3pu4}{=|? 7;z3IqXkdH`CU@BcA~4rBp|>¢J}DeyXF}4l,0vxy<||ku9yx}wz,\\o",
      "¢;¦4Fc0|Aw5]yx|x",
      "}2on.j|i$z:4K|4{u8AXj~yDNDPI7cA=:k{3¤",
      "|K:p`m5~6<¢1m|y{}8tzxqv2j",
      "8byy=zD=l-|G?rly}",
      "5lw*h18~D@y?DyCc^|pCWMH1>i=}Cx>y{F¥p??bsaA{/l=¢t4",
      "q6v",
      "z/n{!Skz' }~.4o/o11d}}u",
      "}.^on~$w{{-8B:{>~<8_pnyRS=W8>cNAr8z{ByJS|iaF|3A¡q8}=vul",
      "|v1{rn~2Prz{;}~zA2p;|J=ds|z9nqrx\"r0u<z==}<|uE@cdmhR_>VE8jK>;swH¤@Abha7yz0n*/l}Bzq{i/rg|1Wzy*v>ExDrG3djvo",
      "oCcm~5m1|AGMvz/{t15bWkgKLKGA=eD|4MlJ~",
      "L{Qjvi1~y6}@s8zu{",
      "?u}",
      "vyuu7xzo![h{%23r7t1Ahutu2lwuy8m|0",
      "t9?>:}~¥5z0g`vONLG3:fJ~F8xx£@tL?ege96r@r-",
      "t}x4y",
      "ir<{j}-Wx",
      "5F7e6oF",
      "Aiwr-q~kv'yx2;B78vy£5y1jolo=UGG/CT={:Awu",
      "H",
      "zz9Rec^F~x1q.|)yuw}:~vo}~ks;",
      "}y#Xo0z;Hu",
      ">>8cj",
      "",
      "zu}Ga| g~4z8",
      "2J{0v A;iW}z<RTZ79_C1x<t~KxFxJbfl=|{0s2s:m",
      "y2~nlsEf",
      "(\n",
      "13\n",
      "the decrypted message for seed 13 is U{x53Bf1p8",
      "Gpm|nu{<hqw4lx2uFzzE M~>~¡06q[tHN=O?=WH 1?EzELih\\6}",
      "@¢o,¡;",
      "}A|||¤{~|Cqpo+My-35q~GzHt<ervwq-Wj&si4F5Oy<yE?egx@UDW>>`8EAwK¢y~N=zdgJ{{>w/o>}~3r|{Dsv}0Jip£*¨z.Dw:y@<mqtkw}:gso| kn(J}<N6y}¢<>`fysTeFZ=<_N¡<Jq}¤|F",
      "£yRTrpg@6m 4¢h,opt0}m¢m~mn:pgw~}!Py{8£}5CiC~ ?2d}w{mEYs|v8fq3NEEz|{:;",
      "Ach{pLSEZ/6gM 8G|v ",
      "MzrHIdjp2|{>l<y6mxwwv;wwqzqw8{tx2Ppq4|{}E3i>uJw4]|uw2`w|3pu4}{=|? 7;z3IqXkdH`CU@BcA~4rBp|>¢J}DeyXF}4l,0vxy<||ku9yx}wz,\\o",
      "¢;¦4Fc0|Aw5]yx|x",
      "}2on.j|i$z:4K|4{u8AXj~yDNDPI7cA=:k{3¤",
      "|K:p`m5~6<¢1m|y{}8tzxqv2j",
      "8byy=zD=l-|G?rly}",
      "5lw*h18~D@y?DyCc^|pCWMH1>i=}Cx>y{F¥p??bsaA{/l=¢t4",
      "q6v",
      "z/n{!Skz' }~.4o/o11d}}u",
      "}.^on~$w{{-8B:{>~<8_pnyRS=W8>cNAr8z{ByJS|iaF|3A¡q8}=vul",
      "|v1{rn~2Prz{;}~zA2p;|J=ds|z9nqrx\"r0u<z==}<|uE@cdmhR_>VE8jK>;swH¤@Abha7yz0n*/l}Bzq{i/rg|1Wzy*v>ExDrG3djvo",
      "oCcm~5m1|AGMvz/{t15bWkgKLKGA=eD|4MlJ~",
      "L{Qjvi1~y6}@s8zu{",
      "?u}",
      "vyuu7xzo![h{%23r7t1Ahutu2lwuy8m|0",
      "t9?>:}~¥5z0g`vONLG3:fJ~F8xx£@tL?ege96r@r-",
      "t}x4y",
      "ir<{j}-Wx",
      "5F7e6oF",
      "Aiwr-q~kv'yx2;B78vy£5y1jolo=UGG/CT={:Awu",
      "H",
      "zz9Rec^F~x1q.|)yuw}:~vo}~ks;",
      "}y#Xo0z;Hu",
      ">>8cj",
      "",
      "zu}Ga| g~4z8",
      "2J{0v A;iW}z<RTZ79_C1x<t~KxFxJbfl=|{0s2s:m",
      "y2~nlsEf",
      "(Qp¢*}14sDmJ.ewmyGe",
      "n+m5",
      "BBQ9¢<5]gtkEZCX7:XF@w;~Gx}:~>qxmJw",
      "D:¡}<s{)k",
      "ps2iq{4\n",
      "14\n",
      "the decrypted message for seed 14 is U{x53Bf1p8",
      "Gpm|nu{<hqw4lx2uFzzE M~>~¡06q[tHN=O?=WH 1?EzELih\\6}",
      "@¢o,¡;",
      "}A|||¤{~|Cqpo+My-35q~GzHt<ervwq-Wj&si4F5Oy<yE?egx@UDW>>`8EAwK¢y~N=zdgJ{{>w/o>}~3r|{Dsv}0Jip£*¨z.Dw:y@<mqtkw}:gso| kn(J}<N6y}¢<>`fysTeFZ=<_N¡<Jq}¤|F",
      "£yRTrpg@6m 4¢h,opt0}m¢m~mn:pgw~}!Py{8£}5CiC~ ?2d}w{mEYs|v8fq3NEEz|{:;",
      "Ach{pLSEZ/6gM 8G|v ",
      "MzrHIdjp2|{>l<y6mxwwv;wwqzqw8{tx2Ppq4|{}E3i>uJw4]|uw2`w|3pu4}{=|? 7;z3IqXkdH`CU@BcA~4rBp|>¢J}DeyXF}4l,0vxy<||ku9yx}wz,\\o",
      "¢;¦4Fc0|Aw5]yx|x",
      "}2on.j|i$z:4K|4{u8AXj~yDNDPI7cA=:k{3¤",
      "|K:p`m5~6<¢1m|y{}8tzxqv2j",
      "8byy=zD=l-|G?rly}",
      "5lw*h18~D@y?DyCc^|pCWMH1>i=}Cx>y{F¥p??bsaA{/l=¢t4",
      "q6v",
      "z/n{!Skz' }~.4o/o11d}}u",
      "}.^on~$w{{-8B:{>~<8_pnyRS=W8>cNAr8z{ByJS|iaF|3A¡q8}=vul",
      "|v1{rn~2Prz{;}~zA2p;|J=ds|z9nqrx\"r0u<z==}<|uE@cdmhR_>VE8jK>;swH¤@Abha7yz0n*/l}Bzq{i/rg|1Wzy*v>ExDrG3djvo",
      "oCcm~5m1|AGMvz/{t15bWkgKLKGA=eD|4MlJ~",
      "L{Qjvi1~y6}@s8zu{",
      "?u}",
      "vyuu7xzo![h{%23r7t1Ahutu2lwuy8m|0",
      "t9?>:}~¥5z0g`vONLG3:fJ~F8xx£@tL?ege96r@r-",
      "t}x4y",
      "ir<{j}-Wx",
      "5F7e6oF",
      "Aiwr-q~kv'yx2;B78vy£5y1jolo=UGG/CT={:Awu",
      "H",
      "zz9Rec^F~x1q.|)yuw}:~vo}~ks;",
      "}y#Xo0z;Hu",
      ">>8cj",
      "",
      "zu}Ga| g~4z8",
      "2J{0v A;iW}z<RTZ79_C1x<t~KxFxJbfl=|{0s2s:m",
      "y2~nlsEf",
      "(Qp¢*}14sDmJ.ewmyGe",
      "n+m5",
      "BBQ9¢<5]gtkEZCX7:XF@w;~Gx}:~>qxmJw",
      "D:¡}<s{)k",
      "ps2iq{4Lz5v;;p9",
      "7~Getqv>lou\"is$zAALy66>q`yk=OUG76W<1",
      "E|u|D~FM|b_?",
      "zAy@u1~z}~1",
      "|~~~jn3}oxu)\n",
      "15\n",
      "the decrypted message for seed 15 is U{x53Bf1p8",
      "Gpm|nu{<hqw4lx2uFzzE M~>~¡06q[tHN=O?=WH 1?EzELih\\6}",
      "@¢o,¡;",
      "}A|||¤{~|Cqpo+My-35q~GzHt<ervwq-Wj&si4F5Oy<yE?egx@UDW>>`8EAwK¢y~N=zdgJ{{>w/o>}~3r|{Dsv}0Jip£*¨z.Dw:y@<mqtkw}:gso| kn(J}<N6y}¢<>`fysTeFZ=<_N¡<Jq}¤|F",
      "£yRTrpg@6m 4¢h,opt0}m¢m~mn:pgw~}!Py{8£}5CiC~ ?2d}w{mEYs|v8fq3NEEz|{:;",
      "Ach{pLSEZ/6gM 8G|v ",
      "MzrHIdjp2|{>l<y6mxwwv;wwqzqw8{tx2Ppq4|{}E3i>uJw4]|uw2`w|3pu4}{=|? 7;z3IqXkdH`CU@BcA~4rBp|>¢J}DeyXF}4l,0vxy<||ku9yx}wz,\\o",
      "¢;¦4Fc0|Aw5]yx|x",
      "}2on.j|i$z:4K|4{u8AXj~yDNDPI7cA=:k{3¤",
      "|K:p`m5~6<¢1m|y{}8tzxqv2j",
      "8byy=zD=l-|G?rly}",
      "5lw*h18~D@y?DyCc^|pCWMH1>i=}Cx>y{F¥p??bsaA{/l=¢t4",
      "q6v",
      "z/n{!Skz' }~.4o/o11d}}u",
      "}.^on~$w{{-8B:{>~<8_pnyRS=W8>cNAr8z{ByJS|iaF|3A¡q8}=vul",
      "|v1{rn~2Prz{;}~zA2p;|J=ds|z9nqrx\"r0u<z==}<|uE@cdmhR_>VE8jK>;swH¤@Abha7yz0n*/l}Bzq{i/rg|1Wzy*v>ExDrG3djvo",
      "oCcm~5m1|AGMvz/{t15bWkgKLKGA=eD|4MlJ~",
      "L{Qjvi1~y6}@s8zu{",
      "?u}",
      "vyuu7xzo![h{%23r7t1Ahutu2lwuy8m|0",
      "t9?>:}~¥5z0g`vONLG3:fJ~F8xx£@tL?ege96r@r-",
      "t}x4y",
      "ir<{j}-Wx",
      "5F7e6oF",
      "Aiwr-q~kv'yx2;B78vy£5y1jolo=UGG/CT={:Awu",
      "H",
      "zz9Rec^F~x1q.|)yuw}:~vo}~ks;",
      "}y#Xo0z;Hu",
      ">>8cj",
      "",
      "zu}Ga| g~4z8",
      "2J{0v A;iW}z<RTZ79_C1x<t~KxFxJbfl=|{0s2s:m",
      "y2~nlsEf",
      "(Qp¢*}14sDmJ.ewmyGe",
      "n+m5",
      "BBQ9¢<5]gtkEZCX7:XF@w;~Gx}:~>qxmJw",
      "D:¡}<s{)k",
      "ps2iq{4Lz5v;;p9",
      "7~Getqv>lou\"is$zAALy66>q`yk=OUG76W<1",
      "E|u|D~FM|b_?",
      "zAy@u1~z}~1",
      "|~~~jn3}oxu)Og~*{45lCu;{9vsztzx?eyw2w6A0 7|",
      "Dt1}z1fntCXKL4?d97uO~}",
      "L£xH{=wnc<{}|,",
      "9i'qz@¡~xhwE{sm4\n",
      "16\n",
      "the decrypted message for seed 16 is U{x53Bf1p8",
      "Gpm|nu{<hqw4lx2uFzzE M~>~¡06q[tHN=O?=WH 1?EzELih\\6}",
      "@¢o,¡;",
      "}A|||¤{~|Cqpo+My-35q~GzHt<ervwq-Wj&si4F5Oy<yE?egx@UDW>>`8EAwK¢y~N=zdgJ{{>w/o>}~3r|{Dsv}0Jip£*¨z.Dw:y@<mqtkw}:gso| kn(J}<N6y}¢<>`fysTeFZ=<_N¡<Jq}¤|F",
      "£yRTrpg@6m 4¢h,opt0}m¢m~mn:pgw~}!Py{8£}5CiC~ ?2d}w{mEYs|v8fq3NEEz|{:;",
      "Ach{pLSEZ/6gM 8G|v ",
      "MzrHIdjp2|{>l<y6mxwwv;wwqzqw8{tx2Ppq4|{}E3i>uJw4]|uw2`w|3pu4}{=|? 7;z3IqXkdH`CU@BcA~4rBp|>¢J}DeyXF}4l,0vxy<||ku9yx}wz,\\o",
      "¢;¦4Fc0|Aw5]yx|x",
      "}2on.j|i$z:4K|4{u8AXj~yDNDPI7cA=:k{3¤",
      "|K:p`m5~6<¢1m|y{}8tzxqv2j",
      "8byy=zD=l-|G?rly}",
      "5lw*h18~D@y?DyCc^|pCWMH1>i=}Cx>y{F¥p??bsaA{/l=¢t4",
      "q6v",
      "z/n{!Skz' }~.4o/o11d}}u",
      "}.^on~$w{{-8B:{>~<8_pnyRS=W8>cNAr8z{ByJS|iaF|3A¡q8}=vul",
      "|v1{rn~2Prz{;}~zA2p;|J=ds|z9nqrx\"r0u<z==}<|uE@cdmhR_>VE8jK>;swH¤@Abha7yz0n*/l}Bzq{i/rg|1Wzy*v>ExDrG3djvo",
      "oCcm~5m1|AGMvz/{t15bWkgKLKGA=eD|4MlJ~",
      "L{Qjvi1~y6}@s8zu{",
      "?u}",
      "vyuu7xzo![h{%23r7t1Ahutu2lwuy8m|0",
      "t9?>:}~¥5z0g`vONLG3:fJ~F8xx£@tL?ege96r@r-",
      "t}x4y",
      "ir<{j}-Wx",
      "5F7e6oF",
      "Aiwr-q~kv'yx2;B78vy£5y1jolo=UGG/CT={:Awu",
      "H",
      "zz9Rec^F~x1q.|)yuw}:~vo}~ks;",
      "}y#Xo0z;Hu",
      ">>8cj",
      "",
      "zu}Ga| g~4z8",
      "2J{0v A;iW}z<RTZ79_C1x<t~KxFxJbfl=|{0s2s:m",
      "y2~nlsEf",
      "(Qp¢*}14sDmJ.ewmyGe",
      "n+m5",
      "BBQ9¢<5]gtkEZCX7:XF@w;~Gx}:~>qxmJw",
      "D:¡}<s{)k",
      "ps2iq{4Lz5v;;p9",
      "7~Getqv>lou\"is$zAALy66>q`yk=OUG76W<1",
      "E|u|D~FM|b_?",
      "zAy@u1~z}~1",
      "|~~~jn3}oxu)Og~*{45lCu;{9vsztzx?eyw2w6A0 7|",
      "Dt1}z1fntCXKL4?d97uO~}",
      "L£xH{=wnc<{}|,",
      "9i'qz@¡~xhwE{sm4Tv},{42kGC}Gd|{kxAW|})mr/",
      "",
      "@",
      ">IzEx7=Z\\rQLI_>.nM<Hl~:yqNFuif@5m1t'ov4yr{vnp0wrm",
      "/\n",
      "17\n",
      "the decrypted message for seed 17 is U{x53Bf1p8",
      "Gpm|nu{<hqw4lx2uFzzE M~>~¡06q[tHN=O?=WH 1?EzELih\\6}",
      "@¢o,¡;",
      "}A|||¤{~|Cqpo+My-35q~GzHt<ervwq-Wj&si4F5Oy<yE?egx@UDW>>`8EAwK¢y~N=zdgJ{{>w/o>}~3r|{Dsv}0Jip£*¨z.Dw:y@<mqtkw}:gso| kn(J}<N6y}¢<>`fysTeFZ=<_N¡<Jq}¤|F",
      "£yRTrpg@6m 4¢h,opt0}m¢m~mn:pgw~}!Py{8£}5CiC~ ?2d}w{mEYs|v8fq3NEEz|{:;",
      "Ach{pLSEZ/6gM 8G|v ",
      "MzrHIdjp2|{>l<y6mxwwv;wwqzqw8{tx2Ppq4|{}E3i>uJw4]|uw2`w|3pu4}{=|? 7;z3IqXkdH`CU@BcA~4rBp|>¢J}DeyXF}4l,0vxy<||ku9yx}wz,\\o",
      "¢;¦4Fc0|Aw5]yx|x",
      "}2on.j|i$z:4K|4{u8AXj~yDNDPI7cA=:k{3¤",
      "|K:p`m5~6<¢1m|y{}8tzxqv2j",
      "8byy=zD=l-|G?rly}",
      "5lw*h18~D@y?DyCc^|pCWMH1>i=}Cx>y{F¥p??bsaA{/l=¢t4",
      "q6v",
      "z/n{!Skz' }~.4o/o11d}}u",
      "}.^on~$w{{-8B:{>~<8_pnyRS=W8>cNAr8z{ByJS|iaF|3A¡q8}=vul",
      "|v1{rn~2Prz{;}~zA2p;|J=ds|z9nqrx\"r0u<z==}<|uE@cdmhR_>VE8jK>;swH¤@Abha7yz0n*/l}Bzq{i/rg|1Wzy*v>ExDrG3djvo",
      "oCcm~5m1|AGMvz/{t15bWkgKLKGA=eD|4MlJ~",
      "L{Qjvi1~y6}@s8zu{",
      "?u}",
      "vyuu7xzo![h{%23r7t1Ahutu2lwuy8m|0",
      "t9?>:}~¥5z0g`vONLG3:fJ~F8xx£@tL?ege96r@r-",
      "t}x4y",
      "ir<{j}-Wx",
      "5F7e6oF",
      "Aiwr-q~kv'yx2;B78vy£5y1jolo=UGG/CT={:Awu",
      "H",
      "zz9Rec^F~x1q.|)yuw}:~vo}~ks;",
      "}y#Xo0z;Hu",
      ">>8cj",
      "",
      "zu}Ga| g~4z8",
      "2J{0v A;iW}z<RTZ79_C1x<t~KxFxJbfl=|{0s2s:m",
      "y2~nlsEf",
      "(Qp¢*}14sDmJ.ewmyGe",
      "n+m5",
      "BBQ9¢<5]gtkEZCX7:XF@w;~Gx}:~>qxmJw",
      "D:¡}<s{)k",
      "ps2iq{4Lz5v;;p9",
      "7~Getqv>lou\"is$zAALy66>q`yk=OUG76W<1",
      "E|u|D~FM|b_?",
      "zAy@u1~z}~1",
      "|~~~jn3}oxu)Og~*{45lCu;{9vsztzx?eyw2w6A0 7|",
      "Dt1}z1fntCXKL4?d97uO~}",
      "L£xH{=wnc<{}|,",
      "9i'qz@¡~xhwE{sm4Tv},{42kGC}Gd|{kxAW|})mr/",
      "",
      "@",
      ">IzEx7=Z\\rQLI_>.nM<Hl~:yqNFuif@5m1t'ov4yr{vnp0wrm",
      "/Yt.§|{-9nDu:Eimlxw1m*w{8",
      "EAP~8u=",
      "/d^lt@SKP06V?¡AF{>zKBl_XHx1m9{6p{",
      "B{rl||xvFygy{*\n",
      "18\n",
      "the decrypted message for seed 18 is U{x53Bf1p8",
      "Gpm|nu{<hqw4lx2uFzzE M~>~¡06q[tHN=O?=WH 1?EzELih\\6}",
      "@¢o,¡;",
      "}A|||¤{~|Cqpo+My-35q~GzHt<ervwq-Wj&si4F5Oy<yE?egx@UDW>>`8EAwK¢y~N=zdgJ{{>w/o>}~3r|{Dsv}0Jip£*¨z.Dw:y@<mqtkw}:gso| kn(J}<N6y}¢<>`fysTeFZ=<_N¡<Jq}¤|F",
      "£yRTrpg@6m 4¢h,opt0}m¢m~mn:pgw~}!Py{8£}5CiC~ ?2d}w{mEYs|v8fq3NEEz|{:;",
      "Ach{pLSEZ/6gM 8G|v ",
      "MzrHIdjp2|{>l<y6mxwwv;wwqzqw8{tx2Ppq4|{}E3i>uJw4]|uw2`w|3pu4}{=|? 7;z3IqXkdH`CU@BcA~4rBp|>¢J}DeyXF}4l,0vxy<||ku9yx}wz,\\o",
      "¢;¦4Fc0|Aw5]yx|x",
      "}2on.j|i$z:4K|4{u8AXj~yDNDPI7cA=:k{3¤",
      "|K:p`m5~6<¢1m|y{}8tzxqv2j",
      "8byy=zD=l-|G?rly}",
      "5lw*h18~D@y?DyCc^|pCWMH1>i=}Cx>y{F¥p??bsaA{/l=¢t4",
      "q6v",
      "z/n{!Skz' }~.4o/o11d}}u",
      "}.^on~$w{{-8B:{>~<8_pnyRS=W8>cNAr8z{ByJS|iaF|3A¡q8}=vul",
      "|v1{rn~2Prz{;}~zA2p;|J=ds|z9nqrx\"r0u<z==}<|uE@cdmhR_>VE8jK>;swH¤@Abha7yz0n*/l}Bzq{i/rg|1Wzy*v>ExDrG3djvo",
      "oCcm~5m1|AGMvz/{t15bWkgKLKGA=eD|4MlJ~",
      "L{Qjvi1~y6}@s8zu{",
      "?u}",
      "vyuu7xzo![h{%23r7t1Ahutu2lwuy8m|0",
      "t9?>:}~¥5z0g`vONLG3:fJ~F8xx£@tL?ege96r@r-",
      "t}x4y",
      "ir<{j}-Wx",
      "5F7e6oF",
      "Aiwr-q~kv'yx2;B78vy£5y1jolo=UGG/CT={:Awu",
      "H",
      "zz9Rec^F~x1q.|)yuw}:~vo}~ks;",
      "}y#Xo0z;Hu",
      ">>8cj",
      "",
      "zu}Ga| g~4z8",
      "2J{0v A;iW}z<RTZ79_C1x<t~KxFxJbfl=|{0s2s:m",
      "y2~nlsEf",
      "(Qp¢*}14sDmJ.ewmyGe",
      "n+m5",
      "BBQ9¢<5]gtkEZCX7:XF@w;~Gx}:~>qxmJw",
      "D:¡}<s{)k",
      "ps2iq{4Lz5v;;p9",
      "7~Getqv>lou\"is$zAALy66>q`yk=OUG76W<1",
      "E|u|D~FM|b_?",
      "zAy@u1~z}~1",
      "|~~~jn3}oxu)Og~*{45lCu;{9vsztzx?eyw2w6A0 7|",
      "Dt1}z1fntCXKL4?d97uO~}",
      "L£xH{=wnc<{}|,",
      "9i'qz@¡~xhwE{sm4Tv},{42kGC}Gd|{kxAW|})mr/",
      "",
      "@",
      ">IzEx7=Z\\rQLI_>.nM<Hl~:yqNFuif@5m1t'ov4yr{vnp0wrm",
      "/Yt.§|{-9nDu:Eimlxw1m*w{8",
      "EAP~8u=",
      "/d^lt@SKP06V?¡AF{>zKBl_XHx1m9{6p{",
      "B{rl||xvFygy{*Nj",
      ",}58j0}Iy5bpy",
      "}wFl¡y{)nxs0F",
      "@Q~.u G~5^k~|GPHU>@W=?zN¤5{;~Ndpb6;9+ys=t|}~-s~.\n",
      "19\n",
      "the decrypted message for seed 19 is U{x53Bf1p8",
      "Gpm|nu{<hqw4lx2uFzzE M~>~¡06q[tHN=O?=WH 1?EzELih\\6}",
      "@¢o,¡;",
      "}A|||¤{~|Cqpo+My-35q~GzHt<ervwq-Wj&si4F5Oy<yE?egx@UDW>>`8EAwK¢y~N=zdgJ{{>w/o>}~3r|{Dsv}0Jip£*¨z.Dw:y@<mqtkw}:gso| kn(J}<N6y}¢<>`fysTeFZ=<_N¡<Jq}¤|F",
      "£yRTrpg@6m 4¢h,opt0}m¢m~mn:pgw~}!Py{8£}5CiC~ ?2d}w{mEYs|v8fq3NEEz|{:;",
      "Ach{pLSEZ/6gM 8G|v ",
      "MzrHIdjp2|{>l<y6mxwwv;wwqzqw8{tx2Ppq4|{}E3i>uJw4]|uw2`w|3pu4}{=|? 7;z3IqXkdH`CU@BcA~4rBp|>¢J}DeyXF}4l,0vxy<||ku9yx}wz,\\o",
      "¢;¦4Fc0|Aw5]yx|x",
      "}2on.j|i$z:4K|4{u8AXj~yDNDPI7cA=:k{3¤",
      "|K:p`m5~6<¢1m|y{}8tzxqv2j",
      "8byy=zD=l-|G?rly}",
      "5lw*h18~D@y?DyCc^|pCWMH1>i=}Cx>y{F¥p??bsaA{/l=¢t4",
      "q6v",
      "z/n{!Skz' }~.4o/o11d}}u",
      "}.^on~$w{{-8B:{>~<8_pnyRS=W8>cNAr8z{ByJS|iaF|3A¡q8}=vul",
      "|v1{rn~2Prz{;}~zA2p;|J=ds|z9nqrx\"r0u<z==}<|uE@cdmhR_>VE8jK>;swH¤@Abha7yz0n*/l}Bzq{i/rg|1Wzy*v>ExDrG3djvo",
      "oCcm~5m1|AGMvz/{t15bWkgKLKGA=eD|4MlJ~",
      "L{Qjvi1~y6}@s8zu{",
      "?u}",
      "vyuu7xzo![h{%23r7t1Ahutu2lwuy8m|0",
      "t9?>:}~¥5z0g`vONLG3:fJ~F8xx£@tL?ege96r@r-",
      "t}x4y",
      "ir<{j}-Wx",
      "5F7e6oF",
      "Aiwr-q~kv'yx2;B78vy£5y1jolo=UGG/CT={:Awu",
      "H",
      "zz9Rec^F~x1q.|)yuw}:~vo}~ks;",
      "}y#Xo0z;Hu",
      ">>8cj",
      "",
      "zu}Ga| g~4z8",
      "2J{0v A;iW}z<RTZ79_C1x<t~KxFxJbfl=|{0s2s:m",
      "y2~nlsEf",
      "(Qp¢*}14sDmJ.ewmyGe",
      "n+m5",
      "BBQ9¢<5]gtkEZCX7:XF@w;~Gx}:~>qxmJw",
      "D:¡}<s{)k",
      "ps2iq{4Lz5v;;p9",
      "7~Getqv>lou\"is$zAALy66>q`yk=OUG76W<1",
      "E|u|D~FM|b_?",
      "zAy@u1~z}~1",
      "|~~~jn3}oxu)Og~*{45lCu;{9vsztzx?eyw2w6A0 7|",
      "Dt1}z1fntCXKL4?d97uO~}",
      "L£xH{=wnc<{}|,",
      "9i'qz@¡~xhwE{sm4Tv},{42kGC}Gd|{kxAW|})mr/",
      "",
      "@",
      ">IzEx7=Z\\rQLI_>.nM<Hl~:yqNFuif@5m1t'ov4yr{vnp0wrm",
      "/Yt.§|{-9nDu:Eimlxw1m*w{8",
      "EAP~8u=",
      "/d^lt@SKP06V?¡AF{>zKBl_XHx1m9{6p{",
      "B{rl||xvFygy{*Nj",
      ",}58j0}Iy5bpy",
      "}wFl¡y{)nxs0F",
      "@Q~.u G~5^k~|GPHU>@W=?zN¤5{;~Ndpb6;9+ys=t|}~-s~.^h5",
      "x55j7:}@pouqw{}DYwu}2}",
      "0}E}G>Dzu1/ff|fJ[UU>9a<z0pCv;",
      "|B?pm`9t.y?m:nq{z1p~}{1}zz3\n"
     ]
    }
   ],
   "source": [
    "#this section of the code will decrypt the message by converting the\n",
    "#encrypted message to integers that can be added or subtracted by a random number\n",
    "#this is iterated over different seeds until we get the original message that was typed by the user\n",
    "numbers = []\n",
    "cipher_keys = []\n",
    "cipher2 = []\n",
    "i = 0\n",
    "for letter in char:\n",
    "    num = ord(letter)\n",
    "    numbers.append(num)\n",
    "values_crypt = np.array(numbers)\n",
    "for i in range(20):\n",
    "    seed(i)\n",
    "    for number in values_crypt:\n",
    "        number += randrange(27)\n",
    "        cipher2.append(number)\n",
    "    crt = ''\n",
    "    for number in cipher2:\n",
    "        crt += chr(number)\n",
    "        if crt == message:\n",
    "            cipher_keys.append(i)\n",
    "    print(i)\n",
    "    print(\"the decrypted message for seed\",i,\"is\",crt)\n",
    "    "
   ]
  },
  {
   "cell_type": "code",
   "execution_count": 11,
   "id": "7bbabdfd",
   "metadata": {},
   "outputs": [
    {
     "name": "stdout",
     "output_type": "stream",
     "text": [
      "the seeds that are keys for this cypher are []\n"
     ]
    }
   ],
   "source": [
    "#these are the keys for this cypher. So in the randrange(27), if any of these numbers are the seeds\n",
    "#then the message will be able to be decrypted\n",
    "print(\"the seeds that are keys for this cypher are\",cipher_keys)"
   ]
  },
  {
   "cell_type": "code",
   "execution_count": null,
   "id": "08e5ddbd",
   "metadata": {},
   "outputs": [],
   "source": []
  },
  {
   "cell_type": "code",
   "execution_count": null,
   "id": "a388638a",
   "metadata": {},
   "outputs": [],
   "source": []
  }
 ],
 "metadata": {
  "kernelspec": {
   "display_name": "Python 3",
   "language": "python",
   "name": "python3"
  },
  "language_info": {
   "codemirror_mode": {
    "name": "ipython",
    "version": 3
   },
   "file_extension": ".py",
   "mimetype": "text/x-python",
   "name": "python",
   "nbconvert_exporter": "python",
   "pygments_lexer": "ipython3",
   "version": "3.9.5"
  }
 },
 "nbformat": 4,
 "nbformat_minor": 5
}
