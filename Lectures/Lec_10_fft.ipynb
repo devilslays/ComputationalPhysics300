{
 "cells": [
  {
   "cell_type": "markdown",
   "metadata": {
    "collapsed": true
   },
   "source": [
    "# Physics 300 \n",
    "## Computational Physics I (Fall 2017)\n",
    "## BPB-248, Tues/Thurs 10:00 - 11:15 am \n",
    "\n",
    "|Instructor| Prof. Qiang Zhu|\n",
    "|--|-------------------------------|\n",
    "|Email | qiang.zhu@unlv.edu|\n",
    "|Website|http://www.physics.unlv.edu/~qzhu/|\n",
    "|Office| BPB 232|\n",
    "|Office hours | Tues/Thurs 8:30 - 10:00 |"
   ]
  },
  {
   "cell_type": "markdown",
   "metadata": {
    "collapsed": true
   },
   "source": [
    "# 10 Fast Fourier transform\n"
   ]
  },
  {
   "cell_type": "markdown",
   "metadata": {},
   "source": [
    "We have learned how to perform Fourier transform\n",
    "$$c_k = \\sum_{n=0}^{N-1}y_n\\exp(-i\\frac{2\\pi kn}{L})$$\n",
    "\n",
    "In order to implement the function, we used a for loop to add up the terms in the sum,\n",
    "and the whole calculation is repeated for each of the $N$ distinct coefficients.\n",
    "This gives about $N^2$ times for the entire calculation.\n",
    "\n",
    "This complexity is not bad if we only deal with a few hundreads samples. However, we will always calculated \n",
    "mum larger numbers. $O(N^2)$ is not really efficient. "
   ]
  },
  {
   "cell_type": "code",
   "execution_count": 1,
   "metadata": {},
   "outputs": [],
   "source": [
    "import numpy as np\n",
    "def dft1(y):\n",
    "    '''\n",
    "    This is a code to do decrete Fourier transform\n",
    "    '''    \n",
    "    N = len(y)\n",
    "    c = np.zeros(N, complex)\n",
    "    for k in range(N):\n",
    "        for n in range(N):\n",
    "            c[k] += y[n]*np.exp(-2j*np.pi*k*n/N)\n",
    "    return c"
   ]
  },
  {
   "cell_type": "code",
   "execution_count": 2,
   "metadata": {},
   "outputs": [
    {
     "name": "stdout",
     "output_type": "stream",
     "text": [
      "392 µs ± 37.2 µs per loop (mean ± std. dev. of 7 runs, 1000 loops each)\n",
      "36.6 ms ± 2.13 ms per loop (mean ± std. dev. of 7 runs, 10 loops each)\n",
      "148 ms ± 7.32 ms per loop (mean ± std. dev. of 7 runs, 10 loops each)\n",
      "884 ms ± 3.34 ms per loop (mean ± std. dev. of 7 runs, 1 loop each)\n",
      "3.81 s ± 153 ms per loop (mean ± std. dev. of 7 runs, 1 loop each)\n",
      "15.8 s ± 1.21 s per loop (mean ± std. dev. of 7 runs, 1 loop each)\n"
     ]
    }
   ],
   "source": [
    "%timeit dft1(np.random.random(10))\n",
    "%timeit dft1(np.random.random(100))\n",
    "%timeit dft1(np.random.random(200))\n",
    "%timeit dft1(np.random.random(500))\n",
    "%timeit dft1(np.random.random(1000))\n",
    "%timeit dft1(np.random.random(2000))"
   ]
  },
  {
   "cell_type": "markdown",
   "metadata": {},
   "source": [
    "## 10.1 how to speed up the calculation?\n",
    "\n",
    "As we have learned in python, the most important trick is to decrease the number of loops as much as possible.\n",
    "By looking at the code, it looks like we could use the matrix calculation to replace the 2nd loop when calculating \n",
    "$c_k$. The is so called _vectroization_, which is very important when we are programming with high level language\n",
    "like python and matlab."
   ]
  },
  {
   "cell_type": "code",
   "execution_count": 3,
   "metadata": {},
   "outputs": [
    {
     "name": "stdout",
     "output_type": "stream",
     "text": [
      "True\n"
     ]
    }
   ],
   "source": [
    "def dft2(y):\n",
    "    '''\n",
    "    This is a improved code to do DFT\n",
    "    '''\n",
    "    x = np.asarray(y, dtype=float)        #N*1 array\n",
    "    N = y.shape[0]\n",
    "    n = np.arange(N)                      #1*N array\n",
    "    k = n.reshape((N, 1))                 #N*1 array\n",
    "    M = np.exp(-2j * np.pi * k * n / N)   #N*N matrix\n",
    "    return np.dot(M, x)                   #N*1 array   N*N dot N*1.   N*1\n",
    "\n",
    "# check if our results agree with the previous code\n",
    "x = np.random.random(1024)\n",
    "print(np.allclose(dft1(x), dft2(x)))"
   ]
  },
  {
   "cell_type": "code",
   "execution_count": 4,
   "metadata": {},
   "outputs": [
    {
     "name": "stdout",
     "output_type": "stream",
     "text": [
      "17.3 µs ± 121 ns per loop (mean ± std. dev. of 7 runs, 100000 loops each)\n",
      "290 µs ± 2.53 µs per loop (mean ± std. dev. of 7 runs, 1000 loops each)\n",
      "1.08 ms ± 7.81 µs per loop (mean ± std. dev. of 7 runs, 1000 loops each)\n",
      "7.03 ms ± 13.8 µs per loop (mean ± std. dev. of 7 runs, 100 loops each)\n",
      "30.2 ms ± 1.1 ms per loop (mean ± std. dev. of 7 runs, 10 loops each)\n",
      "130 ms ± 4.86 ms per loop (mean ± std. dev. of 7 runs, 10 loops each)\n"
     ]
    }
   ],
   "source": [
    "%timeit dft2(np.random.random(10))\n",
    "%timeit dft2(np.random.random(100))\n",
    "%timeit dft2(np.random.random(200))\n",
    "%timeit dft2(np.random.random(500))\n",
    "%timeit dft2(np.random.random(1000))\n",
    "%timeit dft2(np.random.random(2000))"
   ]
  },
  {
   "cell_type": "markdown",
   "metadata": {},
   "source": [
    "Indeed, we immediately find that the new code gets much faster than the first version! \n",
    "However, it is still important to know that we might need to deal with 1000000 data and even more. There is a need to improve the code from the fundamental algorithmic aspect. Luckily it turns out that there is a clever trick for calculating DFT much faster. This trick is called `fast Fourier transform (FFT)`, which was originally proposed by Gauss in 1805, and pratically implemented by Cooley and Turkey in 1965."
   ]
  },
  {
   "cell_type": "markdown",
   "metadata": {},
   "source": [
    "# 10.2 Fast Fourier transformation\n",
    "Cooley and Tukey showed that it's possible to divide the DFT computation into two smaller parts. \n",
    "\n",
    "From the definition of the DFT we have:\n",
    "\n",
    "$$\\begin{aligned} \n",
    "c_{k} & = \\sum_{n=0}^{N-1} y_n \\cdot \\exp(-i \\frac{2\\pi kn}{N}) \\\\\n",
    "      & = \\sum_{m=0}^{N/2-1} y_{2m} \\cdot \\exp(-i 2\\pi k \\frac{2m}{N}) +  \\sum_{m=0}^{N/2-1} y_{2m+1} \\exp(-i 2\\pi k\\frac{2m+1}{N}) \\\\\n",
    "      & = \\sum_{m=0}^{N/2-1} y_{2m} \\cdot \\exp(-i 2\\pi k \\frac{m}{N/2}) + \\exp(-i 2\\pi k/N) \\sum_{m=0}^{N/2-1} y_{2m+1} \\exp(-i 2\\pi k \\frac{m}{N/2})\n",
    "\\end{aligned}$$\n",
    "\n",
    "Here we split the single DFT into two terms which look very similar to smaller DFT. \n",
    "- $A(O, N/2)$, one on the odd numbered values\n",
    "- $A(E, N/2)$, another on the even numbered values\n",
    "\n",
    "This doesn't save any cycles, we still need to run $N*N$ cycles.\n",
    "However, it is now clear that any $c_k$ can be expressed as the summation of $A(E, N/2) + \\exp(-i 2\\pi k/N)A(O, N/2)$. Therefore, as long as we know $A(E, N/2)$ and $A(O, N/2)$, only $N$ operation is needed.\n",
    "\n",
    "If we do it iteratively, as long as our smaller Fourier transforms have an even-valued number. \n",
    "If $N$=8, we can split into 4, and then 2 and 1. In each cycle, only 8 operations are needed. So the total number of operations is 3\\*8 = 24 \n",
    "In the asymptotic limit, this recursive approach scales as O[$N$log$N$]."
   ]
  },
  {
   "cell_type": "code",
   "execution_count": 5,
   "metadata": {},
   "outputs": [
    {
     "name": "stdout",
     "output_type": "stream",
     "text": [
      "True\n"
     ]
    }
   ],
   "source": [
    "#This recursive algorithm can be implemented very quickly in Python, \n",
    "#we will call the previous dft until it comes to small numbers:\n",
    "\n",
    "def fft1(x):\n",
    "    '''\n",
    "    A recursive implementation of the 1D Cooley-Tukey FFT    \n",
    "    '''\n",
    "    x = np.asarray(x, dtype=float)\n",
    "    N = x.shape[0]\n",
    "    \n",
    "    if N % 2 > 0:\n",
    "        raise ValueError(\"size of x must be a power of 2\")\n",
    "    elif N <= 16:  # this cutoff should be optimized\n",
    "        return dft2(x)\n",
    "    else:\n",
    "        X_even = fft1(x[::2])\n",
    "        X_odd = fft1(x[1::2])\n",
    "        factor = np.exp(-2j * np.pi * np.arange(N) / N)\n",
    "        return np.concatenate([X_even + factor[:int(N/2)] * X_odd,\n",
    "                               X_even + factor[int(N/2):] * X_odd])\n",
    "\n",
    "x = np.random.random(1024)    \n",
    "print(np.allclose(fft1(x), np.fft.fft(x)))\n"
   ]
  },
  {
   "cell_type": "code",
   "execution_count": 6,
   "metadata": {},
   "outputs": [
    {
     "name": "stdout",
     "output_type": "stream",
     "text": [
      "15.9 s ± 623 ms per loop (mean ± std. dev. of 7 runs, 1 loop each)\n",
      "135 ms ± 6.26 ms per loop (mean ± std. dev. of 7 runs, 10 loops each)\n",
      "4.69 ms ± 192 µs per loop (mean ± std. dev. of 7 runs, 100 loops each)\n",
      "27.2 µs ± 717 ns per loop (mean ± std. dev. of 7 runs, 10000 loops each)\n"
     ]
    }
   ],
   "source": [
    "#Let's call timeit function to check the speed\n",
    "x = np.random.random(2048)\n",
    "\n",
    "%timeit dft1(x)\n",
    "%timeit dft2(x)\n",
    "%timeit fft1(x)\n",
    "%timeit np.fft.fft(x)"
   ]
  },
  {
   "cell_type": "markdown",
   "metadata": {},
   "source": [
    "Now, our fft1 runs much faster than dft2 for large number.\n",
    "As expected, we still haven't come close to the speed of the built-in FFT algorithm in numpy. \n",
    "The FFT algorithm behind numpy's fft is a Fortran implementation which has received years of tweaks and optimizations. Furthermore, our NumPy solution involves both Python-stack recursions and the allocation of many temporary arrays, which adds significant computation time."
   ]
  },
  {
   "cell_type": "markdown",
   "metadata": {},
   "source": [
    "## 10.4 Homework\n",
    "Choose a particular application and perform fft analysis, and illustrate how fft helps."
   ]
  },
  {
   "cell_type": "markdown",
   "metadata": {},
   "source": [
    "## 10.5 Acknowledgement\n",
    "The lecture note was partially inspired by https://jakevdp.github.io/blog/2013/08/28/understanding-the-fft/"
   ]
  }
 ],
 "metadata": {
  "@webio": {
   "lastCommId": null,
   "lastKernelId": null
  },
  "kernelspec": {
   "display_name": "Python 3",
   "language": "python",
   "name": "python3"
  },
  "language_info": {
   "codemirror_mode": {
    "name": "ipython",
    "version": 3
   },
   "file_extension": ".py",
   "mimetype": "text/x-python",
   "name": "python",
   "nbconvert_exporter": "python",
   "pygments_lexer": "ipython3",
   "version": "3.7.4"
  }
 },
 "nbformat": 4,
 "nbformat_minor": 2
}
