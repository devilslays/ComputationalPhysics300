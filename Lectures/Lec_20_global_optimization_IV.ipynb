{
 "cells": [
  {
   "cell_type": "markdown",
   "metadata": {},
   "source": [
    "# Physics 300 \n",
    "## Computational Physics I (Fall 2018)\n",
    "## BPB-248, Mon/Wed 02:30 - 03:45 pm \n",
    "\n",
    "|Instructor| Prof. Qiang Zhu|\n",
    "|--|-------------------------------|\n",
    "|Email | qiang.zhu@unlv.edu|\n",
    "|Website|http://www.physics.unlv.edu/~qzhu/|\n",
    "|Office| BPB 232|\n",
    "|Office hours | Mon/Wed 03:45 - 05:00 pm |"
   ]
  },
  {
   "cell_type": "markdown",
   "metadata": {},
   "source": [
    "# 20 Global Optmization (III)\n",
    "\n",
    "## 20.1 Genetic Algorithm\n",
    "\n",
    "A genetic algorithm is a search heuristic that is inspired by Charles Darwin’s theory of natural evolution. This algorithm reflects the process of natural selection where the fittest individuals are selected for reproduction in order to produce offspring of the next generation.\n",
    "\n",
    "- 1, Initialization\n",
    "- 2, Selection\n",
    "- 3, Genetic operators (crossover/mutation)\n",
    "- 4, Termination\n",
    "\n",
    "\n",
    "## 20.2 Application to LJ clusters\n",
    "\n",
    "\n",
    "### Cambridge cluster database\n",
    "\n",
    "Global optimization of LJ clusters has been one of the most interesting subject in computational physics/chemistry community. It has become a gold standard test bed when people wants to propose a new method.\n",
    "\n",
    "Below is link to those reported geometry and energy values collected by Wales's group in Cambridge.\n",
    "\n",
    "- [N = 1-150](http://doye.chem.ox.ac.uk/jon/structures/LJ/tables.150.html)\n",
    "- [N = 310-561](http://doye.chem.ox.ac.uk/jon/structures/LJ/LJ310-561.html) "
   ]
  },
  {
   "cell_type": "code",
   "execution_count": 1,
   "metadata": {},
   "outputs": [],
   "source": [
    "from scipy.optimize import minimize\n",
    "import numpy as np\n",
    "from random import sample\n",
    "from numba import jit\n",
    "from time import time\n",
    "\n",
    "@jit\n",
    "def LJ(r):\n",
    "    r6 = r**6\n",
    "    r12 = r6*r6\n",
    "    return 4*(1/r12 - 1/r6)\n",
    "\n",
    "@jit\n",
    "def total_energy(points): #points is a 3*N array of all the atoms involved\n",
    "    total = 0\n",
    "    num_atoms = int(len(points)/3)\n",
    "    \n",
    "    for i in range(num_atoms - 1):\n",
    "        for j in range(i+1, num_atoms):\n",
    "            pos1 = points[i*3 : (i+1)*3]\n",
    "            pos2 = points[j*3 : (j+1)*3]\n",
    "            \n",
    "            r = np.linalg.norm(pos1-pos2)\n",
    "            \n",
    "            total += LJ(r)\n",
    "    return total\n",
    "\n",
    "@jit\n",
    "def gradient(pos):\n",
    "    \"\"\"\n",
    "    Calculate and return the Jacobian for minimizing\n",
    "    the Lennard-Jones potential between N atoms.\n",
    "    Input:\n",
    "        positions: 3*N 1-D array of x,y,z positions of each atom\n",
    "    Output:\n",
    "        3*N 1-D array of the Jacobian elements for N atoms.\n",
    "    \"\"\"\n",
    "    N = int(len(pos)/3)\n",
    "    J = np.zeros([N, 3]) \n",
    "    \n",
    "    for i in range(N-1):\n",
    "        center = pos[3*i:(3*i)+3]\n",
    "        for j in range(i+1, N):\n",
    "            neighbor = pos[3*j:(3*j)+3] \n",
    "            r = np.linalg.norm(center - neighbor)\n",
    "            J[i] += (24/r**7 - 48/r**13)*(center - neighbor)/r\n",
    "    \n",
    "    return J.flatten()\n",
    "            \n",
    "def init_pos(N, L=5):\n",
    "    return L*np.random.random_sample((N*3,))\n",
    "\n",
    "def init_population(population_size, N_atom):\n",
    "    cluster = []\n",
    "    for i in range(population_size):\n",
    "        cluster.append(init_pos(N_atom))\n",
    "    return np.array(cluster)\n",
    "\n",
    "def local_optimize(cluster):\n",
    "    fitness = []\n",
    "    for i, cluster0 in enumerate(cluster):\n",
    "        res = minimize(total_energy, cluster0, method='Powell', tol=1e-4, options={'maxiter':20}) #opt w/o gradient\n",
    "        res = minimize(total_energy, res.x, method='CG', jac=gradient, tol=1e-4) #analytical gradient\n",
    "        #res = minimize(total_energy, cluster0, method='CG', tol=1e-3) \n",
    "        cluster0 = res.x\n",
    "        fitness.append(res.fun)\n",
    "    return cluster, np.array(fitness)\n",
    "\n",
    "def selTournament(fitness, factor=0.35):\n",
    "    \"\"\"\n",
    "    Select the best individual among *tournsize* randomly chosen\n",
    "    individuals, *k* times. The list returned contains\n",
    "    references to the input *individuals*.\n",
    "    \"\"\"\n",
    "    IDs = sample(set(range(len(fitness))), int(len(fitness)*factor))\n",
    "    min_fit = np.argmin(fitness[IDs])\n",
    "    return IDs[min_fit]\n",
    "\n",
    "def ranking(fitness):\n",
    "    return np.argsort(fitness)\n",
    "\n",
    "def mutation(cluster, fitness, kT=0.5):\n",
    "    \"\"\"\n",
    "    Select a structure and perturb it\n",
    "    \"\"\"\n",
    "    id = selTournament(fitness)\n",
    "    cluster0 = cluster[id]\n",
    "    disp = np.random.random_sample((len(cluster0),))-0.5\n",
    "                                   \n",
    "    return cluster0 + kT*disp\n",
    "\n",
    "def crossover(cluster, fitness):\n",
    "    \"\"\"\n",
    "    Select two structures and do sort of *crossover*\n",
    "    \"\"\"\n",
    "    id1 = selTournament(fitness)\n",
    "    while True:\n",
    "        id2 = selTournament(fitness)\n",
    "        if id2 != id1:\n",
    "            break\n",
    "    frac = np.random.random()\n",
    "    #todo: center the cluster, and then xA+(1-x)B \n",
    "    return cluster[id1]*frac + cluster[id2]*(1-frac)\n",
    "\n",
    "def GA(N=10, gen=10, pop=10, ratio=0.7):\n",
    "    \"\"\"\n",
    "    The main GA code,\n",
    "    \n",
    "    Args:\n",
    "        - N: number of atoms\n",
    "        - gen: number of generations\n",
    "        - pop: number of populations\n",
    "        - ratio: ratio of crossover\n",
    "    \"\"\"\n",
    "    for i in range(gen):\n",
    "        t0 = time()\n",
    "        if i == 0:\n",
    "            cluster = init_population(pop, N)\n",
    "            \n",
    "        cluster, fitness = local_optimize(cluster)\n",
    "        #print(fitness)\n",
    "        print('best fitness in generation ', i, ':  ', min(fitness), ' time:', time()-t0)\n",
    "        \n",
    "        #rank = ranking(fitness)\n",
    "        #selecton process\n",
    "        new_cluster = []\n",
    "        for j in range(pop):\n",
    "            if j < int(ratio*pop):\n",
    "                new_cluster.append(crossover(cluster, fitness))\n",
    "            else:\n",
    "                new_cluster.append(mutation(cluster, fitness))\n",
    "        cluster = new_cluster\n",
    "        \n",
    "#LJ13: -44.326801\n",
    "#LJ30: -128.286571"
   ]
  },
  {
   "cell_type": "code",
   "execution_count": 2,
   "metadata": {},
   "outputs": [
    {
     "name": "stdout",
     "output_type": "stream",
     "text": [
      "best fitness in generation  0 :   -39.69967312753056  time: 7.002310037612915\n",
      "best fitness in generation  1 :   -40.26776965313317  time: 4.991734981536865\n",
      "best fitness in generation  2 :   -41.390650916223905  time: 4.789714097976685\n",
      "best fitness in generation  3 :   -39.529817334460105  time: 4.7848780155181885\n",
      "best fitness in generation  4 :   -40.5951853301321  time: 4.587069034576416\n",
      "best fitness in generation  5 :   -41.44318838437253  time: 4.528568744659424\n",
      "best fitness in generation  6 :   -41.47102798937094  time: 4.581162929534912\n",
      "best fitness in generation  7 :   -41.4710071563527  time: 4.735446214675903\n",
      "best fitness in generation  8 :   -44.32445212441919  time: 4.643539905548096\n",
      "best fitness in generation  9 :   -41.44416167041823  time: 4.78840708732605\n"
     ]
    }
   ],
   "source": [
    "GA(13, 10, 10) "
   ]
  },
  {
   "cell_type": "code",
   "execution_count": 3,
   "metadata": {},
   "outputs": [
    {
     "name": "stdout",
     "output_type": "stream",
     "text": [
      "best fitness in generation  0 :   -39.47361072028621  time: 10.063167095184326\n",
      "best fitness in generation  1 :   -40.69852936844493  time: 10.100061893463135\n",
      "best fitness in generation  2 :   -39.81281506507173  time: 9.762456178665161\n",
      "best fitness in generation  3 :   -39.920035844010634  time: 9.974546909332275\n",
      "best fitness in generation  4 :   -40.95689011048416  time: 9.379140853881836\n",
      "best fitness in generation  5 :   -39.38399091228575  time: 9.856512069702148\n",
      "best fitness in generation  6 :   -39.812267294363195  time: 9.635923862457275\n",
      "best fitness in generation  7 :   -39.68762627752801  time: 9.727127075195312\n",
      "best fitness in generation  8 :   -40.39915478626404  time: 10.0072340965271\n",
      "best fitness in generation  9 :   -40.668688515101756  time: 9.571397066116333\n"
     ]
    }
   ],
   "source": [
    "GA(13, 10, 20)"
   ]
  },
  {
   "cell_type": "code",
   "execution_count": 4,
   "metadata": {},
   "outputs": [
    {
     "name": "stdout",
     "output_type": "stream",
     "text": [
      "best fitness in generation  0 :   -39.58591054304635  time: 10.050824165344238\n",
      "best fitness in generation  1 :   -44.32553713961365  time: 9.802794218063354\n",
      "best fitness in generation  2 :   -44.32575454690882  time: 9.571438074111938\n",
      "best fitness in generation  3 :   -41.47116494632379  time: 9.26037311553955\n",
      "best fitness in generation  4 :   -41.46767438247953  time: 9.76556921005249\n",
      "best fitness in generation  5 :   -41.46730391657661  time: 9.932004928588867\n",
      "best fitness in generation  6 :   -41.47074735794931  time: 9.8695809841156\n",
      "best fitness in generation  7 :   -41.467330892669096  time: 9.995826959609985\n",
      "best fitness in generation  8 :   -41.46733611576265  time: 9.856336116790771\n",
      "best fitness in generation  9 :   -41.4673359619746  time: 9.976699113845825\n",
      "best fitness in generation  10 :   -41.46733595695825  time: 9.705574989318848\n",
      "best fitness in generation  11 :   -41.46733595635755  time: 10.013175964355469\n",
      "best fitness in generation  12 :   -41.46733595601474  time: 9.635475158691406\n",
      "best fitness in generation  13 :   -41.4673359561306  time: 9.941876888275146\n",
      "best fitness in generation  14 :   -41.46733595612319  time: 9.924856185913086\n",
      "best fitness in generation  15 :   -41.46733595609346  time: 9.786176919937134\n",
      "best fitness in generation  16 :   -41.46733595601854  time: 10.044315099716187\n",
      "best fitness in generation  17 :   -41.46733595608632  time: 9.905840873718262\n",
      "best fitness in generation  18 :   -41.46733595612702  time: 10.369381189346313\n",
      "best fitness in generation  19 :   -41.46733595616251  time: 9.982655048370361\n"
     ]
    }
   ],
   "source": [
    "GA(13, 20, 20)"
   ]
  },
  {
   "cell_type": "code",
   "execution_count": 5,
   "metadata": {},
   "outputs": [
    {
     "name": "stdout",
     "output_type": "stream",
     "text": [
      "best fitness in generation  0 :   -40.04384405176163  time: 9.717046022415161\n",
      "best fitness in generation  1 :   -38.632114412906965  time: 9.929518699645996\n",
      "best fitness in generation  2 :   -38.78319490135087  time: 10.061021089553833\n",
      "best fitness in generation  3 :   -39.36865309045847  time: 10.007993698120117\n",
      "best fitness in generation  4 :   -41.399614482062574  time: 9.704454183578491\n",
      "best fitness in generation  5 :   -40.64054200910862  time: 9.983294010162354\n",
      "best fitness in generation  6 :   -41.10339343167147  time: 9.550175905227661\n",
      "best fitness in generation  7 :   -43.20779962446972  time: 9.716034889221191\n",
      "best fitness in generation  8 :   -41.439654140895314  time: 9.833055019378662\n",
      "best fitness in generation  9 :   -44.32237655379409  time: 9.57637882232666\n",
      "best fitness in generation  10 :   -41.39258299474287  time: 10.00723910331726\n",
      "best fitness in generation  11 :   -41.46981395407201  time: 10.034940004348755\n",
      "best fitness in generation  12 :   -40.60299159352281  time: 10.323064804077148\n",
      "best fitness in generation  13 :   -41.47028497534875  time: 9.89291501045227\n",
      "best fitness in generation  14 :   -41.382651784166136  time: 10.25418496131897\n",
      "best fitness in generation  15 :   -43.26534371801946  time: 9.84380292892456\n",
      "best fitness in generation  16 :   -40.664663683780056  time: 9.455281019210815\n",
      "best fitness in generation  17 :   -43.96868263101476  time: 10.158929109573364\n",
      "best fitness in generation  18 :   -40.72776447735156  time: 10.531842708587646\n",
      "best fitness in generation  19 :   -41.389481107968635  time: 10.4426429271698\n"
     ]
    }
   ],
   "source": [
    "GA(13, 20, 20, 0.1)"
   ]
  },
  {
   "cell_type": "markdown",
   "metadata": {},
   "source": [
    "## 20.3 Homework\n",
    "\n",
    "Check the following documentation and use the differential evolution method to perform optimization on LJ clusters\n",
    "https://docs.scipy.org/doc/scipy/reference/generated/scipy.optimize.differential_evolution.html#scipy.optimize.differential_evolution"
   ]
  },
  {
   "cell_type": "code",
   "execution_count": null,
   "metadata": {},
   "outputs": [],
   "source": []
  }
 ],
 "metadata": {
  "@webio": {
   "lastCommId": null,
   "lastKernelId": null
  },
  "kernelspec": {
   "display_name": "Python 3 (ipykernel)",
   "language": "python",
   "name": "python3"
  },
  "language_info": {
   "codemirror_mode": {
    "name": "ipython",
    "version": 3
   },
   "file_extension": ".py",
   "mimetype": "text/x-python",
   "name": "python",
   "nbconvert_exporter": "python",
   "pygments_lexer": "ipython3",
   "version": "3.7.4"
  }
 },
 "nbformat": 4,
 "nbformat_minor": 2
}
