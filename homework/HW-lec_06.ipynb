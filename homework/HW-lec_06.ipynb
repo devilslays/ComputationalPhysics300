{
 "cells": [
  {
   "cell_type": "code",
   "execution_count": 8,
   "id": "b1a9622f",
   "metadata": {},
   "outputs": [
    {
     "name": "stdout",
     "output_type": "stream",
     "text": [
      "Input value of T = 145\n",
      "290.9738637005098\n",
      "Heat Capacity = 1673.2207235069072\n"
     ]
    }
   ],
   "source": [
    "#Heat Capacity of a solid\n",
    "import math\n",
    "import matplotlib.pyplot as plt\n",
    "import numpy as np\n",
    "from pylab import plot,show\n",
    "\n",
    "temp = input(\"Input value of T = \")\n",
    "T = float(temp)\n",
    "def my_function():    \n",
    "    p = 6.0222 * 10**28\n",
    "    kB = 1.38065 * 10**-23\n",
    "    theta = 428\n",
    "    v = 0.001\n",
    "\n",
    "constant_sum = 9*v*p*kB*((T/theta)**3)\n",
    "\n",
    "print(constant_sum)\n",
    "#Trapezoidal rule\n",
    "#define the function to integrate\n",
    "def f(x):\n",
    "    return((((math.exp(x))*x**4))/((math.exp(x))-1)**2)\n",
    "#define variables to be used\n",
    "N = 1000\n",
    "a = math.exp(-6)\n",
    "b = theta/T\n",
    "#define equations to be used\n",
    "h = (b-a)/N\n",
    "area = (h*0.5)*(f(b)+f(a))\n",
    "for i in range (1,N):\n",
    "    area += h*f(a+i*h)\n",
    "\n",
    "\n",
    "heat_capacity = constant_sum * area\n",
    "\n",
    "\n",
    "print(\"Heat Capacity =\", heat_capacity)\n"
   ]
  },
  {
   "cell_type": "code",
   "execution_count": null,
   "id": "ca763d8f",
   "metadata": {},
   "outputs": [],
   "source": []
  },
  {
   "cell_type": "markdown",
   "id": "ecbceace",
   "metadata": {},
   "source": []
  }
 ],
 "metadata": {
  "kernelspec": {
   "display_name": "Python 3",
   "language": "python",
   "name": "python3"
  },
  "language_info": {
   "codemirror_mode": {
    "name": "ipython",
    "version": 3
   },
   "file_extension": ".py",
   "mimetype": "text/x-python",
   "name": "python",
   "nbconvert_exporter": "python",
   "pygments_lexer": "ipython3",
   "version": "3.9.5"
  }
 },
 "nbformat": 4,
 "nbformat_minor": 5
}
